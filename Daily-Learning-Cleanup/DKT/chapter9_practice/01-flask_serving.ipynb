{
 "cells": [
  {
   "cell_type": "markdown",
   "metadata": {
    "id": "OpGnUBvo7W7Q"
   },
   "source": [
    "# Flask를 활용한 Image Classifier 예제\n",
    "-참고자료: https://tutorials.pytorch.kr/intermediate/flask_rest_api_tutorial.html"
   ]
  },
  {
   "cell_type": "markdown",
   "metadata": {
    "id": "gONCoHQI7W7f"
   },
   "source": [
    "### 필요 라이브러리 설치"
   ]
  },
  {
   "cell_type": "code",
   "execution_count": null,
   "metadata": {
    "id": "tIinhU1L7W7h"
   },
   "outputs": [],
   "source": [
    "!pip install Flask torchvision"
   ]
  },
  {
   "cell_type": "markdown",
   "metadata": {
    "id": "tiWwuDgq7W7i"
   },
   "source": [
    "### 모델이 탑재된 Flask 서버를 server.py라는 파일로 저장"
   ]
  },
  {
   "cell_type": "code",
   "execution_count": null,
   "metadata": {
    "id": "9ttrw4yv7W7j",
    "outputId": "3978eda3-b016-483f-fc2a-2ddfdd0ef457"
   },
   "outputs": [],
   "source": [
    "%%writefile server.py\n",
    "\n",
    "import io\n",
    "import json\n",
    "\n",
    "from torchvision import models\n",
    "import torchvision.transforms as transforms\n",
    "from PIL import Image\n",
    "from flask import Flask, jsonify, request\n",
    "\n",
    "\n",
    "app = Flask(__name__)\n",
    "imagenet_class_index = json.load(open('data/imagenet_class_index.json'))\n",
    "model = models.densenet121(pretrained=True)\n",
    "model.eval()\n",
    "\n",
    "\n",
    "def transform_image(image_bytes):\n",
    "    my_transforms = transforms.Compose([transforms.Resize(255),\n",
    "                                        transforms.CenterCrop(224),\n",
    "                                        transforms.ToTensor(),\n",
    "                                        transforms.Normalize(\n",
    "                                            [0.485, 0.456, 0.406],\n",
    "                                            [0.229, 0.224, 0.225])])\n",
    "    image = Image.open(io.BytesIO(image_bytes))\n",
    "    return my_transforms(image).unsqueeze(0)\n",
    "\n",
    "\n",
    "def get_prediction(image_bytes):\n",
    "    tensor = transform_image(image_bytes=image_bytes)\n",
    "    outputs = model.forward(tensor)\n",
    "    _, y_hat = outputs.max(1)\n",
    "    predicted_idx = str(y_hat.item())\n",
    "    return imagenet_class_index[predicted_idx]\n",
    "\n",
    "\n",
    "@app.route('/', methods=['GET'])\n",
    "def main():\n",
    "    return \"이곳은 메인페이지 입니다!\"\n",
    "\n",
    "@app.route('/predict', methods=['POST'])\n",
    "def predict():\n",
    "    if request.method == 'POST':\n",
    "        file = request.files['file']\n",
    "        img_bytes = file.read()\n",
    "        class_id, class_name = get_prediction(image_bytes=img_bytes)\n",
    "        return jsonify({'class_id': class_id, 'class_name': class_name})\n",
    "\n",
    "\n",
    "if __name__ == '__main__':\n",
    "    app.run(port=5000, debug=True)"
   ]
  },
  {
   "cell_type": "markdown",
   "metadata": {
    "id": "eAr9DvIm7W7o"
   },
   "source": [
    "### 터미널 환경에서 다음 명령어 실행"
   ]
  },
  {
   "cell_type": "code",
   "execution_count": null,
   "metadata": {
    "id": "jpvbZxN47W7r"
   },
   "outputs": [],
   "source": [
    "# Ai Stages 화면에서 꼭 여러분들의 포트번호를 확인해주세요, 서버마다 다를 수가 있습니다!\n",
    "#python server.py"
   ]
  },
  {
   "cell_type": "markdown",
   "metadata": {
    "id": "svBrhyI_7W7s"
   },
   "source": [
    "### 테스트할 이미지"
   ]
  },
  {
   "cell_type": "code",
   "execution_count": null,
   "metadata": {
    "id": "UmLa3F4y7W7t",
    "outputId": "f5d8971b-e5b7-4264-a94f-f2710ba85ee4"
   },
   "outputs": [],
   "source": [
    "from IPython.display import Image\n",
    "Image(filename='data/dog.jpeg') "
   ]
  },
  {
   "cell_type": "markdown",
   "metadata": {
    "id": "5j6Y3n4M7W7u"
   },
   "source": [
    "### 서버에 Post 요청으로 이미지를 전달\n",
    "\n",
    "- localhost와 127.0.0.1은 동일한 의미: 현재 내 컴퓨터에 요청이라는 의미"
   ]
  },
  {
   "cell_type": "code",
   "execution_count": null,
   "metadata": {
    "id": "de9xkdNr7W7v",
    "outputId": "0b4551b5-e585-4eaa-a2ca-8d31b18106bf"
   },
   "outputs": [],
   "source": [
    "import requests\n",
    "url = 'http://localhost:5000/predict'\n",
    "files = {'file': open('data/dog.jpeg','rb')}\n",
    "r = requests.post(url, files=files)\n",
    "print(r.text)"
   ]
  },
  {
   "cell_type": "code",
   "execution_count": null,
   "metadata": {
    "id": "TCEbMOkC7W7w"
   },
   "outputs": [],
   "source": []
  },
  {
   "cell_type": "code",
   "execution_count": null,
   "metadata": {
    "id": "cNWtEe8Q7W7w"
   },
   "outputs": [],
   "source": []
  }
 ],
 "metadata": {
  "colab": {
   "collapsed_sections": [],
   "name": "flask_serving.ipynb",
   "provenance": []
  },
  "kernelspec": {
   "display_name": "Python 3",
   "language": "python",
   "name": "python3"
  },
  "language_info": {
   "codemirror_mode": {
    "name": "ipython",
    "version": 3
   },
   "file_extension": ".py",
   "mimetype": "text/x-python",
   "name": "python",
   "nbconvert_exporter": "python",
   "pygments_lexer": "ipython3",
   "version": "3.7.6"
  }
 },
 "nbformat": 4,
 "nbformat_minor": 1
}
