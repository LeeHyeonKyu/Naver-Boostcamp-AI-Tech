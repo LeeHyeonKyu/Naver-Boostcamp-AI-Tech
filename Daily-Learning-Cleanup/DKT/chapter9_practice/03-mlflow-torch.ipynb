{
 "cells": [
  {
   "cell_type": "markdown",
   "metadata": {},
   "source": [
    "# mlflow를 활용한 훈련 기록 및 모델 서빙"
   ]
  },
  {
   "cell_type": "markdown",
   "metadata": {},
   "source": [
    "### mlflow 설치"
   ]
  },
  {
   "cell_type": "code",
   "execution_count": null,
   "metadata": {},
   "outputs": [],
   "source": [
    "# !pip install mlflow"
   ]
  },
  {
   "cell_type": "markdown",
   "metadata": {},
   "source": [
    "### 터미널에 다음 명령어를 입려한뒤 mlflow gui 실행"
   ]
  },
  {
   "cell_type": "code",
   "execution_count": null,
   "metadata": {},
   "outputs": [],
   "source": [
    "# 주피터 노트북(8888)과 포트가 겹치지 않도록 8889로 실행\n",
    "# mlflow ui -h 0.0.0.0 -p 8889"
   ]
  },
  {
   "cell_type": "markdown",
   "metadata": {},
   "source": [
    "### mlflow에 실험 초기화"
   ]
  },
  {
   "cell_type": "code",
   "execution_count": null,
   "metadata": {},
   "outputs": [],
   "source": [
    "import mlflow"
   ]
  },
  {
   "cell_type": "code",
   "execution_count": null,
   "metadata": {},
   "outputs": [],
   "source": [
    "try:\n",
    "    #프로젝트 별로 이름을 다르게 가져가면서 실험들을 기록\n",
    "    mlflow.create_experiment(name='pytorch-test')\n",
    "except:\n",
    "    print('Exist experiment')\n",
    "\n",
    "mlflow.set_experiment('pytorch-test')"
   ]
  },
  {
   "cell_type": "code",
   "execution_count": null,
   "metadata": {},
   "outputs": [],
   "source": [
    "#mlflow에 기록할 준비\n",
    "mlflow.start_run()"
   ]
  },
  {
   "cell_type": "code",
   "execution_count": null,
   "metadata": {},
   "outputs": [],
   "source": [
    "#현재 모델/훈련의 버전 지정\n",
    "mlflow.set_tag('version', '0.1')"
   ]
  },
  {
   "cell_type": "code",
   "execution_count": null,
   "metadata": {},
   "outputs": [],
   "source": [
    "# 하이퍼 파라미터 설정\n",
    "params = {\n",
    "    'learning_rate' : 0.01,\n",
    "    'epochs' : 100,\n",
    "    'batch_size' : 128\n",
    "}"
   ]
  },
  {
   "cell_type": "code",
   "execution_count": null,
   "metadata": {},
   "outputs": [],
   "source": [
    "# mlflow에 현재 실험의 하이퍼파라미터 등록\n",
    "mlflow.log_params(params)"
   ]
  },
  {
   "cell_type": "markdown",
   "metadata": {},
   "source": [
    "### 가상의 데이터 및 모델 준비"
   ]
  },
  {
   "cell_type": "code",
   "execution_count": null,
   "metadata": {},
   "outputs": [],
   "source": [
    "import torch\n",
    "from torch import nn\n",
    "from torch.nn import Sequential\n",
    "from torch.optim import Adam"
   ]
  },
  {
   "cell_type": "code",
   "execution_count": null,
   "metadata": {},
   "outputs": [],
   "source": [
    "model = Sequential(\n",
    "    nn.Linear(2,512),\n",
    "    nn.ReLU(),\n",
    "    nn.Linear(512, 1),\n",
    "    nn.Sigmoid())\n"
   ]
  },
  {
   "cell_type": "code",
   "execution_count": null,
   "metadata": {},
   "outputs": [],
   "source": [
    "loss = nn.MSELoss()\n",
    "optimizer = Adam(model.parameters(), lr=params['learning_rate'])"
   ]
  },
  {
   "cell_type": "markdown",
   "metadata": {},
   "source": [
    "## 모델 훈련(train)"
   ]
  },
  {
   "cell_type": "code",
   "execution_count": null,
   "metadata": {},
   "outputs": [],
   "source": [
    "# 임시 데이터 생성\n",
    "import numpy as np\n",
    "X = torch.tensor(np.random.rand(300, 2), dtype=torch.float32)\n",
    "Y = torch.tensor(np.random.rand(300)[:, np.newaxis], dtype=torch.float32)"
   ]
  },
  {
   "cell_type": "code",
   "execution_count": null,
   "metadata": {},
   "outputs": [],
   "source": [
    "from torch.utils.data import TensorDataset, DataLoader, random_split"
   ]
  },
  {
   "cell_type": "code",
   "execution_count": null,
   "metadata": {},
   "outputs": [],
   "source": [
    "train_dataset, valid_dataset = random_split(TensorDataset(X, Y), [270, 30])\n",
    "train_loader = DataLoader(train_dataset, batch_size=params['batch_size'], shuffle=True)\n",
    "valid_loader = DataLoader(valid_dataset, batch_size=params['batch_size'])"
   ]
  },
  {
   "cell_type": "markdown",
   "metadata": {},
   "source": [
    "훈련 과정중에 mlflow.log_metric 함수를 이용해 성능 기록"
   ]
  },
  {
   "cell_type": "code",
   "execution_count": null,
   "metadata": {},
   "outputs": [],
   "source": [
    "for epoch in range(params['epochs']):\n",
    "    epoch_loss = 0.\n",
    "    for train_x, train_y in train_loader:\n",
    "        optimizer.zero_grad()\n",
    "        y_pred = model(train_x)\n",
    "        \n",
    "        _loss = loss(y_pred, train_y)\n",
    "        \n",
    "        mlflow.log_metric('batch_loss', _loss.item(), step=epoch)\n",
    "        _loss.backward()\n",
    "        optimizer.step()\n",
    "        \n",
    "        epoch_loss += _loss.item()\n",
    "    \n",
    "    ##MLFLOW에 기록\n",
    "    mlflow.log_metric('loss', epoch_loss / len(train_dataset), step=epoch)\n",
    "    \n",
    "    with torch.no_grad():\n",
    "        valid_loss = 0.\n",
    "        for valid_x, valid_y in valid_loader:\n",
    "            y_pred = model(valid_x)\n",
    "            _valid_loss = loss(y_pred, valid_y)\n",
    "            \n",
    "            mlflow.log_metric('batch_val_loss', _valid_loss.item(), step=epoch)\n",
    "            valid_loss += _valid_loss.item()\n",
    "        \n",
    "        ##MLFLOW에 기록 \n",
    "        mlflow.log_metric('val_loss', valid_loss / len(valid_dataset), step=epoch)\n",
    "    \n",
    "#     torch.save(model.state_dict(), 'weights.pt')"
   ]
  },
  {
   "cell_type": "markdown",
   "metadata": {},
   "source": [
    "### 훈련한 모델을 mlflow에 저장"
   ]
  },
  {
   "cell_type": "code",
   "execution_count": null,
   "metadata": {},
   "outputs": [],
   "source": [
    "mlflow.pytorch.log_model(model, \"save_model\")"
   ]
  },
  {
   "cell_type": "code",
   "execution_count": null,
   "metadata": {},
   "outputs": [],
   "source": [
    "#mlflow 기록 종료\n",
    "mlflow.end_run()"
   ]
  },
  {
   "cell_type": "markdown",
   "metadata": {},
   "source": [
    "## 모델 서빙\n",
    "mlflow gui에 접속하여 방금 훈련을 마친 모델의 실험 기록을 확인 한우에, 모델 디렉토리를 복사\n",
    "- 모델 디렉토리 예: file:///Users/Tom/projects/9rkd/mlruns/1/a69f1d42be0e404097c19e3d2cd7fb7a/artifacts/save_model\n",
    "\n",
    "터미널에 아래 명령어 입력"
   ]
  },
  {
   "cell_type": "code",
   "execution_count": null,
   "metadata": {},
   "outputs": [],
   "source": [
    "# mlflow GUI와 포트가 겹치지 않도록 8890으로 실행\n",
    "\n",
    "# mlflow models serve -m <saved-model-dir> --no-conda -h 0.0.0.0 -p 8890"
   ]
  },
  {
   "cell_type": "markdown",
   "metadata": {},
   "source": [
    "### curl로 요청을 보낼시\n",
    "기본적으로 http://[HOST]:[PORT]/invocations와 같이 'invocations'으로 resource path가 지정됨\n",
    "\n",
    "터미널에서 다음 명령어를 입력한뒤 반환되는 값 확인"
   ]
  },
  {
   "cell_type": "code",
   "execution_count": null,
   "metadata": {},
   "outputs": [],
   "source": [
    "# curl http://127.0.0.1:8890/invocations -H 'Content-Type: application/json' -d '{\"columns\": [\"dense_input\", \"dense_input\"],\"data\": [[0.1, 0.2]]}'"
   ]
  },
  {
   "cell_type": "markdown",
   "metadata": {},
   "source": [
    "### python에서 보내는 경우"
   ]
  },
  {
   "cell_type": "code",
   "execution_count": null,
   "metadata": {},
   "outputs": [],
   "source": [
    "import requests, json\n",
    "url = 'http://localhost:8890/invocations'\n",
    "data = {\n",
    "    \"columns\": [\"dense_input\", \"dense_input\"],\n",
    "    \"data\": [[0.1, 0.2]]\n",
    "}\n",
    "headers = {\n",
    "    'content-type':'application/json'\n",
    "}\n",
    "res = requests.post(url, headers=headers, data=json.dumps(data))\n",
    "res.text"
   ]
  },
  {
   "cell_type": "code",
   "execution_count": null,
   "metadata": {},
   "outputs": [],
   "source": []
  }
 ],
 "metadata": {
  "kernelspec": {
   "display_name": "Python 3",
   "language": "python",
   "name": "python3"
  },
  "language_info": {
   "codemirror_mode": {
    "name": "ipython",
    "version": 3
   },
   "file_extension": ".py",
   "mimetype": "text/x-python",
   "name": "python",
   "nbconvert_exporter": "python",
   "pygments_lexer": "ipython3",
   "version": "3.7.6"
  }
 },
 "nbformat": 4,
 "nbformat_minor": 5
}
