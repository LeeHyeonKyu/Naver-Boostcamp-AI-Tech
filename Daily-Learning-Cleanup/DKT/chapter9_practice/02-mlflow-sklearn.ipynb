{
 "cells": [
  {
   "cell_type": "markdown",
   "metadata": {
    "id": "huFq4Um47fq2"
   },
   "source": [
    "# mlflow를 활용한 훈련 기록 및 모델 서빙 (sklearn)\n",
    "- 참고문서: https://mlflow.org/docs/latest/quickstart.html"
   ]
  },
  {
   "cell_type": "markdown",
   "metadata": {
    "id": "dtUeUDAc7frK"
   },
   "source": [
    "### mlflow 설치"
   ]
  },
  {
   "cell_type": "code",
   "execution_count": null,
   "metadata": {
    "id": "PpGiU4rU7frM"
   },
   "outputs": [],
   "source": [
    "!pip install mlflow"
   ]
  },
  {
   "cell_type": "markdown",
   "metadata": {
    "id": "HWQ0NFjT7frO"
   },
   "source": [
    "### 터미널에 다음 명령어를 입려한뒤 mlflow gui 실행"
   ]
  },
  {
   "cell_type": "code",
   "execution_count": null,
   "metadata": {
    "id": "iFsKmi0W7frP"
   },
   "outputs": [],
   "source": [
    "# 주피터 노트북(8888)과 포트가 겹치지 않도록 8889로 실행\n",
    "# 포트는 상황에 맞게 자유롭게 변경해주시면 됩니다.\n",
    "# mlflow ui -h 0.0.0.0 -p 8889"
   ]
  },
  {
   "cell_type": "markdown",
   "metadata": {},
   "source": [
    "http://localhost:8889 로 접속하여 아래와 같은 웹사이트가 보이면 성공!\n",
    "<img src=\"image-asset/screenshot_01.png\"/>\n"
   ]
  },
  {
   "cell_type": "markdown",
   "metadata": {
    "id": "SRY8NJUS7frQ"
   },
   "source": [
    "### mlflow에 실험 초기화"
   ]
  },
  {
   "cell_type": "code",
   "execution_count": null,
   "metadata": {
    "id": "HabW0BsL7frR"
   },
   "outputs": [],
   "source": [
    "import mlflow"
   ]
  },
  {
   "cell_type": "code",
   "execution_count": null,
   "metadata": {
    "id": "mhIeUYyT7frS"
   },
   "outputs": [],
   "source": [
    "try:\n",
    "    #프로젝트 별로 이름을 다르게 가져가면서 실험들을 기록\n",
    "    mlflow.create_experiment(name='sklearn-test')\n",
    "except:\n",
    "    print('Exist experiment')\n",
    "\n",
    "mlflow.set_experiment('sklearn-test')"
   ]
  },
  {
   "cell_type": "code",
   "execution_count": null,
   "metadata": {
    "id": "TsAo-DTT7frT"
   },
   "outputs": [],
   "source": [
    "#mlflow에 기록할 준비\n",
    "mlflow.start_run()"
   ]
  },
  {
   "cell_type": "code",
   "execution_count": null,
   "metadata": {
    "id": "RxMzEiFp7frU"
   },
   "outputs": [],
   "source": [
    "#현재 모델/훈련의 버전 지정\n",
    "mlflow.set_tag('version', '0.1')"
   ]
  },
  {
   "cell_type": "code",
   "execution_count": null,
   "metadata": {
    "id": "0LonWBmO7frV"
   },
   "outputs": [],
   "source": [
    "# 하이퍼 파라미터 설정\n",
    "params = {\n",
    "    'learning_rate' : 0.01,\n",
    "    'epochs' : 100,\n",
    "    'batch_size' : 128\n",
    "}"
   ]
  },
  {
   "cell_type": "code",
   "execution_count": null,
   "metadata": {
    "id": "MR79IWLn7frW"
   },
   "outputs": [],
   "source": [
    "# mlflow에 현재 실험의 하이퍼파라미터 등록\n",
    "mlflow.log_params(params)"
   ]
  },
  {
   "cell_type": "markdown",
   "metadata": {
    "id": "fA77OZi_7frX"
   },
   "source": [
    "### 가상의 데이터 및 모델 준비"
   ]
  },
  {
   "cell_type": "code",
   "execution_count": null,
   "metadata": {
    "id": "wCLhulLf7frX"
   },
   "outputs": [],
   "source": [
    "from sklearn.linear_model import LinearRegression"
   ]
  },
  {
   "cell_type": "code",
   "execution_count": null,
   "metadata": {
    "id": "vzjPw_rp7frY"
   },
   "outputs": [],
   "source": [
    "model = LinearRegression()"
   ]
  },
  {
   "cell_type": "code",
   "execution_count": null,
   "metadata": {
    "id": "93fAA7sm7frZ"
   },
   "outputs": [],
   "source": [
    "# 임시 데이터 생성\n",
    "from sklearn.model_selection import train_test_split\n",
    "import numpy as np\n",
    "X = np.random.rand(300, 2)\n",
    "y = np.random.rand(300)\n",
    "\n",
    "X_train, X_test, y_train, y_test = train_test_split(X, y, test_size=0.1, random_state=42)"
   ]
  },
  {
   "cell_type": "markdown",
   "metadata": {
    "id": "liPdMPzm7fra"
   },
   "source": [
    "## 모델 훈련(train)"
   ]
  },
  {
   "cell_type": "code",
   "execution_count": null,
   "metadata": {
    "id": "4VWjHW-j7fra"
   },
   "outputs": [],
   "source": [
    "model = model.fit(X_train, y_train)"
   ]
  },
  {
   "cell_type": "code",
   "execution_count": null,
   "metadata": {
    "id": "9BgeyERj7frb"
   },
   "outputs": [],
   "source": [
    "from sklearn.metrics import mean_squared_error\n",
    "\n",
    "y_pred = model.predict(X_test)\n",
    "mse = mean_squared_error(y_test, y_pred)\n",
    "print(mse)\n",
    "#validation 성능 등록\n",
    "mlflow.log_metric('MSE',mse)"
   ]
  },
  {
   "cell_type": "markdown",
   "metadata": {
    "id": "f14_rsYK7frc"
   },
   "source": [
    "### 훈련한 모델을 mlflow에 저장"
   ]
  },
  {
   "cell_type": "code",
   "execution_count": null,
   "metadata": {
    "id": "VboG0TDw7frc"
   },
   "outputs": [],
   "source": [
    "mlflow.sklearn.log_model(model, 'save_model')"
   ]
  },
  {
   "cell_type": "code",
   "execution_count": null,
   "metadata": {
    "id": "LH6jglBl7frd"
   },
   "outputs": [],
   "source": [
    "#mlflow 기록 종료\n",
    "mlflow.end_run()"
   ]
  },
  {
   "cell_type": "markdown",
   "metadata": {
    "id": "F81QEvxr7fre"
   },
   "source": [
    "## 모델 서빙\n",
    "mlflow gui에 접속하여 방금 훈련을 마친 모델의 실험 기록을 확인 한 후에, 모델 디렉토리를 복사\n",
    "- 모델 디렉토리 예: file:///Users/Tom/projects/9rkd/mlruns/1/a69f1d42be0e404097c19e3d2cd7fb7a/artifacts/save_model\n",
    "\n",
    "터미널에 아래 명령어 입력"
   ]
  },
  {
   "cell_type": "code",
   "execution_count": null,
   "metadata": {
    "id": "Cd0igkrc7frf"
   },
   "outputs": [],
   "source": [
    "# mlflow GUI와 포트가 겹치지 않도록 8890으로 실행\n",
    "\n",
    "# mlflow models serve -m <saved-model-dir> --no-conda -h 0.0.0.0 -p 8890"
   ]
  },
  {
   "cell_type": "markdown",
   "metadata": {
    "id": "IzOURSMW7frg"
   },
   "source": [
    "### curl로 요청을 보낼시\n",
    "기본적으로 http://[HOST]:[PORT]/invocations와 같이 'invocations'으로 resource path가 지정됨\n",
    "\n",
    "터미널에서 다음 명령어를 입력한뒤 반환되는 값 확인"
   ]
  },
  {
   "cell_type": "code",
   "execution_count": null,
   "metadata": {
    "id": "tCUOFRRG7frh"
   },
   "outputs": [],
   "source": [
    "# curl http://127.0.0.1:8890/invocations -H 'Content-Type: application/json' -d '{\"columns\": [\"dense_input\", \"dense_input\"],\"data\": [[0.1, 0.2]]}'"
   ]
  },
  {
   "cell_type": "markdown",
   "metadata": {
    "id": "cn_zRNGX7fri"
   },
   "source": [
    "### python에서 보내는 경우"
   ]
  },
  {
   "cell_type": "code",
   "execution_count": null,
   "metadata": {
    "id": "euWQCs2N7fri"
   },
   "outputs": [],
   "source": [
    "import requests, json\n",
    "url = 'http://localhost:8890/invocations'\n",
    "data = {\n",
    "    \"columns\": [\"dense_input\", \"dense_input\"],\n",
    "    \"data\": [[0.1, 0.2]]\n",
    "}\n",
    "headers = {\n",
    "    'content-type':'application/json'\n",
    "}\n",
    "res = requests.post(url, headers=headers, data=json.dumps(data))\n",
    "res.text"
   ]
  },
  {
   "cell_type": "code",
   "execution_count": null,
   "metadata": {
    "id": "V5bONblD7frj"
   },
   "outputs": [],
   "source": []
  }
 ],
 "metadata": {
  "colab": {
   "collapsed_sections": [],
   "name": "mlflow-sklearn.ipynb",
   "provenance": []
  },
  "kernelspec": {
   "display_name": "Python 3",
   "language": "python",
   "name": "python3"
  },
  "language_info": {
   "codemirror_mode": {
    "name": "ipython",
    "version": 3
   },
   "file_extension": ".py",
   "mimetype": "text/x-python",
   "name": "python",
   "nbconvert_exporter": "python",
   "pygments_lexer": "ipython3",
   "version": "3.7.6"
  }
 },
 "nbformat": 4,
 "nbformat_minor": 5
}
