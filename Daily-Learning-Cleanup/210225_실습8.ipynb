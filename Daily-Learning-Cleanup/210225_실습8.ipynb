{
  "nbformat": 4,
  "nbformat_minor": 0,
  "metadata": {
    "colab": {
      "name": "실습8_solution.ipynb",
      "provenance": [],
      "collapsed_sections": []
    },
    "kernelspec": {
      "name": "python3",
      "display_name": "Python 3"
    }
  },
  "cells": [
    {
      "cell_type": "markdown",
      "metadata": {
        "id": "OaGFUhRS9_4_"
      },
      "source": [
        "**Lab 8 : Latent Factor based Recommendation System**\r\n",
        "- Instuctor : Kijung Shin\r\n",
        "- Teaching Assistants : Hyunju Lee(main), Deukryeol Yoon, Shinhwan Kang \r\n",
        "- 본 실습에서는 추천 시스템에서 가장 흔히 쓰이는 surprise library를 사용하여 Latent Factor 기반 추천 시스템을 구현해본다."
      ]
    },
    {
      "cell_type": "code",
      "metadata": {
        "colab": {
          "base_uri": "https://localhost:8080/"
        },
        "id": "0eDUTk91-aKU",
        "outputId": "fe4b0203-9e1d-44f4-f4ac-db0ed2a33f90"
      },
      "source": [
        "!pip install surprise\r\n"
      ],
      "execution_count": null,
      "outputs": [
        {
          "output_type": "stream",
          "text": [
            "Requirement already satisfied: surprise in /usr/local/lib/python3.6/dist-packages (0.1)\n",
            "Requirement already satisfied: scikit-surprise in /usr/local/lib/python3.6/dist-packages (from surprise) (1.1.1)\n",
            "Requirement already satisfied: joblib>=0.11 in /usr/local/lib/python3.6/dist-packages (from scikit-surprise->surprise) (1.0.0)\n",
            "Requirement already satisfied: scipy>=1.0.0 in /usr/local/lib/python3.6/dist-packages (from scikit-surprise->surprise) (1.4.1)\n",
            "Requirement already satisfied: six>=1.10.0 in /usr/local/lib/python3.6/dist-packages (from scikit-surprise->surprise) (1.15.0)\n",
            "Requirement already satisfied: numpy>=1.11.2 in /usr/local/lib/python3.6/dist-packages (from scikit-surprise->surprise) (1.19.5)\n"
          ],
          "name": "stdout"
        }
      ]
    },
    {
      "cell_type": "code",
      "metadata": {
        "id": "SrPwwl069oTE"
      },
      "source": [
        "import numpy as np \r\n",
        "import pandas as pd\r\n",
        "from surprise import SVD\r\n",
        "from surprise.model_selection import train_test_split\r\n",
        "from surprise.dataset import DatasetAutoFolds\r\n",
        "from surprise.model_selection import cross_validate\r\n",
        "from surprise import Dataset, Reader\r\n",
        "from surprise import accuracy\r\n"
      ],
      "execution_count": null,
      "outputs": []
    },
    {
      "cell_type": "code",
      "metadata": {
        "id": "pnIQMvQzEjy8"
      },
      "source": [
        "import os, sys \r\n",
        "from google.colab import drive \r\n",
        "\r\n",
        "### 해당 코드 실행 시 colab에서 실행중인 폴더의 /content/drive/My Drive가 구글 드라이브에 연결됨\r\n",
        "\r\n",
        "drive.mount('/content/drive')"
      ],
      "execution_count": null,
      "outputs": []
    },
    {
      "cell_type": "markdown",
      "metadata": {
        "id": "CLz5jZNali73"
      },
      "source": [
        "**Dataset Loading**"
      ]
    },
    {
      "cell_type": "code",
      "metadata": {
        "id": "YVMY3fGKDjBn",
        "colab": {
          "base_uri": "https://localhost:8080/"
        },
        "outputId": "19906a2b-1bd3-4c32-a2cd-b86d7152be55"
      },
      "source": [
        "#### 데이터셋 불러오기(MovieLens 10k) ####\r\n",
        "df_ratings = pd.read_csv('drive/MyDrive/data/others/ratings.csv')\r\n",
        "\r\n",
        "#### 평점 데이터셋 형태 확인#### \r\n",
        "# surprise library의 Reader 사용 시 반드시 사용자-아이템-평점 순으로 정보가 들어가 있어야 함\r\n",
        "\r\n",
        "print(\"### Rating Dataset Format ###\", end='\\n\\n')\r\n",
        "print(df_ratings.head(), end='\\n\\n\\n')\r\n",
        "df_ratings.drop(['timestamp'], axis=1, inplace=True)\r\n",
        "print(\"### Rating Dataset - Timestamp Removed ###\", end='\\n\\n')\r\n",
        "print(df_ratings)\r\n",
        "\r\n"
      ],
      "execution_count": null,
      "outputs": [
        {
          "output_type": "stream",
          "text": [
            "### Rating Dataset Format ###\n",
            "\n",
            "   userId  movieId  rating  timestamp\n",
            "0       1        1     4.0  964982703\n",
            "1       1        3     4.0  964981247\n",
            "2       1        6     4.0  964982224\n",
            "3       1       47     5.0  964983815\n",
            "4       1       50     5.0  964982931\n",
            "\n",
            "\n",
            "### Rating Dataset - Timestamp Removed ###\n",
            "\n",
            "        userId  movieId  rating\n",
            "0            1        1     4.0\n",
            "1            1        3     4.0\n",
            "2            1        6     4.0\n",
            "3            1       47     5.0\n",
            "4            1       50     5.0\n",
            "...        ...      ...     ...\n",
            "100831     610   166534     4.0\n",
            "100832     610   168248     5.0\n",
            "100833     610   168250     5.0\n",
            "100834     610   168252     5.0\n",
            "100835     610   170875     3.0\n",
            "\n",
            "[100836 rows x 3 columns]\n"
          ],
          "name": "stdout"
        }
      ]
    },
    {
      "cell_type": "code",
      "metadata": {
        "colab": {
          "base_uri": "https://localhost:8080/"
        },
        "id": "qtQHQvLR3gJl",
        "outputId": "838c1057-015e-4343-834d-ecf4c250b1cf"
      },
      "source": [
        "df_movies = pd.read_csv('drive/MyDrive/data/others/movies.csv')\r\n",
        "\r\n",
        "#### 영화 데이터셋 형태 확인 ####\r\n",
        "print(\"### Movie Dataset Format ###\", end = '\\n\\n')\r\n",
        "print(\"Columns of Movie Dataset : \",df_movies.columns, end = '\\n\\n')\r\n",
        "print(df_movies.head())"
      ],
      "execution_count": null,
      "outputs": [
        {
          "output_type": "stream",
          "text": [
            "### Movie Dataset Format ###\n",
            "\n",
            "Columns of Movie Dataset :  Index(['movieId', 'title', 'genres'], dtype='object')\n",
            "\n",
            "   movieId  ...                                       genres\n",
            "0        1  ...  Adventure|Animation|Children|Comedy|Fantasy\n",
            "1        2  ...                   Adventure|Children|Fantasy\n",
            "2        3  ...                               Comedy|Romance\n",
            "3        4  ...                         Comedy|Drama|Romance\n",
            "4        5  ...                                       Comedy\n",
            "\n",
            "[5 rows x 3 columns]\n"
          ],
          "name": "stdout"
        }
      ]
    },
    {
      "cell_type": "code",
      "metadata": {
        "colab": {
          "base_uri": "https://localhost:8080/"
        },
        "id": "z4DBCS8uSnkk",
        "outputId": "13ed3f68-541c-43c3-e68d-e72542b17862"
      },
      "source": [
        "#### Dataset의 User, Movie 수 확인 ####\r\n",
        "n_users = df_ratings.userId.unique().shape[0]\r\n",
        "n_items = df_ratings.movieId.unique().shape[0]\r\n",
        "print(\"num users: {}, num items:{}\".format(n_users, n_items))"
      ],
      "execution_count": null,
      "outputs": [
        {
          "output_type": "stream",
          "text": [
            "num users: 610, num items:9724\n"
          ],
          "name": "stdout"
        }
      ]
    },
    {
      "cell_type": "code",
      "metadata": {
        "colab": {
          "base_uri": "https://localhost:8080/"
        },
        "id": "fk7uuYkDft5K",
        "outputId": "92a55bf8-3be3-45a9-a54a-507aa87fa067"
      },
      "source": [
        "### Add Your Own Data ### \r\n",
        "\r\n",
        "###################################### Example 1#################################################\r\n",
        "# User 800 is a HUGE fan of Musical Movies\r\n",
        "rows = []                               # row = [user_id, movie_id, rating]\r\n",
        "user_id = 800\r\n",
        "rows.append([user_id, 73, 5])        # movie    73: Miserables, Les (1995)\r\n",
        "rows.append([user_id, 107780, 5])     # movie  107780: Cats(1998) \r\n",
        "rows.append([user_id, 588, 5])     # movie  588: Aladin(1992)\r\n",
        "rows.append([user_id, 60397, 5])    # movie 69397: Mamma Mia!(2008)\r\n",
        "rows.append([user_id, 99149, 5])    # movie 99149: Miserables, Les (2012)\r\n",
        "rows.append([user_id, 138186, 1])    # movie 138186: Sorrow(2015)\r\n",
        "rows.append([user_id, 1997, 1])    # movie 1997: Scream 2 (1991)\r\n",
        "\r\n",
        "##################################################################################################\r\n",
        "\r\n",
        "###################################### Example 2#################################################\r\n",
        "# User 900 is a HUGE fan of Animation Movies\r\n",
        "rows = []                               # row = [user_id, movie_id, rating]\r\n",
        "user_id = 900\r\n",
        "rows.append([user_id, 1022, 5])        # movie    1022: Cinderella(1950)\r\n",
        "rows.append([user_id, 594, 5])     # movie  594: Snow White and the Seven Dwarfs(1937) \r\n",
        "rows.append([user_id, 106696, 5])     # movie  106696: Frozen(2013)\r\n",
        "rows.append([user_id, 166461, 5])    # movie 166461: Moana(2016)\r\n",
        "rows.append([user_id, 595, 5])    # movie 595: Beauty and the Beast (1991)\r\n",
        "rows.append([user_id, 138168, 1])    # movie 138168: Sorrow(2015)\r\n",
        "rows.append([user_id, 1997, 1])    # movie 1997: Scream 2 (1991)\r\n",
        "\r\n",
        "##################################################################################################\r\n",
        "\r\n",
        "\r\n",
        "########################### Add Your Own Ratings using 'movie.csv' data #########################\r\n",
        "# my_rows = []\r\n",
        "# my_id = 2021\r\n",
        "# rows.append([user_id, ,])       # Fill your movie id and rating     \r\n",
        "# rows.append([user_id, ,])       # 여러분이 평가할 영화의 id와 점수를 입력하세요.\r\n",
        "# rows.append([user_id, ,])\r\n",
        "# rows.append([user_id, ,])\r\n",
        "# rows.append([user_id, ,])\r\n",
        "\r\n",
        "##################################################################################################\r\n",
        "for row in rows:\r\n",
        "    df_ratings = df_ratings.append(pd.Series(row, index=df_ratings.columns), ignore_index=True)\r\n",
        "print(df_ratings)"
      ],
      "execution_count": null,
      "outputs": [
        {
          "output_type": "stream",
          "text": [
            "        userId  movieId  rating\n",
            "0            1        1     4.0\n",
            "1            1        3     4.0\n",
            "2            1        6     4.0\n",
            "3            1       47     5.0\n",
            "4            1       50     5.0\n",
            "...        ...      ...     ...\n",
            "100838     900   106696     5.0\n",
            "100839     900   166461     5.0\n",
            "100840     900      595     5.0\n",
            "100841     900   138168     1.0\n",
            "100842     900     1997     1.0\n",
            "\n",
            "[100843 rows x 3 columns]\n"
          ],
          "name": "stdout"
        }
      ]
    },
    {
      "cell_type": "code",
      "metadata": {
        "colab": {
          "base_uri": "https://localhost:8080/"
        },
        "id": "YhXaysjb4oqC",
        "outputId": "62f1389c-44c8-4bd5-ddac-cf7e26cf416e"
      },
      "source": [
        "#### Dataset의 User, Movie 수 확인 ####\r\n",
        "n_users = df_ratings.userId.unique().shape[0]\r\n",
        "n_items = df_ratings.movieId.unique().shape[0]\r\n",
        "print(\"num users: {}, num items:{}\".format(n_users, n_items))"
      ],
      "execution_count": null,
      "outputs": [
        {
          "output_type": "stream",
          "text": [
            "num users: 611, num items:9725\n"
          ],
          "name": "stdout"
        }
      ]
    },
    {
      "cell_type": "code",
      "metadata": {
        "id": "E_Uvik-nSqL_"
      },
      "source": [
        "#### Get Movid Name from Movie ID - 영화 ID로부터 영화 제목 얻기 ###\r\n",
        "\r\n",
        "movie_set = set()     \r\n",
        "ratings = np.zeros((n_users, n_items))\r\n",
        "for (_, movie_id, _) in df_ratings.itertuples(index=False):\r\n",
        "    movie_set.add(movie_id)\r\n",
        "\r\n",
        "movie_id_to_name=dict()\r\n",
        "movie_id_to_genre=dict()\r\n",
        "\r\n",
        "for (movie_id, movie_name, movie_genre) in df_movies.itertuples(index=False):\r\n",
        "    if movie_id not in movie_set:              # 어떤 영화가 rating data에 없는 경우 skip\r\n",
        "        continue\r\n",
        "    movie_id_to_name[movie_id] = movie_name \r\n",
        "    movie_id_to_genre[movie_id] = movie_genre\r\n",
        "\r\n",
        "    \r\n"
      ],
      "execution_count": null,
      "outputs": []
    },
    {
      "cell_type": "code",
      "metadata": {
        "id": "vSU0TfI0EOQ-",
        "colab": {
          "base_uri": "https://localhost:8080/"
        },
        "outputId": "0b304bc4-5186-4869-eac3-5f2e1495072f"
      },
      "source": [
        "#### pandas dataframe을 surprise dataset 형태로 바꿔준 후, train set과 test set을 split 해준다 ####\r\n",
        "reader = Reader(rating_scale=(0, 5))\r\n",
        "data = Dataset.load_from_df(df_ratings[['userId','movieId','rating']], reader=reader)\r\n",
        "\r\n",
        "train, test = train_test_split(data, test_size=0.2, shuffle=True)\r\n",
        "\r\n",
        "print(type(data))\r\n",
        "print(type(train))\r\n",
        "\r\n",
        "##################################################################################\r\n",
        "## Grid Search를 위해 surprise.trainset 형태의 데이터를 surprise.dataset으로 변경해준다\r\n",
        "iterator = train.all_ratings()\r\n",
        "train_df = pd.DataFrame(columns=['userId', 'movieId', 'rating'])\r\n",
        "i = 0\r\n",
        "for (uid, iid, rating) in iterator:\r\n",
        "    train_df.loc[i] = [train.to_raw_uid(int(uid)), train.to_raw_iid(iid), rating]\r\n",
        "    i = i+1\r\n",
        "\r\n",
        "train_data = Dataset.load_from_df(train_df, reader=reader)\r\n",
        "\r\n",
        "print(type(train))\r\n",
        "print(type(train_data))\r\n",
        "##################################################################################\r\n"
      ],
      "execution_count": null,
      "outputs": [
        {
          "output_type": "stream",
          "text": [
            "<class 'surprise.dataset.DatasetAutoFolds'>\n",
            "<class 'surprise.trainset.Trainset'>\n",
            "<class 'surprise.trainset.Trainset'>\n",
            "<class 'surprise.dataset.DatasetAutoFolds'>\n"
          ],
          "name": "stdout"
        }
      ]
    },
    {
      "cell_type": "markdown",
      "metadata": {
        "id": "lhmHbf-n34wo"
      },
      "source": [
        "**모델 설정 및 학습**"
      ]
    },
    {
      "cell_type": "code",
      "metadata": {
        "colab": {
          "base_uri": "https://localhost:8080/"
        },
        "id": "OhULIcsYfZYi",
        "outputId": "ed7c0e6d-5530-434a-bde5-b1250ecd4cd7"
      },
      "source": [
        "### Hyperparameter Grid Search ### \r\n",
        "\r\n",
        "from surprise.model_selection import GridSearchCV\r\n",
        "param_grid = {'n_factors': [10,15,20,30,50,100]}\r\n",
        "\r\n",
        "####### Fill in Your Code ##########\r\n",
        "grid = GridSearchCV(SVD, param_grid, measures = ['rmse', 'mae'], cv=4)\r\n",
        "grid.fit(train_data)\r\n",
        "#####################################\r\n",
        "\r\n",
        "\r\n",
        "print(grid.best_score['rmse'])\r\n",
        "print(grid.best_params['rmse'])"
      ],
      "execution_count": null,
      "outputs": [
        {
          "output_type": "stream",
          "text": [
            "0.8801059626461212\n",
            "{'n_factors': 10}\n"
          ],
          "name": "stdout"
        }
      ]
    },
    {
      "cell_type": "code",
      "metadata": {
        "id": "WJvHg9ePEA3A",
        "colab": {
          "base_uri": "https://localhost:8080/"
        },
        "outputId": "90969a50-119a-4800-aa40-f2634b810739"
      },
      "source": [
        "### Use the Hyperparameter with best performance ###\r\n",
        "\r\n",
        "print(grid.best_params)\r\n",
        "################ Fill in Your Code #################\r\n",
        "\r\n",
        "algorithm = SVD(grid.best_params['rmse']['n_factors'])\r\n",
        "algorithm.fit(train)\r\n",
        "####################################################"
      ],
      "execution_count": null,
      "outputs": [
        {
          "output_type": "stream",
          "text": [
            "{'rmse': {'n_factors': 10}, 'mae': {'n_factors': 15}}\n"
          ],
          "name": "stdout"
        },
        {
          "output_type": "execute_result",
          "data": {
            "text/plain": [
              "<surprise.prediction_algorithms.matrix_factorization.SVD at 0x7f6dde1e9f28>"
            ]
          },
          "metadata": {
            "tags": []
          },
          "execution_count": 12
        }
      ]
    },
    {
      "cell_type": "markdown",
      "metadata": {
        "id": "lOX0C8lK39nY"
      },
      "source": [
        "**모델 예측**"
      ]
    },
    {
      "cell_type": "code",
      "metadata": {
        "colab": {
          "base_uri": "https://localhost:8080/"
        },
        "id": "QJznKOmcygeD",
        "outputId": "6e1643a2-2128-43a7-bff6-23aa113f8090"
      },
      "source": [
        "##### algorithm prediction #####\r\n",
        "\r\n",
        "\r\n",
        "prediction = algorithm.test(test)\r\n",
        "for p in prediction[:5]:            # prediction 결과값 5개 미리보기\r\n",
        "    print(p)                        # r_ui : 실제 rating 값, est: 예측된 rating 값\r\n",
        "    "
      ],
      "execution_count": null,
      "outputs": [
        {
          "output_type": "stream",
          "text": [
            "user: 233        item: 74458      r_ui = 4.00   est = 3.33   {'was_impossible': False}\n",
            "user: 474        item: 280        r_ui = 3.00   est = 3.54   {'was_impossible': False}\n",
            "user: 354        item: 39414      r_ui = 3.00   est = 3.44   {'was_impossible': False}\n",
            "user: 125        item: 112183     r_ui = 4.00   est = 3.57   {'was_impossible': False}\n",
            "user: 529        item: 1073       r_ui = 3.00   est = 3.72   {'was_impossible': False}\n"
          ],
          "name": "stdout"
        }
      ]
    },
    {
      "cell_type": "code",
      "metadata": {
        "colab": {
          "base_uri": "https://localhost:8080/"
        },
        "id": "etXZ1vXxzCXt",
        "outputId": "7f8aa9ed-fe66-46bf-9e29-54c2bce5dee3"
      },
      "source": [
        "#### 특정 user, 특정 item에 대한 prediction 값 ###\r\n",
        "uid = 800\r\n",
        "iid = 8368\r\n",
        "prediction_user_item = algorithm.predict(uid, iid)\r\n",
        "print(prediction_user_item)     "
      ],
      "execution_count": null,
      "outputs": [
        {
          "output_type": "stream",
          "text": [
            "user: 800        item: 8368       r_ui = None   est = 4.03   {'was_impossible': False}\n"
          ],
          "name": "stdout"
        }
      ]
    },
    {
      "cell_type": "code",
      "metadata": {
        "id": "CdmHg93zLTd7"
      },
      "source": [
        "##############################################################\r\n",
        "##### 해당 user가 아직 보지 않은 영화를 return해주는 함수#####\r\n",
        "##############################################################\r\n",
        "def get_unseen_movies(data, user_id):\r\n",
        "\r\n",
        "    watched_movies = set()\r\n",
        "    total_movies = set()\r\n",
        "    ########### Fill in Your Code #################\r\n",
        "    for (uid, iid, rating) in data.all_ratings():\r\n",
        "        \r\n",
        "        total_movies.add(iid)\r\n",
        "        if uid == user_id:\r\n",
        "            watched_movies.add(iid)\r\n",
        "    \r\n",
        "    unseen_movies = total_movies - watched_movies\r\n",
        "    ##################################################\r\n",
        "    return unseen_movies\r\n",
        "    # return total_movies"
      ],
      "execution_count": null,
      "outputs": []
    },
    {
      "cell_type": "code",
      "metadata": {
        "id": "tw-koiPVKGin"
      },
      "source": [
        "################################################################################\r\n",
        "############# 특정 user에게 top k개의 영상을 추천해주는 함수 ###################\r\n",
        "################################################################################\r\n",
        "def recommend(train, algorithm, user_id, top_k=10):\r\n",
        "    ################ Fill in Your Code ########################################\r\n",
        "    unseen_movies = get_unseen_movies(train, user_id)\r\n",
        "    prediction = [algorithm.predict(user_id, movie_id) for movie_id in unseen_movies]\r\n",
        "\r\n",
        "    prediction.sort(key=lambda x:x.est, reverse=True)  \r\n",
        "\r\n",
        "    ###########################################################################\r\n",
        "    for _, movie, _, pred, _ in prediction[:top_k]:\r\n",
        "        print(\"movid id: {}, movie genre: {},predicted rating: {}\".format(movie_id_to_name[movie], movie_id_to_genre[movie], pred))\r\n"
      ],
      "execution_count": null,
      "outputs": []
    },
    {
      "cell_type": "code",
      "metadata": {
        "colab": {
          "base_uri": "https://localhost:8080/"
        },
        "id": "qu_CPfAEQF3z",
        "outputId": "9b42f5c2-7f73-4bda-fb3e-8cc8a9d3e780"
      },
      "source": [
        "#########################################\r\n",
        "####### 800번 유저의 추천 결과 ##########\r\n",
        "#########################################\r\n",
        "\r\n",
        "recommend(train, algorithm, user_id=800, top_k=20)\r\n"
      ],
      "execution_count": null,
      "outputs": [
        {
          "output_type": "stream",
          "text": [
            "movid id: Shawshank Redemption, The (1994), movie genre: Crime|Drama,predicted rating: 4.414513892170525\n",
            "movid id: Dr. Strangelove or: How I Learned to Stop Worrying and Love the Bomb (1964), movie genre: Comedy|War,predicted rating: 4.385519485548612\n",
            "movid id: Lawrence of Arabia (1962), movie genre: Adventure|Drama|War,predicted rating: 4.342449171368982\n",
            "movid id: Ghost in the Shell (Kôkaku kidôtai) (1995), movie genre: Animation|Sci-Fi,predicted rating: 4.327181406736102\n",
            "movid id: Philadelphia Story, The (1940), movie genre: Comedy|Drama|Romance,predicted rating: 4.3201021151407115\n",
            "movid id: Princess Bride, The (1987), movie genre: Action|Adventure|Comedy|Fantasy|Romance,predicted rating: 4.314579693804542\n",
            "movid id: Fight Club (1999), movie genre: Action|Crime|Drama|Thriller,predicted rating: 4.30651328097878\n",
            "movid id: Casablanca (1942), movie genre: Drama|Romance,predicted rating: 4.303574878384636\n",
            "movid id: Chinatown (1974), movie genre: Crime|Film-Noir|Mystery|Thriller,predicted rating: 4.300711275071339\n",
            "movid id: Usual Suspects, The (1995), movie genre: Crime|Mystery|Thriller,predicted rating: 4.299637021515273\n",
            "movid id: Boondock Saints, The (2000), movie genre: Action|Crime|Drama|Thriller,predicted rating: 4.297822007314662\n",
            "movid id: Goodfellas (1990), movie genre: Crime|Drama,predicted rating: 4.296017879716978\n",
            "movid id: Godfather: Part II, The (1974), movie genre: Crime|Drama,predicted rating: 4.293863060741748\n",
            "movid id: Streetcar Named Desire, A (1951), movie genre: Drama,predicted rating: 4.292050344301131\n",
            "movid id: Rosemary's Baby (1968), movie genre: Drama|Horror|Thriller,predicted rating: 4.286419733354162\n",
            "movid id: Guess Who's Coming to Dinner (1967), movie genre: Drama,predicted rating: 4.286416234642068\n",
            "movid id: Rear Window (1954), movie genre: Mystery|Thriller,predicted rating: 4.279454280989323\n",
            "movid id: Some Like It Hot (1959), movie genre: Comedy|Crime,predicted rating: 4.279268246612951\n",
            "movid id: Good, the Bad and the Ugly, The (Buono, il brutto, il cattivo, Il) (1966), movie genre: Action|Adventure|Western,predicted rating: 4.2741791706203145\n",
            "movid id: Brazil (1985), movie genre: Fantasy|Sci-Fi,predicted rating: 4.263740546255931\n"
          ],
          "name": "stdout"
        }
      ]
    },
    {
      "cell_type": "code",
      "metadata": {
        "colab": {
          "base_uri": "https://localhost:8080/"
        },
        "id": "7hNkvzAG4dnb",
        "outputId": "d185b3b7-b8e8-464f-b59a-806c451a4ee9"
      },
      "source": [
        "#########################################\r\n",
        "####### 900번 유저의 추천 결과 ##########\r\n",
        "#########################################\r\n",
        "\r\n",
        "recommend(train, algorithm, user_id=900, top_k=20)\r\n"
      ],
      "execution_count": null,
      "outputs": [
        {
          "output_type": "stream",
          "text": [
            "movid id: Dr. Strangelove or: How I Learned to Stop Worrying and Love the Bomb (1964), movie genre: Comedy|War,predicted rating: 4.57203941620089\n",
            "movid id: Shawshank Redemption, The (1994), movie genre: Crime|Drama,predicted rating: 4.518242734658849\n",
            "movid id: Lawrence of Arabia (1962), movie genre: Adventure|Drama|War,predicted rating: 4.502431329835451\n",
            "movid id: Casablanca (1942), movie genre: Drama|Romance,predicted rating: 4.48951786235247\n",
            "movid id: Streetcar Named Desire, A (1951), movie genre: Drama,predicted rating: 4.484137964909066\n",
            "movid id: Godfather, The (1972), movie genre: Crime|Drama,predicted rating: 4.445488614165671\n",
            "movid id: Goodfellas (1990), movie genre: Crime|Drama,predicted rating: 4.444411582855063\n",
            "movid id: Brazil (1985), movie genre: Fantasy|Sci-Fi,predicted rating: 4.433183650835944\n",
            "movid id: Chinatown (1974), movie genre: Crime|Film-Noir|Mystery|Thriller,predicted rating: 4.431918527498453\n",
            "movid id: Ghost in the Shell (Kôkaku kidôtai) (1995), movie genre: Animation|Sci-Fi,predicted rating: 4.425542573698345\n",
            "movid id: Apocalypse Now (1979), movie genre: Action|Drama|War,predicted rating: 4.423622836531314\n",
            "movid id: Schindler's List (1993), movie genre: Drama|War,predicted rating: 4.418215494122847\n",
            "movid id: Monty Python and the Holy Grail (1975), movie genre: Adventure|Comedy|Fantasy,predicted rating: 4.410778512342276\n",
            "movid id: Philadelphia Story, The (1940), movie genre: Comedy|Drama|Romance,predicted rating: 4.4019753213020705\n",
            "movid id: Godfather: Part II, The (1974), movie genre: Crime|Drama,predicted rating: 4.400183033780543\n",
            "movid id: Spirited Away (Sen to Chihiro no kamikakushi) (2001), movie genre: Adventure|Animation|Fantasy,predicted rating: 4.399619175532943\n",
            "movid id: Rosemary's Baby (1968), movie genre: Drama|Horror|Thriller,predicted rating: 4.394215131247891\n",
            "movid id: Star Wars: Episode V - The Empire Strikes Back (1980), movie genre: Action|Adventure|Sci-Fi,predicted rating: 4.3907800123420975\n",
            "movid id: Fight Club (1999), movie genre: Action|Crime|Drama|Thriller,predicted rating: 4.389550525432928\n",
            "movid id: Star Wars: Episode IV - A New Hope (1977), movie genre: Action|Adventure|Sci-Fi,predicted rating: 4.386780190376798\n"
          ],
          "name": "stdout"
        }
      ]
    },
    {
      "cell_type": "code",
      "metadata": {
        "id": "klbhY2KOnMo7"
      },
      "source": [
        ""
      ],
      "execution_count": null,
      "outputs": []
    }
  ]
}