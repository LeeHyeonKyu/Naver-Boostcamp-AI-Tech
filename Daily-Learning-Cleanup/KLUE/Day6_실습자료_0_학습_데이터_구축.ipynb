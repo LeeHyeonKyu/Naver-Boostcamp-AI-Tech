{
  "nbformat": 4,
  "nbformat_minor": 0,
  "metadata": {
    "colab": {
      "name": "Day6_실습자료_0_학습_데이터_구축.ipynb",
      "provenance": [],
      "collapsed_sections": [],
      "machine_shape": "hm"
    },
    "kernelspec": {
      "name": "python3",
      "display_name": "Python 3"
    },
    "accelerator": "GPU",
    "widgets": {
      "application/vnd.jupyter.widget-state+json": {
        "2951fc37bce049b598554efdcd56d844": {
          "model_module": "@jupyter-widgets/controls",
          "model_name": "HBoxModel",
          "state": {
            "_view_name": "HBoxView",
            "_dom_classes": [],
            "_model_name": "HBoxModel",
            "_view_module": "@jupyter-widgets/controls",
            "_model_module_version": "1.5.0",
            "_view_count": null,
            "_view_module_version": "1.5.0",
            "box_style": "",
            "layout": "IPY_MODEL_a6cb7727e8484877a2a3466b7c55eb0d",
            "_model_module": "@jupyter-widgets/controls",
            "children": [
              "IPY_MODEL_0c70489f46bd4e3984e4e246d2bd6cf5",
              "IPY_MODEL_353a48b411c240aabd7538beeed535b5"
            ]
          }
        },
        "a6cb7727e8484877a2a3466b7c55eb0d": {
          "model_module": "@jupyter-widgets/base",
          "model_name": "LayoutModel",
          "state": {
            "_view_name": "LayoutView",
            "grid_template_rows": null,
            "right": null,
            "justify_content": null,
            "_view_module": "@jupyter-widgets/base",
            "overflow": null,
            "_model_module_version": "1.2.0",
            "_view_count": null,
            "flex_flow": null,
            "width": null,
            "min_width": null,
            "border": null,
            "align_items": null,
            "bottom": null,
            "_model_module": "@jupyter-widgets/base",
            "top": null,
            "grid_column": null,
            "overflow_y": null,
            "overflow_x": null,
            "grid_auto_flow": null,
            "grid_area": null,
            "grid_template_columns": null,
            "flex": null,
            "_model_name": "LayoutModel",
            "justify_items": null,
            "grid_row": null,
            "max_height": null,
            "align_content": null,
            "visibility": null,
            "align_self": null,
            "height": null,
            "min_height": null,
            "padding": null,
            "grid_auto_rows": null,
            "grid_gap": null,
            "max_width": null,
            "order": null,
            "_view_module_version": "1.2.0",
            "grid_template_areas": null,
            "object_position": null,
            "object_fit": null,
            "grid_auto_columns": null,
            "margin": null,
            "display": null,
            "left": null
          }
        },
        "0c70489f46bd4e3984e4e246d2bd6cf5": {
          "model_module": "@jupyter-widgets/controls",
          "model_name": "FloatProgressModel",
          "state": {
            "_view_name": "ProgressView",
            "style": "IPY_MODEL_d8c2153b55624eb0908af3a858bafce5",
            "_dom_classes": [],
            "description": "Downloading: 100%",
            "_model_name": "FloatProgressModel",
            "bar_style": "success",
            "max": 625,
            "_view_module": "@jupyter-widgets/controls",
            "_model_module_version": "1.5.0",
            "value": 625,
            "_view_count": null,
            "_view_module_version": "1.5.0",
            "orientation": "horizontal",
            "min": 0,
            "description_tooltip": null,
            "_model_module": "@jupyter-widgets/controls",
            "layout": "IPY_MODEL_104498e03bc74c988b1a6d57a36061cb"
          }
        },
        "353a48b411c240aabd7538beeed535b5": {
          "model_module": "@jupyter-widgets/controls",
          "model_name": "HTMLModel",
          "state": {
            "_view_name": "HTMLView",
            "style": "IPY_MODEL_c967f62afffb4b5f92d838a15f432ec0",
            "_dom_classes": [],
            "description": "",
            "_model_name": "HTMLModel",
            "placeholder": "​",
            "_view_module": "@jupyter-widgets/controls",
            "_model_module_version": "1.5.0",
            "value": " 625/625 [00:16&lt;00:00, 38.6B/s]",
            "_view_count": null,
            "_view_module_version": "1.5.0",
            "description_tooltip": null,
            "_model_module": "@jupyter-widgets/controls",
            "layout": "IPY_MODEL_c5286126db8a4e6da1857c55b4abccdd"
          }
        },
        "d8c2153b55624eb0908af3a858bafce5": {
          "model_module": "@jupyter-widgets/controls",
          "model_name": "ProgressStyleModel",
          "state": {
            "_view_name": "StyleView",
            "_model_name": "ProgressStyleModel",
            "description_width": "initial",
            "_view_module": "@jupyter-widgets/base",
            "_model_module_version": "1.5.0",
            "_view_count": null,
            "_view_module_version": "1.2.0",
            "bar_color": null,
            "_model_module": "@jupyter-widgets/controls"
          }
        },
        "104498e03bc74c988b1a6d57a36061cb": {
          "model_module": "@jupyter-widgets/base",
          "model_name": "LayoutModel",
          "state": {
            "_view_name": "LayoutView",
            "grid_template_rows": null,
            "right": null,
            "justify_content": null,
            "_view_module": "@jupyter-widgets/base",
            "overflow": null,
            "_model_module_version": "1.2.0",
            "_view_count": null,
            "flex_flow": null,
            "width": null,
            "min_width": null,
            "border": null,
            "align_items": null,
            "bottom": null,
            "_model_module": "@jupyter-widgets/base",
            "top": null,
            "grid_column": null,
            "overflow_y": null,
            "overflow_x": null,
            "grid_auto_flow": null,
            "grid_area": null,
            "grid_template_columns": null,
            "flex": null,
            "_model_name": "LayoutModel",
            "justify_items": null,
            "grid_row": null,
            "max_height": null,
            "align_content": null,
            "visibility": null,
            "align_self": null,
            "height": null,
            "min_height": null,
            "padding": null,
            "grid_auto_rows": null,
            "grid_gap": null,
            "max_width": null,
            "order": null,
            "_view_module_version": "1.2.0",
            "grid_template_areas": null,
            "object_position": null,
            "object_fit": null,
            "grid_auto_columns": null,
            "margin": null,
            "display": null,
            "left": null
          }
        },
        "c967f62afffb4b5f92d838a15f432ec0": {
          "model_module": "@jupyter-widgets/controls",
          "model_name": "DescriptionStyleModel",
          "state": {
            "_view_name": "StyleView",
            "_model_name": "DescriptionStyleModel",
            "description_width": "",
            "_view_module": "@jupyter-widgets/base",
            "_model_module_version": "1.5.0",
            "_view_count": null,
            "_view_module_version": "1.2.0",
            "_model_module": "@jupyter-widgets/controls"
          }
        },
        "c5286126db8a4e6da1857c55b4abccdd": {
          "model_module": "@jupyter-widgets/base",
          "model_name": "LayoutModel",
          "state": {
            "_view_name": "LayoutView",
            "grid_template_rows": null,
            "right": null,
            "justify_content": null,
            "_view_module": "@jupyter-widgets/base",
            "overflow": null,
            "_model_module_version": "1.2.0",
            "_view_count": null,
            "flex_flow": null,
            "width": null,
            "min_width": null,
            "border": null,
            "align_items": null,
            "bottom": null,
            "_model_module": "@jupyter-widgets/base",
            "top": null,
            "grid_column": null,
            "overflow_y": null,
            "overflow_x": null,
            "grid_auto_flow": null,
            "grid_area": null,
            "grid_template_columns": null,
            "flex": null,
            "_model_name": "LayoutModel",
            "justify_items": null,
            "grid_row": null,
            "max_height": null,
            "align_content": null,
            "visibility": null,
            "align_self": null,
            "height": null,
            "min_height": null,
            "padding": null,
            "grid_auto_rows": null,
            "grid_gap": null,
            "max_width": null,
            "order": null,
            "_view_module_version": "1.2.0",
            "grid_template_areas": null,
            "object_position": null,
            "object_fit": null,
            "grid_auto_columns": null,
            "margin": null,
            "display": null,
            "left": null
          }
        },
        "44789d5e54d34343bdd8c05e786a223d": {
          "model_module": "@jupyter-widgets/controls",
          "model_name": "HBoxModel",
          "state": {
            "_view_name": "HBoxView",
            "_dom_classes": [],
            "_model_name": "HBoxModel",
            "_view_module": "@jupyter-widgets/controls",
            "_model_module_version": "1.5.0",
            "_view_count": null,
            "_view_module_version": "1.5.0",
            "box_style": "",
            "layout": "IPY_MODEL_c675f351d4eb443280bcd5e0dc5b64ae",
            "_model_module": "@jupyter-widgets/controls",
            "children": [
              "IPY_MODEL_5810ab51425943e48aa2649cba4f5e4d",
              "IPY_MODEL_ba8a94bd2a814b44aec139f4ac4fbf4d"
            ]
          }
        },
        "c675f351d4eb443280bcd5e0dc5b64ae": {
          "model_module": "@jupyter-widgets/base",
          "model_name": "LayoutModel",
          "state": {
            "_view_name": "LayoutView",
            "grid_template_rows": null,
            "right": null,
            "justify_content": null,
            "_view_module": "@jupyter-widgets/base",
            "overflow": null,
            "_model_module_version": "1.2.0",
            "_view_count": null,
            "flex_flow": null,
            "width": null,
            "min_width": null,
            "border": null,
            "align_items": null,
            "bottom": null,
            "_model_module": "@jupyter-widgets/base",
            "top": null,
            "grid_column": null,
            "overflow_y": null,
            "overflow_x": null,
            "grid_auto_flow": null,
            "grid_area": null,
            "grid_template_columns": null,
            "flex": null,
            "_model_name": "LayoutModel",
            "justify_items": null,
            "grid_row": null,
            "max_height": null,
            "align_content": null,
            "visibility": null,
            "align_self": null,
            "height": null,
            "min_height": null,
            "padding": null,
            "grid_auto_rows": null,
            "grid_gap": null,
            "max_width": null,
            "order": null,
            "_view_module_version": "1.2.0",
            "grid_template_areas": null,
            "object_position": null,
            "object_fit": null,
            "grid_auto_columns": null,
            "margin": null,
            "display": null,
            "left": null
          }
        },
        "5810ab51425943e48aa2649cba4f5e4d": {
          "model_module": "@jupyter-widgets/controls",
          "model_name": "FloatProgressModel",
          "state": {
            "_view_name": "ProgressView",
            "style": "IPY_MODEL_cc30084c6f214e6b8823accdbcd46163",
            "_dom_classes": [],
            "description": "Downloading: 100%",
            "_model_name": "FloatProgressModel",
            "bar_style": "success",
            "max": 995526,
            "_view_module": "@jupyter-widgets/controls",
            "_model_module_version": "1.5.0",
            "value": 995526,
            "_view_count": null,
            "_view_module_version": "1.5.0",
            "orientation": "horizontal",
            "min": 0,
            "description_tooltip": null,
            "_model_module": "@jupyter-widgets/controls",
            "layout": "IPY_MODEL_32434fcd188547c484223c0d4487af16"
          }
        },
        "ba8a94bd2a814b44aec139f4ac4fbf4d": {
          "model_module": "@jupyter-widgets/controls",
          "model_name": "HTMLModel",
          "state": {
            "_view_name": "HTMLView",
            "style": "IPY_MODEL_9a213157d21b46509d28ea2d12d3bfd0",
            "_dom_classes": [],
            "description": "",
            "_model_name": "HTMLModel",
            "placeholder": "​",
            "_view_module": "@jupyter-widgets/controls",
            "_model_module_version": "1.5.0",
            "value": " 996k/996k [00:02&lt;00:00, 428kB/s]",
            "_view_count": null,
            "_view_module_version": "1.5.0",
            "description_tooltip": null,
            "_model_module": "@jupyter-widgets/controls",
            "layout": "IPY_MODEL_c13f56bfa03f4fbf82378b40fc494872"
          }
        },
        "cc30084c6f214e6b8823accdbcd46163": {
          "model_module": "@jupyter-widgets/controls",
          "model_name": "ProgressStyleModel",
          "state": {
            "_view_name": "StyleView",
            "_model_name": "ProgressStyleModel",
            "description_width": "initial",
            "_view_module": "@jupyter-widgets/base",
            "_model_module_version": "1.5.0",
            "_view_count": null,
            "_view_module_version": "1.2.0",
            "bar_color": null,
            "_model_module": "@jupyter-widgets/controls"
          }
        },
        "32434fcd188547c484223c0d4487af16": {
          "model_module": "@jupyter-widgets/base",
          "model_name": "LayoutModel",
          "state": {
            "_view_name": "LayoutView",
            "grid_template_rows": null,
            "right": null,
            "justify_content": null,
            "_view_module": "@jupyter-widgets/base",
            "overflow": null,
            "_model_module_version": "1.2.0",
            "_view_count": null,
            "flex_flow": null,
            "width": null,
            "min_width": null,
            "border": null,
            "align_items": null,
            "bottom": null,
            "_model_module": "@jupyter-widgets/base",
            "top": null,
            "grid_column": null,
            "overflow_y": null,
            "overflow_x": null,
            "grid_auto_flow": null,
            "grid_area": null,
            "grid_template_columns": null,
            "flex": null,
            "_model_name": "LayoutModel",
            "justify_items": null,
            "grid_row": null,
            "max_height": null,
            "align_content": null,
            "visibility": null,
            "align_self": null,
            "height": null,
            "min_height": null,
            "padding": null,
            "grid_auto_rows": null,
            "grid_gap": null,
            "max_width": null,
            "order": null,
            "_view_module_version": "1.2.0",
            "grid_template_areas": null,
            "object_position": null,
            "object_fit": null,
            "grid_auto_columns": null,
            "margin": null,
            "display": null,
            "left": null
          }
        },
        "9a213157d21b46509d28ea2d12d3bfd0": {
          "model_module": "@jupyter-widgets/controls",
          "model_name": "DescriptionStyleModel",
          "state": {
            "_view_name": "StyleView",
            "_model_name": "DescriptionStyleModel",
            "description_width": "",
            "_view_module": "@jupyter-widgets/base",
            "_model_module_version": "1.5.0",
            "_view_count": null,
            "_view_module_version": "1.2.0",
            "_model_module": "@jupyter-widgets/controls"
          }
        },
        "c13f56bfa03f4fbf82378b40fc494872": {
          "model_module": "@jupyter-widgets/base",
          "model_name": "LayoutModel",
          "state": {
            "_view_name": "LayoutView",
            "grid_template_rows": null,
            "right": null,
            "justify_content": null,
            "_view_module": "@jupyter-widgets/base",
            "overflow": null,
            "_model_module_version": "1.2.0",
            "_view_count": null,
            "flex_flow": null,
            "width": null,
            "min_width": null,
            "border": null,
            "align_items": null,
            "bottom": null,
            "_model_module": "@jupyter-widgets/base",
            "top": null,
            "grid_column": null,
            "overflow_y": null,
            "overflow_x": null,
            "grid_auto_flow": null,
            "grid_area": null,
            "grid_template_columns": null,
            "flex": null,
            "_model_name": "LayoutModel",
            "justify_items": null,
            "grid_row": null,
            "max_height": null,
            "align_content": null,
            "visibility": null,
            "align_self": null,
            "height": null,
            "min_height": null,
            "padding": null,
            "grid_auto_rows": null,
            "grid_gap": null,
            "max_width": null,
            "order": null,
            "_view_module_version": "1.2.0",
            "grid_template_areas": null,
            "object_position": null,
            "object_fit": null,
            "grid_auto_columns": null,
            "margin": null,
            "display": null,
            "left": null
          }
        },
        "52abed69ec724e608cc858d579e52fc4": {
          "model_module": "@jupyter-widgets/controls",
          "model_name": "HBoxModel",
          "state": {
            "_view_name": "HBoxView",
            "_dom_classes": [],
            "_model_name": "HBoxModel",
            "_view_module": "@jupyter-widgets/controls",
            "_model_module_version": "1.5.0",
            "_view_count": null,
            "_view_module_version": "1.5.0",
            "box_style": "",
            "layout": "IPY_MODEL_d94cc5814f1e480e97795e954d0adb0e",
            "_model_module": "@jupyter-widgets/controls",
            "children": [
              "IPY_MODEL_354cac0d59e14f79a37e1e8edd9ce3f7",
              "IPY_MODEL_7fb5115ce0b44f489df8d268c21651a3"
            ]
          }
        },
        "d94cc5814f1e480e97795e954d0adb0e": {
          "model_module": "@jupyter-widgets/base",
          "model_name": "LayoutModel",
          "state": {
            "_view_name": "LayoutView",
            "grid_template_rows": null,
            "right": null,
            "justify_content": null,
            "_view_module": "@jupyter-widgets/base",
            "overflow": null,
            "_model_module_version": "1.2.0",
            "_view_count": null,
            "flex_flow": null,
            "width": null,
            "min_width": null,
            "border": null,
            "align_items": null,
            "bottom": null,
            "_model_module": "@jupyter-widgets/base",
            "top": null,
            "grid_column": null,
            "overflow_y": null,
            "overflow_x": null,
            "grid_auto_flow": null,
            "grid_area": null,
            "grid_template_columns": null,
            "flex": null,
            "_model_name": "LayoutModel",
            "justify_items": null,
            "grid_row": null,
            "max_height": null,
            "align_content": null,
            "visibility": null,
            "align_self": null,
            "height": null,
            "min_height": null,
            "padding": null,
            "grid_auto_rows": null,
            "grid_gap": null,
            "max_width": null,
            "order": null,
            "_view_module_version": "1.2.0",
            "grid_template_areas": null,
            "object_position": null,
            "object_fit": null,
            "grid_auto_columns": null,
            "margin": null,
            "display": null,
            "left": null
          }
        },
        "354cac0d59e14f79a37e1e8edd9ce3f7": {
          "model_module": "@jupyter-widgets/controls",
          "model_name": "FloatProgressModel",
          "state": {
            "_view_name": "ProgressView",
            "style": "IPY_MODEL_9a4a626dd89a41549b51f684eb928151",
            "_dom_classes": [],
            "description": "Downloading: 100%",
            "_model_name": "FloatProgressModel",
            "bar_style": "success",
            "max": 1961828,
            "_view_module": "@jupyter-widgets/controls",
            "_model_module_version": "1.5.0",
            "value": 1961828,
            "_view_count": null,
            "_view_module_version": "1.5.0",
            "orientation": "horizontal",
            "min": 0,
            "description_tooltip": null,
            "_model_module": "@jupyter-widgets/controls",
            "layout": "IPY_MODEL_2fad6fcabd9f47e092506e9c070874cd"
          }
        },
        "7fb5115ce0b44f489df8d268c21651a3": {
          "model_module": "@jupyter-widgets/controls",
          "model_name": "HTMLModel",
          "state": {
            "_view_name": "HTMLView",
            "style": "IPY_MODEL_423c7c6dd6d74938807c0e2283fb8052",
            "_dom_classes": [],
            "description": "",
            "_model_name": "HTMLModel",
            "placeholder": "​",
            "_view_module": "@jupyter-widgets/controls",
            "_model_module_version": "1.5.0",
            "value": " 1.96M/1.96M [00:01&lt;00:00, 1.57MB/s]",
            "_view_count": null,
            "_view_module_version": "1.5.0",
            "description_tooltip": null,
            "_model_module": "@jupyter-widgets/controls",
            "layout": "IPY_MODEL_70914a29aa5d4d6099c5b55c1b0bfa43"
          }
        },
        "9a4a626dd89a41549b51f684eb928151": {
          "model_module": "@jupyter-widgets/controls",
          "model_name": "ProgressStyleModel",
          "state": {
            "_view_name": "StyleView",
            "_model_name": "ProgressStyleModel",
            "description_width": "initial",
            "_view_module": "@jupyter-widgets/base",
            "_model_module_version": "1.5.0",
            "_view_count": null,
            "_view_module_version": "1.2.0",
            "bar_color": null,
            "_model_module": "@jupyter-widgets/controls"
          }
        },
        "2fad6fcabd9f47e092506e9c070874cd": {
          "model_module": "@jupyter-widgets/base",
          "model_name": "LayoutModel",
          "state": {
            "_view_name": "LayoutView",
            "grid_template_rows": null,
            "right": null,
            "justify_content": null,
            "_view_module": "@jupyter-widgets/base",
            "overflow": null,
            "_model_module_version": "1.2.0",
            "_view_count": null,
            "flex_flow": null,
            "width": null,
            "min_width": null,
            "border": null,
            "align_items": null,
            "bottom": null,
            "_model_module": "@jupyter-widgets/base",
            "top": null,
            "grid_column": null,
            "overflow_y": null,
            "overflow_x": null,
            "grid_auto_flow": null,
            "grid_area": null,
            "grid_template_columns": null,
            "flex": null,
            "_model_name": "LayoutModel",
            "justify_items": null,
            "grid_row": null,
            "max_height": null,
            "align_content": null,
            "visibility": null,
            "align_self": null,
            "height": null,
            "min_height": null,
            "padding": null,
            "grid_auto_rows": null,
            "grid_gap": null,
            "max_width": null,
            "order": null,
            "_view_module_version": "1.2.0",
            "grid_template_areas": null,
            "object_position": null,
            "object_fit": null,
            "grid_auto_columns": null,
            "margin": null,
            "display": null,
            "left": null
          }
        },
        "423c7c6dd6d74938807c0e2283fb8052": {
          "model_module": "@jupyter-widgets/controls",
          "model_name": "DescriptionStyleModel",
          "state": {
            "_view_name": "StyleView",
            "_model_name": "DescriptionStyleModel",
            "description_width": "",
            "_view_module": "@jupyter-widgets/base",
            "_model_module_version": "1.5.0",
            "_view_count": null,
            "_view_module_version": "1.2.0",
            "_model_module": "@jupyter-widgets/controls"
          }
        },
        "70914a29aa5d4d6099c5b55c1b0bfa43": {
          "model_module": "@jupyter-widgets/base",
          "model_name": "LayoutModel",
          "state": {
            "_view_name": "LayoutView",
            "grid_template_rows": null,
            "right": null,
            "justify_content": null,
            "_view_module": "@jupyter-widgets/base",
            "overflow": null,
            "_model_module_version": "1.2.0",
            "_view_count": null,
            "flex_flow": null,
            "width": null,
            "min_width": null,
            "border": null,
            "align_items": null,
            "bottom": null,
            "_model_module": "@jupyter-widgets/base",
            "top": null,
            "grid_column": null,
            "overflow_y": null,
            "overflow_x": null,
            "grid_auto_flow": null,
            "grid_area": null,
            "grid_template_columns": null,
            "flex": null,
            "_model_name": "LayoutModel",
            "justify_items": null,
            "grid_row": null,
            "max_height": null,
            "align_content": null,
            "visibility": null,
            "align_self": null,
            "height": null,
            "min_height": null,
            "padding": null,
            "grid_auto_rows": null,
            "grid_gap": null,
            "max_width": null,
            "order": null,
            "_view_module_version": "1.2.0",
            "grid_template_areas": null,
            "object_position": null,
            "object_fit": null,
            "grid_auto_columns": null,
            "margin": null,
            "display": null,
            "left": null
          }
        },
        "368981de3fbd4ce9a7d005186afa6038": {
          "model_module": "@jupyter-widgets/controls",
          "model_name": "HBoxModel",
          "state": {
            "_view_name": "HBoxView",
            "_dom_classes": [],
            "_model_name": "HBoxModel",
            "_view_module": "@jupyter-widgets/controls",
            "_model_module_version": "1.5.0",
            "_view_count": null,
            "_view_module_version": "1.5.0",
            "box_style": "",
            "layout": "IPY_MODEL_b0944778ced8420c946a393ef467600c",
            "_model_module": "@jupyter-widgets/controls",
            "children": [
              "IPY_MODEL_3c5389b71d064323b8656d7a2d7960a5",
              "IPY_MODEL_1e7ffd07e1d34a22856299d5db09210d"
            ]
          }
        },
        "b0944778ced8420c946a393ef467600c": {
          "model_module": "@jupyter-widgets/base",
          "model_name": "LayoutModel",
          "state": {
            "_view_name": "LayoutView",
            "grid_template_rows": null,
            "right": null,
            "justify_content": null,
            "_view_module": "@jupyter-widgets/base",
            "overflow": null,
            "_model_module_version": "1.2.0",
            "_view_count": null,
            "flex_flow": null,
            "width": null,
            "min_width": null,
            "border": null,
            "align_items": null,
            "bottom": null,
            "_model_module": "@jupyter-widgets/base",
            "top": null,
            "grid_column": null,
            "overflow_y": null,
            "overflow_x": null,
            "grid_auto_flow": null,
            "grid_area": null,
            "grid_template_columns": null,
            "flex": null,
            "_model_name": "LayoutModel",
            "justify_items": null,
            "grid_row": null,
            "max_height": null,
            "align_content": null,
            "visibility": null,
            "align_self": null,
            "height": null,
            "min_height": null,
            "padding": null,
            "grid_auto_rows": null,
            "grid_gap": null,
            "max_width": null,
            "order": null,
            "_view_module_version": "1.2.0",
            "grid_template_areas": null,
            "object_position": null,
            "object_fit": null,
            "grid_auto_columns": null,
            "margin": null,
            "display": null,
            "left": null
          }
        },
        "3c5389b71d064323b8656d7a2d7960a5": {
          "model_module": "@jupyter-widgets/controls",
          "model_name": "FloatProgressModel",
          "state": {
            "_view_name": "ProgressView",
            "style": "IPY_MODEL_5d15b2b712a548b3b9d4f84272636eb5",
            "_dom_classes": [],
            "description": "Downloading: 100%",
            "_model_name": "FloatProgressModel",
            "bar_style": "success",
            "max": 714314041,
            "_view_module": "@jupyter-widgets/controls",
            "_model_module_version": "1.5.0",
            "value": 714314041,
            "_view_count": null,
            "_view_module_version": "1.5.0",
            "orientation": "horizontal",
            "min": 0,
            "description_tooltip": null,
            "_model_module": "@jupyter-widgets/controls",
            "layout": "IPY_MODEL_d378fa71cb5b48b8a01fefaa518a9d3e"
          }
        },
        "1e7ffd07e1d34a22856299d5db09210d": {
          "model_module": "@jupyter-widgets/controls",
          "model_name": "HTMLModel",
          "state": {
            "_view_name": "HTMLView",
            "style": "IPY_MODEL_a98ef283521540d7aa551297f453428b",
            "_dom_classes": [],
            "description": "",
            "_model_name": "HTMLModel",
            "placeholder": "​",
            "_view_module": "@jupyter-widgets/controls",
            "_model_module_version": "1.5.0",
            "value": " 714M/714M [00:13&lt;00:00, 54.0MB/s]",
            "_view_count": null,
            "_view_module_version": "1.5.0",
            "description_tooltip": null,
            "_model_module": "@jupyter-widgets/controls",
            "layout": "IPY_MODEL_e4e529e20f97446591838ca541a5cf4a"
          }
        },
        "5d15b2b712a548b3b9d4f84272636eb5": {
          "model_module": "@jupyter-widgets/controls",
          "model_name": "ProgressStyleModel",
          "state": {
            "_view_name": "StyleView",
            "_model_name": "ProgressStyleModel",
            "description_width": "initial",
            "_view_module": "@jupyter-widgets/base",
            "_model_module_version": "1.5.0",
            "_view_count": null,
            "_view_module_version": "1.2.0",
            "bar_color": null,
            "_model_module": "@jupyter-widgets/controls"
          }
        },
        "d378fa71cb5b48b8a01fefaa518a9d3e": {
          "model_module": "@jupyter-widgets/base",
          "model_name": "LayoutModel",
          "state": {
            "_view_name": "LayoutView",
            "grid_template_rows": null,
            "right": null,
            "justify_content": null,
            "_view_module": "@jupyter-widgets/base",
            "overflow": null,
            "_model_module_version": "1.2.0",
            "_view_count": null,
            "flex_flow": null,
            "width": null,
            "min_width": null,
            "border": null,
            "align_items": null,
            "bottom": null,
            "_model_module": "@jupyter-widgets/base",
            "top": null,
            "grid_column": null,
            "overflow_y": null,
            "overflow_x": null,
            "grid_auto_flow": null,
            "grid_area": null,
            "grid_template_columns": null,
            "flex": null,
            "_model_name": "LayoutModel",
            "justify_items": null,
            "grid_row": null,
            "max_height": null,
            "align_content": null,
            "visibility": null,
            "align_self": null,
            "height": null,
            "min_height": null,
            "padding": null,
            "grid_auto_rows": null,
            "grid_gap": null,
            "max_width": null,
            "order": null,
            "_view_module_version": "1.2.0",
            "grid_template_areas": null,
            "object_position": null,
            "object_fit": null,
            "grid_auto_columns": null,
            "margin": null,
            "display": null,
            "left": null
          }
        },
        "a98ef283521540d7aa551297f453428b": {
          "model_module": "@jupyter-widgets/controls",
          "model_name": "DescriptionStyleModel",
          "state": {
            "_view_name": "StyleView",
            "_model_name": "DescriptionStyleModel",
            "description_width": "",
            "_view_module": "@jupyter-widgets/base",
            "_model_module_version": "1.5.0",
            "_view_count": null,
            "_view_module_version": "1.2.0",
            "_model_module": "@jupyter-widgets/controls"
          }
        },
        "e4e529e20f97446591838ca541a5cf4a": {
          "model_module": "@jupyter-widgets/base",
          "model_name": "LayoutModel",
          "state": {
            "_view_name": "LayoutView",
            "grid_template_rows": null,
            "right": null,
            "justify_content": null,
            "_view_module": "@jupyter-widgets/base",
            "overflow": null,
            "_model_module_version": "1.2.0",
            "_view_count": null,
            "flex_flow": null,
            "width": null,
            "min_width": null,
            "border": null,
            "align_items": null,
            "bottom": null,
            "_model_module": "@jupyter-widgets/base",
            "top": null,
            "grid_column": null,
            "overflow_y": null,
            "overflow_x": null,
            "grid_auto_flow": null,
            "grid_area": null,
            "grid_template_columns": null,
            "flex": null,
            "_model_name": "LayoutModel",
            "justify_items": null,
            "grid_row": null,
            "max_height": null,
            "align_content": null,
            "visibility": null,
            "align_self": null,
            "height": null,
            "min_height": null,
            "padding": null,
            "grid_auto_rows": null,
            "grid_gap": null,
            "max_width": null,
            "order": null,
            "_view_module_version": "1.2.0",
            "grid_template_areas": null,
            "object_position": null,
            "object_fit": null,
            "grid_auto_columns": null,
            "margin": null,
            "display": null,
            "left": null
          }
        }
      }
    }
  },
  "cells": [
    {
      "cell_type": "markdown",
      "metadata": {
        "id": "Kiw1Ta0X2Sir"
      },
      "source": [
        "# 두 문장 관계 분류를 위한 학습 데이터 구축\n",
        "\n",
        "> 작성자      \n",
        "```\n",
        "* 김성현 (bananaband657@gmail.com)  \n",
        "김바다 (qkek983@gmail.com)\n",
        "박상희 (parksanghee0103@gmail.com)  \n",
        "이정우 (jungwoo.l2.rs@gmail.com)\n",
        "```\n",
        "[CC BY-NC-ND](https://creativecommons.org/licenses/by-nc-nd/2.0/kr/)"
      ]
    },
    {
      "cell_type": "markdown",
      "metadata": {
        "id": "Wwo-qEysQx2Z"
      },
      "source": [
        "두 문장의 관계 분류를 위한 학습 데이터를 구축해보도록 하겠습니다."
      ]
    },
    {
      "cell_type": "markdown",
      "metadata": {
        "id": "zde2AVxBQ3U-"
      },
      "source": [
        "이번 task의 목적은, paraphrasing 된 두 문장이 서로 같은 의미를 가지고 있는지 분류하는 것입니다.   "
      ]
    },
    {
      "cell_type": "code",
      "metadata": {
        "colab": {
          "base_uri": "https://localhost:8080/"
        },
        "id": "4eehAP1TGvmf",
        "outputId": "12349cb0-eea2-4005-fbdf-f2b347a01547"
      },
      "source": [
        "!git clone https://github.com/warnikchow/paraKQC.git"
      ],
      "execution_count": null,
      "outputs": [
        {
          "output_type": "stream",
          "text": [
            "Cloning into 'paraKQC'...\n",
            "remote: Enumerating objects: 48, done.\u001b[K\n",
            "remote: Counting objects: 100% (48/48), done.\u001b[K\n",
            "remote: Compressing objects: 100% (45/45), done.\u001b[K\n",
            "remote: Total 48 (delta 15), reused 0 (delta 0), pack-reused 0\u001b[K\n",
            "Unpacking objects: 100% (48/48), done.\n"
          ],
          "name": "stdout"
        }
      ]
    },
    {
      "cell_type": "code",
      "metadata": {
        "id": "XUb7lwkzHRGG"
      },
      "source": [
        "data = open('/content/paraKQC/data/paraKQC_v1.txt')"
      ],
      "execution_count": null,
      "outputs": []
    },
    {
      "cell_type": "code",
      "metadata": {
        "id": "SAH3NSUFHeTc"
      },
      "source": [
        "lines = data.readlines()"
      ],
      "execution_count": null,
      "outputs": []
    },
    {
      "cell_type": "code",
      "metadata": {
        "colab": {
          "base_uri": "https://localhost:8080/"
        },
        "id": "BJdvp9zSHtzx",
        "outputId": "26650a54-6f18-4915-f332-c0f6e49dadf8"
      },
      "source": [
        "for i in range(0,15):\n",
        "    print(lines[i]) # 10개씩 paraphasing "
      ],
      "execution_count": null,
      "outputs": [
        {
          "output_type": "stream",
          "text": [
            "0\t0\t메일을 다 비울까 아니면 안읽은 것만 지울까?\n",
            "\n",
            "0\t0\t메일 중에 안읽은 것만 지울까? 다 지울까?\n",
            "\n",
            "0\t0\t안읽은 메일만 지워 다지워?\n",
            "\n",
            "0\t0\t다 지울까 안읽은 메일만 지울까?\n",
            "\n",
            "0\t0\t전체를 비울까 안읽은 것만 비울까?\n",
            "\n",
            "0\t0\t안읽은 메일만 지울꺼야? 아니면 다 지울꺼야?\n",
            "\n",
            "0\t0\t어떻게 지울까? 안읽은거만? 전체 다?\n",
            "\n",
            "0\t0\t메일을 다 지울지 안읽은거만 지울지 알려주세요\n",
            "\n",
            "0\t0\t메일은 다 지울수도 있고, 안읽은거만 지울 수도 있어. 어떻게 할래?\n",
            "\n",
            "0\t0\t안읽은 메일만 지우든가, 다 지울 수 있는데 어떻게 할꺼야?\n",
            "\n",
            "0\t0\t지메일 쓸래, 네이버 메일 쓸래\n",
            "\n",
            "0\t0\t지메일을 쓸거야 네이버 메일을 쓸꺼야?\n",
            "\n",
            "0\t0\t지메일, 네이버 둘 중에 뭘 쓸래?\n",
            "\n",
            "0\t0\t네이버랑 지메일이 있는데 뭘 쓸래?\n",
            "\n",
            "0\t0\t네이버랑 지메일 중에 골라줄래?\n",
            "\n"
          ],
          "name": "stdout"
        }
      ]
    },
    {
      "cell_type": "code",
      "metadata": {
        "id": "0hleCuXoMYgp"
      },
      "source": [
        "similar_sents = {}"
      ],
      "execution_count": null,
      "outputs": []
    },
    {
      "cell_type": "code",
      "metadata": {
        "id": "v66ieeKDHk5T"
      },
      "source": [
        "similar_sent = []\n",
        "total_sent = []\n",
        "for line in lines:\n",
        "    line = line.strip()\n",
        "    sent = line.split('\\t')[2]\n",
        "    total_sent.append(sent)\n",
        "    similar_sent.append(sent)\n",
        "    if len(similar_sent) == 10:\n",
        "        similar_sents[similar_sent[0]] = similar_sent[1:]\n",
        "        similar_sent = []"
      ],
      "execution_count": null,
      "outputs": []
    },
    {
      "cell_type": "code",
      "metadata": {
        "colab": {
          "base_uri": "https://localhost:8080/"
        },
        "id": "n3bYZtnPQmY6",
        "outputId": "d6845204-7c9d-4f2e-a8d3-33660df50b84"
      },
      "source": [
        "print(len(total_sent))  # 가장 유사한 문장을 찾기 위한 전체 문장 pool"
      ],
      "execution_count": null,
      "outputs": [
        {
          "output_type": "stream",
          "text": [
            "10000\n"
          ],
          "name": "stdout"
        }
      ]
    },
    {
      "cell_type": "code",
      "metadata": {
        "colab": {
          "base_uri": "https://localhost:8080/"
        },
        "id": "VXQ3Te6kQpId",
        "outputId": "e50814b3-0fc7-4641-85d5-de0930d13c0c"
      },
      "source": [
        "for i in range(0,15):\n",
        "    print(total_sent[i])"
      ],
      "execution_count": null,
      "outputs": [
        {
          "output_type": "stream",
          "text": [
            "메일을 다 비울까 아니면 안읽은 것만 지울까?\n",
            "메일 중에 안읽은 것만 지울까? 다 지울까?\n",
            "안읽은 메일만 지워 다지워?\n",
            "다 지울까 안읽은 메일만 지울까?\n",
            "전체를 비울까 안읽은 것만 비울까?\n",
            "안읽은 메일만 지울꺼야? 아니면 다 지울꺼야?\n",
            "어떻게 지울까? 안읽은거만? 전체 다?\n",
            "메일을 다 지울지 안읽은거만 지울지 알려주세요\n",
            "메일은 다 지울수도 있고, 안읽은거만 지울 수도 있어. 어떻게 할래?\n",
            "안읽은 메일만 지우든가, 다 지울 수 있는데 어떻게 할꺼야?\n",
            "지메일 쓸래, 네이버 메일 쓸래\n",
            "지메일을 쓸거야 네이버 메일을 쓸꺼야?\n",
            "지메일, 네이버 둘 중에 뭘 쓸래?\n",
            "네이버랑 지메일이 있는데 뭘 쓸래?\n",
            "네이버랑 지메일 중에 골라줄래?\n"
          ],
          "name": "stdout"
        }
      ]
    },
    {
      "cell_type": "code",
      "metadata": {
        "colab": {
          "base_uri": "https://localhost:8080/"
        },
        "id": "Atax1N3nL2VK",
        "outputId": "b22d8580-1f7a-4153-9b58-185e67cd89e9"
      },
      "source": [
        "print(len(similar_sents))"
      ],
      "execution_count": null,
      "outputs": [
        {
          "output_type": "stream",
          "text": [
            "999\n"
          ],
          "name": "stdout"
        }
      ]
    },
    {
      "cell_type": "code",
      "metadata": {
        "colab": {
          "base_uri": "https://localhost:8080/"
        },
        "id": "aD-VJspWIyTC",
        "outputId": "a1fc74d7-42b9-4ac3-ee83-fc5a9561a57b"
      },
      "source": [
        "for i, key in enumerate(similar_sents.keys()):  # 10개의 문장 중, 첫 번째 문장을 key\n",
        "    print('\\n', key)                            # 나머지 9개의 문장을 value\n",
        "    for sent in similar_sents[key]:             # 헷갈리니까 이걸 similar_sents dict라고 정의할게요 :-)\n",
        "        print(\"-\", sent)\n",
        "    if i > 3:\n",
        "        break"
      ],
      "execution_count": null,
      "outputs": [
        {
          "output_type": "stream",
          "text": [
            "\n",
            " 메일을 다 비울까 아니면 안읽은 것만 지울까?\n",
            "- 메일 중에 안읽은 것만 지울까? 다 지울까?\n",
            "- 안읽은 메일만 지워 다지워?\n",
            "- 다 지울까 안읽은 메일만 지울까?\n",
            "- 전체를 비울까 안읽은 것만 비울까?\n",
            "- 안읽은 메일만 지울꺼야? 아니면 다 지울꺼야?\n",
            "- 어떻게 지울까? 안읽은거만? 전체 다?\n",
            "- 메일을 다 지울지 안읽은거만 지울지 알려주세요\n",
            "- 메일은 다 지울수도 있고, 안읽은거만 지울 수도 있어. 어떻게 할래?\n",
            "- 안읽은 메일만 지우든가, 다 지울 수 있는데 어떻게 할꺼야?\n",
            "\n",
            " 지메일 쓸래, 네이버 메일 쓸래\n",
            "- 지메일을 쓸거야 네이버 메일을 쓸꺼야?\n",
            "- 지메일, 네이버 둘 중에 뭘 쓸래?\n",
            "- 네이버랑 지메일이 있는데 뭘 쓸래?\n",
            "- 네이버랑 지메일 중에 골라줄래?\n",
            "- 두 개 중에 골라줘 네이버랑 지메일.\n",
            "- 네이버 아니면 지메일 중에 어떤 이메일 써야될까?\n",
            "- 네이버 메일이랑 지메일 중에 어떤 걸 써?\n",
            "- 지메일 쓸래? 아님 네이버?\n",
            "- 메일을 써야하는데, 지메일이랑 네이버 중에 뭘 쓸래?\n",
            "\n",
            " 지메일이랑 네이버 메일 중 파일 전송용량이 뭐가 더 크지?\n",
            "- 지메일이랑 네이버 메일 중 뭐가 더 용량이 큰 파일을 보낼 수 있어?\n",
            "- 파일 전송용량이 더 큰 쪽이 어디지? 지메일? 네이버 메일?\n",
            "- 파일 전송용량이 지메일이 큰가? 네이버 메일이 큰가?\n",
            "- 파일 전송용량이 지메일이랑 네이버 메일 중 뭐가 더 크지?\n",
            "- 지메일의 파일 전송용량이랑 네이버 메일의 파일 전송용량 중에 뭐가 더 크지?\n",
            "- 네이버 메일이랑 지메일 중에 어떤게 파일용량을 더 많이 전송할 수 있어?\n",
            "- 파일 용량을 더 크게 보낼 수 있는 메일은 네이버야 지메일이야?\n",
            "- 지메일과 네이버 메일을 비교했을 때, 파일 전송용량이 더 큰 게 뭐야?\n",
            "- 네이버 메일이랑 지메일이랑 보낼 수 있는 파일용량이 뭐가 더 크지?\n",
            "\n",
            " 네이트 메일이랑 한메일 중 어느 것이 먼저 서비스를 종료하지?\n",
            "- 먼저 서비스를 종료하는 쪽이 어디야? 네이트 메일? 한메일?\n",
            "- 어느 곳이 먼저 종료할까? 네이트 메일? 한메일?\n",
            "- 네이트 메일이 먼저 종료할까? 한메일이 먼저 종료할까?\n",
            "- 네이트 메일이랑 한메일 중에 뭐가 더 먼저 종료하는 지 알려줘\n",
            "- 네이트 메일의 종료 시점이랑 한메일의 종료 시점 중 뭐가 더 빠를까?\n",
            "- 한메일이랑 네이트메일 중 종료가 빠른 서비스는 뭐야?\n",
            "- 네이트 메일이랑 한메일 중 더 빨리 종료하는 서비스를 알려줘\n",
            "- 혹시 뭐가 더 먼저 서비스가 끊길지 아니? 네이트 메일이랑 한메일 중에\n",
            "- 뭐가 더 먼저 종료해? 네이트 메일? 한메일?\n",
            "\n",
            " 네이트 메일이랑 네이버 메일이랑 둘 중 접속 가능한 거 알려줘\n",
            "- 둘 중 접속 가능한 게 있을까? 네이트 메일이랑 네이버 메일\n",
            "- 네이트 메일이랑 네이버 메일 중 접속 되는 거로 하나 알려줘\n",
            "- 네이트나 네이버 메일 중 접속하는 거로 알려 줘\n",
            "- 메일 중에 네이트나 네이버, 둘 중 접속되는게 있을까?\n",
            "- 네이트랑 네이버 메일 둘 중 접속 가능한 거 불러줘봐\n",
            "- 어느 메일에 접속 가능해? 네이트 메일이랑 네이버 메일\n",
            "- 네이트나 네이버 메일 들어갈 수 있는 거로 하나 알려줘\n",
            "- 접속 가능한 네이트나 네이버 계정이 하나 있으실까요?\n",
            "- 접속 가능한 계정 네이트나 네이버 메일 중 하나만 알려줘\n"
          ],
          "name": "stdout"
        }
      ]
    },
    {
      "cell_type": "markdown",
      "metadata": {
        "id": "aWeBFVhCQxAb"
      },
      "source": [
        "이렇게 KEY에 대해, paraphrasing이 이루어진 문장 배열을 value로써 저장해두었습니다.   \n",
        "그렇다면 다음은, 문장 유사도 자체는 높지만, 실제 그 의미가 다른 데이터들을 모아보도록 하겠습니다."
      ]
    },
    {
      "cell_type": "code",
      "metadata": {
        "colab": {
          "base_uri": "https://localhost:8080/"
        },
        "id": "puBkuY8XRSZS",
        "outputId": "ed3156db-ade2-44e1-ae78-b0e7e1a5c7fc"
      },
      "source": [
        "!pip install transformers"
      ],
      "execution_count": null,
      "outputs": [
        {
          "output_type": "stream",
          "text": [
            "Collecting transformers\n",
            "\u001b[?25l  Downloading https://files.pythonhosted.org/packages/f9/54/5ca07ec9569d2f232f3166de5457b63943882f7950ddfcc887732fc7fb23/transformers-4.3.3-py3-none-any.whl (1.9MB)\n",
            "\u001b[K     |████████████████████████████████| 1.9MB 12.6MB/s \n",
            "\u001b[?25hRequirement already satisfied: filelock in /usr/local/lib/python3.7/dist-packages (from transformers) (3.0.12)\n",
            "Collecting sacremoses\n",
            "\u001b[?25l  Downloading https://files.pythonhosted.org/packages/7d/34/09d19aff26edcc8eb2a01bed8e98f13a1537005d31e95233fd48216eed10/sacremoses-0.0.43.tar.gz (883kB)\n",
            "\u001b[K     |████████████████████████████████| 890kB 46.2MB/s \n",
            "\u001b[?25hRequirement already satisfied: numpy>=1.17 in /usr/local/lib/python3.7/dist-packages (from transformers) (1.19.5)\n",
            "Collecting tokenizers<0.11,>=0.10.1\n",
            "\u001b[?25l  Downloading https://files.pythonhosted.org/packages/71/23/2ddc317b2121117bf34dd00f5b0de194158f2a44ee2bf5e47c7166878a97/tokenizers-0.10.1-cp37-cp37m-manylinux2010_x86_64.whl (3.2MB)\n",
            "\u001b[K     |████████████████████████████████| 3.2MB 53.2MB/s \n",
            "\u001b[?25hRequirement already satisfied: tqdm>=4.27 in /usr/local/lib/python3.7/dist-packages (from transformers) (4.41.1)\n",
            "Requirement already satisfied: requests in /usr/local/lib/python3.7/dist-packages (from transformers) (2.23.0)\n",
            "Requirement already satisfied: packaging in /usr/local/lib/python3.7/dist-packages (from transformers) (20.9)\n",
            "Requirement already satisfied: importlib-metadata; python_version < \"3.8\" in /usr/local/lib/python3.7/dist-packages (from transformers) (3.7.0)\n",
            "Requirement already satisfied: regex!=2019.12.17 in /usr/local/lib/python3.7/dist-packages (from transformers) (2019.12.20)\n",
            "Requirement already satisfied: six in /usr/local/lib/python3.7/dist-packages (from sacremoses->transformers) (1.15.0)\n",
            "Requirement already satisfied: click in /usr/local/lib/python3.7/dist-packages (from sacremoses->transformers) (7.1.2)\n",
            "Requirement already satisfied: joblib in /usr/local/lib/python3.7/dist-packages (from sacremoses->transformers) (1.0.1)\n",
            "Requirement already satisfied: idna<3,>=2.5 in /usr/local/lib/python3.7/dist-packages (from requests->transformers) (2.10)\n",
            "Requirement already satisfied: chardet<4,>=3.0.2 in /usr/local/lib/python3.7/dist-packages (from requests->transformers) (3.0.4)\n",
            "Requirement already satisfied: urllib3!=1.25.0,!=1.25.1,<1.26,>=1.21.1 in /usr/local/lib/python3.7/dist-packages (from requests->transformers) (1.24.3)\n",
            "Requirement already satisfied: certifi>=2017.4.17 in /usr/local/lib/python3.7/dist-packages (from requests->transformers) (2020.12.5)\n",
            "Requirement already satisfied: pyparsing>=2.0.2 in /usr/local/lib/python3.7/dist-packages (from packaging->transformers) (2.4.7)\n",
            "Requirement already satisfied: zipp>=0.5 in /usr/local/lib/python3.7/dist-packages (from importlib-metadata; python_version < \"3.8\"->transformers) (3.4.0)\n",
            "Requirement already satisfied: typing-extensions>=3.6.4; python_version < \"3.8\" in /usr/local/lib/python3.7/dist-packages (from importlib-metadata; python_version < \"3.8\"->transformers) (3.7.4.3)\n",
            "Building wheels for collected packages: sacremoses\n",
            "  Building wheel for sacremoses (setup.py) ... \u001b[?25l\u001b[?25hdone\n",
            "  Created wheel for sacremoses: filename=sacremoses-0.0.43-cp37-none-any.whl size=893262 sha256=10b00269fa30e7f92ab75928cb1b255387348d727234bde952b086cdd3482068\n",
            "  Stored in directory: /root/.cache/pip/wheels/29/3c/fd/7ce5c3f0666dab31a50123635e6fb5e19ceb42ce38d4e58f45\n",
            "Successfully built sacremoses\n",
            "Installing collected packages: sacremoses, tokenizers, transformers\n",
            "Successfully installed sacremoses-0.0.43 tokenizers-0.10.1 transformers-4.3.3\n"
          ],
          "name": "stdout"
        }
      ]
    },
    {
      "cell_type": "code",
      "metadata": {
        "id": "bkZuR_diOEDm"
      },
      "source": [
        "import torch\n",
        "from transformers import AutoModel, AutoTokenizer"
      ],
      "execution_count": null,
      "outputs": []
    },
    {
      "cell_type": "code",
      "metadata": {
        "colab": {
          "base_uri": "https://localhost:8080/",
          "height": 1000,
          "referenced_widgets": [
            "2951fc37bce049b598554efdcd56d844",
            "a6cb7727e8484877a2a3466b7c55eb0d",
            "0c70489f46bd4e3984e4e246d2bd6cf5",
            "353a48b411c240aabd7538beeed535b5",
            "d8c2153b55624eb0908af3a858bafce5",
            "104498e03bc74c988b1a6d57a36061cb",
            "c967f62afffb4b5f92d838a15f432ec0",
            "c5286126db8a4e6da1857c55b4abccdd",
            "44789d5e54d34343bdd8c05e786a223d",
            "c675f351d4eb443280bcd5e0dc5b64ae",
            "5810ab51425943e48aa2649cba4f5e4d",
            "ba8a94bd2a814b44aec139f4ac4fbf4d",
            "cc30084c6f214e6b8823accdbcd46163",
            "32434fcd188547c484223c0d4487af16",
            "9a213157d21b46509d28ea2d12d3bfd0",
            "c13f56bfa03f4fbf82378b40fc494872",
            "52abed69ec724e608cc858d579e52fc4",
            "d94cc5814f1e480e97795e954d0adb0e",
            "354cac0d59e14f79a37e1e8edd9ce3f7",
            "7fb5115ce0b44f489df8d268c21651a3",
            "9a4a626dd89a41549b51f684eb928151",
            "2fad6fcabd9f47e092506e9c070874cd",
            "423c7c6dd6d74938807c0e2283fb8052",
            "70914a29aa5d4d6099c5b55c1b0bfa43",
            "368981de3fbd4ce9a7d005186afa6038",
            "b0944778ced8420c946a393ef467600c",
            "3c5389b71d064323b8656d7a2d7960a5",
            "1e7ffd07e1d34a22856299d5db09210d",
            "5d15b2b712a548b3b9d4f84272636eb5",
            "d378fa71cb5b48b8a01fefaa518a9d3e",
            "a98ef283521540d7aa551297f453428b",
            "e4e529e20f97446591838ca541a5cf4a"
          ]
        },
        "id": "tZ8gT7M8RYin",
        "outputId": "fd5d0e4d-48d6-40b6-a4c0-12585a030fb8"
      },
      "source": [
        "MODEL_NAME = \"bert-base-multilingual-cased\"\n",
        "tokenizer = AutoTokenizer.from_pretrained(MODEL_NAME)\n",
        "model = AutoModel.from_pretrained(MODEL_NAME)\n",
        "model.to('cuda:0')"
      ],
      "execution_count": null,
      "outputs": [
        {
          "output_type": "display_data",
          "data": {
            "application/vnd.jupyter.widget-view+json": {
              "model_id": "2951fc37bce049b598554efdcd56d844",
              "version_minor": 0,
              "version_major": 2
            },
            "text/plain": [
              "HBox(children=(FloatProgress(value=0.0, description='Downloading', max=625.0, style=ProgressStyle(description_…"
            ]
          },
          "metadata": {
            "tags": []
          }
        },
        {
          "output_type": "stream",
          "text": [
            "\n"
          ],
          "name": "stdout"
        },
        {
          "output_type": "display_data",
          "data": {
            "application/vnd.jupyter.widget-view+json": {
              "model_id": "44789d5e54d34343bdd8c05e786a223d",
              "version_minor": 0,
              "version_major": 2
            },
            "text/plain": [
              "HBox(children=(FloatProgress(value=0.0, description='Downloading', max=995526.0, style=ProgressStyle(descripti…"
            ]
          },
          "metadata": {
            "tags": []
          }
        },
        {
          "output_type": "stream",
          "text": [
            "\n"
          ],
          "name": "stdout"
        },
        {
          "output_type": "display_data",
          "data": {
            "application/vnd.jupyter.widget-view+json": {
              "model_id": "52abed69ec724e608cc858d579e52fc4",
              "version_minor": 0,
              "version_major": 2
            },
            "text/plain": [
              "HBox(children=(FloatProgress(value=0.0, description='Downloading', max=1961828.0, style=ProgressStyle(descript…"
            ]
          },
          "metadata": {
            "tags": []
          }
        },
        {
          "output_type": "stream",
          "text": [
            "\n"
          ],
          "name": "stdout"
        },
        {
          "output_type": "display_data",
          "data": {
            "application/vnd.jupyter.widget-view+json": {
              "model_id": "368981de3fbd4ce9a7d005186afa6038",
              "version_minor": 0,
              "version_major": 2
            },
            "text/plain": [
              "HBox(children=(FloatProgress(value=0.0, description='Downloading', max=714314041.0, style=ProgressStyle(descri…"
            ]
          },
          "metadata": {
            "tags": []
          }
        },
        {
          "output_type": "stream",
          "text": [
            "\n"
          ],
          "name": "stdout"
        },
        {
          "output_type": "execute_result",
          "data": {
            "text/plain": [
              "BertModel(\n",
              "  (embeddings): BertEmbeddings(\n",
              "    (word_embeddings): Embedding(119547, 768, padding_idx=0)\n",
              "    (position_embeddings): Embedding(512, 768)\n",
              "    (token_type_embeddings): Embedding(2, 768)\n",
              "    (LayerNorm): LayerNorm((768,), eps=1e-12, elementwise_affine=True)\n",
              "    (dropout): Dropout(p=0.1, inplace=False)\n",
              "  )\n",
              "  (encoder): BertEncoder(\n",
              "    (layer): ModuleList(\n",
              "      (0): BertLayer(\n",
              "        (attention): BertAttention(\n",
              "          (self): BertSelfAttention(\n",
              "            (query): Linear(in_features=768, out_features=768, bias=True)\n",
              "            (key): Linear(in_features=768, out_features=768, bias=True)\n",
              "            (value): Linear(in_features=768, out_features=768, bias=True)\n",
              "            (dropout): Dropout(p=0.1, inplace=False)\n",
              "          )\n",
              "          (output): BertSelfOutput(\n",
              "            (dense): Linear(in_features=768, out_features=768, bias=True)\n",
              "            (LayerNorm): LayerNorm((768,), eps=1e-12, elementwise_affine=True)\n",
              "            (dropout): Dropout(p=0.1, inplace=False)\n",
              "          )\n",
              "        )\n",
              "        (intermediate): BertIntermediate(\n",
              "          (dense): Linear(in_features=768, out_features=3072, bias=True)\n",
              "        )\n",
              "        (output): BertOutput(\n",
              "          (dense): Linear(in_features=3072, out_features=768, bias=True)\n",
              "          (LayerNorm): LayerNorm((768,), eps=1e-12, elementwise_affine=True)\n",
              "          (dropout): Dropout(p=0.1, inplace=False)\n",
              "        )\n",
              "      )\n",
              "      (1): BertLayer(\n",
              "        (attention): BertAttention(\n",
              "          (self): BertSelfAttention(\n",
              "            (query): Linear(in_features=768, out_features=768, bias=True)\n",
              "            (key): Linear(in_features=768, out_features=768, bias=True)\n",
              "            (value): Linear(in_features=768, out_features=768, bias=True)\n",
              "            (dropout): Dropout(p=0.1, inplace=False)\n",
              "          )\n",
              "          (output): BertSelfOutput(\n",
              "            (dense): Linear(in_features=768, out_features=768, bias=True)\n",
              "            (LayerNorm): LayerNorm((768,), eps=1e-12, elementwise_affine=True)\n",
              "            (dropout): Dropout(p=0.1, inplace=False)\n",
              "          )\n",
              "        )\n",
              "        (intermediate): BertIntermediate(\n",
              "          (dense): Linear(in_features=768, out_features=3072, bias=True)\n",
              "        )\n",
              "        (output): BertOutput(\n",
              "          (dense): Linear(in_features=3072, out_features=768, bias=True)\n",
              "          (LayerNorm): LayerNorm((768,), eps=1e-12, elementwise_affine=True)\n",
              "          (dropout): Dropout(p=0.1, inplace=False)\n",
              "        )\n",
              "      )\n",
              "      (2): BertLayer(\n",
              "        (attention): BertAttention(\n",
              "          (self): BertSelfAttention(\n",
              "            (query): Linear(in_features=768, out_features=768, bias=True)\n",
              "            (key): Linear(in_features=768, out_features=768, bias=True)\n",
              "            (value): Linear(in_features=768, out_features=768, bias=True)\n",
              "            (dropout): Dropout(p=0.1, inplace=False)\n",
              "          )\n",
              "          (output): BertSelfOutput(\n",
              "            (dense): Linear(in_features=768, out_features=768, bias=True)\n",
              "            (LayerNorm): LayerNorm((768,), eps=1e-12, elementwise_affine=True)\n",
              "            (dropout): Dropout(p=0.1, inplace=False)\n",
              "          )\n",
              "        )\n",
              "        (intermediate): BertIntermediate(\n",
              "          (dense): Linear(in_features=768, out_features=3072, bias=True)\n",
              "        )\n",
              "        (output): BertOutput(\n",
              "          (dense): Linear(in_features=3072, out_features=768, bias=True)\n",
              "          (LayerNorm): LayerNorm((768,), eps=1e-12, elementwise_affine=True)\n",
              "          (dropout): Dropout(p=0.1, inplace=False)\n",
              "        )\n",
              "      )\n",
              "      (3): BertLayer(\n",
              "        (attention): BertAttention(\n",
              "          (self): BertSelfAttention(\n",
              "            (query): Linear(in_features=768, out_features=768, bias=True)\n",
              "            (key): Linear(in_features=768, out_features=768, bias=True)\n",
              "            (value): Linear(in_features=768, out_features=768, bias=True)\n",
              "            (dropout): Dropout(p=0.1, inplace=False)\n",
              "          )\n",
              "          (output): BertSelfOutput(\n",
              "            (dense): Linear(in_features=768, out_features=768, bias=True)\n",
              "            (LayerNorm): LayerNorm((768,), eps=1e-12, elementwise_affine=True)\n",
              "            (dropout): Dropout(p=0.1, inplace=False)\n",
              "          )\n",
              "        )\n",
              "        (intermediate): BertIntermediate(\n",
              "          (dense): Linear(in_features=768, out_features=3072, bias=True)\n",
              "        )\n",
              "        (output): BertOutput(\n",
              "          (dense): Linear(in_features=3072, out_features=768, bias=True)\n",
              "          (LayerNorm): LayerNorm((768,), eps=1e-12, elementwise_affine=True)\n",
              "          (dropout): Dropout(p=0.1, inplace=False)\n",
              "        )\n",
              "      )\n",
              "      (4): BertLayer(\n",
              "        (attention): BertAttention(\n",
              "          (self): BertSelfAttention(\n",
              "            (query): Linear(in_features=768, out_features=768, bias=True)\n",
              "            (key): Linear(in_features=768, out_features=768, bias=True)\n",
              "            (value): Linear(in_features=768, out_features=768, bias=True)\n",
              "            (dropout): Dropout(p=0.1, inplace=False)\n",
              "          )\n",
              "          (output): BertSelfOutput(\n",
              "            (dense): Linear(in_features=768, out_features=768, bias=True)\n",
              "            (LayerNorm): LayerNorm((768,), eps=1e-12, elementwise_affine=True)\n",
              "            (dropout): Dropout(p=0.1, inplace=False)\n",
              "          )\n",
              "        )\n",
              "        (intermediate): BertIntermediate(\n",
              "          (dense): Linear(in_features=768, out_features=3072, bias=True)\n",
              "        )\n",
              "        (output): BertOutput(\n",
              "          (dense): Linear(in_features=3072, out_features=768, bias=True)\n",
              "          (LayerNorm): LayerNorm((768,), eps=1e-12, elementwise_affine=True)\n",
              "          (dropout): Dropout(p=0.1, inplace=False)\n",
              "        )\n",
              "      )\n",
              "      (5): BertLayer(\n",
              "        (attention): BertAttention(\n",
              "          (self): BertSelfAttention(\n",
              "            (query): Linear(in_features=768, out_features=768, bias=True)\n",
              "            (key): Linear(in_features=768, out_features=768, bias=True)\n",
              "            (value): Linear(in_features=768, out_features=768, bias=True)\n",
              "            (dropout): Dropout(p=0.1, inplace=False)\n",
              "          )\n",
              "          (output): BertSelfOutput(\n",
              "            (dense): Linear(in_features=768, out_features=768, bias=True)\n",
              "            (LayerNorm): LayerNorm((768,), eps=1e-12, elementwise_affine=True)\n",
              "            (dropout): Dropout(p=0.1, inplace=False)\n",
              "          )\n",
              "        )\n",
              "        (intermediate): BertIntermediate(\n",
              "          (dense): Linear(in_features=768, out_features=3072, bias=True)\n",
              "        )\n",
              "        (output): BertOutput(\n",
              "          (dense): Linear(in_features=3072, out_features=768, bias=True)\n",
              "          (LayerNorm): LayerNorm((768,), eps=1e-12, elementwise_affine=True)\n",
              "          (dropout): Dropout(p=0.1, inplace=False)\n",
              "        )\n",
              "      )\n",
              "      (6): BertLayer(\n",
              "        (attention): BertAttention(\n",
              "          (self): BertSelfAttention(\n",
              "            (query): Linear(in_features=768, out_features=768, bias=True)\n",
              "            (key): Linear(in_features=768, out_features=768, bias=True)\n",
              "            (value): Linear(in_features=768, out_features=768, bias=True)\n",
              "            (dropout): Dropout(p=0.1, inplace=False)\n",
              "          )\n",
              "          (output): BertSelfOutput(\n",
              "            (dense): Linear(in_features=768, out_features=768, bias=True)\n",
              "            (LayerNorm): LayerNorm((768,), eps=1e-12, elementwise_affine=True)\n",
              "            (dropout): Dropout(p=0.1, inplace=False)\n",
              "          )\n",
              "        )\n",
              "        (intermediate): BertIntermediate(\n",
              "          (dense): Linear(in_features=768, out_features=3072, bias=True)\n",
              "        )\n",
              "        (output): BertOutput(\n",
              "          (dense): Linear(in_features=3072, out_features=768, bias=True)\n",
              "          (LayerNorm): LayerNorm((768,), eps=1e-12, elementwise_affine=True)\n",
              "          (dropout): Dropout(p=0.1, inplace=False)\n",
              "        )\n",
              "      )\n",
              "      (7): BertLayer(\n",
              "        (attention): BertAttention(\n",
              "          (self): BertSelfAttention(\n",
              "            (query): Linear(in_features=768, out_features=768, bias=True)\n",
              "            (key): Linear(in_features=768, out_features=768, bias=True)\n",
              "            (value): Linear(in_features=768, out_features=768, bias=True)\n",
              "            (dropout): Dropout(p=0.1, inplace=False)\n",
              "          )\n",
              "          (output): BertSelfOutput(\n",
              "            (dense): Linear(in_features=768, out_features=768, bias=True)\n",
              "            (LayerNorm): LayerNorm((768,), eps=1e-12, elementwise_affine=True)\n",
              "            (dropout): Dropout(p=0.1, inplace=False)\n",
              "          )\n",
              "        )\n",
              "        (intermediate): BertIntermediate(\n",
              "          (dense): Linear(in_features=768, out_features=3072, bias=True)\n",
              "        )\n",
              "        (output): BertOutput(\n",
              "          (dense): Linear(in_features=3072, out_features=768, bias=True)\n",
              "          (LayerNorm): LayerNorm((768,), eps=1e-12, elementwise_affine=True)\n",
              "          (dropout): Dropout(p=0.1, inplace=False)\n",
              "        )\n",
              "      )\n",
              "      (8): BertLayer(\n",
              "        (attention): BertAttention(\n",
              "          (self): BertSelfAttention(\n",
              "            (query): Linear(in_features=768, out_features=768, bias=True)\n",
              "            (key): Linear(in_features=768, out_features=768, bias=True)\n",
              "            (value): Linear(in_features=768, out_features=768, bias=True)\n",
              "            (dropout): Dropout(p=0.1, inplace=False)\n",
              "          )\n",
              "          (output): BertSelfOutput(\n",
              "            (dense): Linear(in_features=768, out_features=768, bias=True)\n",
              "            (LayerNorm): LayerNorm((768,), eps=1e-12, elementwise_affine=True)\n",
              "            (dropout): Dropout(p=0.1, inplace=False)\n",
              "          )\n",
              "        )\n",
              "        (intermediate): BertIntermediate(\n",
              "          (dense): Linear(in_features=768, out_features=3072, bias=True)\n",
              "        )\n",
              "        (output): BertOutput(\n",
              "          (dense): Linear(in_features=3072, out_features=768, bias=True)\n",
              "          (LayerNorm): LayerNorm((768,), eps=1e-12, elementwise_affine=True)\n",
              "          (dropout): Dropout(p=0.1, inplace=False)\n",
              "        )\n",
              "      )\n",
              "      (9): BertLayer(\n",
              "        (attention): BertAttention(\n",
              "          (self): BertSelfAttention(\n",
              "            (query): Linear(in_features=768, out_features=768, bias=True)\n",
              "            (key): Linear(in_features=768, out_features=768, bias=True)\n",
              "            (value): Linear(in_features=768, out_features=768, bias=True)\n",
              "            (dropout): Dropout(p=0.1, inplace=False)\n",
              "          )\n",
              "          (output): BertSelfOutput(\n",
              "            (dense): Linear(in_features=768, out_features=768, bias=True)\n",
              "            (LayerNorm): LayerNorm((768,), eps=1e-12, elementwise_affine=True)\n",
              "            (dropout): Dropout(p=0.1, inplace=False)\n",
              "          )\n",
              "        )\n",
              "        (intermediate): BertIntermediate(\n",
              "          (dense): Linear(in_features=768, out_features=3072, bias=True)\n",
              "        )\n",
              "        (output): BertOutput(\n",
              "          (dense): Linear(in_features=3072, out_features=768, bias=True)\n",
              "          (LayerNorm): LayerNorm((768,), eps=1e-12, elementwise_affine=True)\n",
              "          (dropout): Dropout(p=0.1, inplace=False)\n",
              "        )\n",
              "      )\n",
              "      (10): BertLayer(\n",
              "        (attention): BertAttention(\n",
              "          (self): BertSelfAttention(\n",
              "            (query): Linear(in_features=768, out_features=768, bias=True)\n",
              "            (key): Linear(in_features=768, out_features=768, bias=True)\n",
              "            (value): Linear(in_features=768, out_features=768, bias=True)\n",
              "            (dropout): Dropout(p=0.1, inplace=False)\n",
              "          )\n",
              "          (output): BertSelfOutput(\n",
              "            (dense): Linear(in_features=768, out_features=768, bias=True)\n",
              "            (LayerNorm): LayerNorm((768,), eps=1e-12, elementwise_affine=True)\n",
              "            (dropout): Dropout(p=0.1, inplace=False)\n",
              "          )\n",
              "        )\n",
              "        (intermediate): BertIntermediate(\n",
              "          (dense): Linear(in_features=768, out_features=3072, bias=True)\n",
              "        )\n",
              "        (output): BertOutput(\n",
              "          (dense): Linear(in_features=3072, out_features=768, bias=True)\n",
              "          (LayerNorm): LayerNorm((768,), eps=1e-12, elementwise_affine=True)\n",
              "          (dropout): Dropout(p=0.1, inplace=False)\n",
              "        )\n",
              "      )\n",
              "      (11): BertLayer(\n",
              "        (attention): BertAttention(\n",
              "          (self): BertSelfAttention(\n",
              "            (query): Linear(in_features=768, out_features=768, bias=True)\n",
              "            (key): Linear(in_features=768, out_features=768, bias=True)\n",
              "            (value): Linear(in_features=768, out_features=768, bias=True)\n",
              "            (dropout): Dropout(p=0.1, inplace=False)\n",
              "          )\n",
              "          (output): BertSelfOutput(\n",
              "            (dense): Linear(in_features=768, out_features=768, bias=True)\n",
              "            (LayerNorm): LayerNorm((768,), eps=1e-12, elementwise_affine=True)\n",
              "            (dropout): Dropout(p=0.1, inplace=False)\n",
              "          )\n",
              "        )\n",
              "        (intermediate): BertIntermediate(\n",
              "          (dense): Linear(in_features=768, out_features=3072, bias=True)\n",
              "        )\n",
              "        (output): BertOutput(\n",
              "          (dense): Linear(in_features=3072, out_features=768, bias=True)\n",
              "          (LayerNorm): LayerNorm((768,), eps=1e-12, elementwise_affine=True)\n",
              "          (dropout): Dropout(p=0.1, inplace=False)\n",
              "        )\n",
              "      )\n",
              "    )\n",
              "  )\n",
              "  (pooler): BertPooler(\n",
              "    (dense): Linear(in_features=768, out_features=768, bias=True)\n",
              "    (activation): Tanh()\n",
              "  )\n",
              ")"
            ]
          },
          "metadata": {
            "tags": []
          },
          "execution_count": 13
        }
      ]
    },
    {
      "cell_type": "code",
      "metadata": {
        "id": "tfsIUTU8RaBI"
      },
      "source": [
        "def get_cls_token(sent_A):\n",
        "    model.eval()\n",
        "    tokenized_sent = tokenizer(\n",
        "            sent_A,\n",
        "            return_tensors=\"pt\",\n",
        "            truncation=True,\n",
        "            add_special_tokens=True,\n",
        "            max_length=32\n",
        "    ).to('cuda:0')\n",
        "    with torch.no_grad():# 그라디엔트 계산 비활성화\n",
        "        outputs = model(\n",
        "            input_ids=tokenized_sent['input_ids'],\n",
        "            attention_mask=tokenized_sent['attention_mask'],\n",
        "            token_type_ids=tokenized_sent['token_type_ids']\n",
        "            )\n",
        "    logits = outputs.last_hidden_state[:,0,:].detach().cpu().numpy()\n",
        "    return logits"
      ],
      "execution_count": null,
      "outputs": []
    },
    {
      "cell_type": "code",
      "metadata": {
        "colab": {
          "base_uri": "https://localhost:8080/"
        },
        "id": "zUNltds6SixC",
        "outputId": "d83eef48-7e22-4a40-c506-c4f15dede83a"
      },
      "source": [
        "print(get_cls_token(\"이순신은 조선 중기의 무신이다.\"))"
      ],
      "execution_count": null,
      "outputs": [
        {
          "output_type": "stream",
          "text": [
            "[[ 2.26024017e-01  1.04690287e-02 -5.41397870e-01  2.30353460e-01\n",
            "   6.25360131e-01  2.39804000e-01  2.33713370e-02 -2.61267513e-01\n",
            "  -4.38041031e-01  4.07899648e-01 -2.52411693e-01  4.77173150e-01\n",
            "  -6.36517584e-01 -2.32370049e-01 -6.57122076e-01  2.84394175e-01\n",
            "   1.04388863e-01  5.72354078e-01  4.29819763e-01  4.15336698e-01\n",
            "  -2.59806097e-01  1.41299199e-02  5.21894813e-01  7.10459873e-02\n",
            "   1.82836711e-01 -3.98556411e-01  1.74788877e-01  1.37428716e-01\n",
            "   4.74658698e-01 -4.75838631e-01 -1.25539869e-01  3.68417472e-01\n",
            "  -1.48483455e-01  6.28680587e-01 -3.69420379e-01 -5.60222268e-01\n",
            "  -1.00052726e+00  1.35852799e-01  4.38386828e-01  2.19172359e-01\n",
            "  -1.23290427e-01  3.58435571e-01 -8.95106047e-02  5.15334606e-01\n",
            "  -1.19155027e-01  7.95150101e-01  1.55638933e-01  3.38727444e-01\n",
            "   2.70103037e-01  6.92908645e-01 -3.93676907e-02  7.97334593e-03\n",
            "  -2.45925754e-01 -2.02220082e-01  2.15766486e-02  6.43215701e-02\n",
            "   1.46936178e-01 -4.21169847e-01 -1.05112651e-02  3.24690163e-01\n",
            "  -4.63303387e-01 -4.30349439e-01  3.31607282e-01  3.56180221e-02\n",
            "  -9.13021993e-03 -1.01234150e+00 -4.88417931e-02 -4.26565081e-01\n",
            "  -4.83326167e-01 -9.82260823e-01  2.16266021e-01  1.64005592e-01\n",
            "   8.22343767e-01 -4.90514815e-01 -4.20528412e-01  5.86120665e-01\n",
            "   5.44367619e-02  1.02661505e-01 -4.79710728e-01  4.21771646e-01\n",
            "   8.25874880e-02  9.94916037e-02 -7.36725688e-01  8.04318339e-02\n",
            "  -4.66970980e-01  1.53422669e-01  1.96564823e-01  6.55537903e-01\n",
            "   3.54128510e-01 -4.56418276e-01  3.10149878e-01  6.37896284e-02\n",
            "   2.65590157e-02  1.55223548e-01 -4.14435118e-01 -2.35058144e-02\n",
            "   3.32986683e-01 -1.11262769e-01  4.72609729e-01  4.48387951e-01\n",
            "  -1.35638177e-01  1.26958713e-01  3.37105781e-01  3.71268719e-01\n",
            "  -1.24669087e+00 -1.62799787e-02 -2.70262957e-01  3.52786571e-01\n",
            "   5.42595327e-01  3.38236660e-01  3.98514181e-01  2.79006988e-01\n",
            "  -8.52006152e-02 -1.78946838e-01  4.11462814e-01  3.50323915e-01\n",
            "  -1.26027203e+00 -1.06382929e-01 -3.58077697e-02 -7.68987954e-01\n",
            "  -5.40678166e-02  1.90645471e-01  2.84469455e-01  2.09652394e-01\n",
            "  -8.86142626e-02 -4.59917784e-01  3.48190784e-01 -3.28822881e-01\n",
            "  -8.86449143e-02  2.09313676e-01 -6.70394748e-02  8.30240965e-01\n",
            "  -6.04128353e-02  5.73628426e-01 -3.45436245e-01  9.40481424e-01\n",
            "   3.72720510e-01  1.17116176e-01  3.81012380e-01  2.02391833e-01\n",
            "   1.87377959e-01 -3.42207015e-01 -6.27608538e-01 -4.27585393e-01\n",
            "   1.32908463e-01  5.95813453e-01  1.65162653e-01  2.67921776e-01\n",
            "  -4.34930861e-01 -5.85492134e-01  4.50820364e-02  1.71173438e-01\n",
            "   5.37381113e-01  2.71069169e-01 -7.25736320e-02 -5.29492676e-01\n",
            "  -3.37410927e-01 -5.60543649e-02  1.61386788e-01  4.62501496e-01\n",
            "   4.35835749e-01  2.61201948e-01 -3.05487603e-01  5.92219830e-01\n",
            "  -3.59068096e-01  2.20656469e-01 -1.98442295e-01 -3.49788368e-02\n",
            "  -5.62069297e-01 -3.47032040e-01  1.38335869e-01 -2.26063356e-01\n",
            "   3.04840684e-01 -2.03757614e-01 -2.37269350e-03  1.92571193e-01\n",
            "   1.89706355e-01 -1.80370763e-01 -1.90682083e-01  6.08992614e-02\n",
            "   2.72534579e-01  3.48346755e-02 -1.52959436e-01 -2.90144563e-01\n",
            "   3.66731808e-02 -3.36476773e-01 -3.29761475e-01  2.25790933e-01\n",
            "   4.66246083e-02 -2.01423988e-01 -1.89733118e-01  3.20182741e-01\n",
            "   4.06112939e-01 -4.01838779e-01 -3.75632554e-01  7.51971960e-01\n",
            "   7.27187516e-03  2.43502960e-01 -1.11687087e-01 -1.37996212e-01\n",
            "   2.44666412e-01  3.50604862e-01  4.90590781e-01 -1.41663611e-01\n",
            "   9.56659093e-02  3.53628159e-01 -1.40335929e+00 -1.15753829e+00\n",
            "  -2.86184192e-01  2.65259027e-01  6.33712187e-02  4.04665433e-02\n",
            "   2.57174730e-01  1.30391404e-01 -4.43872750e-01 -7.78908432e-01\n",
            "   6.38890937e-02  3.22793961e-01 -9.89571586e-02 -7.58808017e-01\n",
            "   1.17699005e-01  7.47781932e-01 -6.80052638e-01 -3.32311422e-01\n",
            "  -1.44173160e-01 -3.60945493e-01 -4.05695647e-01  8.75223503e-02\n",
            "   1.93008542e-01 -3.88578266e-01 -9.97529030e-01 -5.93183577e-01\n",
            "   3.57660532e-01 -1.63813186e+00  3.10746152e-02 -4.54513505e-02\n",
            "   2.41105124e-01 -6.43787563e-01  1.15373239e-01 -1.38798267e-01\n",
            "   2.46096421e-02 -4.14813906e-01  1.35502160e-01 -4.06317890e-01\n",
            "   5.76019108e-01  1.75186396e-01  3.94790828e-01 -1.30961865e-01\n",
            "  -5.93060017e-01 -2.73457825e-01  2.32280374e-01 -5.11143431e-02\n",
            "   1.91233709e-01 -2.11553589e-01 -4.80470330e-01  5.47491133e-01\n",
            "  -1.39376029e-01 -4.38633889e-01  1.73163459e-01 -2.65821606e-01\n",
            "  -9.38885927e-01 -3.21583658e-01  6.82395041e-01 -2.08610728e-01\n",
            "   2.67977655e-01 -1.69331074e-01 -2.17082053e-01  1.36614054e-01\n",
            "  -1.29864261e-01 -3.67862165e-01  2.56413192e-01 -6.54281229e-02\n",
            "   5.01973890e-02 -7.73478001e-02 -1.58089418e-02 -1.02155961e-01\n",
            "  -5.61908543e-01  3.18129659e-01 -3.14258486e-01  5.53023160e-01\n",
            "  -1.02072380e-01 -4.88493778e-02  1.31778479e-01  3.59130085e-01\n",
            "  -5.60107082e-02 -7.67939985e-01 -5.69178522e-01 -7.25714684e-01\n",
            "  -1.68289974e-01 -3.00968379e-01 -1.03889763e-01 -3.16696107e-01\n",
            "  -1.47137254e-01 -3.66094917e-01  7.52626210e-02  5.82444668e-01\n",
            "  -1.25502229e-01  1.77555457e-01  8.71214867e-02 -2.00341269e-01\n",
            "   7.29259908e-01 -3.36003542e-01 -4.25722390e-01  1.96568564e-01\n",
            "  -6.18777454e-01 -1.09017296e-02 -2.15162084e-01 -5.08795857e-01\n",
            "   3.69300842e-01  2.57600814e-01 -4.30802286e-01  1.83822721e-01\n",
            "  -3.29527110e-02 -1.04882360e-01  2.39747670e-02 -6.36055171e-02\n",
            "  -5.06651700e-01  4.49968874e-01 -4.57834512e-01 -3.89842242e-01\n",
            "  -6.51045620e-01 -9.19469520e-02  3.66329700e-01  1.64022408e-02\n",
            "  -2.56682307e-01 -1.36094078e-01 -6.30532429e-02  4.70514953e-01\n",
            "   3.84139180e-01 -5.03702044e-01 -2.81882226e-01 -5.58083653e-01\n",
            "  -1.71836764e-01  6.16423726e-01 -5.24942167e-02 -5.90022922e-01\n",
            "  -2.30521560e-01 -3.89392883e-01 -6.26144528e-01  5.51414967e-01\n",
            "   4.31398973e-02 -4.02228832e-01  5.53295970e-01  2.72540718e-01\n",
            "   2.57127762e-01  3.25201243e-01 -5.70338033e-02  5.19267991e-02\n",
            "   2.65025139e-01 -3.91255021e-01  1.09558590e-01 -5.50777316e-02\n",
            "  -5.11532664e-01  2.96786487e-01  2.28829116e-01  2.41090596e-01\n",
            "   1.93868995e-01  6.68879211e-01  1.59381106e-01  2.01116219e-01\n",
            "   4.70697880e-01  7.80832648e-01 -4.74672109e-01  6.19396977e-02\n",
            "  -4.01147008e-01 -2.79101431e-01  3.34814698e-01 -2.35218227e-01\n",
            "  -4.31800008e-01  4.14263755e-01  2.81860024e-01  8.70380938e-01\n",
            "   4.29016232e-01 -3.35264176e-01 -7.19012693e-02  5.38362078e-02\n",
            "  -3.62909794e-01  1.14139527e-01  1.66657969e-01  3.41733098e-01\n",
            "   1.53886884e-01 -5.42712688e-01 -1.00561142e+00  8.36229146e-01\n",
            "   2.09850028e-01 -7.12195218e-01  2.73406088e-01 -6.70729578e-01\n",
            "   3.76620412e-01 -5.15765369e-01  9.54640955e-02 -1.80065408e-02\n",
            "   7.24405408e-01 -2.76325464e-01 -4.10934478e-01  3.31934512e-01\n",
            "   6.74907029e-01 -5.25551200e-01  4.50504303e-01  1.28852904e-01\n",
            "   2.40404651e-01 -1.36009961e-01  4.90975559e-01  2.27004230e-01\n",
            "  -3.61753464e-01 -2.75049806e-01  3.57188612e-01  5.26902497e-01\n",
            "   2.93414116e-01  1.29386023e-01  1.19173490e-01  2.11990595e-01\n",
            "   9.05309260e-01 -3.09058279e-01  3.22446555e-01  1.62276670e-01\n",
            "  -7.30714738e-01 -1.47052892e-02  9.95903909e-02  2.45005444e-01\n",
            "   2.48402059e-01  4.09284174e-01 -1.72121465e-01 -1.20143092e+00\n",
            "   1.03023811e-03 -4.59378093e-01 -1.93021938e-01 -8.72799605e-02\n",
            "  -1.86038136e-01 -1.55909106e-01 -1.67391136e-01  5.43071255e-02\n",
            "   6.16398156e-01 -1.12476498e-01 -9.44595277e-01  7.37745106e-01\n",
            "  -1.73590668e-02  2.93492407e-01 -2.26628691e-01  4.64550912e-01\n",
            "  -1.62738442e-01 -2.46402413e-01 -8.81006569e-02  1.12029187e-01\n",
            "  -5.24043292e-02  1.51058495e+00 -1.82313904e-01  7.30195716e-02\n",
            "   3.39961320e-01  8.12529862e-01 -4.88064326e-02 -4.84816074e-01\n",
            "  -8.00391972e-01 -7.57548869e-01  2.01453745e-01 -2.22297177e-01\n",
            "  -9.98911560e-01  8.39417800e-02 -7.48972893e-01  1.59143090e-01\n",
            "   2.67485619e-01 -2.74880558e-01  7.72738636e-01  6.34588242e-01\n",
            "   3.56144398e-01 -4.70235139e-01  1.82893872e-01 -5.92213213e-01\n",
            "   5.40359616e-02  2.74710715e-01 -4.23674099e-02  3.86047304e-01\n",
            "   9.49212193e-01 -2.98231125e-01 -2.93085456e-01 -1.19412696e+00\n",
            "   1.21368513e-01  4.69208211e-01  1.63252220e-01 -5.63569725e-01\n",
            "   3.30540001e-01  1.22553632e-01  1.09307182e+00 -4.76270080e-01\n",
            "   1.84527542e-02  3.25708628e-01 -1.70204807e-02  4.06563550e-01\n",
            "   3.10376883e-01 -1.30552426e-01 -2.56465077e-01  1.50444940e-01\n",
            "   4.48915899e-01  1.09338820e+00  7.31320679e-01 -2.69428909e-01\n",
            "   3.04613173e-01  5.67562342e-01 -3.36349905e-01  1.04246728e-01\n",
            "  -2.30598316e-01  4.02985029e-02 -2.96244922e-04  2.10811332e-01\n",
            "   2.74689704e-01 -5.76652646e-01 -1.45769835e-01  1.30993098e-01\n",
            "   1.10414110e-01 -1.77690163e-01  5.55014074e-01 -9.84554812e-02\n",
            "   5.44798672e-01  7.11222067e-02 -1.15579098e-01  2.08681345e-01\n",
            "  -3.90846431e-01 -1.89853385e-01  1.66890547e-01 -1.53608441e-01\n",
            "   3.17018896e-01  5.71440637e-01  9.94404554e-02  2.03761593e-01\n",
            "  -5.30403674e-01  3.82998846e-02 -1.82387441e-01 -1.40396997e-01\n",
            "   1.45388141e-01  1.27551556e-01 -8.67456347e-02 -1.08014204e-01\n",
            "   3.59081775e-01  2.32180785e-02 -1.00290820e-01 -1.30854055e-01\n",
            "   3.58858526e-01  2.48357784e-02 -2.76310802e-01 -4.05763723e-02\n",
            "  -5.42763233e-01  6.56011879e-01 -4.70989197e-02  2.30702549e-01\n",
            "   1.22696683e-02  1.65006652e-01 -2.74125665e-01  4.42619354e-01\n",
            "  -9.65342969e-02  3.78720969e-01  1.07368767e-01  3.43232423e-01\n",
            "   1.47689387e-01  2.21243888e-01 -3.16204838e-02  3.13108385e-01\n",
            "   3.94532233e-01 -4.83638763e-01 -3.98127884e-02 -2.28946060e-02\n",
            "  -2.74856091e-01  1.95338875e-01 -1.06496938e-01 -1.76306695e-01\n",
            "  -3.16018790e-01 -2.88102657e-01 -2.02631772e-01  3.78970772e-01\n",
            "  -2.52235174e-01  7.00546384e-01 -2.69856930e-01  3.24673682e-01\n",
            "  -7.86122605e-02  4.44527686e-01 -8.49843994e-02  2.90213794e-01\n",
            "  -6.26138151e-01  1.08836129e-01  2.40844004e-02  8.82218778e-01\n",
            "  -1.72664896e-01 -1.48989543e-01  2.04863802e-01 -6.28695130e-01\n",
            "   3.07063442e-02  6.71503693e-03  1.58506662e-01 -6.85043186e-02\n",
            "  -5.93100548e-01  1.46382406e-01  3.98345619e-01  5.54196537e-01\n",
            "  -4.21583116e-01  1.12714298e-01  4.87422049e-01  4.55543101e-01\n",
            "   3.82969916e-01  4.61825728e-02 -2.30224550e-01 -6.04011595e-01\n",
            "  -9.63460356e-02 -6.80034101e-01  3.29012990e-01 -5.88755938e-04\n",
            "   1.56946331e-01 -3.65163982e-02 -6.87735379e-02 -7.11062327e-02\n",
            "  -5.23935199e-01 -9.18637961e-02 -3.69105548e-01  2.82196999e-01\n",
            "  -3.81781518e-01 -3.76224853e-02  8.58344585e-02 -5.62941909e-01\n",
            "   1.35652795e-01 -1.38627812e-01 -1.59036145e-01 -6.02097392e-01\n",
            "  -4.97913301e-01  3.12155008e-01  8.33886445e-01 -2.54465312e-01\n",
            "   3.21824223e-01  6.22872651e-01  5.59181571e-01  6.96609676e-01\n",
            "   1.36112690e-01 -4.03626680e-01 -1.73916057e-01 -2.04281837e-01\n",
            "   3.39723587e-01  4.75808799e-01  7.83810198e-01 -1.36804730e-01\n",
            "  -3.77176613e-01 -1.32673904e-01  5.98075151e-01  3.51896812e-03\n",
            "   4.36299533e-01 -1.30826890e-01  6.68107569e-01 -4.44888204e-01\n",
            "   1.97697446e-01  2.25528210e-01 -8.80672224e-03  2.47237459e-01\n",
            "  -3.19496453e-01  3.56813639e-01 -4.96467620e-01 -6.91559538e-02\n",
            "   1.75436810e-02 -2.43348464e-01  4.11532223e-01 -6.61155656e-02\n",
            "   2.08630800e-01  5.27683944e-02  1.15147844e-01  3.85241807e-01\n",
            "  -6.71360940e-02 -1.57911584e-01 -3.16157728e-01 -3.44512075e-01\n",
            "  -1.03397928e-01 -7.79749274e-01 -4.08618182e-01  1.77183151e-01\n",
            "   4.00299858e-03 -3.41992140e-01 -5.90496473e-02  5.53429961e-01\n",
            "   4.17224407e-01 -4.63193469e-03 -3.16978395e-01 -1.12230158e+00\n",
            "  -6.52423859e-01 -3.93960625e-01  1.48661211e-01  1.37525901e-01\n",
            "  -2.72598624e-01  5.78514338e-01  8.00448179e-01  1.31411374e-01\n",
            "  -3.61583143e-01  1.57178491e-01  2.45672971e-01  3.66345160e-02\n",
            "  -6.50609255e-01  6.63736835e-02  6.93479836e-01 -2.82352448e-01\n",
            "   2.01684341e-01 -2.87263751e-01  5.64155936e-01  2.97085166e-01\n",
            "  -3.83424342e-01  1.32348210e-01 -1.28301024e-01 -3.30001563e-01\n",
            "  -2.20869794e-01 -3.44896764e-02 -3.22319806e-01 -4.19938378e-02\n",
            "  -7.27981608e-03  5.94934635e-02  3.22537869e-01  2.27274582e-01\n",
            "  -4.16264832e-01 -1.05113387e-02 -7.00939968e-02  1.72032535e-01\n",
            "  -1.28749454e+00  1.53886229e-01 -6.09950125e-01  1.15418363e+00\n",
            "  -1.55183405e-01 -4.13551509e-01 -5.83704226e-02  8.63591015e-01\n",
            "  -1.45089418e-01  1.89778402e-01  7.50159770e-02 -1.08951040e-01\n",
            "  -4.07180250e-01  4.24997695e-02 -1.74647793e-01  5.52478969e-01\n",
            "  -3.17131072e-01 -3.16528082e-02 -2.14160234e-01 -1.99674833e+00\n",
            "   2.45871574e-01  1.80230200e-01  2.00294569e-01 -3.40686291e-02\n",
            "   1.88788995e-01 -6.34046316e-01 -2.94326097e-01  6.48497716e-02\n",
            "  -4.02455360e-01  1.93333514e-02 -2.66494334e-01 -3.57946418e-02\n",
            "  -3.44001591e-01  1.75938513e-02 -1.02844968e-01  1.94846049e-01\n",
            "  -2.94879407e-01  6.13920331e-01  3.37297618e-01  2.52554774e-01\n",
            "   4.08846825e-01 -4.17526245e-01  4.31900144e-01  4.30953145e-01\n",
            "   3.14799733e-02  5.26868045e-01  1.43480018e-01  1.23541104e-02\n",
            "  -1.57169942e-02 -8.37272942e-01  6.61938265e-02 -5.12526035e-02\n",
            "   9.29847509e-02  2.99689680e-01 -2.66348720e-01  1.25128031e-01]]\n"
          ],
          "name": "stdout"
        }
      ]
    },
    {
      "cell_type": "code",
      "metadata": {
        "id": "_frnTeyHUKpd"
      },
      "source": [
        "total_sent_vector = {}\n",
        "for i, sent in enumerate(total_sent):   # 전체 문장 pool을 전부 embedding!\n",
        "    total_sent_vector[sent] = get_cls_token(sent)   # {key, value} = {문장, vector}\n",
        "    if i % 500==0:\n",
        "        print(i)"
      ],
      "execution_count": null,
      "outputs": []
    },
    {
      "cell_type": "code",
      "metadata": {
        "id": "8W0_vj_XTw2D"
      },
      "source": [
        "import numpy as np"
      ],
      "execution_count": null,
      "outputs": []
    },
    {
      "cell_type": "code",
      "metadata": {
        "id": "M2MbVWnMRfpa"
      },
      "source": [
        "def custom_cosine_similarity(a,b):\n",
        "    numerator = np.dot(a,b.T)\n",
        "    a_norm = np.sqrt(np.sum(a * a))\n",
        "    b_norm = np.sqrt(np.sum(b * b, axis=-1))\n",
        "\n",
        "    denominator = a_norm * b_norm\n",
        "    return numerator/denominator"
      ],
      "execution_count": null,
      "outputs": []
    },
    {
      "cell_type": "code",
      "metadata": {
        "id": "MeQmkkt-I2eT"
      },
      "source": [
        "non_similar_sents = {}"
      ],
      "execution_count": null,
      "outputs": []
    },
    {
      "cell_type": "code",
      "metadata": {
        "id": "tl4IrQqhRq__"
      },
      "source": [
        "for key in similar_sents.keys():    # similar_sents dict의 sentence를 가져옵니다.\n",
        "    key_sent_vector = total_sent_vector[key]    # 전체 문장 pool에서 해당 sent의 vector을 가져옵니다.\n",
        "    sentence_similarity = {}                    # 다음으로는 전체 문장 pool의 모든 vector와 비교하며\n",
        "    for sent in total_sent:                     # 가장 유사한 문장을 가져옵니다.\n",
        "        if sent not in similar_sents[key] and sent != key:\n",
        "            sent_vector = total_sent_vector[sent]\n",
        "            similarity = custom_cosine_similarity(key_sent_vector, sent_vector)\n",
        "            sentence_similarity[sent] = similarity\n",
        "    sorted_sim = sorted(sentence_similarity.items(), key=lambda x: x[1], reverse=True)\n",
        "    non_similar_sents[key] = sorted_sim[0:10]   # similar_sents dict의 문장과 가장 유사한 10개의 문장을 반환합니다."
      ],
      "execution_count": null,
      "outputs": []
    },
    {
      "cell_type": "code",
      "metadata": {
        "colab": {
          "base_uri": "https://localhost:8080/"
        },
        "id": "_6buedHhTvDM",
        "outputId": "523df777-cb87-473f-89c9-164072790357"
      },
      "source": [
        "for i, key in enumerate(non_similar_sents.keys()):\n",
        "    print('\\n', key)\n",
        "    for sent in non_similar_sents[key]:\n",
        "        print(\"-\", sent)\n",
        "    if i > 3:\n",
        "        break"
      ],
      "execution_count": null,
      "outputs": [
        {
          "output_type": "stream",
          "text": [
            "\n",
            " 메일을 다 비울까 아니면 안읽은 것만 지울까?\n",
            "- ('안방 말고 지금 거실 온도 좀 볼 수 있을까?', array([[0.9826699]], dtype=float32))\n",
            "- ('안 읽은 메일함이랑 스팸 메일함이랑 비교했을 때 어디가 더 차있지?', array([[0.97837853]], dtype=float32))\n",
            "- ('가습기가 필요한게 아니고 제습기 하나 사야될 것 같지 않아?', array([[0.9762452]], dtype=float32))\n",
            "- ('일월이 바쁘신가요, 아니면 이월이 더 바쁘신가요?', array([[0.9758834]], dtype=float32))\n",
            "- ('안방하고 거실 중에 너가 로봇청소기를 틀고 싶은 곳은 어딜까?', array([[0.9756201]], dtype=float32))\n",
            "- ('안방 말고 거실 온도 보려면 어떻게 말해야하나?', array([[0.9754763]], dtype=float32))\n",
            "- ('지금 네가 하고 싶은게 외출모드일까 아님 방범모드일까?', array([[0.975414]], dtype=float32))\n",
            "- ('메일을 상사에게 어떻게 보내야해?', array([[0.97536206]], dtype=float32))\n",
            "- ('안방 말고 거실 지금 온도 보려면 뭐라고 해야해?', array([[0.9751787]], dtype=float32))\n",
            "- ('목욕물을 개인별로 세팅하고 싶은데요 어떻게 하면 좋을까요?', array([[0.97513217]], dtype=float32))\n",
            "\n",
            " 지메일 쓸래, 네이버 메일 쓸래\n",
            "- ('한메일 계정은 그만 만들고 네이버 계정으로 만들어', array([[0.95318246]], dtype=float32))\n",
            "- ('참조 메일주소는 모으지 않아도 돼. 보낸 사람 중에서 특수문자가 있는 메일주소만 모아줘.', array([[0.94958127]], dtype=float32))\n",
            "- ('모니터말고 빔프로젝터로 영화 띄워서 보자', array([[0.94864094]], dtype=float32))\n",
            "- ('아웃룩 외부 연동 메일이 세개 이상이 되지 않도록 연동 개수를 확인하고, 세개 이상인 경우 두개로 줄이시기 바랍니다.', array([[0.94794756]], dtype=float32))\n",
            "- ('usb로 파일을 전달하지 말고 네이버 메일로 보내', array([[0.94788885]], dtype=float32))\n",
            "- ('파일 전송은 지메일 보단 네이버 메일을 사용해', array([[0.9477934]], dtype=float32))\n",
            "- ('메일을 지울 때 첨부파일 용량이 작은 메일은 남겨두고, 큰 메일은 전부 지우는게 좋아.', array([[0.9470956]], dtype=float32))\n",
            "- ('다른 이메일을 사용해. 지메일은 안돼', array([[0.9469803]], dtype=float32))\n",
            "- ('리눅스에서 제공하는 메일관리 기능과 윈도우에서 제공하는 메일 관리 기능 중 뭐가 더 편했니?', array([[0.9469311]], dtype=float32))\n",
            "- ('아웃룩은 리눅스가 아닌 운영체제에서 이용하길 바래', array([[0.94628114]], dtype=float32))\n",
            "\n",
            " 지메일이랑 네이버 메일 중 파일 전송용량이 뭐가 더 크지?\n",
            "- ('네이버랑 네이트 중에 뭐가 더 메일 첨부파일이 더 빨리 가?', array([[0.98365635]], dtype=float32))\n",
            "- ('네이버 메일 보관기간이랑 쪽지 보관기간 중 뭐가 더 길어?', array([[0.9784978]], dtype=float32))\n",
            "- ('메일 보관기간이 보낸 메일함이랑 임시보관함 중 뭐가 더 길지?', array([[0.9780388]], dtype=float32))\n",
            "- ('와디즈 광고메일이랑 텀블벅 광고 메일이 어떻게 다른지 설명해주실래요?', array([[0.97782224]], dtype=float32))\n",
            "- ('메일 보관을 보낸 메일함이랑 임시보관함 중 뭐가 더 오래하지?', array([[0.9773969]], dtype=float32))\n",
            "- ('네이버 메일이랑 지메일 중에 어떤 걸 써?', array([[0.97736895]], dtype=float32))\n",
            "- ('보관기간이 네이버 메일과 쪽지 중 뭐가 더 길까?', array([[0.9762872]], dtype=float32))\n",
            "- ('학교 메일 수신 비율과 광고 메일 수신 비율 중 뭐가 더 큰가요?', array([[0.9762574]], dtype=float32))\n",
            "- ('보낸메일함이랑 임시보관함 중에 뭐가 더 메일을 오래 보관하지?', array([[0.9755428]], dtype=float32))\n",
            "- ('아웃룩이랑 지메일 중 어떤게 외부 메일 연동이 더 쉽지?', array([[0.97485113]], dtype=float32))\n",
            "\n",
            " 네이트 메일이랑 한메일 중 어느 것이 먼저 서비스를 종료하지?\n",
            "- ('네이트랑 네이버 둘 중에 어디가 자동저장 기능을 제공하지?', array([[0.9796959]], dtype=float32))\n",
            "- ('네이버 메일이랑 지메일 중에 어떤게 파일용량을 더 많이 전송할 수 있어?', array([[0.97806144]], dtype=float32))\n",
            "- ('네이버랑 네이트 중에 누가 메일 자동 임시저장 기능을 제공하지?', array([[0.97717184]], dtype=float32))\n",
            "- ('광고 메일 중 어떤 토픽이 가장 비중이 높아?', array([[0.97484094]], dtype=float32))\n",
            "- ('남아있는 저장공간이 다음 메일이랑 네이버 메일 중 어디가 더 많이 남았지?', array([[0.97435004]], dtype=float32))\n",
            "- ('라인 대화내용을 지메일로 전송하고 싶은데 알려줄 수 있어?', array([[0.9743389]], dtype=float32))\n",
            "- ('정부기관 보안에 걸리지 않고 싶은데 하교 메일이랑 지메일 중 어떤 것이 그렇지?', array([[0.97395116]], dtype=float32))\n",
            "- ('메일 받는 사람이 군인 친구면 어떤 점을 주의해야할까요?', array([[0.9723251]], dtype=float32))\n",
            "- ('아웃룩이랑 지메일 중 어떤게 외부 메일 연동이 더 쉽지?', array([[0.97198474]], dtype=float32))\n",
            "- ('첨부 파일 보낼 때 네이버랑 네이트 중 뭐가 더 시간이 짧게 걸려?', array([[0.97197485]], dtype=float32))\n",
            "\n",
            " 네이트 메일이랑 네이버 메일이랑 둘 중 접속 가능한 거 알려줘\n",
            "- ('네이트 메일이랑 한메일 중에 뭐가 더 먼저 종료하는 지 알려줘', array([[0.9756803]], dtype=float32))\n",
            "- ('어제 학교 사람이 보낸 메일 제목 알려줘', array([[0.9723006]], dtype=float32))\n",
            "- ('전자레인지와 가스레인지 중에 요리하고 싶은 걸로 알려줘', array([[0.9722344]], dtype=float32))\n",
            "- ('가스레인지랑 전자레인지 중에 요리하기 편한 걸로 알려줘', array([[0.9718061]], dtype=float32))\n",
            "- ('다음 메일 저장공간이랑 네이버 메일 저장공간 중 많이 남은 거 알려줘', array([[0.9713303]], dtype=float32))\n",
            "- ('네이버 메일이랑 엔드라이브랑 연동이 되는지 알려줘', array([[0.9701107]], dtype=float32))\n",
            "- ('요리 레시피 알고 싶은데 어떻게 하는 지좀 알려줘', array([[0.96997654]], dtype=float32))\n",
            "- ('티비 켜고 싶은데 말로 어떻게 명령해야하는 지 알려줘', array([[0.9698957]], dtype=float32))\n",
            "- ('지금 보일러 상태 어떤지 좀 확인하고 싶으니까 빨리 알려줘', array([[0.9696061]], dtype=float32))\n",
            "- ('어제 경재 메일이 도착한 시간 좀 알려줘', array([[0.9692465]], dtype=float32))\n"
          ],
          "name": "stdout"
        }
      ]
    },
    {
      "cell_type": "markdown",
      "metadata": {
        "id": "zJbsAoSxbRwp"
      },
      "source": [
        "이제 유사한 문장, 유사하지 않은 문장을 데이터로 출력하겠습니다."
      ]
    },
    {
      "cell_type": "code",
      "metadata": {
        "id": "NoYRLDYtbRS3"
      },
      "source": [
        "output = open('para_kqc_sim_data.txt', 'w', encoding='utf-8')   # 이걸 데이터로 만들어줍니다 :-)"
      ],
      "execution_count": null,
      "outputs": []
    },
    {
      "cell_type": "code",
      "metadata": {
        "id": "OBAYqV-Abkg5"
      },
      "source": [
        "for i, key in enumerate(similar_sents.keys()):\n",
        "    for sent in similar_sents[key]:\n",
        "        output.write(key + '\\t' + sent + '\\t1\\n')"
      ],
      "execution_count": null,
      "outputs": []
    },
    {
      "cell_type": "code",
      "metadata": {
        "id": "-yUA3_e8btfg"
      },
      "source": [
        "for i, key in enumerate(non_similar_sents.keys()):\n",
        "    for sent in non_similar_sents[key]:\n",
        "        output.write(key + '\\t' + sent[0] + '\\t0\\n')"
      ],
      "execution_count": null,
      "outputs": []
    },
    {
      "cell_type": "code",
      "metadata": {
        "id": "fYOOvnXxbwta"
      },
      "source": [
        "output.close()"
      ],
      "execution_count": null,
      "outputs": []
    }
  ]
}