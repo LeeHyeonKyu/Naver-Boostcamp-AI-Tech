{
  "nbformat": 4,
  "nbformat_minor": 0,
  "metadata": {
    "colab": {
      "name": "실습7_solution.ipynb",
      "provenance": [],
      "collapsed_sections": [],
      "toc_visible": true
    },
    "kernelspec": {
      "display_name": "Python 3",
      "name": "python3"
    },
    "widgets": {
      "application/vnd.jupyter.widget-state+json": {
        "786ad57a3b784e259e3ed1c97c8ad10f": {
          "model_module": "@jupyter-widgets/controls",
          "model_name": "HBoxModel",
          "state": {
            "_view_name": "HBoxView",
            "_dom_classes": [],
            "_model_name": "HBoxModel",
            "_view_module": "@jupyter-widgets/controls",
            "_model_module_version": "1.5.0",
            "_view_count": null,
            "_view_module_version": "1.5.0",
            "box_style": "",
            "layout": "IPY_MODEL_f5d539f174e24a539894da056c2545ee",
            "_model_module": "@jupyter-widgets/controls",
            "children": [
              "IPY_MODEL_9a36be93b43541758c49b5a5d74a5293",
              "IPY_MODEL_d3138bad21e9495dbac34c85ae205519"
            ]
          }
        },
        "f5d539f174e24a539894da056c2545ee": {
          "model_module": "@jupyter-widgets/base",
          "model_name": "LayoutModel",
          "state": {
            "_view_name": "LayoutView",
            "grid_template_rows": null,
            "right": null,
            "justify_content": null,
            "_view_module": "@jupyter-widgets/base",
            "overflow": null,
            "_model_module_version": "1.2.0",
            "_view_count": null,
            "flex_flow": null,
            "width": null,
            "min_width": null,
            "border": null,
            "align_items": null,
            "bottom": null,
            "_model_module": "@jupyter-widgets/base",
            "top": null,
            "grid_column": null,
            "overflow_y": null,
            "overflow_x": null,
            "grid_auto_flow": null,
            "grid_area": null,
            "grid_template_columns": null,
            "flex": null,
            "_model_name": "LayoutModel",
            "justify_items": null,
            "grid_row": null,
            "max_height": null,
            "align_content": null,
            "visibility": null,
            "align_self": null,
            "height": null,
            "min_height": null,
            "padding": null,
            "grid_auto_rows": null,
            "grid_gap": null,
            "max_width": null,
            "order": null,
            "_view_module_version": "1.2.0",
            "grid_template_areas": null,
            "object_position": null,
            "object_fit": null,
            "grid_auto_columns": null,
            "margin": null,
            "display": null,
            "left": null
          }
        },
        "9a36be93b43541758c49b5a5d74a5293": {
          "model_module": "@jupyter-widgets/controls",
          "model_name": "FloatProgressModel",
          "state": {
            "_view_name": "ProgressView",
            "style": "IPY_MODEL_cb8a3f8b01e6421683b2447a1607514d",
            "_dom_classes": [],
            "description": "Computing transition probabilities: 100%",
            "_model_name": "FloatProgressModel",
            "bar_style": "success",
            "max": 77,
            "_view_module": "@jupyter-widgets/controls",
            "_model_module_version": "1.5.0",
            "value": 77,
            "_view_count": null,
            "_view_module_version": "1.5.0",
            "orientation": "horizontal",
            "min": 0,
            "description_tooltip": null,
            "_model_module": "@jupyter-widgets/controls",
            "layout": "IPY_MODEL_8ebae9be3e134232a7497945113fd7dd"
          }
        },
        "d3138bad21e9495dbac34c85ae205519": {
          "model_module": "@jupyter-widgets/controls",
          "model_name": "HTMLModel",
          "state": {
            "_view_name": "HTMLView",
            "style": "IPY_MODEL_b1136b79f80246b882c931218503744d",
            "_dom_classes": [],
            "description": "",
            "_model_name": "HTMLModel",
            "placeholder": "​",
            "_view_module": "@jupyter-widgets/controls",
            "_model_module_version": "1.5.0",
            "value": " 77/77 [00:07&lt;00:00, 10.88it/s]",
            "_view_count": null,
            "_view_module_version": "1.5.0",
            "description_tooltip": null,
            "_model_module": "@jupyter-widgets/controls",
            "layout": "IPY_MODEL_86a623e99d4448219780272f40c7e6da"
          }
        },
        "cb8a3f8b01e6421683b2447a1607514d": {
          "model_module": "@jupyter-widgets/controls",
          "model_name": "ProgressStyleModel",
          "state": {
            "_view_name": "StyleView",
            "_model_name": "ProgressStyleModel",
            "description_width": "initial",
            "_view_module": "@jupyter-widgets/base",
            "_model_module_version": "1.5.0",
            "_view_count": null,
            "_view_module_version": "1.2.0",
            "bar_color": null,
            "_model_module": "@jupyter-widgets/controls"
          }
        },
        "8ebae9be3e134232a7497945113fd7dd": {
          "model_module": "@jupyter-widgets/base",
          "model_name": "LayoutModel",
          "state": {
            "_view_name": "LayoutView",
            "grid_template_rows": null,
            "right": null,
            "justify_content": null,
            "_view_module": "@jupyter-widgets/base",
            "overflow": null,
            "_model_module_version": "1.2.0",
            "_view_count": null,
            "flex_flow": null,
            "width": null,
            "min_width": null,
            "border": null,
            "align_items": null,
            "bottom": null,
            "_model_module": "@jupyter-widgets/base",
            "top": null,
            "grid_column": null,
            "overflow_y": null,
            "overflow_x": null,
            "grid_auto_flow": null,
            "grid_area": null,
            "grid_template_columns": null,
            "flex": null,
            "_model_name": "LayoutModel",
            "justify_items": null,
            "grid_row": null,
            "max_height": null,
            "align_content": null,
            "visibility": null,
            "align_self": null,
            "height": null,
            "min_height": null,
            "padding": null,
            "grid_auto_rows": null,
            "grid_gap": null,
            "max_width": null,
            "order": null,
            "_view_module_version": "1.2.0",
            "grid_template_areas": null,
            "object_position": null,
            "object_fit": null,
            "grid_auto_columns": null,
            "margin": null,
            "display": null,
            "left": null
          }
        },
        "b1136b79f80246b882c931218503744d": {
          "model_module": "@jupyter-widgets/controls",
          "model_name": "DescriptionStyleModel",
          "state": {
            "_view_name": "StyleView",
            "_model_name": "DescriptionStyleModel",
            "description_width": "",
            "_view_module": "@jupyter-widgets/base",
            "_model_module_version": "1.5.0",
            "_view_count": null,
            "_view_module_version": "1.2.0",
            "_model_module": "@jupyter-widgets/controls"
          }
        },
        "86a623e99d4448219780272f40c7e6da": {
          "model_module": "@jupyter-widgets/base",
          "model_name": "LayoutModel",
          "state": {
            "_view_name": "LayoutView",
            "grid_template_rows": null,
            "right": null,
            "justify_content": null,
            "_view_module": "@jupyter-widgets/base",
            "overflow": null,
            "_model_module_version": "1.2.0",
            "_view_count": null,
            "flex_flow": null,
            "width": null,
            "min_width": null,
            "border": null,
            "align_items": null,
            "bottom": null,
            "_model_module": "@jupyter-widgets/base",
            "top": null,
            "grid_column": null,
            "overflow_y": null,
            "overflow_x": null,
            "grid_auto_flow": null,
            "grid_area": null,
            "grid_template_columns": null,
            "flex": null,
            "_model_name": "LayoutModel",
            "justify_items": null,
            "grid_row": null,
            "max_height": null,
            "align_content": null,
            "visibility": null,
            "align_self": null,
            "height": null,
            "min_height": null,
            "padding": null,
            "grid_auto_rows": null,
            "grid_gap": null,
            "max_width": null,
            "order": null,
            "_view_module_version": "1.2.0",
            "grid_template_areas": null,
            "object_position": null,
            "object_fit": null,
            "grid_auto_columns": null,
            "margin": null,
            "display": null,
            "left": null
          }
        },
        "aa84da8ab55146f0a048198b0fa81b6c": {
          "model_module": "@jupyter-widgets/controls",
          "model_name": "HBoxModel",
          "state": {
            "_view_name": "HBoxView",
            "_dom_classes": [],
            "_model_name": "HBoxModel",
            "_view_module": "@jupyter-widgets/controls",
            "_model_module_version": "1.5.0",
            "_view_count": null,
            "_view_module_version": "1.5.0",
            "box_style": "",
            "layout": "IPY_MODEL_546720a8247d4c5987e0dc0a91a1737b",
            "_model_module": "@jupyter-widgets/controls",
            "children": [
              "IPY_MODEL_948a6108c6e54d9a99d0655fb4422316",
              "IPY_MODEL_b2f0429f04b1411d94aebd498b8f7a2e"
            ]
          }
        },
        "546720a8247d4c5987e0dc0a91a1737b": {
          "model_module": "@jupyter-widgets/base",
          "model_name": "LayoutModel",
          "state": {
            "_view_name": "LayoutView",
            "grid_template_rows": null,
            "right": null,
            "justify_content": null,
            "_view_module": "@jupyter-widgets/base",
            "overflow": null,
            "_model_module_version": "1.2.0",
            "_view_count": null,
            "flex_flow": null,
            "width": null,
            "min_width": null,
            "border": null,
            "align_items": null,
            "bottom": null,
            "_model_module": "@jupyter-widgets/base",
            "top": null,
            "grid_column": null,
            "overflow_y": null,
            "overflow_x": null,
            "grid_auto_flow": null,
            "grid_area": null,
            "grid_template_columns": null,
            "flex": null,
            "_model_name": "LayoutModel",
            "justify_items": null,
            "grid_row": null,
            "max_height": null,
            "align_content": null,
            "visibility": null,
            "align_self": null,
            "height": null,
            "min_height": null,
            "padding": null,
            "grid_auto_rows": null,
            "grid_gap": null,
            "max_width": null,
            "order": null,
            "_view_module_version": "1.2.0",
            "grid_template_areas": null,
            "object_position": null,
            "object_fit": null,
            "grid_auto_columns": null,
            "margin": null,
            "display": null,
            "left": null
          }
        },
        "948a6108c6e54d9a99d0655fb4422316": {
          "model_module": "@jupyter-widgets/controls",
          "model_name": "FloatProgressModel",
          "state": {
            "_view_name": "ProgressView",
            "style": "IPY_MODEL_bae562e8753c48d28e4d1dac715be22b",
            "_dom_classes": [],
            "description": "Computing transition probabilities: 100%",
            "_model_name": "FloatProgressModel",
            "bar_style": "success",
            "max": 2708,
            "_view_module": "@jupyter-widgets/controls",
            "_model_module_version": "1.5.0",
            "value": 2708,
            "_view_count": null,
            "_view_module_version": "1.5.0",
            "orientation": "horizontal",
            "min": 0,
            "description_tooltip": null,
            "_model_module": "@jupyter-widgets/controls",
            "layout": "IPY_MODEL_1af0a065fd004469a54bdf6d84d4dcef"
          }
        },
        "b2f0429f04b1411d94aebd498b8f7a2e": {
          "model_module": "@jupyter-widgets/controls",
          "model_name": "HTMLModel",
          "state": {
            "_view_name": "HTMLView",
            "style": "IPY_MODEL_5a0a2090cd9147ef9b21f45b20e1a4fc",
            "_dom_classes": [],
            "description": "",
            "_model_name": "HTMLModel",
            "placeholder": "​",
            "_view_module": "@jupyter-widgets/controls",
            "_model_module_version": "1.5.0",
            "value": " 2708/2708 [02:42&lt;00:00, 16.64it/s]",
            "_view_count": null,
            "_view_module_version": "1.5.0",
            "description_tooltip": null,
            "_model_module": "@jupyter-widgets/controls",
            "layout": "IPY_MODEL_623264e70b9b469c82acb66c3c57796d"
          }
        },
        "bae562e8753c48d28e4d1dac715be22b": {
          "model_module": "@jupyter-widgets/controls",
          "model_name": "ProgressStyleModel",
          "state": {
            "_view_name": "StyleView",
            "_model_name": "ProgressStyleModel",
            "description_width": "initial",
            "_view_module": "@jupyter-widgets/base",
            "_model_module_version": "1.5.0",
            "_view_count": null,
            "_view_module_version": "1.2.0",
            "bar_color": null,
            "_model_module": "@jupyter-widgets/controls"
          }
        },
        "1af0a065fd004469a54bdf6d84d4dcef": {
          "model_module": "@jupyter-widgets/base",
          "model_name": "LayoutModel",
          "state": {
            "_view_name": "LayoutView",
            "grid_template_rows": null,
            "right": null,
            "justify_content": null,
            "_view_module": "@jupyter-widgets/base",
            "overflow": null,
            "_model_module_version": "1.2.0",
            "_view_count": null,
            "flex_flow": null,
            "width": null,
            "min_width": null,
            "border": null,
            "align_items": null,
            "bottom": null,
            "_model_module": "@jupyter-widgets/base",
            "top": null,
            "grid_column": null,
            "overflow_y": null,
            "overflow_x": null,
            "grid_auto_flow": null,
            "grid_area": null,
            "grid_template_columns": null,
            "flex": null,
            "_model_name": "LayoutModel",
            "justify_items": null,
            "grid_row": null,
            "max_height": null,
            "align_content": null,
            "visibility": null,
            "align_self": null,
            "height": null,
            "min_height": null,
            "padding": null,
            "grid_auto_rows": null,
            "grid_gap": null,
            "max_width": null,
            "order": null,
            "_view_module_version": "1.2.0",
            "grid_template_areas": null,
            "object_position": null,
            "object_fit": null,
            "grid_auto_columns": null,
            "margin": null,
            "display": null,
            "left": null
          }
        },
        "5a0a2090cd9147ef9b21f45b20e1a4fc": {
          "model_module": "@jupyter-widgets/controls",
          "model_name": "DescriptionStyleModel",
          "state": {
            "_view_name": "StyleView",
            "_model_name": "DescriptionStyleModel",
            "description_width": "",
            "_view_module": "@jupyter-widgets/base",
            "_model_module_version": "1.5.0",
            "_view_count": null,
            "_view_module_version": "1.2.0",
            "_model_module": "@jupyter-widgets/controls"
          }
        },
        "623264e70b9b469c82acb66c3c57796d": {
          "model_module": "@jupyter-widgets/base",
          "model_name": "LayoutModel",
          "state": {
            "_view_name": "LayoutView",
            "grid_template_rows": null,
            "right": null,
            "justify_content": null,
            "_view_module": "@jupyter-widgets/base",
            "overflow": null,
            "_model_module_version": "1.2.0",
            "_view_count": null,
            "flex_flow": null,
            "width": null,
            "min_width": null,
            "border": null,
            "align_items": null,
            "bottom": null,
            "_model_module": "@jupyter-widgets/base",
            "top": null,
            "grid_column": null,
            "overflow_y": null,
            "overflow_x": null,
            "grid_auto_flow": null,
            "grid_area": null,
            "grid_template_columns": null,
            "flex": null,
            "_model_name": "LayoutModel",
            "justify_items": null,
            "grid_row": null,
            "max_height": null,
            "align_content": null,
            "visibility": null,
            "align_self": null,
            "height": null,
            "min_height": null,
            "padding": null,
            "grid_auto_rows": null,
            "grid_gap": null,
            "max_width": null,
            "order": null,
            "_view_module_version": "1.2.0",
            "grid_template_areas": null,
            "object_position": null,
            "object_fit": null,
            "grid_auto_columns": null,
            "margin": null,
            "display": null,
            "left": null
          }
        }
      }
    }
  },
  "cells": [
    {
      "cell_type": "markdown",
      "metadata": {
        "id": "5Aq9cIiJDZ6Q"
      },
      "source": [
        "ㄹ**Lab 7 : Node2Vec**\r\n",
        "- Instuctor : Kijung Shin\r\n",
        "- Teaching Assistants : Hyunju Lee(main), Deukryeol Yoon, Shinhwan Kang \r\n",
        "- 본 실습에서는 random walk 기반 network embedding 방법 중 하나인 node2vec 알고리즘을 사용하여 clustering, node classification과 같은 여러 downstream task들을 수행해본다.\r\n",
        "\r\n",
        "* 학습 목표\r\n",
        "\r\n",
        "> 1. node2vec library의 사용법을 익힌다.\r\n",
        "2. node2vec embedding 벡터를 사용하여 여러 downstream tasks(clustering, node classification)를 수행하는 방법을 익힌다.\r\n",
        "\r\n",
        "\r\n"
      ]
    },
    {
      "cell_type": "markdown",
      "metadata": {
        "id": "bHiUHDnSskhN"
      },
      "source": [
        "**Clustering with Node2Vec**\r\n"
      ]
    },
    {
      "cell_type": "code",
      "metadata": {
        "colab": {
          "base_uri": "https://localhost:8080/"
        },
        "id": "lnXQW6Jae6yr",
        "outputId": "5d9f214b-2bfd-44e2-c0ad-f6ade8dc2162"
      },
      "source": [
        "!pip install networkx\r\n",
        "!pip install node2vec"
      ],
      "execution_count": null,
      "outputs": [
        {
          "output_type": "stream",
          "text": [
            "Requirement already satisfied: networkx in /usr/local/lib/python3.6/dist-packages (2.5)\n",
            "Requirement already satisfied: decorator>=4.3.0 in /usr/local/lib/python3.6/dist-packages (from networkx) (4.4.2)\n",
            "Requirement already satisfied: node2vec in /usr/local/lib/python3.6/dist-packages (0.4.1)\n",
            "Requirement already satisfied: tqdm in /usr/local/lib/python3.6/dist-packages (from node2vec) (4.41.1)\n",
            "Requirement already satisfied: networkx in /usr/local/lib/python3.6/dist-packages (from node2vec) (2.5)\n",
            "Requirement already satisfied: gensim in /usr/local/lib/python3.6/dist-packages (from node2vec) (3.6.0)\n",
            "Requirement already satisfied: numpy in /usr/local/lib/python3.6/dist-packages (from node2vec) (1.19.5)\n",
            "Requirement already satisfied: joblib>=0.13.2 in /usr/local/lib/python3.6/dist-packages (from node2vec) (1.0.0)\n",
            "Requirement already satisfied: decorator>=4.3.0 in /usr/local/lib/python3.6/dist-packages (from networkx->node2vec) (4.4.2)\n",
            "Requirement already satisfied: scipy>=0.18.1 in /usr/local/lib/python3.6/dist-packages (from gensim->node2vec) (1.4.1)\n",
            "Requirement already satisfied: six>=1.5.0 in /usr/local/lib/python3.6/dist-packages (from gensim->node2vec) (1.15.0)\n",
            "Requirement already satisfied: smart-open>=1.2.1 in /usr/local/lib/python3.6/dist-packages (from gensim->node2vec) (4.1.2)\n"
          ],
          "name": "stdout"
        }
      ]
    },
    {
      "cell_type": "code",
      "metadata": {
        "id": "aLToXdFXCtI_"
      },
      "source": [
        "import os, sys \r\n",
        "from google.colab import drive \r\n",
        "\r\n",
        "### 해당 코드 실행 시 colab에서 실행중인 폴더의 /content/drive/My Drive가 구글 드라이브에 연결됨\r\n",
        "\r\n",
        "drive.mount('/content/drive')\r\n"
      ],
      "execution_count": null,
      "outputs": []
    },
    {
      "cell_type": "code",
      "metadata": {
        "id": "MT_WeNIqe8qF"
      },
      "source": [
        "import networkx as nx\r\n",
        "from node2vec import Node2Vec\r\n",
        "from matplotlib import pyplot as plt"
      ],
      "execution_count": null,
      "outputs": []
    },
    {
      "cell_type": "code",
      "metadata": {
        "id": "Z6FTeAyz3KsC",
        "colab": {
          "base_uri": "https://localhost:8080/",
          "height": 53
        },
        "outputId": "3522eac7-ecfb-4195-88af-9678d29e13fb"
      },
      "source": [
        "###################### Dataset Description ##########################\r\n",
        "'''\r\n",
        "    [Reference]\r\n",
        "        title={The Network Data Repository with Interactive Graph Analytics and Visualization},\r\n",
        "        author={Ryan A. Rossi and Nesreen K. Ahmed},\r\n",
        "        booktitle={AAAI},\r\n",
        "        url={http://networkrepository.com},\r\n",
        "        year={2015}\r\n",
        "\r\n",
        "'''\r\n",
        "###### lesmis.mtx : <node 1> <node 2> <weight> ######################\r\n",
        "###### weight : 레미제라블에 동시에 등장한 등장인물의 횟수 ##########\r\n",
        "#####################################################################"
      ],
      "execution_count": null,
      "outputs": [
        {
          "output_type": "execute_result",
          "data": {
            "application/vnd.google.colaboratory.intrinsic+json": {
              "type": "string"
            },
            "text/plain": [
              "'\\n    [Reference]\\n        title={The Network Data Repository with Interactive Graph Analytics and Visualization},\\n        author={Ryan A. Rossi and Nesreen K. Ahmed},\\n        booktitle={AAAI},\\n        url={http://networkrepository.com},\\n        year={2015}\\n\\n'"
            ]
          },
          "metadata": {
            "tags": []
          },
          "execution_count": 7
        }
      ]
    },
    {
      "cell_type": "code",
      "metadata": {
        "id": "8Czt2vSKNrJd"
      },
      "source": [
        "##### Weighted Graph Generation #####\r\n",
        "\r\n",
        "weighted_edgelist=[]\r\n",
        "with open('drive/MyDrive/data/lab/lab7/lesmis.mtx', 'r') as f:\r\n",
        "    for line in f:\r\n",
        "        l = line.strip().split()\r\n",
        "        if l[0].isdigit() == False:\r\n",
        "            continue\r\n",
        "        weighted_edgelist.append((str(int(l[0])-1), str(int(l[1])-1), float(l[2])))\r\n",
        "\r\n",
        "\r\n",
        "G = nx.Graph()\r\n",
        "G.add_weighted_edges_from(weighted_edgelist)       "
      ],
      "execution_count": null,
      "outputs": []
    },
    {
      "cell_type": "code",
      "metadata": {
        "colab": {
          "base_uri": "https://localhost:8080/",
          "height": 67,
          "referenced_widgets": [
            "786ad57a3b784e259e3ed1c97c8ad10f",
            "f5d539f174e24a539894da056c2545ee",
            "9a36be93b43541758c49b5a5d74a5293",
            "d3138bad21e9495dbac34c85ae205519",
            "cb8a3f8b01e6421683b2447a1607514d",
            "8ebae9be3e134232a7497945113fd7dd",
            "b1136b79f80246b882c931218503744d",
            "86a623e99d4448219780272f40c7e6da"
          ]
        },
        "id": "xvPe0je6OU-I",
        "outputId": "e7d7cae4-1844-4ab5-b045-636c1778b6c0"
      },
      "source": [
        "############################ Fill in Your Code ############################################\r\n",
        "\r\n",
        "# edge 별 확률 계산(p, q에 따른 edge별 확률 계산) & random walk 생성 \r\n",
        "node2vec = Node2Vec(G, dimensions=16, walk_length=4, num_walks=200, workers=4)      # p = 1, q = 1 as default\r\n",
        "# node embedding 구하기\r\n",
        "model = node2vec.fit(window=2, min_count=1, batch_words=4)\r\n",
        "\r\n",
        "##############################################################################################"
      ],
      "execution_count": null,
      "outputs": [
        {
          "output_type": "display_data",
          "data": {
            "application/vnd.jupyter.widget-view+json": {
              "model_id": "786ad57a3b784e259e3ed1c97c8ad10f",
              "version_minor": 0,
              "version_major": 2
            },
            "text/plain": [
              "HBox(children=(FloatProgress(value=0.0, description='Computing transition probabilities', max=77.0, style=Prog…"
            ]
          },
          "metadata": {
            "tags": []
          }
        },
        {
          "output_type": "stream",
          "text": [
            "\n"
          ],
          "name": "stdout"
        }
      ]
    },
    {
      "cell_type": "code",
      "metadata": {
        "colab": {
          "base_uri": "https://localhost:8080/"
        },
        "id": "zyKUiAjFOX4Z",
        "outputId": "fa4b0cc1-e380-461b-9ed5-97118589cce7"
      },
      "source": [
        "print(\"#### Embedding Vector of Node 2 ####\")\r\n",
        "print(model.wv['2'])"
      ],
      "execution_count": null,
      "outputs": [
        {
          "output_type": "stream",
          "text": [
            "#### Embedding Vector of Node 2 ####\n",
            "[ 0.22673292  0.51060677  0.44691607 -1.1616664   0.6029514   1.0074278\n",
            "  0.06338637 -0.89043003 -1.0194573  -0.00852751 -0.07580099  0.76051533\n",
            "  0.22330973 -1.3580556  -0.4154087  -0.8532678 ]\n"
          ],
          "name": "stdout"
        }
      ]
    },
    {
      "cell_type": "code",
      "metadata": {
        "colab": {
          "base_uri": "https://localhost:8080/"
        },
        "id": "7kmfarfuOrWx",
        "outputId": "0d3c53fe-567d-4808-f823-d183d2d3ff15"
      },
      "source": [
        "##### Node 2와 가장 유사한 10개의 node를 출력 #####\r\n",
        "\r\n",
        "print(\"#### Most Similar Nodes to Node 2\")\r\n",
        "model.wv.most_similar('2')  "
      ],
      "execution_count": null,
      "outputs": [
        {
          "output_type": "stream",
          "text": [
            "#### Most Similar Nodes to Node 2\n"
          ],
          "name": "stdout"
        },
        {
          "output_type": "execute_result",
          "data": {
            "text/plain": [
              "[('3', 0.9971444606781006),\n",
              " ('0', 0.9938961267471313),\n",
              " ('7', 0.9934398531913757),\n",
              " ('9', 0.9920859336853027),\n",
              " ('8', 0.9904351830482483),\n",
              " ('5', 0.9896343946456909),\n",
              " ('1', 0.9895957708358765),\n",
              " ('6', 0.9873248934745789),\n",
              " ('4', 0.9858882427215576),\n",
              " ('13', 0.6883783936500549)]"
            ]
          },
          "metadata": {
            "tags": []
          },
          "execution_count": 11
        }
      ]
    },
    {
      "cell_type": "code",
      "metadata": {
        "id": "oqkbYe-HRfnG"
      },
      "source": [
        "from sklearn.cluster import KMeans\r\n",
        "import numpy as np\r\n",
        "from matplotlib import pyplot as plt"
      ],
      "execution_count": null,
      "outputs": []
    },
    {
      "cell_type": "code",
      "metadata": {
        "id": "ZHxSKmtkwL-Y"
      },
      "source": [
        "#### sklearn.cluster의 KMeans 알고리즘을 실행시키기 위해 node별 embedding 값을 array로 변환해준다 \r\n",
        "#### 노드 번호에 해당하는 index에 embedding 값을 저장\r\n",
        "vectors_array = np.zeros((len(G.nodes), 16))\r\n",
        "for node in G.nodes:\r\n",
        "    vectors_array[int(node)] = model.wv[node]"
      ],
      "execution_count": null,
      "outputs": []
    },
    {
      "cell_type": "code",
      "metadata": {
        "id": "PspreKosSYIZ"
      },
      "source": [
        "#### kmeans clustering 알고리즘 실행 ###\r\n",
        "\r\n",
        "############### Fill in Your Code #############################\r\n",
        "\r\n",
        "kmeans = KMeans(n_clusters=5, random_state=0).fit(vectors_array)\r\n",
        "\r\n",
        "################################################################"
      ],
      "execution_count": null,
      "outputs": []
    },
    {
      "cell_type": "code",
      "metadata": {
        "colab": {
          "base_uri": "https://localhost:8080/",
          "height": 248
        },
        "id": "9J3yUl2duh82",
        "outputId": "1db1a3a5-4dc6-459a-8606-630fcdfe7afc"
      },
      "source": [
        "\r\n",
        "\r\n",
        "#### 그래프 시각화 - 각 클러스터별로 다른 색깔을 갖도록 함 ####\r\n",
        "pos = nx.spring_layout(G)\r\n",
        "node_color=[]\r\n",
        "node_degree = []\r\n",
        "for node in G.nodes:\r\n",
        "    node_degree.append(G.degree[node]*10)\r\n",
        "    i = int(node)\r\n",
        "    if kmeans.labels_[i] == 0:\r\n",
        "        node_color.append('red')\r\n",
        "    elif kmeans.labels_[i] == 1:\r\n",
        "        node_color.append('yellow')\r\n",
        "    elif kmeans.labels_[i] == 2:\r\n",
        "        node_color.append('blue')\r\n",
        "    elif kmeans.labels_[i] == 3:\r\n",
        "        node_color.append('green')\r\n",
        "    else:\r\n",
        "        node_color.append('orange')\r\n",
        "\r\n",
        "img = nx.draw_networkx_nodes(G, pos, node_color = node_color, node_size=node_degree)\r\n",
        "nx.draw_networkx_edges(G, pos)\r\n",
        "plt.show()"
      ],
      "execution_count": null,
      "outputs": [
        {
          "output_type": "display_data",
          "data": {
            "image/png": "[encoded data removed]",
            "text/plain": [
              "<Figure size 432x288 with 1 Axes>"
            ]
          },
          "metadata": {
            "tags": []
          }
        }
      ]
    },
    {
      "cell_type": "markdown",
      "metadata": {
        "id": "I19bflrVwtoS"
      },
      "source": [
        "**Node Classification**"
      ]
    },
    {
      "cell_type": "code",
      "metadata": {
        "id": "9BJoGFxMz8iq"
      },
      "source": [
        "###################### Dataset Description ##########################\r\n",
        "##### cora.content : <paper_id> <word_attributes> <class_name> #####\r\n",
        "##### cora.cites : <ID of cited paper> <ID of citing paper> #########\r\n",
        "#####################################################################"
      ],
      "execution_count": null,
      "outputs": []
    },
    {
      "cell_type": "code",
      "metadata": {
        "id": "Ar7ntURPvhXj"
      },
      "source": [
        "# Directed Graph Generation \r\n",
        "# 메모리 활용을 위해 node class는 숫자로 re-labelling하여 사용\r\n",
        "\r\n",
        "node_class = dict()\r\n",
        "edgelist = list()\r\n",
        "class_num = 1\r\n",
        "class_name_to_num = dict()\r\n",
        "with open('drive/MyDrive/data/lab/lab7/cora.content', 'r') as f, open('drive/MyDrive/data/lab/lab7/cora.cites','r') as f2:\r\n",
        "    for line in f:\r\n",
        "        l = line.strip().split()\r\n",
        "        class_name = l[-1]\r\n",
        "        if class_name not in class_name_to_num:\r\n",
        "            class_name_to_num[class_name] = class_num\r\n",
        "            class_num += 1\r\n",
        "        node_class[l[0]] = class_name_to_num[class_name]\r\n",
        "\r\n",
        "    for line in f2:\r\n",
        "        l = line.strip().split()\r\n",
        "        edgelist.append((l[1],l[0]))\r\n",
        "\r\n",
        "\r\n",
        "G = nx.DiGraph()\r\n",
        "G.add_edges_from(edgelist)\r\n"
      ],
      "execution_count": null,
      "outputs": []
    },
    {
      "cell_type": "code",
      "metadata": {
        "id": "hGT4nJ8TBPhC"
      },
      "source": [
        "import time"
      ],
      "execution_count": null,
      "outputs": []
    },
    {
      "cell_type": "code",
      "metadata": {
        "colab": {
          "base_uri": "https://localhost:8080/",
          "height": 85,
          "referenced_widgets": [
            "aa84da8ab55146f0a048198b0fa81b6c",
            "546720a8247d4c5987e0dc0a91a1737b",
            "948a6108c6e54d9a99d0655fb4422316",
            "b2f0429f04b1411d94aebd498b8f7a2e",
            "bae562e8753c48d28e4d1dac715be22b",
            "1af0a065fd004469a54bdf6d84d4dcef",
            "5a0a2090cd9147ef9b21f45b20e1a4fc",
            "623264e70b9b469c82acb66c3c57796d"
          ]
        },
        "id": "HW3jnYD36zmM",
        "outputId": "c83e831a-4d0c-4648-dc80-edf5b7be9521"
      },
      "source": [
        "s= time.time()\r\n",
        "##### Node Embedding #####\r\n",
        "node2vec = Node2Vec(G, dimensions=32, walk_length=50, num_walks=200, workers=4)  \r\n",
        "model = node2vec.fit(window=10, min_count=1, batch_words=4) \r\n",
        "print(\"runtime: \", time.time() - s)"
      ],
      "execution_count": null,
      "outputs": [
        {
          "output_type": "display_data",
          "data": {
            "application/vnd.jupyter.widget-view+json": {
              "model_id": "aa84da8ab55146f0a048198b0fa81b6c",
              "version_minor": 0,
              "version_major": 2
            },
            "text/plain": [
              "HBox(children=(FloatProgress(value=0.0, description='Computing transition probabilities', max=2708.0, style=Pr…"
            ]
          },
          "metadata": {
            "tags": []
          }
        },
        {
          "output_type": "stream",
          "text": [
            "\n",
            "runtime:  663.9669048786163\n"
          ],
          "name": "stdout"
        }
      ]
    },
    {
      "cell_type": "code",
      "metadata": {
        "id": "_BxpLU5O84VF"
      },
      "source": [
        "from sklearn.model_selection import train_test_split\r\n",
        "from sklearn.neural_network import MLPClassifier\r\n",
        "from sklearn.metrics import mean_squared_error, accuracy_score\r\n"
      ],
      "execution_count": null,
      "outputs": []
    },
    {
      "cell_type": "code",
      "metadata": {
        "id": "TKyelh4V9yXE",
        "colab": {
          "base_uri": "https://localhost:8080/"
        },
        "outputId": "364f40a1-53aa-4c45-b9eb-81910d453778"
      },
      "source": [
        "#### X : embedding of a node, y : class label of a node ####\r\n",
        "\r\n",
        "X = list()\r\n",
        "y = list()\r\n",
        "node_name_to_idx = dict()\r\n",
        "for i, (v, class_) in enumerate(node_class.items()):\r\n",
        "    node_name_to_idx[v] = i\r\n",
        "    X.append(model.wv[v])\r\n",
        "    y.append(class_)\r\n",
        "X = np.array(X)\r\n",
        "y = np.array(y)\r\n",
        "\r\n",
        "#################### Fill in Your Code ################################\r\n",
        "\r\n",
        "X_train, X_test, y_train, y_test = train_test_split(X, y, shuffle= True)\r\n",
        "clf = MLPClassifier(max_iter=500).fit(X_train, y_train)\r\n",
        "\r\n",
        "#######################################################################\r\n"
      ],
      "execution_count": null,
      "outputs": [
        {
          "output_type": "stream",
          "text": [
            "/usr/local/lib/python3.6/dist-packages/sklearn/neural_network/_multilayer_perceptron.py:571: ConvergenceWarning: Stochastic Optimizer: Maximum iterations (500) reached and the optimization hasn't converged yet.\n",
            "  % self.max_iter, ConvergenceWarning)\n"
          ],
          "name": "stderr"
        }
      ]
    },
    {
      "cell_type": "code",
      "metadata": {
        "id": "8GWJi0MCb2nZ",
        "colab": {
          "base_uri": "https://localhost:8080/"
        },
        "outputId": "42205514-c583-4088-ff47-252c677d1331"
      },
      "source": [
        "#################### Fill in Your Code ################################\r\n",
        "\r\n",
        "\r\n",
        "y_predict = clf.predict(X_test)\r\n",
        "\r\n",
        "######################################################################\r\n",
        "\r\n",
        "print(\"###### Result of prediction #####\")\r\n",
        "print(\"Accuracy : {0:05.2f}% \".format(accuracy_score(y_test, y_predict)*100))"
      ],
      "execution_count": null,
      "outputs": [
        {
          "output_type": "stream",
          "text": [
            "###### Result of prediction #####\n",
            "Accuracy : 77.10% \n"
          ],
          "name": "stdout"
        }
      ]
    },
    {
      "cell_type": "code",
      "metadata": {
        "colab": {
          "base_uri": "https://localhost:8080/"
        },
        "id": "PXpZWpOVtr-l",
        "outputId": "6c753fca-14ab-45cd-ae0e-464c48b3414a"
      },
      "source": [
        "print(\"########## Comparison of Predicted and Test Results ######\")\r\n",
        "for i in range(len(y_test)//20):\r\n",
        "    print(\"#########################################################\")\r\n",
        "    print(\"예측: \", y_predict[i*20:(i+1)*20])\r\n",
        "    print(\"실제: \", y_test[i*20:(i+1)*20])"
      ],
      "execution_count": null,
      "outputs": [
        {
          "output_type": "stream",
          "text": [
            "########## Comparison of Predicted and Test Results ######\n",
            "#########################################################\n",
            "예측:  [6 1 2 4 6 1 1 5 6 3 4 2 6 6 2 6 7 5 7 6]\n",
            "실제:  [6 1 7 4 6 1 1 5 6 3 4 2 6 6 2 6 5 4 7 6]\n",
            "#########################################################\n",
            "예측:  [5 6 4 5 4 7 1 1 7 1 4 4 7 4 3 1 3 1 7 5]\n",
            "실제:  [5 6 4 5 4 7 1 5 7 1 4 4 7 4 3 1 3 1 2 1]\n",
            "#########################################################\n",
            "예측:  [3 4 3 1 3 1 1 2 1 4 1 6 4 2 5 1 6 4 1 1]\n",
            "실제:  [3 4 3 1 6 1 6 2 1 4 1 6 4 2 5 1 6 4 7 2]\n",
            "#########################################################\n",
            "예측:  [2 4 5 5 1 6 1 6 1 1 5 6 1 5 4 3 3 5 1 2]\n",
            "실제:  [2 4 5 2 4 6 1 6 4 1 5 6 1 5 4 4 6 5 1 2]\n",
            "#########################################################\n",
            "예측:  [6 1 1 5 6 4 6 6 1 7 4 6 2 6 2 6 7 6 3 2]\n",
            "실제:  [6 1 1 5 4 4 6 6 1 7 1 6 7 6 2 6 7 6 3 3]\n",
            "#########################################################\n",
            "예측:  [4 7 7 6 7 7 1 6 7 4 6 6 4 6 5 1 7 5 4 1]\n",
            "실제:  [4 6 7 6 7 7 4 6 1 4 6 6 5 6 5 1 7 1 4 1]\n",
            "#########################################################\n",
            "예측:  [1 1 2 5 6 3 5 1 6 7 5 1 6 4 1 1 2 3 6 1]\n",
            "실제:  [5 1 2 3 6 6 1 1 6 5 6 1 6 4 4 1 2 5 6 1]\n",
            "#########################################################\n",
            "예측:  [2 4 4 1 5 2 5 5 1 2 6 7 6 7 6 1 4 3 3 1]\n",
            "실제:  [2 4 1 1 5 2 3 5 6 2 6 4 6 2 7 1 4 1 3 1]\n",
            "#########################################################\n",
            "예측:  [6 3 3 1 4 1 1 1 3 4 1 2 1 4 1 5 5 4 1 5]\n",
            "실제:  [6 6 3 1 4 1 1 1 3 5 3 1 1 4 1 5 5 4 5 7]\n",
            "#########################################################\n",
            "예측:  [1 4 1 1 1 7 5 1 1 1 3 2 1 1 1 3 1 1 1 5]\n",
            "실제:  [1 4 5 1 1 7 5 1 1 1 3 2 1 1 1 3 1 1 1 6]\n",
            "#########################################################\n",
            "예측:  [5 5 2 1 5 7 6 2 4 7 6 3 5 3 4 3 5 6 1 4]\n",
            "실제:  [5 1 5 1 5 2 6 2 4 7 6 3 1 6 4 3 5 3 5 4]\n",
            "#########################################################\n",
            "예측:  [1 1 3 1 3 1 2 7 6 3 1 6 1 5 5 1 5 6 4 6]\n",
            "실제:  [1 1 3 1 1 1 2 2 6 3 1 6 4 2 5 1 5 6 4 3]\n",
            "#########################################################\n",
            "예측:  [5 5 5 6 1 7 6 5 1 6 6 4 6 4 7 5 6 6 4 7]\n",
            "실제:  [5 5 5 6 1 1 6 4 6 6 5 4 6 4 7 5 6 6 4 7]\n",
            "#########################################################\n",
            "예측:  [6 1 1 1 7 6 3 5 1 4 1 7 6 7 6 1 5 1 4 1]\n",
            "실제:  [6 4 7 1 7 6 5 5 4 4 1 7 7 7 6 1 5 1 4 4]\n",
            "#########################################################\n",
            "예측:  [4 7 1 5 6 3 4 1 1 3 5 6 4 3 3 6 6 5 1 1]\n",
            "실제:  [4 7 1 5 1 3 4 1 1 3 5 6 4 3 7 6 6 5 1 1]\n",
            "#########################################################\n",
            "예측:  [6 7 2 6 4 6 4 4 5 1 4 1 1 2 1 1 3 5 7 4]\n",
            "실제:  [6 7 2 6 4 5 5 4 5 1 4 1 1 2 1 5 3 5 7 4]\n",
            "#########################################################\n",
            "예측:  [7 7 1 1 2 2 4 5 4 6 1 1 3 3 4 1 2 4 6 1]\n",
            "실제:  [4 7 1 1 2 2 4 7 4 6 2 1 3 3 4 1 2 4 6 6]\n",
            "#########################################################\n",
            "예측:  [7 4 6 1 3 1 7 1 4 7 5 1 6 2 2 4 1 1 6 4]\n",
            "실제:  [7 4 6 1 3 1 5 1 4 7 1 1 6 6 2 4 1 1 6 4]\n",
            "#########################################################\n",
            "예측:  [1 1 1 3 2 7 7 1 3 4 1 5 5 6 6 4 6 1 4 1]\n",
            "실제:  [1 1 1 3 2 7 7 5 3 4 1 5 5 6 6 4 7 1 4 1]\n",
            "#########################################################\n",
            "예측:  [3 3 5 1 4 3 6 6 5 1 1 4 2 6 1 5 4 3 1 5]\n",
            "실제:  [3 1 5 1 4 6 6 6 4 1 1 4 1 6 1 5 4 3 4 2]\n",
            "#########################################################\n",
            "예측:  [1 6 1 5 4 1 1 4 6 1 4 3 3 3 1 1 6 6 7 1]\n",
            "실제:  [1 6 1 5 4 1 2 4 6 1 1 3 3 5 1 1 6 6 7 3]\n",
            "#########################################################\n",
            "예측:  [4 5 4 6 1 1 1 2 1 6 7 7 4 1 6 2 6 3 4 1]\n",
            "실제:  [4 5 4 7 1 1 1 2 1 6 7 7 4 1 6 5 6 3 4 1]\n",
            "#########################################################\n",
            "예측:  [5 1 5 1 5 4 6 3 1 5 1 1 5 1 1 2 1 2 7 1]\n",
            "실제:  [5 1 5 1 5 1 7 3 1 3 1 6 1 1 1 2 1 5 6 1]\n",
            "#########################################################\n",
            "예측:  [1 1 4 6 1 2 1 5 2 5 5 7 1 4 5 1 7 1 1 3]\n",
            "실제:  [1 3 5 6 1 2 1 2 2 1 5 7 1 4 7 5 5 1 1 7]\n",
            "#########################################################\n",
            "예측:  [3 1 5 4 4 7 4 4 1 3 5 1 4 4 1 5 1 1 6 1]\n",
            "실제:  [5 4 2 1 4 7 4 4 7 5 1 3 4 4 1 5 1 1 6 1]\n",
            "#########################################################\n",
            "예측:  [1 5 1 1 5 5 2 7 5 1 1 3 4 1 3 6 1 3 7 1]\n",
            "실제:  [1 5 4 7 5 5 2 7 5 1 1 1 1 1 3 6 1 3 7 1]\n",
            "#########################################################\n",
            "예측:  [1 1 1 1 3 3 7 7 1 2 7 1 6 1 6 7 2 4 5 6]\n",
            "실제:  [4 5 1 1 3 3 7 7 1 2 7 1 6 1 6 1 2 1 5 6]\n",
            "#########################################################\n",
            "예측:  [7 5 4 5 7 2 1 5 3 2 3 4 6 2 1 7 2 5 6 1]\n",
            "실제:  [7 5 4 1 2 2 1 5 1 2 5 4 6 2 4 7 2 4 6 4]\n",
            "#########################################################\n",
            "예측:  [6 5 6 5 1 6 7 1 3 1 7 5 6 2 2 7 1 6 1 4]\n",
            "실제:  [6 5 6 5 1 6 2 1 1 4 5 5 6 2 2 7 1 6 1 4]\n",
            "#########################################################\n",
            "예측:  [6 5 1 4 4 2 4 1 6 7 1 6 7 7 1 5 1 1 4 5]\n",
            "실제:  [6 5 1 5 4 2 4 1 6 7 1 3 7 7 4 2 2 1 4 5]\n",
            "#########################################################\n",
            "예측:  [1 1 1 4 1 1 1 6 6 1 7 1 4 3 1 1 7 1 1 5]\n",
            "실제:  [1 1 1 4 5 1 1 6 6 1 7 6 4 3 1 1 7 1 1 5]\n",
            "#########################################################\n",
            "예측:  [5 6 1 5 3 1 5 6 5 1 3 4 7 7 6 2 1 7 1 3]\n",
            "실제:  [5 6 1 5 3 1 4 7 5 4 1 4 5 7 6 2 1 7 1 3]\n",
            "#########################################################\n",
            "예측:  [6 6 2 7 1 6 1 6 1 4 6 1 6 1 1 1 6 6 7 7]\n",
            "실제:  [6 6 2 7 1 7 1 1 1 1 6 1 6 4 1 1 6 6 7 7]\n"
          ],
          "name": "stdout"
        }
      ]
    }
  ]
}