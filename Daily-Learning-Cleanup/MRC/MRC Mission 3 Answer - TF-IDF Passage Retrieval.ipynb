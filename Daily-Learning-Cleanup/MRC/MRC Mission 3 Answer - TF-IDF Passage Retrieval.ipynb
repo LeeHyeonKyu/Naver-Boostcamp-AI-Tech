{
 "cells": [
  {
   "cell_type": "markdown",
   "metadata": {
    "id": "WjDdziEN_VCt"
   },
   "source": [
    "# TF-IDF를 활용한 Passage Retrieval 실습"
   ]
  },
  {
   "cell_type": "markdown",
   "metadata": {
    "id": "1NWluWk3_VCu"
   },
   "source": [
    "### Requirements"
   ]
  },
  {
   "cell_type": "code",
   "execution_count": null,
   "metadata": {
    "colab": {
     "background_save": true
    },
    "id": "eGqFS4EEBF_Z",
    "outputId": "131cba28-0bc5-4ef0-cc10-cb9ff5d03b4e"
   },
   "outputs": [],
   "source": [
    "!pip install datasets\n",
    "!pip install transformers"
   ]
  },
  {
   "cell_type": "markdown",
   "metadata": {
    "id": "CYUkp06Y_VCv"
   },
   "source": [
    "## 데이터셋 준비"
   ]
  },
  {
   "cell_type": "markdown",
   "metadata": {
    "id": "KMrZa4uql_nx"
   },
   "source": [
    "KorQuAD train 데이터셋을 search corpus로 활용"
   ]
  },
  {
   "cell_type": "code",
   "execution_count": 1,
   "metadata": {
    "colab": {
     "background_save": true,
     "referenced_widgets": [
      "6fa5046612e64d888c88bb2d12d8c09a",
      "ac7de48090e641ce90b0edef7c46d434",
      "11e267e00e424ea18d73188d137e67d1",
      "3dd2f08d5a0c4394b96227074f7286ba",
      "9ccfaba8c52842d2a5ce8162c84fa4e1",
      "fbe233f6b79f422f9b6a18973ff5d6d2"
     ]
    },
    "id": "4IUxepuj_VCv",
    "outputId": "df5c26d6-4af3-4744-9b10-bf0ef162b099"
   },
   "outputs": [
    {
     "data": {
      "application/vnd.jupyter.widget-view+json": {
       "model_id": "71a6747eec264c3fbb188e8910810035",
       "version_major": 2,
       "version_minor": 0
      },
      "text/plain": [
       "HBox(children=(FloatProgress(value=0.0, description='Downloading', max=1710.0, style=ProgressStyle(description…"
      ]
     },
     "metadata": {},
     "output_type": "display_data"
    },
    {
     "name": "stdout",
     "output_type": "stream",
     "text": [
      "\n"
     ]
    },
    {
     "data": {
      "application/vnd.jupyter.widget-view+json": {
       "model_id": "4e5fa816d5684bb4a21838798ad81bf7",
       "version_major": 2,
       "version_minor": 0
      },
      "text/plain": [
       "HBox(children=(FloatProgress(value=0.0, description='Downloading', max=962.0, style=ProgressStyle(description_…"
      ]
     },
     "metadata": {},
     "output_type": "display_data"
    },
    {
     "name": "stdout",
     "output_type": "stream",
     "text": [
      "\n",
      "Downloading and preparing dataset squad_kor_v1/squad_kor_v1 (download: 40.44 MiB, generated: 87.40 MiB, post-processed: Unknown size, total: 127.84 MiB) to /Users/miyoungko/.cache/huggingface/datasets/squad_kor_v1/squad_kor_v1/1.0.0/92f88eedc7d67b3f38389e8682eabe68caa450442cc4f7370a27873dbc045fe4...\n"
     ]
    },
    {
     "data": {
      "application/vnd.jupyter.widget-view+json": {
       "model_id": "d6b25fd4094e4b34bb3aa0dc7b0a55a3",
       "version_major": 2,
       "version_minor": 0
      },
      "text/plain": [
       "HBox(children=(FloatProgress(value=0.0, description='Downloading', max=7568316.0, style=ProgressStyle(descript…"
      ]
     },
     "metadata": {},
     "output_type": "display_data"
    },
    {
     "name": "stdout",
     "output_type": "stream",
     "text": [
      "\n"
     ]
    },
    {
     "data": {
      "application/vnd.jupyter.widget-view+json": {
       "model_id": "91633131ef984bd39ea8d62b87de8822",
       "version_major": 2,
       "version_minor": 0
      },
      "text/plain": [
       "HBox(children=(FloatProgress(value=0.0, description='Downloading', max=770480.0, style=ProgressStyle(descripti…"
      ]
     },
     "metadata": {},
     "output_type": "display_data"
    },
    {
     "name": "stdout",
     "output_type": "stream",
     "text": [
      "\n"
     ]
    },
    {
     "data": {
      "application/vnd.jupyter.widget-view+json": {
       "model_id": "",
       "version_major": 2,
       "version_minor": 0
      },
      "text/plain": [
       "HBox(children=(FloatProgress(value=1.0, bar_style='info', layout=Layout(width='20px'), max=1.0), HTML(value=''…"
      ]
     },
     "metadata": {},
     "output_type": "display_data"
    },
    {
     "data": {
      "application/vnd.jupyter.widget-view+json": {
       "model_id": "",
       "version_major": 2,
       "version_minor": 0
      },
      "text/plain": [
       "HBox(children=(FloatProgress(value=1.0, bar_style='info', layout=Layout(width='20px'), max=1.0), HTML(value=''…"
      ]
     },
     "metadata": {},
     "output_type": "display_data"
    },
    {
     "name": "stdout",
     "output_type": "stream",
     "text": [
      "Dataset squad_kor_v1 downloaded and prepared to /Users/miyoungko/.cache/huggingface/datasets/squad_kor_v1/squad_kor_v1/1.0.0/92f88eedc7d67b3f38389e8682eabe68caa450442cc4f7370a27873dbc045fe4. Subsequent calls will reuse this data.\n"
     ]
    }
   ],
   "source": [
    "from datasets import load_dataset\n",
    "\n",
    "dataset = load_dataset(\"squad_kor_v1\")"
   ]
  },
  {
   "cell_type": "code",
   "execution_count": 2,
   "metadata": {
    "colab": {
     "background_save": true
    },
    "id": "49M3uD3rghvS",
    "outputId": "0b2342a4-4dea-4fe5-c106-87f489264fd7"
   },
   "outputs": [
    {
     "data": {
      "text/plain": [
       "9606"
      ]
     },
     "execution_count": 2,
     "metadata": {},
     "output_type": "execute_result"
    }
   ],
   "source": [
    "corpus = list(set([example['context'] for example in dataset['train']]))\n",
    "len(corpus)"
   ]
  },
  {
   "cell_type": "markdown",
   "metadata": {
    "id": "lJtECqpB_VCx"
   },
   "source": [
    "## 토크나이저 준비"
   ]
  },
  {
   "cell_type": "markdown",
   "metadata": {
    "id": "X0Fu2WaqpUB8"
   },
   "source": [
    "가장 기본적인 띄워쓰기를 기준으로 token을 나누는 tokenizer를 활용 (성능 향상을 위해 더 세밀한 토크나이저 활용 가능)"
   ]
  },
  {
   "cell_type": "code",
   "execution_count": 3,
   "metadata": {
    "colab": {
     "background_save": true
    },
    "id": "AoB8BHGDmVIK"
   },
   "outputs": [],
   "source": [
    "tokenizer_func = lambda x: x.split(' ')"
   ]
  },
  {
   "cell_type": "code",
   "execution_count": 4,
   "metadata": {
    "colab": {
     "background_save": true
    },
    "id": "U_A0zH0SjYwK",
    "outputId": "3cb7b248-a1cc-4486-a189-f9ec8c4c94d9"
   },
   "outputs": [
    {
     "data": {
      "text/plain": [
       "['이로써', '레닌의', '두', '번째', '망명은', '1917년까지', '이어진다.', '레닌은', '망명기간', '내내']"
      ]
     },
     "execution_count": 4,
     "metadata": {},
     "output_type": "execute_result"
    }
   ],
   "source": [
    "tokenizer_func(corpus[0])[:10]"
   ]
  },
  {
   "cell_type": "markdown",
   "metadata": {
    "id": "zpoTleVJjp5x"
   },
   "source": [
    "## TF-IDF embedding 만들기"
   ]
  },
  {
   "cell_type": "markdown",
   "metadata": {
    "id": "_nrxmtmfkRVb"
   },
   "source": [
    "Scikit-learn의 TfidfVectorizer를 활용하여 TF-IDF embedding 만들어보기 \n",
    "(unigram, bigram 활용)"
   ]
  },
  {
   "cell_type": "code",
   "execution_count": 5,
   "metadata": {
    "colab": {
     "background_save": true
    },
    "id": "Nqur3YsJj193"
   },
   "outputs": [],
   "source": [
    "from sklearn.feature_extraction.text import TfidfVectorizer\n",
    "vectorizer = TfidfVectorizer(tokenizer=tokenizer_func, ngram_range=(1,2))"
   ]
  },
  {
   "cell_type": "code",
   "execution_count": 6,
   "metadata": {
    "colab": {
     "background_save": true
    },
    "id": "bAplp66Pkayy",
    "outputId": "9fca8756-b03d-4a7c-cba2-4778fff00379"
   },
   "outputs": [
    {
     "name": "stderr",
     "output_type": "stream",
     "text": [
      "/Users/miyoungko/miniforge3/envs/py3/lib/python3.8/site-packages/sklearn/feature_extraction/text.py:489: UserWarning: The parameter 'token_pattern' will not be used since 'tokenizer' is not None'\n",
      "  warnings.warn(\"The parameter 'token_pattern' will not be used\"\n"
     ]
    }
   ],
   "source": [
    "vectorizer.fit(corpus)\n",
    "sp_matrix = vectorizer.transform(corpus)"
   ]
  },
  {
   "cell_type": "code",
   "execution_count": 7,
   "metadata": {
    "colab": {
     "background_save": true
    },
    "id": "oKKkTlh_l5VL",
    "outputId": "fcae503b-5135-4375-a271-0b70ba4e7be9"
   },
   "outputs": [
    {
     "data": {
      "text/plain": [
       "(9606, 1272768)"
      ]
     },
     "execution_count": 7,
     "metadata": {},
     "output_type": "execute_result"
    }
   ],
   "source": [
    "sp_matrix.shape"
   ]
  },
  {
   "cell_type": "code",
   "execution_count": 8,
   "metadata": {
    "colab": {
     "background_save": true
    },
    "id": "wnO1b30SomBP",
    "outputId": "ee08ae1e-ef1a-408c-ab61-c499e1ef94f1"
   },
   "outputs": [
    {
     "name": "stdout",
     "output_type": "stream",
     "text": [
      "                     TF-IDF\n",
      "레닌은                0.215521\n",
      "부르주아               0.146836\n",
      "레닌은 세계관            0.089521\n",
      "당으로                0.089521\n",
      "근본적으로 평가함으로써       0.089521\n",
      "발표하였는데, 이          0.089521\n",
      "레닌은 망명기간           0.089521\n",
      "볼셰비키 내부            0.089521\n",
      "'유물론과 경험론'(1908)을  0.089521\n",
      "'유물론과              0.089521\n"
     ]
    }
   ],
   "source": [
    "import pandas as pd\n",
    "df = pd.DataFrame(sp_matrix[0].T.todense(), index=vectorizer.get_feature_names(), columns=[\"TF-IDF\"])\n",
    "df = df.sort_values('TF-IDF', ascending=False)\n",
    "print(df.head(10))"
   ]
  },
  {
   "cell_type": "markdown",
   "metadata": {
    "id": "BGOw-k7Ln85t"
   },
   "source": [
    "## TF-IDF embedding을 활용하여 passage retrieval 실습해보기"
   ]
  },
  {
   "cell_type": "markdown",
   "metadata": {
    "id": "Lx80alAsoGnj"
   },
   "source": [
    "앞서 만든 sparse embedding을 활용하여, 실제 passage retrieval 수행해보기"
   ]
  },
  {
   "cell_type": "markdown",
   "metadata": {
    "id": "fo3eJ2A2qzXj"
   },
   "source": [
    "Search query로 KorQuAD train 데이터셋의 질문을 활용하여, 실제 context가 잘 나오는지 확인해보기"
   ]
  },
  {
   "cell_type": "code",
   "execution_count": 9,
   "metadata": {
    "colab": {
     "background_save": true
    },
    "id": "wlLk-NnAokYO"
   },
   "outputs": [],
   "source": [
    "import random\n",
    "import numpy as np\n",
    "\n",
    "random.seed(1)\n",
    "sample_idx = random.choice(range(len(dataset['train'])))\n",
    "\n",
    "query = dataset['train'][sample_idx]['question']\n",
    "ground_truth = dataset['train'][sample_idx]['context']"
   ]
  },
  {
   "cell_type": "markdown",
   "metadata": {
    "id": "Lku3bie1w5Rz"
   },
   "source": [
    "Query를 tf-idf vector로 변환"
   ]
  },
  {
   "cell_type": "code",
   "execution_count": 10,
   "metadata": {
    "colab": {
     "background_save": true
    },
    "id": "O0--9Zm_wzr9"
   },
   "outputs": [],
   "source": [
    "query_vec = vectorizer.transform([query])"
   ]
  },
  {
   "cell_type": "code",
   "execution_count": 11,
   "metadata": {
    "colab": {
     "background_save": true
    },
    "id": "C-DekTUU6SuY",
    "outputId": "2007e9e3-5bb7-419d-e5f2-c6b64fea2dde"
   },
   "outputs": [
    {
     "data": {
      "text/plain": [
       "(1, 1272768)"
      ]
     },
     "execution_count": 11,
     "metadata": {},
     "output_type": "execute_result"
    }
   ],
   "source": [
    "query_vec.shape"
   ]
  },
  {
   "cell_type": "markdown",
   "metadata": {
    "id": "w8vZrna91Eb0"
   },
   "source": [
    "변환된 query vector를 document들의 vector과 dot product를 수행 => Document들의 similarity ranking을 구함"
   ]
  },
  {
   "cell_type": "code",
   "execution_count": 12,
   "metadata": {
    "colab": {
     "background_save": true
    },
    "id": "Fo29C9_q093j",
    "outputId": "325435fd-358f-4503-d2e3-a61539c5f686"
   },
   "outputs": [
    {
     "data": {
      "text/plain": [
       "(1, 9606)"
      ]
     },
     "execution_count": 12,
     "metadata": {},
     "output_type": "execute_result"
    }
   ],
   "source": [
    "result = query_vec * sp_matrix.T\n",
    "result.shape"
   ]
  },
  {
   "cell_type": "code",
   "execution_count": 13,
   "metadata": {
    "colab": {
     "background_save": true
    },
    "id": "R0Dslflm4V2X"
   },
   "outputs": [],
   "source": [
    "sorted_result = np.argsort(-result.data)\n",
    "doc_scores = result.data[sorted_result]\n",
    "doc_ids = result.indices[sorted_result]"
   ]
  },
  {
   "cell_type": "markdown",
   "metadata": {
    "id": "lmISPzUx_R7j"
   },
   "source": [
    "Top-3개의 passage를 retrieve 하고, 실제 ground_truth와 비교해보기"
   ]
  },
  {
   "cell_type": "code",
   "execution_count": 14,
   "metadata": {
    "colab": {
     "background_save": true
    },
    "id": "XpPz2TAe7eYJ",
    "outputId": "9f3e99b0-9f72-447c-a6cb-a763a1fdcb46"
   },
   "outputs": [
    {
     "data": {
      "text/plain": [
       "(array([0.18985967, 0.03625019, 0.03371167]),\n",
       " array([5598, 5174, 7379], dtype=int32))"
      ]
     },
     "execution_count": 14,
     "metadata": {},
     "output_type": "execute_result"
    }
   ],
   "source": [
    "k = 3\n",
    "doc_scores[:k], doc_ids[:k]"
   ]
  },
  {
   "cell_type": "code",
   "execution_count": 18,
   "metadata": {
    "colab": {
     "background_save": true
    },
    "id": "Lp0aAoab_aJl",
    "outputId": "b467185e-5412-417e-c6fe-436f5c55b212"
   },
   "outputs": [
    {
     "name": "stdout",
     "output_type": "stream",
     "text": [
      "[Search query]\n",
      " 호메로스 찬가를 신통기에 비해 간결한 서사로 간주한 사람은 누구인가? \n",
      "\n",
      "[Ground truth passage]\n",
      "고전 시대 신화에서는 티탄들의 패배 이후, 신들의 새로운 판테온이 세워졌다고 설명한다. 주요한 그리스 신들 중에서 올림피안은 올림포스 산 정상에서 제우스의 통치 아래 살아가는 신들을 말한다. 이들의 인원이 열두 명으로 제한된 것은 비교적 최근에 도입된 개념으로 보인다. 올림피안 이외에도 그리스인들은 염소 신 판, 강의 정령 님프, 샘에 사는 나이아드, 나무의 정령 드라이어드, 바다에 사는 네레이드, 강의 신, 사티로스를 비롯한 그 지역의 다양한 신들을 숭배하였다. 여기에는 에리니에스(또는 푸리아이)처럼 혈연 관계에게 범죄를 저지른 죄인을 뒤쫓는 저승의 암흑 세력도 있었다. 시인들은 그리스 판테온의 영광을 기리고자 호메로스 찬가를 지었다.(33편의 노래). 그레고리 나지는 호메로스 찬가를 \"각 노래마다 신에 대한 기원을 노래하는(《신통기》에 비해) 간결한 서가\"로 간주하였다. \n",
      "\n",
      "Top-1 passage with score 0.1899\n",
      "고전 시대 신화에서는 티탄들의 패배 이후, 신들의 새로운 판테온이 세워졌다고 설명한다. 주요한 그리스 신들 중에서 올림피안은 올림포스 산 정상에서 제우스의 통치 아래 살아가는 신들을 말한다. 이들의 인원이 열두 명으로 제한된 것은 비교적 최근에 도입된 개념으로 보인다. 올림피안 이외에도 그리스인들은 염소 신 판, 강의 정령 님프, 샘에 사는 나이아드, 나무의 정령 드라이어드, 바다에 사는 네레이드, 강의 신, 사티로스를 비롯한 그 지역의 다양한 신들을 숭배하였다. 여기에는 에리니에스(또는 푸리아이)처럼 혈연 관계에게 범죄를 저지른 죄인을 뒤쫓는 저승의 암흑 세력도 있었다. 시인들은 그리스 판테온의 영광을 기리고자 호메로스 찬가를 지었다.(33편의 노래). 그레고리 나지는 호메로스 찬가를 \"각 노래마다 신에 대한 기원을 노래하는(《신통기》에 비해) 간결한 서가\"로 간주하였다. \n",
      "\n",
      "Top-2 passage with score 0.0363\n",
      "두 사람은 낙담하고, 밴 하우튼의 집을 떠난다. 리더비히는 대신 사과하며 두 사람과 같이 여행을 한다. 세 사람은 안네 프랑크의 집을 방문한다. 집에 계단이 많기 때문에 헤이즐은 힘들게 올라간다. 안네 프랑크의 집 꼭대기에서 헤이즐은 사랑을 느끼고 어거스터스와 로맨틱한 키스를 한다. 두 사람은 호텔로 돌아와 처음으로 밤을 같이 보낸다. 다음날, 어거스터스는 헤이즐에게 자신의 암이 재발했다고 말한다. 인디애나폴리스에 돌아와서 어거스터스의 상태가 더욱 악화되어 갔다. 어거스터스는 중환자실로 보내지며 죽음이 가까운 것을 깨달았다. 어거스터스는 자신의 생전 장례식에 눈 먼 친구 아이작과 헤이즐을 불러 두 사람은 사전에 적은 추도사를 낭독한다. 헤이즐은 밴 하우튼의 소설을 인용하며, 어거스터스와 함께하는 짧은 시간은 무엇과도 바꿀 수 없는 것이라고 말한다. \n",
      "\n",
      "Top-3 passage with score 0.0337\n",
      "고대 그리스에서 신화는 일상의 중심이었다. 그리스인들은 신화를 그들의 역사의 일부로 보았다. 그들은 자연 현상과 문화적 변화, 인습적인 증오와 친교를 설명하는데 신화를 사용하였다. 한 지도자가 신화적 영웅, 또는 신의 후손이라는 증거로 사용할 수 있는 자부심의 원천이기도 했다. 《일리아스》와 《오디세이아》에서 설명하는 트로이아 전쟁의 진실에 대해서 의문을 갖는 사람은 거의 없었다. 군사 역사가, 칼럼니스트, 정치 수필가이자 전 고전학 교수인 빅터 데이비스 핸슨과 고전학 부교수 존 히스에 따르면, 그리스인들에게 호메로스 서사시의 심오한 지식은 그들의 문화 변용의 기저로 간주되었다. 호메로스는 \"그리스의 학문\"(Ἑλλάδος παίδευσις)이었고, 그의 시는 한 권의 \"책\"이었다. \n",
      "\n"
     ]
    }
   ],
   "source": [
    "print(\"[Search query]\\n\", query, \"\\n\")\n",
    "\n",
    "print(\"[Ground truth passage]\")\n",
    "print(ground_truth, \"\\n\")\n",
    "\n",
    "for i in range(k):\n",
    "  print(\"Top-%d passage with score %.4f\" % (i + 1, doc_scores[i]))\n",
    "  doc_id = doc_ids[i]\n",
    "  print(corpus[doc_id], \"\\n\")\n"
   ]
  },
  {
   "cell_type": "markdown",
   "metadata": {},
   "source": [
    "## Wikipedia documents에 대해 TF-IDF 실습하기"
   ]
  },
  {
   "cell_type": "code",
   "execution_count": 20,
   "metadata": {},
   "outputs": [],
   "source": [
    "# First load wikipedia dump\n",
    "import json\n",
    "\n",
    "# TODO: Write your own path\n",
    "dump_path = 'data/wikipedia_documents.json'\n",
    "with open(dump_path, 'r') as f:\n",
    "    wiki = json.load(f)"
   ]
  },
  {
   "cell_type": "code",
   "execution_count": 25,
   "metadata": {},
   "outputs": [
    {
     "data": {
      "text/plain": [
       "(60613, dict)"
      ]
     },
     "execution_count": 25,
     "metadata": {},
     "output_type": "execute_result"
    }
   ],
   "source": [
    "len(wiki), type(wiki)"
   ]
  },
  {
   "cell_type": "code",
   "execution_count": 24,
   "metadata": {},
   "outputs": [
    {
     "data": {
      "text/plain": [
       "{'text': '이 문서는 나라 목록이며, 전 세계 206개 나라의 각 현황과 주권 승인 정보를 개요 형태로 나열하고 있다.\\n\\n이 목록은 명료화를 위해 두 부분으로 나뉘어 있다.\\n\\n# 첫 번째 부분은 바티칸 시국과 팔레스타인을 포함하여 유엔 등 국제 기구에 가입되어 국제적인 승인을 널리 받았다고 여기는 195개 나라를 나열하고 있다.\\n# 두 번째 부분은 일부 지역의 주권을 사실상 (데 팍토) 행사하고 있지만, 아직 국제적인 승인을 널리 받지 않았다고 여기는 11개 나라를 나열하고 있다.\\n\\n두 목록은 모두 가나다 순이다.\\n\\n일부 국가의 경우 국가로서의 자격에 논쟁의 여부가 있으며, 이 때문에 이러한 목록을 엮는 것은 매우 어렵고 논란이 생길 수 있는 과정이다. 이 목록을 구성하고 있는 국가를 선정하는 기준에 대한 정보는 \"포함 기준\" 단락을 통해 설명하였다. 나라에 대한 일반적인 정보는 \"국가\" 문서에서 설명하고 있다.',\n",
       " 'corpus_source': '위키피디아',\n",
       " 'url': 'TODO',\n",
       " 'domain': None,\n",
       " 'title': '나라 목록',\n",
       " 'author': None,\n",
       " 'html': None,\n",
       " 'document_id': 0}"
      ]
     },
     "execution_count": 24,
     "metadata": {},
     "output_type": "execute_result"
    }
   ],
   "source": [
    "wiki['0']"
   ]
  },
  {
   "cell_type": "code",
   "execution_count": 28,
   "metadata": {},
   "outputs": [],
   "source": [
    "# TODO: Generate corpus and Train wiki_vectorizer on wikipedia_documents.json\n",
    "corpus = [wiki[key]['text'] for key in wiki.keys()]\n",
    "wiki_vectorizer = TfidfVectorizer(tokenizer=tokenizer_func, ngram_range=(1,2))\n",
    "wiki_vectorizer.fit(corpus)\n",
    "wiki_matrix = wiki_vectorizer.transform(corpus)\n"
   ]
  },
  {
   "cell_type": "code",
   "execution_count": 29,
   "metadata": {},
   "outputs": [
    {
     "data": {
      "text/plain": [
       "(60613, 8719114)"
      ]
     },
     "execution_count": 29,
     "metadata": {},
     "output_type": "execute_result"
    }
   ],
   "source": [
    "# Answer: (60613, 8719114) (num_doc, num_entity)\n",
    "wiki_matrix.shape"
   ]
  },
  {
   "cell_type": "code",
   "execution_count": 33,
   "metadata": {},
   "outputs": [],
   "source": [
    "query = '대통령을 포함한 미국의 행정부 견제권을 갖는 국가 기관은?'\n",
    "query_vec = wiki_vectorizer.transform([query])"
   ]
  },
  {
   "cell_type": "code",
   "execution_count": 34,
   "metadata": {},
   "outputs": [
    {
     "data": {
      "text/plain": [
       "(1, 60613)"
      ]
     },
     "execution_count": 34,
     "metadata": {},
     "output_type": "execute_result"
    }
   ],
   "source": [
    "result = query_vec * wiki_matrix.T\n",
    "result.shape"
   ]
  },
  {
   "cell_type": "code",
   "execution_count": 35,
   "metadata": {},
   "outputs": [
    {
     "data": {
      "text/plain": [
       "(array([0.18985967, 0.03625019, 0.03371167]),\n",
       " array([5598, 5174, 7379], dtype=int32))"
      ]
     },
     "execution_count": 35,
     "metadata": {},
     "output_type": "execute_result"
    }
   ],
   "source": [
    "k = 3\n",
    "doc_scores[:k], doc_ids[:k]"
   ]
  },
  {
   "cell_type": "code",
   "execution_count": 36,
   "metadata": {},
   "outputs": [
    {
     "name": "stdout",
     "output_type": "stream",
     "text": [
      "[Search query]\n",
      " 대통령을 포함한 미국의 행정부 견제권을 갖는 국가 기관은? \n",
      "\n",
      "Top-1 passage with score 0.1899\n",
      "조선인민공화국\\n 그리하여 9월 6일에 '전국인민대표자회의'를 열고 박헌영이 건준을 「조선인민공화국」(약칭 인공)으로 변모시켰다 \\n\\n1945년 8월 하순, 여운형 등은 밀사 손치웅을 평양에 파견하여 조만식에게 남으로 내려올 것을 권고하였다. 그러나 조만식은 '여운형에게 뜻은 함께 하겠으나 몸은 여기 남겠다.'며 사양하였다. 1945년 9월 7일 여운형은 미군정이 시작되기 전까지 지속되었던 조선인민공화국의 주석에 선출된 이승만과 함께 부주석에 선출되었다. 9월 8일 미 24군단이 한반도 입성하고 군정을 선포하였을 때, 미군정장관 아널드는 오긍선을 만나는데, 오긍선은 한민당의 송진우를 소개해 주었다. 그리고 다음날 9월 11일 한민당을 대표한 조병옥, 윤보선 등은 미 군정장관 등을 만나 인공은 \"일본과 협력한 한인집단\"에 의해 조직되었으며, 여운형은 \"한인들에게 잘 알려진 부일협력 정치인\"이라고 왜곡하여 주장하였다. 이묘묵도 명월관에서 미군정 관리들에게 '여운형이 잘 알려진 친일파이며 인공은 공산주의적 경향이 있다.'고 왜곡하여 주장하였다 \\n\\n \\n1945년 10월초, 여운형은 미 군정 사령관 존 하지와 첫 대면이 이루어졌는데, 첫 대화내용은 다음과 같다.\\n\\n이러한, 존 하지의 왜곡된 선입견과 그 배경은 미군정 고문으로 위촉된 9명의 한국민주당들의 모함으로 밝혀지게 된다\\n\\n \\n1945년 10월 20일, 미군정의 주관하에 대대적인 환영행사 속에 이승만이 귀국하게 된다. 여운형은 이승만에게 찾아가 인공이 설립된 경로를 설명하고 인공 주석에 취임할 것을 요청하러 만났으나, 이승만은 침묵으로 답하고 이후 한국민주당과 함께 손을 잡고 독자적인 행보를 걷게 된다.\\n이어 1945년 11월 3일, 대한민국 임시정부의 환국 때 그는 중경 임시정부 요인들을 맞아주었으나, 충칭 임시정부만을 추대하자는 내용인 '임정 정통론' 추대에는 반대하였다. \\n\\n귀국한 대한민국 임시정부 요인 중 김원봉과 장건상, 김성숙 등이 그를 찾아온다. 이들과의 면담에서 여운형은 호쾌한 성격과 달변으로 이들을 매료시켜, 김원봉 등을 좌파 진영으로 영입하게 된다. \n",
      "\n",
      "Top-2 passage with score 0.0363\n",
      "공산 동수 전투\n",
      "926년(천수 9) 거란족의 요나라에게 무너져 망명해 온 발해의 왕자 대광현을 포함한 발해 유민들을 흡수하고, 신라를 공격한 후백제를 신라와 협공하였다. 그가 고려군을 이끌고 후백제와의 전쟁상태에 돌입했을 때 북방에서는 거란족이 침입하여 발해를 멸망시켰고, 수많은 발해 유민들이 고려로 몰려들었다. 발해 유민이 고려로 몰려든 덕택에 왕건은 병사들의 수를 더 늘릴 수 있었고 견훤과의 싸움에도 그들을 동원하게 된다.\n",
      "\n",
      "927년(태조 10) 음력 9월초 견훤은 경상북도 북부를 공략하다가 갑자기 진로를 바꿔 영천을 거쳐 경주로 기습하였다. 한참 싸우던 견훤군의 갑작스러운 퇴각에 태조는 경북 북부지역에 주둔하면서 군사를 정비하였다. 그러나 경주를 기습한 견훤은 경애왕을 비롯하여 많은 신라 왕족들을 죽이고, 김부를 왕으로 앉혔다. 신라는 견훤이 경주로 향해 온다는 전갈을 받은 즉시 고려에 원병을 요청했지만, 그가 보낸 고려군 원병이 도착하기 전에 경주는 함락되고 말았다. 경주를 유린한 견훤은 고려 원병을 의식해 말머리를 돌려 대구의 공산(팔공산)에서 태조의 군사와 마주쳤다. 그러나 견훤군에게 일방적으로 밀려서 왕건은 병력을 대부분 잃고 겨우 후퇴한다.\n",
      "\n",
      "음력 9월 공산 전투에 신숭겸, 김낙, 전이갑, 전의갑 형제와 함께 출정하였다가 크게 패하였다. 공산 전투 초반 고려군이 승리하는 것 같았으나, 이는 후백제의 계략이였고, 싸움의 진행 중 태조는 견훤이 이끄는 후백제군에게 역매복으로 포위되어 위험하였다. 이때 신숭겸이 “제가 대왕과 외모가 비슷하오니 제가 대왕으로 변장하면 대왕께서는 무사히 탈출하실 수 있을 것입니다.”라고 말하며 왕건의 옷을 빼앗아 입고, 왕건은 일반 군졸로 변장하여 포위를 뚫고 탈출하였다.\n",
      "\n",
      "태조는 부득이 신숭겸과 옷을 바꾸어 입고 빠져나간다. 태조가 포위망을 빠져나가는 동안 신숭겸은 태조 왕건의 행세를 하며 왕건의 백마를 타고 군대를 통솔하다가 견훤군에게 발견, 견훤군이 쏜 화살에 맞고 전사했다. 이 전투에서 왕건은 5천명, 학자들에 따라서 1만~2만의 군사를 잃고 개국공신 신숭겸, 김락 등의 뛰어난 장수들도 잃었다. 왕건은 이 싸움에서 겨우 목숨만을 건진 채 개경으로 후퇴하였다. 나중에 공산 전투의 고려군 전사자들을 수습하던 과정에서 신숭겸의 시체를 발견한 태조는 크게 슬퍼하여 송악으로 철수할 때 참수되어 머리가 없던 신숭겸의 시신에 금으로 만든 머리 모형을 끼워 넣어 장사지내고 장절(壯節)이라는 시호를 내렸다. 그러나 930년 고창 전투에서 후백제군을 크게 격파하면서 한반도의 패권을 장악한다. \n",
      "\n",
      "Top-3 passage with score 0.0337\n",
      "에델 그린글래스 로젠버그(Ethel Greenglass Rosenberg, 1915년 9월 28일 – 1953년 6월 19일)와 줄리어스 로젠버그(Julius Rosenberg, 1918년 5월 12일 – 1953년 6월 19일)는 미국의 공산주의자였으며 소련에 스파이 행위를 했다는 죄목으로 기소되어 사형당했다. 이는 미국 역사상 처음으로 스파이 혐의로 민간인을 사형 집행한 사례였다. \n",
      "\n",
      "로젠버그 부부가 정말로 간첩인지 아니면 억울하게 누명을 쓴 것인지에 대해서는 의견이 분분하였다. 이후 공개된 정보에 따르면 줄리어스가 소련을 위해 정보를 전달하는 등의 행위를 한 것에, 에델이 연관되었다는 뚜렷한 증거는 없었으나 후에 간첩죄로 30년을 선고 받고 17년 9개월을 복역했던 Morton Sobell이 2008년 9월 11일 뉴욕타임즈와의 인터뷰에서 그와 줄리어스 로젠버그는 스파이 였음을 인정했다. 또한 이들이 원자 폭탄에 필요한 정보를 넘겼다는 혐의를 받았는데, 니키타 흐루쇼프는 \"원자 폭탄 생산을 앞당기는데 매우 큰 도움을 주었다\"는 메모를 남겼으나 , 이에 반하여 실제로는 도움이 되지 않거나 아예 원자 폭탄과 상관 없는 정보였다는 증언도 존재한다 \n",
      "\n"
     ]
    }
   ],
   "source": [
    "print(\"[Search query]\\n\", query, \"\\n\")\n",
    "\n",
    "\n",
    "for i in range(k):\n",
    "    print(\"Top-%d passage with score %.4f\" % (i + 1, doc_scores[i]))\n",
    "    doc_id = doc_ids[i]\n",
    "    print(corpus[doc_id], \"\\n\")"
   ]
  },
  {
   "cell_type": "code",
   "execution_count": null,
   "metadata": {},
   "outputs": [],
   "source": []
  }
 ],
 "metadata": {
  "colab": {
   "collapsed_sections": [],
   "name": "MRC Practice 4 - TF-IDF Passage Retrieval",
   "provenance": [
    {
     "file_id": "1Q7iAXm_kwF_NHfOEGdViMCiPHnqoZlXe",
     "timestamp": 1613491158162
    }
   ]
  },
  "kernelspec": {
   "display_name": "Python 3",
   "language": "python",
   "name": "python3"
  },
  "language_info": {
   "codemirror_mode": {
    "name": "ipython",
    "version": 3
   },
   "file_extension": ".py",
   "mimetype": "text/x-python",
   "name": "python",
   "nbconvert_exporter": "python",
   "pygments_lexer": "ipython3",
   "version": "3.8.8"
  }
 },
 "nbformat": 4,
 "nbformat_minor": 4
}
