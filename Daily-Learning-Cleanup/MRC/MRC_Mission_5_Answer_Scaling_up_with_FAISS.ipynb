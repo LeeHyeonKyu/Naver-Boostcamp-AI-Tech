{
  "nbformat": 4,
  "nbformat_minor": 0,
  "metadata": {
    "colab": {
      "name": "MRC Mission 5 Answer - Scaling up with FAISS.ipynb",
      "provenance": [],
      "collapsed_sections": []
    },
    "kernelspec": {
      "display_name": "Python 3",
      "language": "python",
      "name": "python3"
    },
    "language_info": {
      "codemirror_mode": {
        "name": "ipython",
        "version": 3
      },
      "file_extension": ".py",
      "mimetype": "text/x-python",
      "name": "python",
      "nbconvert_exporter": "python",
      "pygments_lexer": "ipython3",
      "version": "3.7.4"
    },
    "accelerator": "GPU",
    "widgets": {
      "application/vnd.jupyter.widget-state+json": {
        "c934ca8ddcce4be7ab9621f1cd4f1e33": {
          "model_module": "@jupyter-widgets/controls",
          "model_name": "HBoxModel",
          "state": {
            "_view_name": "HBoxView",
            "_dom_classes": [],
            "_model_name": "HBoxModel",
            "_view_module": "@jupyter-widgets/controls",
            "_model_module_version": "1.5.0",
            "_view_count": null,
            "_view_module_version": "1.5.0",
            "box_style": "",
            "layout": "IPY_MODEL_5fad8787e50c48f5b79420fa9f6424eb",
            "_model_module": "@jupyter-widgets/controls",
            "children": [
              "IPY_MODEL_ad4fa5e1fc4c4f57baf2248a24c3514d",
              "IPY_MODEL_d09c4a28a6f14713a899852ca08a7a98"
            ]
          }
        },
        "5fad8787e50c48f5b79420fa9f6424eb": {
          "model_module": "@jupyter-widgets/base",
          "model_name": "LayoutModel",
          "state": {
            "_view_name": "LayoutView",
            "grid_template_rows": null,
            "right": null,
            "justify_content": null,
            "_view_module": "@jupyter-widgets/base",
            "overflow": null,
            "_model_module_version": "1.2.0",
            "_view_count": null,
            "flex_flow": null,
            "width": null,
            "min_width": null,
            "border": null,
            "align_items": null,
            "bottom": null,
            "_model_module": "@jupyter-widgets/base",
            "top": null,
            "grid_column": null,
            "overflow_y": null,
            "overflow_x": null,
            "grid_auto_flow": null,
            "grid_area": null,
            "grid_template_columns": null,
            "flex": null,
            "_model_name": "LayoutModel",
            "justify_items": null,
            "grid_row": null,
            "max_height": null,
            "align_content": null,
            "visibility": null,
            "align_self": null,
            "height": null,
            "min_height": null,
            "padding": null,
            "grid_auto_rows": null,
            "grid_gap": null,
            "max_width": null,
            "order": null,
            "_view_module_version": "1.2.0",
            "grid_template_areas": null,
            "object_position": null,
            "object_fit": null,
            "grid_auto_columns": null,
            "margin": null,
            "display": null,
            "left": null
          }
        },
        "ad4fa5e1fc4c4f57baf2248a24c3514d": {
          "model_module": "@jupyter-widgets/controls",
          "model_name": "FloatProgressModel",
          "state": {
            "_view_name": "ProgressView",
            "style": "IPY_MODEL_4094b155ace742baa0d3d6f47ffa9ccb",
            "_dom_classes": [],
            "description": "Downloading: 100%",
            "_model_name": "FloatProgressModel",
            "bar_style": "success",
            "max": 625,
            "_view_module": "@jupyter-widgets/controls",
            "_model_module_version": "1.5.0",
            "value": 625,
            "_view_count": null,
            "_view_module_version": "1.5.0",
            "orientation": "horizontal",
            "min": 0,
            "description_tooltip": null,
            "_model_module": "@jupyter-widgets/controls",
            "layout": "IPY_MODEL_f27ed02990fa4162934fdc9698312f13"
          }
        },
        "d09c4a28a6f14713a899852ca08a7a98": {
          "model_module": "@jupyter-widgets/controls",
          "model_name": "HTMLModel",
          "state": {
            "_view_name": "HTMLView",
            "style": "IPY_MODEL_7bf3dd73bedd40838d31f1f6681c62cc",
            "_dom_classes": [],
            "description": "",
            "_model_name": "HTMLModel",
            "placeholder": "​",
            "_view_module": "@jupyter-widgets/controls",
            "_model_module_version": "1.5.0",
            "value": " 625/625 [00:00&lt;00:00, 15.4kB/s]",
            "_view_count": null,
            "_view_module_version": "1.5.0",
            "description_tooltip": null,
            "_model_module": "@jupyter-widgets/controls",
            "layout": "IPY_MODEL_e36f3bd88915466585566cabba137ec8"
          }
        },
        "4094b155ace742baa0d3d6f47ffa9ccb": {
          "model_module": "@jupyter-widgets/controls",
          "model_name": "ProgressStyleModel",
          "state": {
            "_view_name": "StyleView",
            "_model_name": "ProgressStyleModel",
            "description_width": "initial",
            "_view_module": "@jupyter-widgets/base",
            "_model_module_version": "1.5.0",
            "_view_count": null,
            "_view_module_version": "1.2.0",
            "bar_color": null,
            "_model_module": "@jupyter-widgets/controls"
          }
        },
        "f27ed02990fa4162934fdc9698312f13": {
          "model_module": "@jupyter-widgets/base",
          "model_name": "LayoutModel",
          "state": {
            "_view_name": "LayoutView",
            "grid_template_rows": null,
            "right": null,
            "justify_content": null,
            "_view_module": "@jupyter-widgets/base",
            "overflow": null,
            "_model_module_version": "1.2.0",
            "_view_count": null,
            "flex_flow": null,
            "width": null,
            "min_width": null,
            "border": null,
            "align_items": null,
            "bottom": null,
            "_model_module": "@jupyter-widgets/base",
            "top": null,
            "grid_column": null,
            "overflow_y": null,
            "overflow_x": null,
            "grid_auto_flow": null,
            "grid_area": null,
            "grid_template_columns": null,
            "flex": null,
            "_model_name": "LayoutModel",
            "justify_items": null,
            "grid_row": null,
            "max_height": null,
            "align_content": null,
            "visibility": null,
            "align_self": null,
            "height": null,
            "min_height": null,
            "padding": null,
            "grid_auto_rows": null,
            "grid_gap": null,
            "max_width": null,
            "order": null,
            "_view_module_version": "1.2.0",
            "grid_template_areas": null,
            "object_position": null,
            "object_fit": null,
            "grid_auto_columns": null,
            "margin": null,
            "display": null,
            "left": null
          }
        },
        "7bf3dd73bedd40838d31f1f6681c62cc": {
          "model_module": "@jupyter-widgets/controls",
          "model_name": "DescriptionStyleModel",
          "state": {
            "_view_name": "StyleView",
            "_model_name": "DescriptionStyleModel",
            "description_width": "",
            "_view_module": "@jupyter-widgets/base",
            "_model_module_version": "1.5.0",
            "_view_count": null,
            "_view_module_version": "1.2.0",
            "_model_module": "@jupyter-widgets/controls"
          }
        },
        "e36f3bd88915466585566cabba137ec8": {
          "model_module": "@jupyter-widgets/base",
          "model_name": "LayoutModel",
          "state": {
            "_view_name": "LayoutView",
            "grid_template_rows": null,
            "right": null,
            "justify_content": null,
            "_view_module": "@jupyter-widgets/base",
            "overflow": null,
            "_model_module_version": "1.2.0",
            "_view_count": null,
            "flex_flow": null,
            "width": null,
            "min_width": null,
            "border": null,
            "align_items": null,
            "bottom": null,
            "_model_module": "@jupyter-widgets/base",
            "top": null,
            "grid_column": null,
            "overflow_y": null,
            "overflow_x": null,
            "grid_auto_flow": null,
            "grid_area": null,
            "grid_template_columns": null,
            "flex": null,
            "_model_name": "LayoutModel",
            "justify_items": null,
            "grid_row": null,
            "max_height": null,
            "align_content": null,
            "visibility": null,
            "align_self": null,
            "height": null,
            "min_height": null,
            "padding": null,
            "grid_auto_rows": null,
            "grid_gap": null,
            "max_width": null,
            "order": null,
            "_view_module_version": "1.2.0",
            "grid_template_areas": null,
            "object_position": null,
            "object_fit": null,
            "grid_auto_columns": null,
            "margin": null,
            "display": null,
            "left": null
          }
        },
        "42ad64e80a994059b9c7e62811dcdb58": {
          "model_module": "@jupyter-widgets/controls",
          "model_name": "HBoxModel",
          "state": {
            "_view_name": "HBoxView",
            "_dom_classes": [],
            "_model_name": "HBoxModel",
            "_view_module": "@jupyter-widgets/controls",
            "_model_module_version": "1.5.0",
            "_view_count": null,
            "_view_module_version": "1.5.0",
            "box_style": "",
            "layout": "IPY_MODEL_815acfba818a4d3faaa4bccd7c1c5468",
            "_model_module": "@jupyter-widgets/controls",
            "children": [
              "IPY_MODEL_d73bf0f6ec9f468d83e2fca0d7999a47",
              "IPY_MODEL_7b33dbf54d7a42d9b1c81d12eb82045a"
            ]
          }
        },
        "815acfba818a4d3faaa4bccd7c1c5468": {
          "model_module": "@jupyter-widgets/base",
          "model_name": "LayoutModel",
          "state": {
            "_view_name": "LayoutView",
            "grid_template_rows": null,
            "right": null,
            "justify_content": null,
            "_view_module": "@jupyter-widgets/base",
            "overflow": null,
            "_model_module_version": "1.2.0",
            "_view_count": null,
            "flex_flow": null,
            "width": null,
            "min_width": null,
            "border": null,
            "align_items": null,
            "bottom": null,
            "_model_module": "@jupyter-widgets/base",
            "top": null,
            "grid_column": null,
            "overflow_y": null,
            "overflow_x": null,
            "grid_auto_flow": null,
            "grid_area": null,
            "grid_template_columns": null,
            "flex": null,
            "_model_name": "LayoutModel",
            "justify_items": null,
            "grid_row": null,
            "max_height": null,
            "align_content": null,
            "visibility": null,
            "align_self": null,
            "height": null,
            "min_height": null,
            "padding": null,
            "grid_auto_rows": null,
            "grid_gap": null,
            "max_width": null,
            "order": null,
            "_view_module_version": "1.2.0",
            "grid_template_areas": null,
            "object_position": null,
            "object_fit": null,
            "grid_auto_columns": null,
            "margin": null,
            "display": null,
            "left": null
          }
        },
        "d73bf0f6ec9f468d83e2fca0d7999a47": {
          "model_module": "@jupyter-widgets/controls",
          "model_name": "FloatProgressModel",
          "state": {
            "_view_name": "ProgressView",
            "style": "IPY_MODEL_0046840b264d4c22a8b2ba29c800f6f5",
            "_dom_classes": [],
            "description": "Downloading: 100%",
            "_model_name": "FloatProgressModel",
            "bar_style": "success",
            "max": 714314041,
            "_view_module": "@jupyter-widgets/controls",
            "_model_module_version": "1.5.0",
            "value": 714314041,
            "_view_count": null,
            "_view_module_version": "1.5.0",
            "orientation": "horizontal",
            "min": 0,
            "description_tooltip": null,
            "_model_module": "@jupyter-widgets/controls",
            "layout": "IPY_MODEL_9ee5526dd0144421bbd8efafd304478f"
          }
        },
        "7b33dbf54d7a42d9b1c81d12eb82045a": {
          "model_module": "@jupyter-widgets/controls",
          "model_name": "HTMLModel",
          "state": {
            "_view_name": "HTMLView",
            "style": "IPY_MODEL_86f37bd60523408c93ebb171a2f51d4e",
            "_dom_classes": [],
            "description": "",
            "_model_name": "HTMLModel",
            "placeholder": "​",
            "_view_module": "@jupyter-widgets/controls",
            "_model_module_version": "1.5.0",
            "value": " 714M/714M [00:13&lt;00:00, 51.5MB/s]",
            "_view_count": null,
            "_view_module_version": "1.5.0",
            "description_tooltip": null,
            "_model_module": "@jupyter-widgets/controls",
            "layout": "IPY_MODEL_44206beba5f749fd9fb1f6aa593b86b0"
          }
        },
        "0046840b264d4c22a8b2ba29c800f6f5": {
          "model_module": "@jupyter-widgets/controls",
          "model_name": "ProgressStyleModel",
          "state": {
            "_view_name": "StyleView",
            "_model_name": "ProgressStyleModel",
            "description_width": "initial",
            "_view_module": "@jupyter-widgets/base",
            "_model_module_version": "1.5.0",
            "_view_count": null,
            "_view_module_version": "1.2.0",
            "bar_color": null,
            "_model_module": "@jupyter-widgets/controls"
          }
        },
        "9ee5526dd0144421bbd8efafd304478f": {
          "model_module": "@jupyter-widgets/base",
          "model_name": "LayoutModel",
          "state": {
            "_view_name": "LayoutView",
            "grid_template_rows": null,
            "right": null,
            "justify_content": null,
            "_view_module": "@jupyter-widgets/base",
            "overflow": null,
            "_model_module_version": "1.2.0",
            "_view_count": null,
            "flex_flow": null,
            "width": null,
            "min_width": null,
            "border": null,
            "align_items": null,
            "bottom": null,
            "_model_module": "@jupyter-widgets/base",
            "top": null,
            "grid_column": null,
            "overflow_y": null,
            "overflow_x": null,
            "grid_auto_flow": null,
            "grid_area": null,
            "grid_template_columns": null,
            "flex": null,
            "_model_name": "LayoutModel",
            "justify_items": null,
            "grid_row": null,
            "max_height": null,
            "align_content": null,
            "visibility": null,
            "align_self": null,
            "height": null,
            "min_height": null,
            "padding": null,
            "grid_auto_rows": null,
            "grid_gap": null,
            "max_width": null,
            "order": null,
            "_view_module_version": "1.2.0",
            "grid_template_areas": null,
            "object_position": null,
            "object_fit": null,
            "grid_auto_columns": null,
            "margin": null,
            "display": null,
            "left": null
          }
        },
        "86f37bd60523408c93ebb171a2f51d4e": {
          "model_module": "@jupyter-widgets/controls",
          "model_name": "DescriptionStyleModel",
          "state": {
            "_view_name": "StyleView",
            "_model_name": "DescriptionStyleModel",
            "description_width": "",
            "_view_module": "@jupyter-widgets/base",
            "_model_module_version": "1.5.0",
            "_view_count": null,
            "_view_module_version": "1.2.0",
            "_model_module": "@jupyter-widgets/controls"
          }
        },
        "44206beba5f749fd9fb1f6aa593b86b0": {
          "model_module": "@jupyter-widgets/base",
          "model_name": "LayoutModel",
          "state": {
            "_view_name": "LayoutView",
            "grid_template_rows": null,
            "right": null,
            "justify_content": null,
            "_view_module": "@jupyter-widgets/base",
            "overflow": null,
            "_model_module_version": "1.2.0",
            "_view_count": null,
            "flex_flow": null,
            "width": null,
            "min_width": null,
            "border": null,
            "align_items": null,
            "bottom": null,
            "_model_module": "@jupyter-widgets/base",
            "top": null,
            "grid_column": null,
            "overflow_y": null,
            "overflow_x": null,
            "grid_auto_flow": null,
            "grid_area": null,
            "grid_template_columns": null,
            "flex": null,
            "_model_name": "LayoutModel",
            "justify_items": null,
            "grid_row": null,
            "max_height": null,
            "align_content": null,
            "visibility": null,
            "align_self": null,
            "height": null,
            "min_height": null,
            "padding": null,
            "grid_auto_rows": null,
            "grid_gap": null,
            "max_width": null,
            "order": null,
            "_view_module_version": "1.2.0",
            "grid_template_areas": null,
            "object_position": null,
            "object_fit": null,
            "grid_auto_columns": null,
            "margin": null,
            "display": null,
            "left": null
          }
        },
        "d141598e651a4b3485760f7c42b00544": {
          "model_module": "@jupyter-widgets/controls",
          "model_name": "HBoxModel",
          "state": {
            "_view_name": "HBoxView",
            "_dom_classes": [],
            "_model_name": "HBoxModel",
            "_view_module": "@jupyter-widgets/controls",
            "_model_module_version": "1.5.0",
            "_view_count": null,
            "_view_module_version": "1.5.0",
            "box_style": "",
            "layout": "IPY_MODEL_44a66c37e1174c1ebfb04feb00f9538c",
            "_model_module": "@jupyter-widgets/controls",
            "children": [
              "IPY_MODEL_436b8e617d4b4aa68b1eaf1102b3451d",
              "IPY_MODEL_45fe410b9c294c2ea0d6aa096b0e9a51"
            ]
          }
        },
        "44a66c37e1174c1ebfb04feb00f9538c": {
          "model_module": "@jupyter-widgets/base",
          "model_name": "LayoutModel",
          "state": {
            "_view_name": "LayoutView",
            "grid_template_rows": null,
            "right": null,
            "justify_content": null,
            "_view_module": "@jupyter-widgets/base",
            "overflow": null,
            "_model_module_version": "1.2.0",
            "_view_count": null,
            "flex_flow": null,
            "width": null,
            "min_width": null,
            "border": null,
            "align_items": null,
            "bottom": null,
            "_model_module": "@jupyter-widgets/base",
            "top": null,
            "grid_column": null,
            "overflow_y": null,
            "overflow_x": null,
            "grid_auto_flow": null,
            "grid_area": null,
            "grid_template_columns": null,
            "flex": null,
            "_model_name": "LayoutModel",
            "justify_items": null,
            "grid_row": null,
            "max_height": null,
            "align_content": null,
            "visibility": null,
            "align_self": null,
            "height": null,
            "min_height": null,
            "padding": null,
            "grid_auto_rows": null,
            "grid_gap": null,
            "max_width": null,
            "order": null,
            "_view_module_version": "1.2.0",
            "grid_template_areas": null,
            "object_position": null,
            "object_fit": null,
            "grid_auto_columns": null,
            "margin": null,
            "display": null,
            "left": null
          }
        },
        "436b8e617d4b4aa68b1eaf1102b3451d": {
          "model_module": "@jupyter-widgets/controls",
          "model_name": "FloatProgressModel",
          "state": {
            "_view_name": "ProgressView",
            "style": "IPY_MODEL_d7ef1a244ca344e58ad9d61179698516",
            "_dom_classes": [],
            "description": "Downloading: 100%",
            "_model_name": "FloatProgressModel",
            "bar_style": "success",
            "max": 995526,
            "_view_module": "@jupyter-widgets/controls",
            "_model_module_version": "1.5.0",
            "value": 995526,
            "_view_count": null,
            "_view_module_version": "1.5.0",
            "orientation": "horizontal",
            "min": 0,
            "description_tooltip": null,
            "_model_module": "@jupyter-widgets/controls",
            "layout": "IPY_MODEL_d545414bc62e4a0fa20ffdcb5371704c"
          }
        },
        "45fe410b9c294c2ea0d6aa096b0e9a51": {
          "model_module": "@jupyter-widgets/controls",
          "model_name": "HTMLModel",
          "state": {
            "_view_name": "HTMLView",
            "style": "IPY_MODEL_270d7113d24f407ab44447dabb6e9afa",
            "_dom_classes": [],
            "description": "",
            "_model_name": "HTMLModel",
            "placeholder": "​",
            "_view_module": "@jupyter-widgets/controls",
            "_model_module_version": "1.5.0",
            "value": " 996k/996k [00:00&lt;00:00, 1.17MB/s]",
            "_view_count": null,
            "_view_module_version": "1.5.0",
            "description_tooltip": null,
            "_model_module": "@jupyter-widgets/controls",
            "layout": "IPY_MODEL_e9ddabe7d50e46b1a9cb6e4c8b2f920f"
          }
        },
        "d7ef1a244ca344e58ad9d61179698516": {
          "model_module": "@jupyter-widgets/controls",
          "model_name": "ProgressStyleModel",
          "state": {
            "_view_name": "StyleView",
            "_model_name": "ProgressStyleModel",
            "description_width": "initial",
            "_view_module": "@jupyter-widgets/base",
            "_model_module_version": "1.5.0",
            "_view_count": null,
            "_view_module_version": "1.2.0",
            "bar_color": null,
            "_model_module": "@jupyter-widgets/controls"
          }
        },
        "d545414bc62e4a0fa20ffdcb5371704c": {
          "model_module": "@jupyter-widgets/base",
          "model_name": "LayoutModel",
          "state": {
            "_view_name": "LayoutView",
            "grid_template_rows": null,
            "right": null,
            "justify_content": null,
            "_view_module": "@jupyter-widgets/base",
            "overflow": null,
            "_model_module_version": "1.2.0",
            "_view_count": null,
            "flex_flow": null,
            "width": null,
            "min_width": null,
            "border": null,
            "align_items": null,
            "bottom": null,
            "_model_module": "@jupyter-widgets/base",
            "top": null,
            "grid_column": null,
            "overflow_y": null,
            "overflow_x": null,
            "grid_auto_flow": null,
            "grid_area": null,
            "grid_template_columns": null,
            "flex": null,
            "_model_name": "LayoutModel",
            "justify_items": null,
            "grid_row": null,
            "max_height": null,
            "align_content": null,
            "visibility": null,
            "align_self": null,
            "height": null,
            "min_height": null,
            "padding": null,
            "grid_auto_rows": null,
            "grid_gap": null,
            "max_width": null,
            "order": null,
            "_view_module_version": "1.2.0",
            "grid_template_areas": null,
            "object_position": null,
            "object_fit": null,
            "grid_auto_columns": null,
            "margin": null,
            "display": null,
            "left": null
          }
        },
        "270d7113d24f407ab44447dabb6e9afa": {
          "model_module": "@jupyter-widgets/controls",
          "model_name": "DescriptionStyleModel",
          "state": {
            "_view_name": "StyleView",
            "_model_name": "DescriptionStyleModel",
            "description_width": "",
            "_view_module": "@jupyter-widgets/base",
            "_model_module_version": "1.5.0",
            "_view_count": null,
            "_view_module_version": "1.2.0",
            "_model_module": "@jupyter-widgets/controls"
          }
        },
        "e9ddabe7d50e46b1a9cb6e4c8b2f920f": {
          "model_module": "@jupyter-widgets/base",
          "model_name": "LayoutModel",
          "state": {
            "_view_name": "LayoutView",
            "grid_template_rows": null,
            "right": null,
            "justify_content": null,
            "_view_module": "@jupyter-widgets/base",
            "overflow": null,
            "_model_module_version": "1.2.0",
            "_view_count": null,
            "flex_flow": null,
            "width": null,
            "min_width": null,
            "border": null,
            "align_items": null,
            "bottom": null,
            "_model_module": "@jupyter-widgets/base",
            "top": null,
            "grid_column": null,
            "overflow_y": null,
            "overflow_x": null,
            "grid_auto_flow": null,
            "grid_area": null,
            "grid_template_columns": null,
            "flex": null,
            "_model_name": "LayoutModel",
            "justify_items": null,
            "grid_row": null,
            "max_height": null,
            "align_content": null,
            "visibility": null,
            "align_self": null,
            "height": null,
            "min_height": null,
            "padding": null,
            "grid_auto_rows": null,
            "grid_gap": null,
            "max_width": null,
            "order": null,
            "_view_module_version": "1.2.0",
            "grid_template_areas": null,
            "object_position": null,
            "object_fit": null,
            "grid_auto_columns": null,
            "margin": null,
            "display": null,
            "left": null
          }
        },
        "fc24f71539e04709bfd09a449ad07eb2": {
          "model_module": "@jupyter-widgets/controls",
          "model_name": "HBoxModel",
          "state": {
            "_view_name": "HBoxView",
            "_dom_classes": [],
            "_model_name": "HBoxModel",
            "_view_module": "@jupyter-widgets/controls",
            "_model_module_version": "1.5.0",
            "_view_count": null,
            "_view_module_version": "1.5.0",
            "box_style": "",
            "layout": "IPY_MODEL_4dd49c67eb4740ccabfa8d3196537dfd",
            "_model_module": "@jupyter-widgets/controls",
            "children": [
              "IPY_MODEL_9be74c760506440bb9372aea659af494",
              "IPY_MODEL_c3c834f7171449aa97dba668a5dc36f6"
            ]
          }
        },
        "4dd49c67eb4740ccabfa8d3196537dfd": {
          "model_module": "@jupyter-widgets/base",
          "model_name": "LayoutModel",
          "state": {
            "_view_name": "LayoutView",
            "grid_template_rows": null,
            "right": null,
            "justify_content": null,
            "_view_module": "@jupyter-widgets/base",
            "overflow": null,
            "_model_module_version": "1.2.0",
            "_view_count": null,
            "flex_flow": null,
            "width": null,
            "min_width": null,
            "border": null,
            "align_items": null,
            "bottom": null,
            "_model_module": "@jupyter-widgets/base",
            "top": null,
            "grid_column": null,
            "overflow_y": null,
            "overflow_x": null,
            "grid_auto_flow": null,
            "grid_area": null,
            "grid_template_columns": null,
            "flex": null,
            "_model_name": "LayoutModel",
            "justify_items": null,
            "grid_row": null,
            "max_height": null,
            "align_content": null,
            "visibility": null,
            "align_self": null,
            "height": null,
            "min_height": null,
            "padding": null,
            "grid_auto_rows": null,
            "grid_gap": null,
            "max_width": null,
            "order": null,
            "_view_module_version": "1.2.0",
            "grid_template_areas": null,
            "object_position": null,
            "object_fit": null,
            "grid_auto_columns": null,
            "margin": null,
            "display": null,
            "left": null
          }
        },
        "9be74c760506440bb9372aea659af494": {
          "model_module": "@jupyter-widgets/controls",
          "model_name": "FloatProgressModel",
          "state": {
            "_view_name": "ProgressView",
            "style": "IPY_MODEL_6ae1483bf7344f40adcd5e6e6b0a253c",
            "_dom_classes": [],
            "description": "Downloading: 100%",
            "_model_name": "FloatProgressModel",
            "bar_style": "success",
            "max": 1961828,
            "_view_module": "@jupyter-widgets/controls",
            "_model_module_version": "1.5.0",
            "value": 1961828,
            "_view_count": null,
            "_view_module_version": "1.5.0",
            "orientation": "horizontal",
            "min": 0,
            "description_tooltip": null,
            "_model_module": "@jupyter-widgets/controls",
            "layout": "IPY_MODEL_27b614d8b90749f988072e60ec782191"
          }
        },
        "c3c834f7171449aa97dba668a5dc36f6": {
          "model_module": "@jupyter-widgets/controls",
          "model_name": "HTMLModel",
          "state": {
            "_view_name": "HTMLView",
            "style": "IPY_MODEL_0198b0b187b9470fb281d4b33b26d63e",
            "_dom_classes": [],
            "description": "",
            "_model_name": "HTMLModel",
            "placeholder": "​",
            "_view_module": "@jupyter-widgets/controls",
            "_model_module_version": "1.5.0",
            "value": " 1.96M/1.96M [00:02&lt;00:00, 910kB/s]",
            "_view_count": null,
            "_view_module_version": "1.5.0",
            "description_tooltip": null,
            "_model_module": "@jupyter-widgets/controls",
            "layout": "IPY_MODEL_e941234f9ee846cf94f8463568ad850b"
          }
        },
        "6ae1483bf7344f40adcd5e6e6b0a253c": {
          "model_module": "@jupyter-widgets/controls",
          "model_name": "ProgressStyleModel",
          "state": {
            "_view_name": "StyleView",
            "_model_name": "ProgressStyleModel",
            "description_width": "initial",
            "_view_module": "@jupyter-widgets/base",
            "_model_module_version": "1.5.0",
            "_view_count": null,
            "_view_module_version": "1.2.0",
            "bar_color": null,
            "_model_module": "@jupyter-widgets/controls"
          }
        },
        "27b614d8b90749f988072e60ec782191": {
          "model_module": "@jupyter-widgets/base",
          "model_name": "LayoutModel",
          "state": {
            "_view_name": "LayoutView",
            "grid_template_rows": null,
            "right": null,
            "justify_content": null,
            "_view_module": "@jupyter-widgets/base",
            "overflow": null,
            "_model_module_version": "1.2.0",
            "_view_count": null,
            "flex_flow": null,
            "width": null,
            "min_width": null,
            "border": null,
            "align_items": null,
            "bottom": null,
            "_model_module": "@jupyter-widgets/base",
            "top": null,
            "grid_column": null,
            "overflow_y": null,
            "overflow_x": null,
            "grid_auto_flow": null,
            "grid_area": null,
            "grid_template_columns": null,
            "flex": null,
            "_model_name": "LayoutModel",
            "justify_items": null,
            "grid_row": null,
            "max_height": null,
            "align_content": null,
            "visibility": null,
            "align_self": null,
            "height": null,
            "min_height": null,
            "padding": null,
            "grid_auto_rows": null,
            "grid_gap": null,
            "max_width": null,
            "order": null,
            "_view_module_version": "1.2.0",
            "grid_template_areas": null,
            "object_position": null,
            "object_fit": null,
            "grid_auto_columns": null,
            "margin": null,
            "display": null,
            "left": null
          }
        },
        "0198b0b187b9470fb281d4b33b26d63e": {
          "model_module": "@jupyter-widgets/controls",
          "model_name": "DescriptionStyleModel",
          "state": {
            "_view_name": "StyleView",
            "_model_name": "DescriptionStyleModel",
            "description_width": "",
            "_view_module": "@jupyter-widgets/base",
            "_model_module_version": "1.5.0",
            "_view_count": null,
            "_view_module_version": "1.2.0",
            "_model_module": "@jupyter-widgets/controls"
          }
        },
        "e941234f9ee846cf94f8463568ad850b": {
          "model_module": "@jupyter-widgets/base",
          "model_name": "LayoutModel",
          "state": {
            "_view_name": "LayoutView",
            "grid_template_rows": null,
            "right": null,
            "justify_content": null,
            "_view_module": "@jupyter-widgets/base",
            "overflow": null,
            "_model_module_version": "1.2.0",
            "_view_count": null,
            "flex_flow": null,
            "width": null,
            "min_width": null,
            "border": null,
            "align_items": null,
            "bottom": null,
            "_model_module": "@jupyter-widgets/base",
            "top": null,
            "grid_column": null,
            "overflow_y": null,
            "overflow_x": null,
            "grid_auto_flow": null,
            "grid_area": null,
            "grid_template_columns": null,
            "flex": null,
            "_model_name": "LayoutModel",
            "justify_items": null,
            "grid_row": null,
            "max_height": null,
            "align_content": null,
            "visibility": null,
            "align_self": null,
            "height": null,
            "min_height": null,
            "padding": null,
            "grid_auto_rows": null,
            "grid_gap": null,
            "max_width": null,
            "order": null,
            "_view_module_version": "1.2.0",
            "grid_template_areas": null,
            "object_position": null,
            "object_fit": null,
            "grid_auto_columns": null,
            "margin": null,
            "display": null,
            "left": null
          }
        },
        "2e60cfbb6a374875955303fb9ef71684": {
          "model_module": "@jupyter-widgets/controls",
          "model_name": "HBoxModel",
          "state": {
            "_view_name": "HBoxView",
            "_dom_classes": [],
            "_model_name": "HBoxModel",
            "_view_module": "@jupyter-widgets/controls",
            "_model_module_version": "1.5.0",
            "_view_count": null,
            "_view_module_version": "1.5.0",
            "box_style": "",
            "layout": "IPY_MODEL_f10f7b5004d94d81bbd514846f868d65",
            "_model_module": "@jupyter-widgets/controls",
            "children": [
              "IPY_MODEL_675ff888527346debf75d2ca95d6a8cd",
              "IPY_MODEL_f298de815541444cab57f1da92e93d79"
            ]
          }
        },
        "f10f7b5004d94d81bbd514846f868d65": {
          "model_module": "@jupyter-widgets/base",
          "model_name": "LayoutModel",
          "state": {
            "_view_name": "LayoutView",
            "grid_template_rows": null,
            "right": null,
            "justify_content": null,
            "_view_module": "@jupyter-widgets/base",
            "overflow": null,
            "_model_module_version": "1.2.0",
            "_view_count": null,
            "flex_flow": null,
            "width": null,
            "min_width": null,
            "border": null,
            "align_items": null,
            "bottom": null,
            "_model_module": "@jupyter-widgets/base",
            "top": null,
            "grid_column": null,
            "overflow_y": null,
            "overflow_x": null,
            "grid_auto_flow": null,
            "grid_area": null,
            "grid_template_columns": null,
            "flex": null,
            "_model_name": "LayoutModel",
            "justify_items": null,
            "grid_row": null,
            "max_height": null,
            "align_content": null,
            "visibility": null,
            "align_self": null,
            "height": null,
            "min_height": null,
            "padding": null,
            "grid_auto_rows": null,
            "grid_gap": null,
            "max_width": null,
            "order": null,
            "_view_module_version": "1.2.0",
            "grid_template_areas": null,
            "object_position": null,
            "object_fit": null,
            "grid_auto_columns": null,
            "margin": null,
            "display": null,
            "left": null
          }
        },
        "675ff888527346debf75d2ca95d6a8cd": {
          "model_module": "@jupyter-widgets/controls",
          "model_name": "FloatProgressModel",
          "state": {
            "_view_name": "ProgressView",
            "style": "IPY_MODEL_4802b3c166f74dfa846f157a25c5d88e",
            "_dom_classes": [],
            "description": "Downloading: 100%",
            "_model_name": "FloatProgressModel",
            "bar_style": "success",
            "max": 29,
            "_view_module": "@jupyter-widgets/controls",
            "_model_module_version": "1.5.0",
            "value": 29,
            "_view_count": null,
            "_view_module_version": "1.5.0",
            "orientation": "horizontal",
            "min": 0,
            "description_tooltip": null,
            "_model_module": "@jupyter-widgets/controls",
            "layout": "IPY_MODEL_e4f6013e676048988ffcbefb6b211a03"
          }
        },
        "f298de815541444cab57f1da92e93d79": {
          "model_module": "@jupyter-widgets/controls",
          "model_name": "HTMLModel",
          "state": {
            "_view_name": "HTMLView",
            "style": "IPY_MODEL_550332d8031e4089913332af5c74ba1c",
            "_dom_classes": [],
            "description": "",
            "_model_name": "HTMLModel",
            "placeholder": "​",
            "_view_module": "@jupyter-widgets/controls",
            "_model_module_version": "1.5.0",
            "value": " 29.0/29.0 [00:00&lt;00:00, 60.7B/s]",
            "_view_count": null,
            "_view_module_version": "1.5.0",
            "description_tooltip": null,
            "_model_module": "@jupyter-widgets/controls",
            "layout": "IPY_MODEL_afe774e70d9a403caf50b500f6f6b634"
          }
        },
        "4802b3c166f74dfa846f157a25c5d88e": {
          "model_module": "@jupyter-widgets/controls",
          "model_name": "ProgressStyleModel",
          "state": {
            "_view_name": "StyleView",
            "_model_name": "ProgressStyleModel",
            "description_width": "initial",
            "_view_module": "@jupyter-widgets/base",
            "_model_module_version": "1.5.0",
            "_view_count": null,
            "_view_module_version": "1.2.0",
            "bar_color": null,
            "_model_module": "@jupyter-widgets/controls"
          }
        },
        "e4f6013e676048988ffcbefb6b211a03": {
          "model_module": "@jupyter-widgets/base",
          "model_name": "LayoutModel",
          "state": {
            "_view_name": "LayoutView",
            "grid_template_rows": null,
            "right": null,
            "justify_content": null,
            "_view_module": "@jupyter-widgets/base",
            "overflow": null,
            "_model_module_version": "1.2.0",
            "_view_count": null,
            "flex_flow": null,
            "width": null,
            "min_width": null,
            "border": null,
            "align_items": null,
            "bottom": null,
            "_model_module": "@jupyter-widgets/base",
            "top": null,
            "grid_column": null,
            "overflow_y": null,
            "overflow_x": null,
            "grid_auto_flow": null,
            "grid_area": null,
            "grid_template_columns": null,
            "flex": null,
            "_model_name": "LayoutModel",
            "justify_items": null,
            "grid_row": null,
            "max_height": null,
            "align_content": null,
            "visibility": null,
            "align_self": null,
            "height": null,
            "min_height": null,
            "padding": null,
            "grid_auto_rows": null,
            "grid_gap": null,
            "max_width": null,
            "order": null,
            "_view_module_version": "1.2.0",
            "grid_template_areas": null,
            "object_position": null,
            "object_fit": null,
            "grid_auto_columns": null,
            "margin": null,
            "display": null,
            "left": null
          }
        },
        "550332d8031e4089913332af5c74ba1c": {
          "model_module": "@jupyter-widgets/controls",
          "model_name": "DescriptionStyleModel",
          "state": {
            "_view_name": "StyleView",
            "_model_name": "DescriptionStyleModel",
            "description_width": "",
            "_view_module": "@jupyter-widgets/base",
            "_model_module_version": "1.5.0",
            "_view_count": null,
            "_view_module_version": "1.2.0",
            "_model_module": "@jupyter-widgets/controls"
          }
        },
        "afe774e70d9a403caf50b500f6f6b634": {
          "model_module": "@jupyter-widgets/base",
          "model_name": "LayoutModel",
          "state": {
            "_view_name": "LayoutView",
            "grid_template_rows": null,
            "right": null,
            "justify_content": null,
            "_view_module": "@jupyter-widgets/base",
            "overflow": null,
            "_model_module_version": "1.2.0",
            "_view_count": null,
            "flex_flow": null,
            "width": null,
            "min_width": null,
            "border": null,
            "align_items": null,
            "bottom": null,
            "_model_module": "@jupyter-widgets/base",
            "top": null,
            "grid_column": null,
            "overflow_y": null,
            "overflow_x": null,
            "grid_auto_flow": null,
            "grid_area": null,
            "grid_template_columns": null,
            "flex": null,
            "_model_name": "LayoutModel",
            "justify_items": null,
            "grid_row": null,
            "max_height": null,
            "align_content": null,
            "visibility": null,
            "align_self": null,
            "height": null,
            "min_height": null,
            "padding": null,
            "grid_auto_rows": null,
            "grid_gap": null,
            "max_width": null,
            "order": null,
            "_view_module_version": "1.2.0",
            "grid_template_areas": null,
            "object_position": null,
            "object_fit": null,
            "grid_auto_columns": null,
            "margin": null,
            "display": null,
            "left": null
          }
        },
        "e85d2b21aab346fd8660156f0b4f1626": {
          "model_module": "@jupyter-widgets/controls",
          "model_name": "HBoxModel",
          "state": {
            "_view_name": "HBoxView",
            "_dom_classes": [],
            "_model_name": "HBoxModel",
            "_view_module": "@jupyter-widgets/controls",
            "_model_module_version": "1.5.0",
            "_view_count": null,
            "_view_module_version": "1.5.0",
            "box_style": "",
            "layout": "IPY_MODEL_4d20800e959548df808a21af091dc6ee",
            "_model_module": "@jupyter-widgets/controls",
            "children": [
              "IPY_MODEL_c3c40a6025ec477aa4c03bde9aa62025",
              "IPY_MODEL_263af8d4ac8f4c07aa74372ba27d8688"
            ]
          }
        },
        "4d20800e959548df808a21af091dc6ee": {
          "model_module": "@jupyter-widgets/base",
          "model_name": "LayoutModel",
          "state": {
            "_view_name": "LayoutView",
            "grid_template_rows": null,
            "right": null,
            "justify_content": null,
            "_view_module": "@jupyter-widgets/base",
            "overflow": null,
            "_model_module_version": "1.2.0",
            "_view_count": null,
            "flex_flow": null,
            "width": null,
            "min_width": null,
            "border": null,
            "align_items": null,
            "bottom": null,
            "_model_module": "@jupyter-widgets/base",
            "top": null,
            "grid_column": null,
            "overflow_y": null,
            "overflow_x": null,
            "grid_auto_flow": null,
            "grid_area": null,
            "grid_template_columns": null,
            "flex": null,
            "_model_name": "LayoutModel",
            "justify_items": null,
            "grid_row": null,
            "max_height": null,
            "align_content": null,
            "visibility": null,
            "align_self": null,
            "height": null,
            "min_height": null,
            "padding": null,
            "grid_auto_rows": null,
            "grid_gap": null,
            "max_width": null,
            "order": null,
            "_view_module_version": "1.2.0",
            "grid_template_areas": null,
            "object_position": null,
            "object_fit": null,
            "grid_auto_columns": null,
            "margin": null,
            "display": null,
            "left": null
          }
        },
        "c3c40a6025ec477aa4c03bde9aa62025": {
          "model_module": "@jupyter-widgets/controls",
          "model_name": "FloatProgressModel",
          "state": {
            "_view_name": "ProgressView",
            "style": "IPY_MODEL_cdf1d5713f96436ea23557b8c5def595",
            "_dom_classes": [],
            "description": "Downloading: ",
            "_model_name": "FloatProgressModel",
            "bar_style": "success",
            "max": 1745,
            "_view_module": "@jupyter-widgets/controls",
            "_model_module_version": "1.5.0",
            "value": 1745,
            "_view_count": null,
            "_view_module_version": "1.5.0",
            "orientation": "horizontal",
            "min": 0,
            "description_tooltip": null,
            "_model_module": "@jupyter-widgets/controls",
            "layout": "IPY_MODEL_adaf6f64036f48d09dfe686516678277"
          }
        },
        "263af8d4ac8f4c07aa74372ba27d8688": {
          "model_module": "@jupyter-widgets/controls",
          "model_name": "HTMLModel",
          "state": {
            "_view_name": "HTMLView",
            "style": "IPY_MODEL_65e005c2360d4ac8b1baa12669a7e007",
            "_dom_classes": [],
            "description": "",
            "_model_name": "HTMLModel",
            "placeholder": "​",
            "_view_module": "@jupyter-widgets/controls",
            "_model_module_version": "1.5.0",
            "value": " 4.56k/? [00:00&lt;00:00, 64.6kB/s]",
            "_view_count": null,
            "_view_module_version": "1.5.0",
            "description_tooltip": null,
            "_model_module": "@jupyter-widgets/controls",
            "layout": "IPY_MODEL_41b1b0ff3c59481195db2112b97b3932"
          }
        },
        "cdf1d5713f96436ea23557b8c5def595": {
          "model_module": "@jupyter-widgets/controls",
          "model_name": "ProgressStyleModel",
          "state": {
            "_view_name": "StyleView",
            "_model_name": "ProgressStyleModel",
            "description_width": "initial",
            "_view_module": "@jupyter-widgets/base",
            "_model_module_version": "1.5.0",
            "_view_count": null,
            "_view_module_version": "1.2.0",
            "bar_color": null,
            "_model_module": "@jupyter-widgets/controls"
          }
        },
        "adaf6f64036f48d09dfe686516678277": {
          "model_module": "@jupyter-widgets/base",
          "model_name": "LayoutModel",
          "state": {
            "_view_name": "LayoutView",
            "grid_template_rows": null,
            "right": null,
            "justify_content": null,
            "_view_module": "@jupyter-widgets/base",
            "overflow": null,
            "_model_module_version": "1.2.0",
            "_view_count": null,
            "flex_flow": null,
            "width": null,
            "min_width": null,
            "border": null,
            "align_items": null,
            "bottom": null,
            "_model_module": "@jupyter-widgets/base",
            "top": null,
            "grid_column": null,
            "overflow_y": null,
            "overflow_x": null,
            "grid_auto_flow": null,
            "grid_area": null,
            "grid_template_columns": null,
            "flex": null,
            "_model_name": "LayoutModel",
            "justify_items": null,
            "grid_row": null,
            "max_height": null,
            "align_content": null,
            "visibility": null,
            "align_self": null,
            "height": null,
            "min_height": null,
            "padding": null,
            "grid_auto_rows": null,
            "grid_gap": null,
            "max_width": null,
            "order": null,
            "_view_module_version": "1.2.0",
            "grid_template_areas": null,
            "object_position": null,
            "object_fit": null,
            "grid_auto_columns": null,
            "margin": null,
            "display": null,
            "left": null
          }
        },
        "65e005c2360d4ac8b1baa12669a7e007": {
          "model_module": "@jupyter-widgets/controls",
          "model_name": "DescriptionStyleModel",
          "state": {
            "_view_name": "StyleView",
            "_model_name": "DescriptionStyleModel",
            "description_width": "",
            "_view_module": "@jupyter-widgets/base",
            "_model_module_version": "1.5.0",
            "_view_count": null,
            "_view_module_version": "1.2.0",
            "_model_module": "@jupyter-widgets/controls"
          }
        },
        "41b1b0ff3c59481195db2112b97b3932": {
          "model_module": "@jupyter-widgets/base",
          "model_name": "LayoutModel",
          "state": {
            "_view_name": "LayoutView",
            "grid_template_rows": null,
            "right": null,
            "justify_content": null,
            "_view_module": "@jupyter-widgets/base",
            "overflow": null,
            "_model_module_version": "1.2.0",
            "_view_count": null,
            "flex_flow": null,
            "width": null,
            "min_width": null,
            "border": null,
            "align_items": null,
            "bottom": null,
            "_model_module": "@jupyter-widgets/base",
            "top": null,
            "grid_column": null,
            "overflow_y": null,
            "overflow_x": null,
            "grid_auto_flow": null,
            "grid_area": null,
            "grid_template_columns": null,
            "flex": null,
            "_model_name": "LayoutModel",
            "justify_items": null,
            "grid_row": null,
            "max_height": null,
            "align_content": null,
            "visibility": null,
            "align_self": null,
            "height": null,
            "min_height": null,
            "padding": null,
            "grid_auto_rows": null,
            "grid_gap": null,
            "max_width": null,
            "order": null,
            "_view_module_version": "1.2.0",
            "grid_template_areas": null,
            "object_position": null,
            "object_fit": null,
            "grid_auto_columns": null,
            "margin": null,
            "display": null,
            "left": null
          }
        },
        "25fd6dbffbe14a1daeb7f2fe6c26d825": {
          "model_module": "@jupyter-widgets/controls",
          "model_name": "HBoxModel",
          "state": {
            "_view_name": "HBoxView",
            "_dom_classes": [],
            "_model_name": "HBoxModel",
            "_view_module": "@jupyter-widgets/controls",
            "_model_module_version": "1.5.0",
            "_view_count": null,
            "_view_module_version": "1.5.0",
            "box_style": "",
            "layout": "IPY_MODEL_20cce31a57a64744b5286e34b8a23eb0",
            "_model_module": "@jupyter-widgets/controls",
            "children": [
              "IPY_MODEL_f348779ecb1347358a8defeb23d6a5d5",
              "IPY_MODEL_d3a4fb3d175a494a87383ce0e45b8067"
            ]
          }
        },
        "20cce31a57a64744b5286e34b8a23eb0": {
          "model_module": "@jupyter-widgets/base",
          "model_name": "LayoutModel",
          "state": {
            "_view_name": "LayoutView",
            "grid_template_rows": null,
            "right": null,
            "justify_content": null,
            "_view_module": "@jupyter-widgets/base",
            "overflow": null,
            "_model_module_version": "1.2.0",
            "_view_count": null,
            "flex_flow": null,
            "width": null,
            "min_width": null,
            "border": null,
            "align_items": null,
            "bottom": null,
            "_model_module": "@jupyter-widgets/base",
            "top": null,
            "grid_column": null,
            "overflow_y": null,
            "overflow_x": null,
            "grid_auto_flow": null,
            "grid_area": null,
            "grid_template_columns": null,
            "flex": null,
            "_model_name": "LayoutModel",
            "justify_items": null,
            "grid_row": null,
            "max_height": null,
            "align_content": null,
            "visibility": null,
            "align_self": null,
            "height": null,
            "min_height": null,
            "padding": null,
            "grid_auto_rows": null,
            "grid_gap": null,
            "max_width": null,
            "order": null,
            "_view_module_version": "1.2.0",
            "grid_template_areas": null,
            "object_position": null,
            "object_fit": null,
            "grid_auto_columns": null,
            "margin": null,
            "display": null,
            "left": null
          }
        },
        "f348779ecb1347358a8defeb23d6a5d5": {
          "model_module": "@jupyter-widgets/controls",
          "model_name": "FloatProgressModel",
          "state": {
            "_view_name": "ProgressView",
            "style": "IPY_MODEL_96aebba26a2648728ebee7d02d0081cd",
            "_dom_classes": [],
            "description": "Downloading: ",
            "_model_name": "FloatProgressModel",
            "bar_style": "success",
            "max": 962,
            "_view_module": "@jupyter-widgets/controls",
            "_model_module_version": "1.5.0",
            "value": 962,
            "_view_count": null,
            "_view_module_version": "1.5.0",
            "orientation": "horizontal",
            "min": 0,
            "description_tooltip": null,
            "_model_module": "@jupyter-widgets/controls",
            "layout": "IPY_MODEL_c9cc620c2e2c4b609f0b8bdcf9545384"
          }
        },
        "d3a4fb3d175a494a87383ce0e45b8067": {
          "model_module": "@jupyter-widgets/controls",
          "model_name": "HTMLModel",
          "state": {
            "_view_name": "HTMLView",
            "style": "IPY_MODEL_15eb5ab914d841959b7a40af794bfc1a",
            "_dom_classes": [],
            "description": "",
            "_model_name": "HTMLModel",
            "placeholder": "​",
            "_view_module": "@jupyter-widgets/controls",
            "_model_module_version": "1.5.0",
            "value": " 2.24k/? [00:00&lt;00:00, 5.82kB/s]",
            "_view_count": null,
            "_view_module_version": "1.5.0",
            "description_tooltip": null,
            "_model_module": "@jupyter-widgets/controls",
            "layout": "IPY_MODEL_018ee99117be4e68a0ce95b329ebae2d"
          }
        },
        "96aebba26a2648728ebee7d02d0081cd": {
          "model_module": "@jupyter-widgets/controls",
          "model_name": "ProgressStyleModel",
          "state": {
            "_view_name": "StyleView",
            "_model_name": "ProgressStyleModel",
            "description_width": "initial",
            "_view_module": "@jupyter-widgets/base",
            "_model_module_version": "1.5.0",
            "_view_count": null,
            "_view_module_version": "1.2.0",
            "bar_color": null,
            "_model_module": "@jupyter-widgets/controls"
          }
        },
        "c9cc620c2e2c4b609f0b8bdcf9545384": {
          "model_module": "@jupyter-widgets/base",
          "model_name": "LayoutModel",
          "state": {
            "_view_name": "LayoutView",
            "grid_template_rows": null,
            "right": null,
            "justify_content": null,
            "_view_module": "@jupyter-widgets/base",
            "overflow": null,
            "_model_module_version": "1.2.0",
            "_view_count": null,
            "flex_flow": null,
            "width": null,
            "min_width": null,
            "border": null,
            "align_items": null,
            "bottom": null,
            "_model_module": "@jupyter-widgets/base",
            "top": null,
            "grid_column": null,
            "overflow_y": null,
            "overflow_x": null,
            "grid_auto_flow": null,
            "grid_area": null,
            "grid_template_columns": null,
            "flex": null,
            "_model_name": "LayoutModel",
            "justify_items": null,
            "grid_row": null,
            "max_height": null,
            "align_content": null,
            "visibility": null,
            "align_self": null,
            "height": null,
            "min_height": null,
            "padding": null,
            "grid_auto_rows": null,
            "grid_gap": null,
            "max_width": null,
            "order": null,
            "_view_module_version": "1.2.0",
            "grid_template_areas": null,
            "object_position": null,
            "object_fit": null,
            "grid_auto_columns": null,
            "margin": null,
            "display": null,
            "left": null
          }
        },
        "15eb5ab914d841959b7a40af794bfc1a": {
          "model_module": "@jupyter-widgets/controls",
          "model_name": "DescriptionStyleModel",
          "state": {
            "_view_name": "StyleView",
            "_model_name": "DescriptionStyleModel",
            "description_width": "",
            "_view_module": "@jupyter-widgets/base",
            "_model_module_version": "1.5.0",
            "_view_count": null,
            "_view_module_version": "1.2.0",
            "_model_module": "@jupyter-widgets/controls"
          }
        },
        "018ee99117be4e68a0ce95b329ebae2d": {
          "model_module": "@jupyter-widgets/base",
          "model_name": "LayoutModel",
          "state": {
            "_view_name": "LayoutView",
            "grid_template_rows": null,
            "right": null,
            "justify_content": null,
            "_view_module": "@jupyter-widgets/base",
            "overflow": null,
            "_model_module_version": "1.2.0",
            "_view_count": null,
            "flex_flow": null,
            "width": null,
            "min_width": null,
            "border": null,
            "align_items": null,
            "bottom": null,
            "_model_module": "@jupyter-widgets/base",
            "top": null,
            "grid_column": null,
            "overflow_y": null,
            "overflow_x": null,
            "grid_auto_flow": null,
            "grid_area": null,
            "grid_template_columns": null,
            "flex": null,
            "_model_name": "LayoutModel",
            "justify_items": null,
            "grid_row": null,
            "max_height": null,
            "align_content": null,
            "visibility": null,
            "align_self": null,
            "height": null,
            "min_height": null,
            "padding": null,
            "grid_auto_rows": null,
            "grid_gap": null,
            "max_width": null,
            "order": null,
            "_view_module_version": "1.2.0",
            "grid_template_areas": null,
            "object_position": null,
            "object_fit": null,
            "grid_auto_columns": null,
            "margin": null,
            "display": null,
            "left": null
          }
        },
        "0046b65ad87d4aabb3db6839f6a45e43": {
          "model_module": "@jupyter-widgets/controls",
          "model_name": "HBoxModel",
          "state": {
            "_view_name": "HBoxView",
            "_dom_classes": [],
            "_model_name": "HBoxModel",
            "_view_module": "@jupyter-widgets/controls",
            "_model_module_version": "1.5.0",
            "_view_count": null,
            "_view_module_version": "1.5.0",
            "box_style": "",
            "layout": "IPY_MODEL_3adf7ee770134ff9907a919b01a41094",
            "_model_module": "@jupyter-widgets/controls",
            "children": [
              "IPY_MODEL_71a4964a202243d9aba5f6d989a7a519",
              "IPY_MODEL_c358778eb1bd4a21b6d23fc38fcb912e"
            ]
          }
        },
        "3adf7ee770134ff9907a919b01a41094": {
          "model_module": "@jupyter-widgets/base",
          "model_name": "LayoutModel",
          "state": {
            "_view_name": "LayoutView",
            "grid_template_rows": null,
            "right": null,
            "justify_content": null,
            "_view_module": "@jupyter-widgets/base",
            "overflow": null,
            "_model_module_version": "1.2.0",
            "_view_count": null,
            "flex_flow": null,
            "width": null,
            "min_width": null,
            "border": null,
            "align_items": null,
            "bottom": null,
            "_model_module": "@jupyter-widgets/base",
            "top": null,
            "grid_column": null,
            "overflow_y": null,
            "overflow_x": null,
            "grid_auto_flow": null,
            "grid_area": null,
            "grid_template_columns": null,
            "flex": null,
            "_model_name": "LayoutModel",
            "justify_items": null,
            "grid_row": null,
            "max_height": null,
            "align_content": null,
            "visibility": null,
            "align_self": null,
            "height": null,
            "min_height": null,
            "padding": null,
            "grid_auto_rows": null,
            "grid_gap": null,
            "max_width": null,
            "order": null,
            "_view_module_version": "1.2.0",
            "grid_template_areas": null,
            "object_position": null,
            "object_fit": null,
            "grid_auto_columns": null,
            "margin": null,
            "display": null,
            "left": null
          }
        },
        "71a4964a202243d9aba5f6d989a7a519": {
          "model_module": "@jupyter-widgets/controls",
          "model_name": "FloatProgressModel",
          "state": {
            "_view_name": "ProgressView",
            "style": "IPY_MODEL_47f2531cc2d94247acf9bfad33dfce37",
            "_dom_classes": [],
            "description": "Downloading: ",
            "_model_name": "FloatProgressModel",
            "bar_style": "success",
            "max": 7568316,
            "_view_module": "@jupyter-widgets/controls",
            "_model_module_version": "1.5.0",
            "value": 7568316,
            "_view_count": null,
            "_view_module_version": "1.5.0",
            "orientation": "horizontal",
            "min": 0,
            "description_tooltip": null,
            "_model_module": "@jupyter-widgets/controls",
            "layout": "IPY_MODEL_0c369da27b2547f2a837dc308bf39511"
          }
        },
        "c358778eb1bd4a21b6d23fc38fcb912e": {
          "model_module": "@jupyter-widgets/controls",
          "model_name": "HTMLModel",
          "state": {
            "_view_name": "HTMLView",
            "style": "IPY_MODEL_7431915e63684b388a9a5b94257e1afc",
            "_dom_classes": [],
            "description": "",
            "_model_name": "HTMLModel",
            "placeholder": "​",
            "_view_module": "@jupyter-widgets/controls",
            "_model_module_version": "1.5.0",
            "value": " 38.5M/? [00:00&lt;00:00, 44.6MB/s]",
            "_view_count": null,
            "_view_module_version": "1.5.0",
            "description_tooltip": null,
            "_model_module": "@jupyter-widgets/controls",
            "layout": "IPY_MODEL_a8fc3de491644be994b275742d0d2839"
          }
        },
        "47f2531cc2d94247acf9bfad33dfce37": {
          "model_module": "@jupyter-widgets/controls",
          "model_name": "ProgressStyleModel",
          "state": {
            "_view_name": "StyleView",
            "_model_name": "ProgressStyleModel",
            "description_width": "initial",
            "_view_module": "@jupyter-widgets/base",
            "_model_module_version": "1.5.0",
            "_view_count": null,
            "_view_module_version": "1.2.0",
            "bar_color": null,
            "_model_module": "@jupyter-widgets/controls"
          }
        },
        "0c369da27b2547f2a837dc308bf39511": {
          "model_module": "@jupyter-widgets/base",
          "model_name": "LayoutModel",
          "state": {
            "_view_name": "LayoutView",
            "grid_template_rows": null,
            "right": null,
            "justify_content": null,
            "_view_module": "@jupyter-widgets/base",
            "overflow": null,
            "_model_module_version": "1.2.0",
            "_view_count": null,
            "flex_flow": null,
            "width": null,
            "min_width": null,
            "border": null,
            "align_items": null,
            "bottom": null,
            "_model_module": "@jupyter-widgets/base",
            "top": null,
            "grid_column": null,
            "overflow_y": null,
            "overflow_x": null,
            "grid_auto_flow": null,
            "grid_area": null,
            "grid_template_columns": null,
            "flex": null,
            "_model_name": "LayoutModel",
            "justify_items": null,
            "grid_row": null,
            "max_height": null,
            "align_content": null,
            "visibility": null,
            "align_self": null,
            "height": null,
            "min_height": null,
            "padding": null,
            "grid_auto_rows": null,
            "grid_gap": null,
            "max_width": null,
            "order": null,
            "_view_module_version": "1.2.0",
            "grid_template_areas": null,
            "object_position": null,
            "object_fit": null,
            "grid_auto_columns": null,
            "margin": null,
            "display": null,
            "left": null
          }
        },
        "7431915e63684b388a9a5b94257e1afc": {
          "model_module": "@jupyter-widgets/controls",
          "model_name": "DescriptionStyleModel",
          "state": {
            "_view_name": "StyleView",
            "_model_name": "DescriptionStyleModel",
            "description_width": "",
            "_view_module": "@jupyter-widgets/base",
            "_model_module_version": "1.5.0",
            "_view_count": null,
            "_view_module_version": "1.2.0",
            "_model_module": "@jupyter-widgets/controls"
          }
        },
        "a8fc3de491644be994b275742d0d2839": {
          "model_module": "@jupyter-widgets/base",
          "model_name": "LayoutModel",
          "state": {
            "_view_name": "LayoutView",
            "grid_template_rows": null,
            "right": null,
            "justify_content": null,
            "_view_module": "@jupyter-widgets/base",
            "overflow": null,
            "_model_module_version": "1.2.0",
            "_view_count": null,
            "flex_flow": null,
            "width": null,
            "min_width": null,
            "border": null,
            "align_items": null,
            "bottom": null,
            "_model_module": "@jupyter-widgets/base",
            "top": null,
            "grid_column": null,
            "overflow_y": null,
            "overflow_x": null,
            "grid_auto_flow": null,
            "grid_area": null,
            "grid_template_columns": null,
            "flex": null,
            "_model_name": "LayoutModel",
            "justify_items": null,
            "grid_row": null,
            "max_height": null,
            "align_content": null,
            "visibility": null,
            "align_self": null,
            "height": null,
            "min_height": null,
            "padding": null,
            "grid_auto_rows": null,
            "grid_gap": null,
            "max_width": null,
            "order": null,
            "_view_module_version": "1.2.0",
            "grid_template_areas": null,
            "object_position": null,
            "object_fit": null,
            "grid_auto_columns": null,
            "margin": null,
            "display": null,
            "left": null
          }
        },
        "4ee21cf656f24fe99109f1c1aab0a326": {
          "model_module": "@jupyter-widgets/controls",
          "model_name": "HBoxModel",
          "state": {
            "_view_name": "HBoxView",
            "_dom_classes": [],
            "_model_name": "HBoxModel",
            "_view_module": "@jupyter-widgets/controls",
            "_model_module_version": "1.5.0",
            "_view_count": null,
            "_view_module_version": "1.5.0",
            "box_style": "",
            "layout": "IPY_MODEL_4bc4175845724f02acfbab62e17e5a13",
            "_model_module": "@jupyter-widgets/controls",
            "children": [
              "IPY_MODEL_197b781498a84d55bbc6f907ef8f674e",
              "IPY_MODEL_2d0c18f40df347109cc74588792bf467"
            ]
          }
        },
        "4bc4175845724f02acfbab62e17e5a13": {
          "model_module": "@jupyter-widgets/base",
          "model_name": "LayoutModel",
          "state": {
            "_view_name": "LayoutView",
            "grid_template_rows": null,
            "right": null,
            "justify_content": null,
            "_view_module": "@jupyter-widgets/base",
            "overflow": null,
            "_model_module_version": "1.2.0",
            "_view_count": null,
            "flex_flow": null,
            "width": null,
            "min_width": null,
            "border": null,
            "align_items": null,
            "bottom": null,
            "_model_module": "@jupyter-widgets/base",
            "top": null,
            "grid_column": null,
            "overflow_y": null,
            "overflow_x": null,
            "grid_auto_flow": null,
            "grid_area": null,
            "grid_template_columns": null,
            "flex": null,
            "_model_name": "LayoutModel",
            "justify_items": null,
            "grid_row": null,
            "max_height": null,
            "align_content": null,
            "visibility": null,
            "align_self": null,
            "height": null,
            "min_height": null,
            "padding": null,
            "grid_auto_rows": null,
            "grid_gap": null,
            "max_width": null,
            "order": null,
            "_view_module_version": "1.2.0",
            "grid_template_areas": null,
            "object_position": null,
            "object_fit": null,
            "grid_auto_columns": null,
            "margin": null,
            "display": null,
            "left": null
          }
        },
        "197b781498a84d55bbc6f907ef8f674e": {
          "model_module": "@jupyter-widgets/controls",
          "model_name": "FloatProgressModel",
          "state": {
            "_view_name": "ProgressView",
            "style": "IPY_MODEL_e71e043875404227892b29c5bf0a5137",
            "_dom_classes": [],
            "description": "Downloading: ",
            "_model_name": "FloatProgressModel",
            "bar_style": "success",
            "max": 770480,
            "_view_module": "@jupyter-widgets/controls",
            "_model_module_version": "1.5.0",
            "value": 770480,
            "_view_count": null,
            "_view_module_version": "1.5.0",
            "orientation": "horizontal",
            "min": 0,
            "description_tooltip": null,
            "_model_module": "@jupyter-widgets/controls",
            "layout": "IPY_MODEL_49894b488a5c4695917bb83b9d927252"
          }
        },
        "2d0c18f40df347109cc74588792bf467": {
          "model_module": "@jupyter-widgets/controls",
          "model_name": "HTMLModel",
          "state": {
            "_view_name": "HTMLView",
            "style": "IPY_MODEL_a9f4120d31844282bd05bf4c70d6308e",
            "_dom_classes": [],
            "description": "",
            "_model_name": "HTMLModel",
            "placeholder": "​",
            "_view_module": "@jupyter-widgets/controls",
            "_model_module_version": "1.5.0",
            "value": " 3.88M/? [00:00&lt;00:00, 16.8MB/s]",
            "_view_count": null,
            "_view_module_version": "1.5.0",
            "description_tooltip": null,
            "_model_module": "@jupyter-widgets/controls",
            "layout": "IPY_MODEL_270887ccf0814faea9c0c091ac3040f7"
          }
        },
        "e71e043875404227892b29c5bf0a5137": {
          "model_module": "@jupyter-widgets/controls",
          "model_name": "ProgressStyleModel",
          "state": {
            "_view_name": "StyleView",
            "_model_name": "ProgressStyleModel",
            "description_width": "initial",
            "_view_module": "@jupyter-widgets/base",
            "_model_module_version": "1.5.0",
            "_view_count": null,
            "_view_module_version": "1.2.0",
            "bar_color": null,
            "_model_module": "@jupyter-widgets/controls"
          }
        },
        "49894b488a5c4695917bb83b9d927252": {
          "model_module": "@jupyter-widgets/base",
          "model_name": "LayoutModel",
          "state": {
            "_view_name": "LayoutView",
            "grid_template_rows": null,
            "right": null,
            "justify_content": null,
            "_view_module": "@jupyter-widgets/base",
            "overflow": null,
            "_model_module_version": "1.2.0",
            "_view_count": null,
            "flex_flow": null,
            "width": null,
            "min_width": null,
            "border": null,
            "align_items": null,
            "bottom": null,
            "_model_module": "@jupyter-widgets/base",
            "top": null,
            "grid_column": null,
            "overflow_y": null,
            "overflow_x": null,
            "grid_auto_flow": null,
            "grid_area": null,
            "grid_template_columns": null,
            "flex": null,
            "_model_name": "LayoutModel",
            "justify_items": null,
            "grid_row": null,
            "max_height": null,
            "align_content": null,
            "visibility": null,
            "align_self": null,
            "height": null,
            "min_height": null,
            "padding": null,
            "grid_auto_rows": null,
            "grid_gap": null,
            "max_width": null,
            "order": null,
            "_view_module_version": "1.2.0",
            "grid_template_areas": null,
            "object_position": null,
            "object_fit": null,
            "grid_auto_columns": null,
            "margin": null,
            "display": null,
            "left": null
          }
        },
        "a9f4120d31844282bd05bf4c70d6308e": {
          "model_module": "@jupyter-widgets/controls",
          "model_name": "DescriptionStyleModel",
          "state": {
            "_view_name": "StyleView",
            "_model_name": "DescriptionStyleModel",
            "description_width": "",
            "_view_module": "@jupyter-widgets/base",
            "_model_module_version": "1.5.0",
            "_view_count": null,
            "_view_module_version": "1.2.0",
            "_model_module": "@jupyter-widgets/controls"
          }
        },
        "270887ccf0814faea9c0c091ac3040f7": {
          "model_module": "@jupyter-widgets/base",
          "model_name": "LayoutModel",
          "state": {
            "_view_name": "LayoutView",
            "grid_template_rows": null,
            "right": null,
            "justify_content": null,
            "_view_module": "@jupyter-widgets/base",
            "overflow": null,
            "_model_module_version": "1.2.0",
            "_view_count": null,
            "flex_flow": null,
            "width": null,
            "min_width": null,
            "border": null,
            "align_items": null,
            "bottom": null,
            "_model_module": "@jupyter-widgets/base",
            "top": null,
            "grid_column": null,
            "overflow_y": null,
            "overflow_x": null,
            "grid_auto_flow": null,
            "grid_area": null,
            "grid_template_columns": null,
            "flex": null,
            "_model_name": "LayoutModel",
            "justify_items": null,
            "grid_row": null,
            "max_height": null,
            "align_content": null,
            "visibility": null,
            "align_self": null,
            "height": null,
            "min_height": null,
            "padding": null,
            "grid_auto_rows": null,
            "grid_gap": null,
            "max_width": null,
            "order": null,
            "_view_module_version": "1.2.0",
            "grid_template_areas": null,
            "object_position": null,
            "object_fit": null,
            "grid_auto_columns": null,
            "margin": null,
            "display": null,
            "left": null
          }
        },
        "7bdc75b5c77d4d6b8397ce80ec274881": {
          "model_module": "@jupyter-widgets/controls",
          "model_name": "HBoxModel",
          "state": {
            "_view_name": "HBoxView",
            "_dom_classes": [],
            "_model_name": "HBoxModel",
            "_view_module": "@jupyter-widgets/controls",
            "_model_module_version": "1.5.0",
            "_view_count": null,
            "_view_module_version": "1.5.0",
            "box_style": "",
            "layout": "IPY_MODEL_c6073c4da45c4b23bd418fe6de588a42",
            "_model_module": "@jupyter-widgets/controls",
            "children": [
              "IPY_MODEL_78ca4014892c4d7db2abfcf031079bc9",
              "IPY_MODEL_f460844e1be44b26bd00e87083e5f1a4"
            ]
          }
        },
        "c6073c4da45c4b23bd418fe6de588a42": {
          "model_module": "@jupyter-widgets/base",
          "model_name": "LayoutModel",
          "state": {
            "_view_name": "LayoutView",
            "grid_template_rows": null,
            "right": null,
            "justify_content": null,
            "_view_module": "@jupyter-widgets/base",
            "overflow": null,
            "_model_module_version": "1.2.0",
            "_view_count": null,
            "flex_flow": null,
            "width": null,
            "min_width": null,
            "border": null,
            "align_items": null,
            "bottom": null,
            "_model_module": "@jupyter-widgets/base",
            "top": null,
            "grid_column": null,
            "overflow_y": null,
            "overflow_x": null,
            "grid_auto_flow": null,
            "grid_area": null,
            "grid_template_columns": null,
            "flex": null,
            "_model_name": "LayoutModel",
            "justify_items": null,
            "grid_row": null,
            "max_height": null,
            "align_content": null,
            "visibility": null,
            "align_self": null,
            "height": null,
            "min_height": null,
            "padding": null,
            "grid_auto_rows": null,
            "grid_gap": null,
            "max_width": null,
            "order": null,
            "_view_module_version": "1.2.0",
            "grid_template_areas": null,
            "object_position": null,
            "object_fit": null,
            "grid_auto_columns": null,
            "margin": null,
            "display": null,
            "left": null
          }
        },
        "78ca4014892c4d7db2abfcf031079bc9": {
          "model_module": "@jupyter-widgets/controls",
          "model_name": "FloatProgressModel",
          "state": {
            "_view_name": "ProgressView",
            "style": "IPY_MODEL_391e5417ea934d9190a3fdf0da6edfe2",
            "_dom_classes": [],
            "description": "",
            "_model_name": "FloatProgressModel",
            "bar_style": "info",
            "max": 1,
            "_view_module": "@jupyter-widgets/controls",
            "_model_module_version": "1.5.0",
            "value": 1,
            "_view_count": null,
            "_view_module_version": "1.5.0",
            "orientation": "horizontal",
            "min": 0,
            "description_tooltip": null,
            "_model_module": "@jupyter-widgets/controls",
            "layout": "IPY_MODEL_7ee18f3608cb4fa4ab6c1e0d158d8cbf"
          }
        },
        "f460844e1be44b26bd00e87083e5f1a4": {
          "model_module": "@jupyter-widgets/controls",
          "model_name": "HTMLModel",
          "state": {
            "_view_name": "HTMLView",
            "style": "IPY_MODEL_c24552e980634dd4a12ed4e2dcbff30f",
            "_dom_classes": [],
            "description": "",
            "_model_name": "HTMLModel",
            "placeholder": "​",
            "_view_module": "@jupyter-widgets/controls",
            "_model_module_version": "1.5.0",
            "value": " 60407/0 [00:06&lt;00:00, 4136.20 examples/s]",
            "_view_count": null,
            "_view_module_version": "1.5.0",
            "description_tooltip": null,
            "_model_module": "@jupyter-widgets/controls",
            "layout": "IPY_MODEL_117af65e062e4874801453db9e8cd873"
          }
        },
        "391e5417ea934d9190a3fdf0da6edfe2": {
          "model_module": "@jupyter-widgets/controls",
          "model_name": "ProgressStyleModel",
          "state": {
            "_view_name": "StyleView",
            "_model_name": "ProgressStyleModel",
            "description_width": "initial",
            "_view_module": "@jupyter-widgets/base",
            "_model_module_version": "1.5.0",
            "_view_count": null,
            "_view_module_version": "1.2.0",
            "bar_color": null,
            "_model_module": "@jupyter-widgets/controls"
          }
        },
        "7ee18f3608cb4fa4ab6c1e0d158d8cbf": {
          "model_module": "@jupyter-widgets/base",
          "model_name": "LayoutModel",
          "state": {
            "_view_name": "LayoutView",
            "grid_template_rows": null,
            "right": null,
            "justify_content": null,
            "_view_module": "@jupyter-widgets/base",
            "overflow": null,
            "_model_module_version": "1.2.0",
            "_view_count": null,
            "flex_flow": null,
            "width": null,
            "min_width": null,
            "border": null,
            "align_items": null,
            "bottom": null,
            "_model_module": "@jupyter-widgets/base",
            "top": null,
            "grid_column": null,
            "overflow_y": null,
            "overflow_x": null,
            "grid_auto_flow": null,
            "grid_area": null,
            "grid_template_columns": null,
            "flex": null,
            "_model_name": "LayoutModel",
            "justify_items": null,
            "grid_row": null,
            "max_height": null,
            "align_content": null,
            "visibility": null,
            "align_self": null,
            "height": null,
            "min_height": null,
            "padding": null,
            "grid_auto_rows": null,
            "grid_gap": null,
            "max_width": null,
            "order": null,
            "_view_module_version": "1.2.0",
            "grid_template_areas": null,
            "object_position": null,
            "object_fit": null,
            "grid_auto_columns": null,
            "margin": null,
            "display": null,
            "left": null
          }
        },
        "c24552e980634dd4a12ed4e2dcbff30f": {
          "model_module": "@jupyter-widgets/controls",
          "model_name": "DescriptionStyleModel",
          "state": {
            "_view_name": "StyleView",
            "_model_name": "DescriptionStyleModel",
            "description_width": "",
            "_view_module": "@jupyter-widgets/base",
            "_model_module_version": "1.5.0",
            "_view_count": null,
            "_view_module_version": "1.2.0",
            "_model_module": "@jupyter-widgets/controls"
          }
        },
        "117af65e062e4874801453db9e8cd873": {
          "model_module": "@jupyter-widgets/base",
          "model_name": "LayoutModel",
          "state": {
            "_view_name": "LayoutView",
            "grid_template_rows": null,
            "right": null,
            "justify_content": null,
            "_view_module": "@jupyter-widgets/base",
            "overflow": null,
            "_model_module_version": "1.2.0",
            "_view_count": null,
            "flex_flow": null,
            "width": null,
            "min_width": null,
            "border": null,
            "align_items": null,
            "bottom": null,
            "_model_module": "@jupyter-widgets/base",
            "top": null,
            "grid_column": null,
            "overflow_y": null,
            "overflow_x": null,
            "grid_auto_flow": null,
            "grid_area": null,
            "grid_template_columns": null,
            "flex": null,
            "_model_name": "LayoutModel",
            "justify_items": null,
            "grid_row": null,
            "max_height": null,
            "align_content": null,
            "visibility": null,
            "align_self": null,
            "height": null,
            "min_height": null,
            "padding": null,
            "grid_auto_rows": null,
            "grid_gap": null,
            "max_width": null,
            "order": null,
            "_view_module_version": "1.2.0",
            "grid_template_areas": null,
            "object_position": null,
            "object_fit": null,
            "grid_auto_columns": null,
            "margin": null,
            "display": null,
            "left": null
          }
        },
        "06c844bfd8a4436a9708c555ee6907a2": {
          "model_module": "@jupyter-widgets/controls",
          "model_name": "HBoxModel",
          "state": {
            "_view_name": "HBoxView",
            "_dom_classes": [],
            "_model_name": "HBoxModel",
            "_view_module": "@jupyter-widgets/controls",
            "_model_module_version": "1.5.0",
            "_view_count": null,
            "_view_module_version": "1.5.0",
            "box_style": "",
            "layout": "IPY_MODEL_0fbbf9b7a82d44819fc7f8a60c7472f3",
            "_model_module": "@jupyter-widgets/controls",
            "children": [
              "IPY_MODEL_ac7c8a72f32248e29edd0a22e55c5d99",
              "IPY_MODEL_45d4a86ad5f14d45959ba5a2c0acb057"
            ]
          }
        },
        "0fbbf9b7a82d44819fc7f8a60c7472f3": {
          "model_module": "@jupyter-widgets/base",
          "model_name": "LayoutModel",
          "state": {
            "_view_name": "LayoutView",
            "grid_template_rows": null,
            "right": null,
            "justify_content": null,
            "_view_module": "@jupyter-widgets/base",
            "overflow": null,
            "_model_module_version": "1.2.0",
            "_view_count": null,
            "flex_flow": null,
            "width": null,
            "min_width": null,
            "border": null,
            "align_items": null,
            "bottom": null,
            "_model_module": "@jupyter-widgets/base",
            "top": null,
            "grid_column": null,
            "overflow_y": null,
            "overflow_x": null,
            "grid_auto_flow": null,
            "grid_area": null,
            "grid_template_columns": null,
            "flex": null,
            "_model_name": "LayoutModel",
            "justify_items": null,
            "grid_row": null,
            "max_height": null,
            "align_content": null,
            "visibility": null,
            "align_self": null,
            "height": null,
            "min_height": null,
            "padding": null,
            "grid_auto_rows": null,
            "grid_gap": null,
            "max_width": null,
            "order": null,
            "_view_module_version": "1.2.0",
            "grid_template_areas": null,
            "object_position": null,
            "object_fit": null,
            "grid_auto_columns": null,
            "margin": null,
            "display": null,
            "left": null
          }
        },
        "ac7c8a72f32248e29edd0a22e55c5d99": {
          "model_module": "@jupyter-widgets/controls",
          "model_name": "FloatProgressModel",
          "state": {
            "_view_name": "ProgressView",
            "style": "IPY_MODEL_6bcbfb432d924ba9899a77f43fdfe9b5",
            "_dom_classes": [],
            "description": "",
            "_model_name": "FloatProgressModel",
            "bar_style": "info",
            "max": 1,
            "_view_module": "@jupyter-widgets/controls",
            "_model_module_version": "1.5.0",
            "value": 1,
            "_view_count": null,
            "_view_module_version": "1.5.0",
            "orientation": "horizontal",
            "min": 0,
            "description_tooltip": null,
            "_model_module": "@jupyter-widgets/controls",
            "layout": "IPY_MODEL_35f89d7530d24fc5904d712687ef3600"
          }
        },
        "45d4a86ad5f14d45959ba5a2c0acb057": {
          "model_module": "@jupyter-widgets/controls",
          "model_name": "HTMLModel",
          "state": {
            "_view_name": "HTMLView",
            "style": "IPY_MODEL_57eb5aa36bc749cdaaea3bbed71e6047",
            "_dom_classes": [],
            "description": "",
            "_model_name": "HTMLModel",
            "placeholder": "​",
            "_view_module": "@jupyter-widgets/controls",
            "_model_module_version": "1.5.0",
            "value": " 5774/0 [00:00&lt;00:00, 19.21 examples/s]",
            "_view_count": null,
            "_view_module_version": "1.5.0",
            "description_tooltip": null,
            "_model_module": "@jupyter-widgets/controls",
            "layout": "IPY_MODEL_d60154a6048c4ae682591b49de29e74e"
          }
        },
        "6bcbfb432d924ba9899a77f43fdfe9b5": {
          "model_module": "@jupyter-widgets/controls",
          "model_name": "ProgressStyleModel",
          "state": {
            "_view_name": "StyleView",
            "_model_name": "ProgressStyleModel",
            "description_width": "initial",
            "_view_module": "@jupyter-widgets/base",
            "_model_module_version": "1.5.0",
            "_view_count": null,
            "_view_module_version": "1.2.0",
            "bar_color": null,
            "_model_module": "@jupyter-widgets/controls"
          }
        },
        "35f89d7530d24fc5904d712687ef3600": {
          "model_module": "@jupyter-widgets/base",
          "model_name": "LayoutModel",
          "state": {
            "_view_name": "LayoutView",
            "grid_template_rows": null,
            "right": null,
            "justify_content": null,
            "_view_module": "@jupyter-widgets/base",
            "overflow": null,
            "_model_module_version": "1.2.0",
            "_view_count": null,
            "flex_flow": null,
            "width": null,
            "min_width": null,
            "border": null,
            "align_items": null,
            "bottom": null,
            "_model_module": "@jupyter-widgets/base",
            "top": null,
            "grid_column": null,
            "overflow_y": null,
            "overflow_x": null,
            "grid_auto_flow": null,
            "grid_area": null,
            "grid_template_columns": null,
            "flex": null,
            "_model_name": "LayoutModel",
            "justify_items": null,
            "grid_row": null,
            "max_height": null,
            "align_content": null,
            "visibility": null,
            "align_self": null,
            "height": null,
            "min_height": null,
            "padding": null,
            "grid_auto_rows": null,
            "grid_gap": null,
            "max_width": null,
            "order": null,
            "_view_module_version": "1.2.0",
            "grid_template_areas": null,
            "object_position": null,
            "object_fit": null,
            "grid_auto_columns": null,
            "margin": null,
            "display": null,
            "left": null
          }
        },
        "57eb5aa36bc749cdaaea3bbed71e6047": {
          "model_module": "@jupyter-widgets/controls",
          "model_name": "DescriptionStyleModel",
          "state": {
            "_view_name": "StyleView",
            "_model_name": "DescriptionStyleModel",
            "description_width": "",
            "_view_module": "@jupyter-widgets/base",
            "_model_module_version": "1.5.0",
            "_view_count": null,
            "_view_module_version": "1.2.0",
            "_model_module": "@jupyter-widgets/controls"
          }
        },
        "d60154a6048c4ae682591b49de29e74e": {
          "model_module": "@jupyter-widgets/base",
          "model_name": "LayoutModel",
          "state": {
            "_view_name": "LayoutView",
            "grid_template_rows": null,
            "right": null,
            "justify_content": null,
            "_view_module": "@jupyter-widgets/base",
            "overflow": null,
            "_model_module_version": "1.2.0",
            "_view_count": null,
            "flex_flow": null,
            "width": null,
            "min_width": null,
            "border": null,
            "align_items": null,
            "bottom": null,
            "_model_module": "@jupyter-widgets/base",
            "top": null,
            "grid_column": null,
            "overflow_y": null,
            "overflow_x": null,
            "grid_auto_flow": null,
            "grid_area": null,
            "grid_template_columns": null,
            "flex": null,
            "_model_name": "LayoutModel",
            "justify_items": null,
            "grid_row": null,
            "max_height": null,
            "align_content": null,
            "visibility": null,
            "align_self": null,
            "height": null,
            "min_height": null,
            "padding": null,
            "grid_auto_rows": null,
            "grid_gap": null,
            "max_width": null,
            "order": null,
            "_view_module_version": "1.2.0",
            "grid_template_areas": null,
            "object_position": null,
            "object_fit": null,
            "grid_auto_columns": null,
            "margin": null,
            "display": null,
            "left": null
          }
        },
        "3073549c3783430eb689f8530a27ecbf": {
          "model_module": "@jupyter-widgets/controls",
          "model_name": "HBoxModel",
          "state": {
            "_view_name": "HBoxView",
            "_dom_classes": [],
            "_model_name": "HBoxModel",
            "_view_module": "@jupyter-widgets/controls",
            "_model_module_version": "1.5.0",
            "_view_count": null,
            "_view_module_version": "1.5.0",
            "box_style": "",
            "layout": "IPY_MODEL_f8f39cab117644f2af4cb511c4f81054",
            "_model_module": "@jupyter-widgets/controls",
            "children": [
              "IPY_MODEL_52cf536744d743da8a4b02011355d48b",
              "IPY_MODEL_e35cb2f46671498c96adc19b9008f14b"
            ]
          }
        },
        "f8f39cab117644f2af4cb511c4f81054": {
          "model_module": "@jupyter-widgets/base",
          "model_name": "LayoutModel",
          "state": {
            "_view_name": "LayoutView",
            "grid_template_rows": null,
            "right": null,
            "justify_content": null,
            "_view_module": "@jupyter-widgets/base",
            "overflow": null,
            "_model_module_version": "1.2.0",
            "_view_count": null,
            "flex_flow": null,
            "width": null,
            "min_width": null,
            "border": null,
            "align_items": null,
            "bottom": null,
            "_model_module": "@jupyter-widgets/base",
            "top": null,
            "grid_column": null,
            "overflow_y": null,
            "overflow_x": null,
            "grid_auto_flow": null,
            "grid_area": null,
            "grid_template_columns": null,
            "flex": null,
            "_model_name": "LayoutModel",
            "justify_items": null,
            "grid_row": null,
            "max_height": null,
            "align_content": null,
            "visibility": null,
            "align_self": null,
            "height": null,
            "min_height": null,
            "padding": null,
            "grid_auto_rows": null,
            "grid_gap": null,
            "max_width": null,
            "order": null,
            "_view_module_version": "1.2.0",
            "grid_template_areas": null,
            "object_position": null,
            "object_fit": null,
            "grid_auto_columns": null,
            "margin": null,
            "display": null,
            "left": null
          }
        },
        "52cf536744d743da8a4b02011355d48b": {
          "model_module": "@jupyter-widgets/controls",
          "model_name": "FloatProgressModel",
          "state": {
            "_view_name": "ProgressView",
            "style": "IPY_MODEL_dab170a0d2bf4485962a060c5d576524",
            "_dom_classes": [],
            "description": "Iteration: 100%",
            "_model_name": "FloatProgressModel",
            "bar_style": "success",
            "max": 120,
            "_view_module": "@jupyter-widgets/controls",
            "_model_module_version": "1.5.0",
            "value": 120,
            "_view_count": null,
            "_view_module_version": "1.5.0",
            "orientation": "horizontal",
            "min": 0,
            "description_tooltip": null,
            "_model_module": "@jupyter-widgets/controls",
            "layout": "IPY_MODEL_74590d47dba74925a6bbc6b1c576c34b"
          }
        },
        "e35cb2f46671498c96adc19b9008f14b": {
          "model_module": "@jupyter-widgets/controls",
          "model_name": "HTMLModel",
          "state": {
            "_view_name": "HTMLView",
            "style": "IPY_MODEL_bfabaf0b87aa4182bc09632d207e0287",
            "_dom_classes": [],
            "description": "",
            "_model_name": "HTMLModel",
            "placeholder": "​",
            "_view_module": "@jupyter-widgets/controls",
            "_model_module_version": "1.5.0",
            "value": " 120/120 [00:31&lt;00:00,  3.77it/s]",
            "_view_count": null,
            "_view_module_version": "1.5.0",
            "description_tooltip": null,
            "_model_module": "@jupyter-widgets/controls",
            "layout": "IPY_MODEL_ec0b443207c84a53b1374f204eeafe01"
          }
        },
        "dab170a0d2bf4485962a060c5d576524": {
          "model_module": "@jupyter-widgets/controls",
          "model_name": "ProgressStyleModel",
          "state": {
            "_view_name": "StyleView",
            "_model_name": "ProgressStyleModel",
            "description_width": "initial",
            "_view_module": "@jupyter-widgets/base",
            "_model_module_version": "1.5.0",
            "_view_count": null,
            "_view_module_version": "1.2.0",
            "bar_color": null,
            "_model_module": "@jupyter-widgets/controls"
          }
        },
        "74590d47dba74925a6bbc6b1c576c34b": {
          "model_module": "@jupyter-widgets/base",
          "model_name": "LayoutModel",
          "state": {
            "_view_name": "LayoutView",
            "grid_template_rows": null,
            "right": null,
            "justify_content": null,
            "_view_module": "@jupyter-widgets/base",
            "overflow": null,
            "_model_module_version": "1.2.0",
            "_view_count": null,
            "flex_flow": null,
            "width": null,
            "min_width": null,
            "border": null,
            "align_items": null,
            "bottom": null,
            "_model_module": "@jupyter-widgets/base",
            "top": null,
            "grid_column": null,
            "overflow_y": null,
            "overflow_x": null,
            "grid_auto_flow": null,
            "grid_area": null,
            "grid_template_columns": null,
            "flex": null,
            "_model_name": "LayoutModel",
            "justify_items": null,
            "grid_row": null,
            "max_height": null,
            "align_content": null,
            "visibility": null,
            "align_self": null,
            "height": null,
            "min_height": null,
            "padding": null,
            "grid_auto_rows": null,
            "grid_gap": null,
            "max_width": null,
            "order": null,
            "_view_module_version": "1.2.0",
            "grid_template_areas": null,
            "object_position": null,
            "object_fit": null,
            "grid_auto_columns": null,
            "margin": null,
            "display": null,
            "left": null
          }
        },
        "bfabaf0b87aa4182bc09632d207e0287": {
          "model_module": "@jupyter-widgets/controls",
          "model_name": "DescriptionStyleModel",
          "state": {
            "_view_name": "StyleView",
            "_model_name": "DescriptionStyleModel",
            "description_width": "",
            "_view_module": "@jupyter-widgets/base",
            "_model_module_version": "1.5.0",
            "_view_count": null,
            "_view_module_version": "1.2.0",
            "_model_module": "@jupyter-widgets/controls"
          }
        },
        "ec0b443207c84a53b1374f204eeafe01": {
          "model_module": "@jupyter-widgets/base",
          "model_name": "LayoutModel",
          "state": {
            "_view_name": "LayoutView",
            "grid_template_rows": null,
            "right": null,
            "justify_content": null,
            "_view_module": "@jupyter-widgets/base",
            "overflow": null,
            "_model_module_version": "1.2.0",
            "_view_count": null,
            "flex_flow": null,
            "width": null,
            "min_width": null,
            "border": null,
            "align_items": null,
            "bottom": null,
            "_model_module": "@jupyter-widgets/base",
            "top": null,
            "grid_column": null,
            "overflow_y": null,
            "overflow_x": null,
            "grid_auto_flow": null,
            "grid_area": null,
            "grid_template_columns": null,
            "flex": null,
            "_model_name": "LayoutModel",
            "justify_items": null,
            "grid_row": null,
            "max_height": null,
            "align_content": null,
            "visibility": null,
            "align_self": null,
            "height": null,
            "min_height": null,
            "padding": null,
            "grid_auto_rows": null,
            "grid_gap": null,
            "max_width": null,
            "order": null,
            "_view_module_version": "1.2.0",
            "grid_template_areas": null,
            "object_position": null,
            "object_fit": null,
            "grid_auto_columns": null,
            "margin": null,
            "display": null,
            "left": null
          }
        },
        "fa4fe741146541c9b042ee5c3df5ae80": {
          "model_module": "@jupyter-widgets/controls",
          "model_name": "HBoxModel",
          "state": {
            "_view_name": "HBoxView",
            "_dom_classes": [],
            "_model_name": "HBoxModel",
            "_view_module": "@jupyter-widgets/controls",
            "_model_module_version": "1.5.0",
            "_view_count": null,
            "_view_module_version": "1.5.0",
            "box_style": "",
            "layout": "IPY_MODEL_6287220b668b43d49c403a1107f912e8",
            "_model_module": "@jupyter-widgets/controls",
            "children": [
              "IPY_MODEL_568bd8cbcdd3455cacbc37ed48e41cbb",
              "IPY_MODEL_d0c0cdf0259c4979a522a246226d5f76"
            ]
          }
        },
        "6287220b668b43d49c403a1107f912e8": {
          "model_module": "@jupyter-widgets/base",
          "model_name": "LayoutModel",
          "state": {
            "_view_name": "LayoutView",
            "grid_template_rows": null,
            "right": null,
            "justify_content": null,
            "_view_module": "@jupyter-widgets/base",
            "overflow": null,
            "_model_module_version": "1.2.0",
            "_view_count": null,
            "flex_flow": null,
            "width": null,
            "min_width": null,
            "border": null,
            "align_items": null,
            "bottom": null,
            "_model_module": "@jupyter-widgets/base",
            "top": null,
            "grid_column": null,
            "overflow_y": null,
            "overflow_x": null,
            "grid_auto_flow": null,
            "grid_area": null,
            "grid_template_columns": null,
            "flex": null,
            "_model_name": "LayoutModel",
            "justify_items": null,
            "grid_row": null,
            "max_height": null,
            "align_content": null,
            "visibility": null,
            "align_self": null,
            "height": null,
            "min_height": null,
            "padding": null,
            "grid_auto_rows": null,
            "grid_gap": null,
            "max_width": null,
            "order": null,
            "_view_module_version": "1.2.0",
            "grid_template_areas": null,
            "object_position": null,
            "object_fit": null,
            "grid_auto_columns": null,
            "margin": null,
            "display": null,
            "left": null
          }
        },
        "568bd8cbcdd3455cacbc37ed48e41cbb": {
          "model_module": "@jupyter-widgets/controls",
          "model_name": "FloatProgressModel",
          "state": {
            "_view_name": "ProgressView",
            "style": "IPY_MODEL_75dcd63a00d14ae395bec80c6a4dc4e4",
            "_dom_classes": [],
            "description": "Iteration: 100%",
            "_model_name": "FloatProgressModel",
            "bar_style": "success",
            "max": 7577,
            "_view_module": "@jupyter-widgets/controls",
            "_model_module_version": "1.5.0",
            "value": 7577,
            "_view_count": null,
            "_view_module_version": "1.5.0",
            "orientation": "horizontal",
            "min": 0,
            "description_tooltip": null,
            "_model_module": "@jupyter-widgets/controls",
            "layout": "IPY_MODEL_440c6c8176ed44aa948d6e3fb6d75a8e"
          }
        },
        "d0c0cdf0259c4979a522a246226d5f76": {
          "model_module": "@jupyter-widgets/controls",
          "model_name": "HTMLModel",
          "state": {
            "_view_name": "HTMLView",
            "style": "IPY_MODEL_6c7cd8141f1f476282f1a5cd740f992a",
            "_dom_classes": [],
            "description": "",
            "_model_name": "HTMLModel",
            "placeholder": "​",
            "_view_module": "@jupyter-widgets/controls",
            "_model_module_version": "1.5.0",
            "value": " 7577/7577 [36:29&lt;00:00,  3.46it/s]",
            "_view_count": null,
            "_view_module_version": "1.5.0",
            "description_tooltip": null,
            "_model_module": "@jupyter-widgets/controls",
            "layout": "IPY_MODEL_88ae882686e84a46a29bf92522bc7067"
          }
        },
        "75dcd63a00d14ae395bec80c6a4dc4e4": {
          "model_module": "@jupyter-widgets/controls",
          "model_name": "ProgressStyleModel",
          "state": {
            "_view_name": "StyleView",
            "_model_name": "ProgressStyleModel",
            "description_width": "initial",
            "_view_module": "@jupyter-widgets/base",
            "_model_module_version": "1.5.0",
            "_view_count": null,
            "_view_module_version": "1.2.0",
            "bar_color": null,
            "_model_module": "@jupyter-widgets/controls"
          }
        },
        "440c6c8176ed44aa948d6e3fb6d75a8e": {
          "model_module": "@jupyter-widgets/base",
          "model_name": "LayoutModel",
          "state": {
            "_view_name": "LayoutView",
            "grid_template_rows": null,
            "right": null,
            "justify_content": null,
            "_view_module": "@jupyter-widgets/base",
            "overflow": null,
            "_model_module_version": "1.2.0",
            "_view_count": null,
            "flex_flow": null,
            "width": null,
            "min_width": null,
            "border": null,
            "align_items": null,
            "bottom": null,
            "_model_module": "@jupyter-widgets/base",
            "top": null,
            "grid_column": null,
            "overflow_y": null,
            "overflow_x": null,
            "grid_auto_flow": null,
            "grid_area": null,
            "grid_template_columns": null,
            "flex": null,
            "_model_name": "LayoutModel",
            "justify_items": null,
            "grid_row": null,
            "max_height": null,
            "align_content": null,
            "visibility": null,
            "align_self": null,
            "height": null,
            "min_height": null,
            "padding": null,
            "grid_auto_rows": null,
            "grid_gap": null,
            "max_width": null,
            "order": null,
            "_view_module_version": "1.2.0",
            "grid_template_areas": null,
            "object_position": null,
            "object_fit": null,
            "grid_auto_columns": null,
            "margin": null,
            "display": null,
            "left": null
          }
        },
        "6c7cd8141f1f476282f1a5cd740f992a": {
          "model_module": "@jupyter-widgets/controls",
          "model_name": "DescriptionStyleModel",
          "state": {
            "_view_name": "StyleView",
            "_model_name": "DescriptionStyleModel",
            "description_width": "",
            "_view_module": "@jupyter-widgets/base",
            "_model_module_version": "1.5.0",
            "_view_count": null,
            "_view_module_version": "1.2.0",
            "_model_module": "@jupyter-widgets/controls"
          }
        },
        "88ae882686e84a46a29bf92522bc7067": {
          "model_module": "@jupyter-widgets/base",
          "model_name": "LayoutModel",
          "state": {
            "_view_name": "LayoutView",
            "grid_template_rows": null,
            "right": null,
            "justify_content": null,
            "_view_module": "@jupyter-widgets/base",
            "overflow": null,
            "_model_module_version": "1.2.0",
            "_view_count": null,
            "flex_flow": null,
            "width": null,
            "min_width": null,
            "border": null,
            "align_items": null,
            "bottom": null,
            "_model_module": "@jupyter-widgets/base",
            "top": null,
            "grid_column": null,
            "overflow_y": null,
            "overflow_x": null,
            "grid_auto_flow": null,
            "grid_area": null,
            "grid_template_columns": null,
            "flex": null,
            "_model_name": "LayoutModel",
            "justify_items": null,
            "grid_row": null,
            "max_height": null,
            "align_content": null,
            "visibility": null,
            "align_self": null,
            "height": null,
            "min_height": null,
            "padding": null,
            "grid_auto_rows": null,
            "grid_gap": null,
            "max_width": null,
            "order": null,
            "_view_module_version": "1.2.0",
            "grid_template_areas": null,
            "object_position": null,
            "object_fit": null,
            "grid_auto_columns": null,
            "margin": null,
            "display": null,
            "left": null
          }
        }
      }
    }
  },
  "cells": [
    {
      "cell_type": "markdown",
      "metadata": {
        "id": "WjDdziEN_VCt"
      },
      "source": [
        "# 6강) FAISS 실습"
      ]
    },
    {
      "cell_type": "markdown",
      "metadata": {
        "id": "1NWluWk3_VCu"
      },
      "source": [
        "### Requirements"
      ]
    },
    {
      "cell_type": "code",
      "metadata": {
        "id": "eGqFS4EEBF_Z"
      },
      "source": [
        "# > /dev/null 2>&1 # execute command in silence\n",
        "!pip install datasets==1.4.1 > /dev/null 2>&1 # execute command in silence\n",
        "!pip install transformers==4.4.1 > /dev/null 2>&1\n",
        "!pip install tqdm==4.41.1 > /dev/null 2>&1\n",
        "!pip install faiss-cpu > /dev/null 2>&1"
      ],
      "execution_count": null,
      "outputs": []
    },
    {
      "cell_type": "code",
      "metadata": {
        "id": "vcy_UzFfaxkr"
      },
      "source": [
        "import torch\n",
        "import random\n",
        "from pprint import pprint"
      ],
      "execution_count": null,
      "outputs": []
    },
    {
      "cell_type": "code",
      "metadata": {
        "colab": {
          "base_uri": "https://localhost:8080/"
        },
        "id": "zx5OlPe1T2e0",
        "outputId": "ef7cb9ba-b908-4331-d69f-b6a264b7464d"
      },
      "source": [
        "# 1. 미리 학습해둔 encoder file 다운로드\n",
        "!wget --load-cookies /tmp/cookies.txt \"https://docs.google.com/uc?export=download&confirm=$(wget --quiet --save-cookies /tmp/cookies.txt --keep-session-cookies --no-check-certificate 'https://docs.google.com/uc?export=download&id=1eMfMzv0gkcTSBQAxtQrFMP_pC5sEeQQq' -O- | sed -rn 's/.*confirm=([0-9A-Za-z_]+).*/\\1\\n/p')&id=1eMfMzv0gkcTSBQAxtQrFMP_pC5sEeQQq\" -O dense_encoder.tar.gz && rm -rf /tmp/cookies.txt\n",
        "\n",
        "# 2. .tar.gz file 압축해제 \n",
        "!tar -xf ./dense_encoder.tar.gz"
      ],
      "execution_count": null,
      "outputs": [
        {
          "output_type": "stream",
          "text": [
            "--2021-05-09 22:55:04--  https://docs.google.com/uc?export=download&confirm=bEXp&id=1eD57pCCvhiXLrHBb1j07QX1VQQDogejF\n",
            "Resolving docs.google.com (docs.google.com)... 74.125.195.101, 74.125.195.113, 74.125.195.138, ...\n",
            "Connecting to docs.google.com (docs.google.com)|74.125.195.101|:443... connected.\n",
            "HTTP request sent, awaiting response... 302 Moved Temporarily\n",
            "Location: https://doc-04-50-docs.googleusercontent.com/docs/securesc/vboqok24tal3g5ioup05nrm566vcm438/2v0erhs5hldueepcd5n4vsjpfutljdim/1620600900000/10000090644219567406/12388360935774394911Z/1eD57pCCvhiXLrHBb1j07QX1VQQDogejF?e=download [following]\n",
            "--2021-05-09 22:55:05--  https://doc-04-50-docs.googleusercontent.com/docs/securesc/vboqok24tal3g5ioup05nrm566vcm438/2v0erhs5hldueepcd5n4vsjpfutljdim/1620600900000/10000090644219567406/12388360935774394911Z/1eD57pCCvhiXLrHBb1j07QX1VQQDogejF?e=download\n",
            "Resolving doc-04-50-docs.googleusercontent.com (doc-04-50-docs.googleusercontent.com)... 74.125.20.132, 2607:f8b0:400e:c07::84\n",
            "Connecting to doc-04-50-docs.googleusercontent.com (doc-04-50-docs.googleusercontent.com)|74.125.20.132|:443... connected.\n",
            "HTTP request sent, awaiting response... 302 Found\n",
            "Location: https://docs.google.com/nonceSigner?nonce=lj1a71krjmsko&continue=https://doc-04-50-docs.googleusercontent.com/docs/securesc/vboqok24tal3g5ioup05nrm566vcm438/2v0erhs5hldueepcd5n4vsjpfutljdim/1620600900000/10000090644219567406/12388360935774394911Z/1eD57pCCvhiXLrHBb1j07QX1VQQDogejF?e%3Ddownload&hash=ei4rhhm1k8tbji3qt8eo4pdmvjs3iet5 [following]\n",
            "--2021-05-09 22:55:05--  https://docs.google.com/nonceSigner?nonce=lj1a71krjmsko&continue=https://doc-04-50-docs.googleusercontent.com/docs/securesc/vboqok24tal3g5ioup05nrm566vcm438/2v0erhs5hldueepcd5n4vsjpfutljdim/1620600900000/10000090644219567406/12388360935774394911Z/1eD57pCCvhiXLrHBb1j07QX1VQQDogejF?e%3Ddownload&hash=ei4rhhm1k8tbji3qt8eo4pdmvjs3iet5\n",
            "Connecting to docs.google.com (docs.google.com)|74.125.195.101|:443... connected.\n",
            "HTTP request sent, awaiting response... 302 Found\n",
            "Location: https://doc-04-50-docs.googleusercontent.com/docs/securesc/vboqok24tal3g5ioup05nrm566vcm438/2v0erhs5hldueepcd5n4vsjpfutljdim/1620600900000/10000090644219567406/12388360935774394911Z/1eD57pCCvhiXLrHBb1j07QX1VQQDogejF?e=download&nonce=lj1a71krjmsko&user=12388360935774394911Z&hash=t047hp76lfhga9r909hl8v0vgum7emam [following]\n",
            "--2021-05-09 22:55:05--  https://doc-04-50-docs.googleusercontent.com/docs/securesc/vboqok24tal3g5ioup05nrm566vcm438/2v0erhs5hldueepcd5n4vsjpfutljdim/1620600900000/10000090644219567406/12388360935774394911Z/1eD57pCCvhiXLrHBb1j07QX1VQQDogejF?e=download&nonce=lj1a71krjmsko&user=12388360935774394911Z&hash=t047hp76lfhga9r909hl8v0vgum7emam\n",
            "Connecting to doc-04-50-docs.googleusercontent.com (doc-04-50-docs.googleusercontent.com)|74.125.20.132|:443... connected.\n",
            "HTTP request sent, awaiting response... 200 OK\n",
            "Length: unspecified [application/json]\n",
            "Saving to: ‘wikipedia_documents.json’\n",
            "\n",
            "wikipedia_documents     [    <=>             ] 110.01M   137MB/s    in 0.8s    \n",
            "\n",
            "2021-05-09 22:55:06 (137 MB/s) - ‘wikipedia_documents.json’ saved [115354678]\n",
            "\n"
          ],
          "name": "stdout"
        }
      ]
    },
    {
      "cell_type": "markdown",
      "metadata": {
        "id": "255WXyL_R8C4"
      },
      "source": [
        "## [과제 1] Passage retrieval 준비하기"
      ]
    },
    {
      "cell_type": "code",
      "metadata": {
        "id": "wqZJSyAPY1tJ",
        "colab": {
          "base_uri": "https://localhost:8080/",
          "height": 384,
          "referenced_widgets": [
            "c934ca8ddcce4be7ab9621f1cd4f1e33",
            "5fad8787e50c48f5b79420fa9f6424eb",
            "ad4fa5e1fc4c4f57baf2248a24c3514d",
            "d09c4a28a6f14713a899852ca08a7a98",
            "4094b155ace742baa0d3d6f47ffa9ccb",
            "f27ed02990fa4162934fdc9698312f13",
            "7bf3dd73bedd40838d31f1f6681c62cc",
            "e36f3bd88915466585566cabba137ec8",
            "42ad64e80a994059b9c7e62811dcdb58",
            "815acfba818a4d3faaa4bccd7c1c5468",
            "d73bf0f6ec9f468d83e2fca0d7999a47",
            "7b33dbf54d7a42d9b1c81d12eb82045a",
            "0046840b264d4c22a8b2ba29c800f6f5",
            "9ee5526dd0144421bbd8efafd304478f",
            "86f37bd60523408c93ebb171a2f51d4e",
            "44206beba5f749fd9fb1f6aa593b86b0",
            "d141598e651a4b3485760f7c42b00544",
            "44a66c37e1174c1ebfb04feb00f9538c",
            "436b8e617d4b4aa68b1eaf1102b3451d",
            "45fe410b9c294c2ea0d6aa096b0e9a51",
            "d7ef1a244ca344e58ad9d61179698516",
            "d545414bc62e4a0fa20ffdcb5371704c",
            "270d7113d24f407ab44447dabb6e9afa",
            "e9ddabe7d50e46b1a9cb6e4c8b2f920f",
            "fc24f71539e04709bfd09a449ad07eb2",
            "4dd49c67eb4740ccabfa8d3196537dfd",
            "9be74c760506440bb9372aea659af494",
            "c3c834f7171449aa97dba668a5dc36f6",
            "6ae1483bf7344f40adcd5e6e6b0a253c",
            "27b614d8b90749f988072e60ec782191",
            "0198b0b187b9470fb281d4b33b26d63e",
            "e941234f9ee846cf94f8463568ad850b",
            "2e60cfbb6a374875955303fb9ef71684",
            "f10f7b5004d94d81bbd514846f868d65",
            "675ff888527346debf75d2ca95d6a8cd",
            "f298de815541444cab57f1da92e93d79",
            "4802b3c166f74dfa846f157a25c5d88e",
            "e4f6013e676048988ffcbefb6b211a03",
            "550332d8031e4089913332af5c74ba1c",
            "afe774e70d9a403caf50b500f6f6b634"
          ]
        },
        "outputId": "6d008eb3-d9ab-4421-a77d-52099a7cf6da"
      },
      "source": [
        "from transformers import BertModel, BertPreTrainedModel, BertConfig, AutoTokenizer\n",
        "\n",
        "class BertEncoder(BertPreTrainedModel):\n",
        "  def __init__(self, config):\n",
        "    super(BertEncoder, self).__init__(config)\n",
        "\n",
        "    self.bert = BertModel(config)\n",
        "    self.init_weights()\n",
        "      \n",
        "  def forward(self, input_ids, \n",
        "              attention_mask=None, token_type_ids=None): \n",
        "  \n",
        "      outputs = self.bert(input_ids,\n",
        "                          attention_mask=attention_mask,\n",
        "                          token_type_ids=token_type_ids)\n",
        "      \n",
        "      pooled_output = outputs[1]\n",
        "\n",
        "      return pooled_output\n",
        "\n",
        "# TODO: load a model trained at Daily Mission 4\n",
        "\n",
        "model_checkpoint = \"bert-base-multilingual-cased\"\n",
        "p_encoder = BertEncoder.from_pretrained(model_checkpoint).cuda()\n",
        "q_encoder = BertEncoder.from_pretrained(model_checkpoint).cuda()\n",
        "model_dict = torch.load(\"./dense_encoder/encoder.pth\")\n",
        "p_encoder.load_state_dict(model_dict['p_encoder'])\n",
        "q_encoder.load_state_dict(model_dict['q_encoder'])\n",
        "\n",
        "# You can use \"bert-base-multilingual-cased\" for tokenizer, if you did not save tokenizer at Daily Mission 4.\n",
        "tokenizer = AutoTokenizer.from_pretrained(model_checkpoint)"
      ],
      "execution_count": null,
      "outputs": [
        {
          "output_type": "display_data",
          "data": {
            "application/vnd.jupyter.widget-view+json": {
              "model_id": "c934ca8ddcce4be7ab9621f1cd4f1e33",
              "version_minor": 0,
              "version_major": 2
            },
            "text/plain": [
              "HBox(children=(FloatProgress(value=0.0, description='Downloading', max=625.0, style=ProgressStyle(description_…"
            ]
          },
          "metadata": {
            "tags": []
          }
        },
        {
          "output_type": "stream",
          "text": [
            "\n"
          ],
          "name": "stdout"
        },
        {
          "output_type": "display_data",
          "data": {
            "application/vnd.jupyter.widget-view+json": {
              "model_id": "42ad64e80a994059b9c7e62811dcdb58",
              "version_minor": 0,
              "version_major": 2
            },
            "text/plain": [
              "HBox(children=(FloatProgress(value=0.0, description='Downloading', max=714314041.0, style=ProgressStyle(descri…"
            ]
          },
          "metadata": {
            "tags": []
          }
        },
        {
          "output_type": "stream",
          "text": [
            "\n"
          ],
          "name": "stdout"
        },
        {
          "output_type": "stream",
          "text": [
            "Some weights of the model checkpoint at bert-base-multilingual-cased were not used when initializing BertEncoder: ['cls.predictions.bias', 'cls.predictions.transform.dense.weight', 'cls.predictions.transform.dense.bias', 'cls.predictions.decoder.weight', 'cls.seq_relationship.weight', 'cls.seq_relationship.bias', 'cls.predictions.transform.LayerNorm.weight', 'cls.predictions.transform.LayerNorm.bias']\n",
            "- This IS expected if you are initializing BertEncoder from the checkpoint of a model trained on another task or with another architecture (e.g. initializing a BertForSequenceClassification model from a BertForPreTraining model).\n",
            "- This IS NOT expected if you are initializing BertEncoder from the checkpoint of a model that you expect to be exactly identical (initializing a BertForSequenceClassification model from a BertForSequenceClassification model).\n",
            "Some weights of the model checkpoint at bert-base-multilingual-cased were not used when initializing BertEncoder: ['cls.predictions.bias', 'cls.predictions.transform.dense.weight', 'cls.predictions.transform.dense.bias', 'cls.predictions.decoder.weight', 'cls.seq_relationship.weight', 'cls.seq_relationship.bias', 'cls.predictions.transform.LayerNorm.weight', 'cls.predictions.transform.LayerNorm.bias']\n",
            "- This IS expected if you are initializing BertEncoder from the checkpoint of a model trained on another task or with another architecture (e.g. initializing a BertForSequenceClassification model from a BertForPreTraining model).\n",
            "- This IS NOT expected if you are initializing BertEncoder from the checkpoint of a model that you expect to be exactly identical (initializing a BertForSequenceClassification model from a BertForSequenceClassification model).\n"
          ],
          "name": "stderr"
        },
        {
          "output_type": "display_data",
          "data": {
            "application/vnd.jupyter.widget-view+json": {
              "model_id": "d141598e651a4b3485760f7c42b00544",
              "version_minor": 0,
              "version_major": 2
            },
            "text/plain": [
              "HBox(children=(FloatProgress(value=0.0, description='Downloading', max=995526.0, style=ProgressStyle(descripti…"
            ]
          },
          "metadata": {
            "tags": []
          }
        },
        {
          "output_type": "stream",
          "text": [
            "\n"
          ],
          "name": "stdout"
        },
        {
          "output_type": "display_data",
          "data": {
            "application/vnd.jupyter.widget-view+json": {
              "model_id": "fc24f71539e04709bfd09a449ad07eb2",
              "version_minor": 0,
              "version_major": 2
            },
            "text/plain": [
              "HBox(children=(FloatProgress(value=0.0, description='Downloading', max=1961828.0, style=ProgressStyle(descript…"
            ]
          },
          "metadata": {
            "tags": []
          }
        },
        {
          "output_type": "stream",
          "text": [
            "\n"
          ],
          "name": "stdout"
        },
        {
          "output_type": "display_data",
          "data": {
            "application/vnd.jupyter.widget-view+json": {
              "model_id": "2e60cfbb6a374875955303fb9ef71684",
              "version_minor": 0,
              "version_major": 2
            },
            "text/plain": [
              "HBox(children=(FloatProgress(value=0.0, description='Downloading', max=29.0, style=ProgressStyle(description_w…"
            ]
          },
          "metadata": {
            "tags": []
          }
        },
        {
          "output_type": "stream",
          "text": [
            "\n"
          ],
          "name": "stdout"
        }
      ]
    },
    {
      "cell_type": "markdown",
      "metadata": {
        "id": "hWfVZoLcSmOY"
      },
      "source": [
        "Search corpus: KorQuAD validation context"
      ]
    },
    {
      "cell_type": "code",
      "metadata": {
        "id": "8AOF4yiqROwK",
        "colab": {
          "base_uri": "https://localhost:8080/",
          "height": 284,
          "referenced_widgets": [
            "e85d2b21aab346fd8660156f0b4f1626",
            "4d20800e959548df808a21af091dc6ee",
            "c3c40a6025ec477aa4c03bde9aa62025",
            "263af8d4ac8f4c07aa74372ba27d8688",
            "cdf1d5713f96436ea23557b8c5def595",
            "adaf6f64036f48d09dfe686516678277",
            "65e005c2360d4ac8b1baa12669a7e007",
            "41b1b0ff3c59481195db2112b97b3932",
            "25fd6dbffbe14a1daeb7f2fe6c26d825",
            "20cce31a57a64744b5286e34b8a23eb0",
            "f348779ecb1347358a8defeb23d6a5d5",
            "d3a4fb3d175a494a87383ce0e45b8067",
            "96aebba26a2648728ebee7d02d0081cd",
            "c9cc620c2e2c4b609f0b8bdcf9545384",
            "15eb5ab914d841959b7a40af794bfc1a",
            "018ee99117be4e68a0ce95b329ebae2d",
            "0046b65ad87d4aabb3db6839f6a45e43",
            "3adf7ee770134ff9907a919b01a41094",
            "71a4964a202243d9aba5f6d989a7a519",
            "c358778eb1bd4a21b6d23fc38fcb912e",
            "47f2531cc2d94247acf9bfad33dfce37",
            "0c369da27b2547f2a837dc308bf39511",
            "7431915e63684b388a9a5b94257e1afc",
            "a8fc3de491644be994b275742d0d2839",
            "4ee21cf656f24fe99109f1c1aab0a326",
            "4bc4175845724f02acfbab62e17e5a13",
            "197b781498a84d55bbc6f907ef8f674e",
            "2d0c18f40df347109cc74588792bf467",
            "e71e043875404227892b29c5bf0a5137",
            "49894b488a5c4695917bb83b9d927252",
            "a9f4120d31844282bd05bf4c70d6308e",
            "270887ccf0814faea9c0c091ac3040f7",
            "7bdc75b5c77d4d6b8397ce80ec274881",
            "c6073c4da45c4b23bd418fe6de588a42",
            "78ca4014892c4d7db2abfcf031079bc9",
            "f460844e1be44b26bd00e87083e5f1a4",
            "391e5417ea934d9190a3fdf0da6edfe2",
            "7ee18f3608cb4fa4ab6c1e0d158d8cbf",
            "c24552e980634dd4a12ed4e2dcbff30f",
            "117af65e062e4874801453db9e8cd873",
            "06c844bfd8a4436a9708c555ee6907a2",
            "0fbbf9b7a82d44819fc7f8a60c7472f3",
            "ac7c8a72f32248e29edd0a22e55c5d99",
            "45d4a86ad5f14d45959ba5a2c0acb057",
            "6bcbfb432d924ba9899a77f43fdfe9b5",
            "35f89d7530d24fc5904d712687ef3600",
            "57eb5aa36bc749cdaaea3bbed71e6047",
            "d60154a6048c4ae682591b49de29e74e"
          ]
        },
        "outputId": "10fdbd85-b7c7-4246-9acb-b6942b9ac578"
      },
      "source": [
        "from datasets import load_dataset\n",
        "dataset = load_dataset(\"squad_kor_v1\")\n",
        "corpus = list(set([example['context'] for example in dataset['train']]))\n",
        "len(corpus)"
      ],
      "execution_count": null,
      "outputs": [
        {
          "output_type": "display_data",
          "data": {
            "application/vnd.jupyter.widget-view+json": {
              "model_id": "e85d2b21aab346fd8660156f0b4f1626",
              "version_minor": 0,
              "version_major": 2
            },
            "text/plain": [
              "HBox(children=(FloatProgress(value=0.0, description='Downloading', max=1745.0, style=ProgressStyle(description…"
            ]
          },
          "metadata": {
            "tags": []
          }
        },
        {
          "output_type": "stream",
          "text": [
            "\n"
          ],
          "name": "stdout"
        },
        {
          "output_type": "display_data",
          "data": {
            "application/vnd.jupyter.widget-view+json": {
              "model_id": "25fd6dbffbe14a1daeb7f2fe6c26d825",
              "version_minor": 0,
              "version_major": 2
            },
            "text/plain": [
              "HBox(children=(FloatProgress(value=0.0, description='Downloading', max=962.0, style=ProgressStyle(description_…"
            ]
          },
          "metadata": {
            "tags": []
          }
        },
        {
          "output_type": "stream",
          "text": [
            "\n",
            "Downloading and preparing dataset squad_kor_v1/squad_kor_v1 (download: 40.44 MiB, generated: 87.40 MiB, post-processed: Unknown size, total: 127.84 MiB) to /root/.cache/huggingface/datasets/squad_kor_v1/squad_kor_v1/1.0.0/31982418accc53b059af090befa81e68880acc667ca5405d30ce6fa7910950a7...\n"
          ],
          "name": "stdout"
        },
        {
          "output_type": "display_data",
          "data": {
            "application/vnd.jupyter.widget-view+json": {
              "model_id": "0046b65ad87d4aabb3db6839f6a45e43",
              "version_minor": 0,
              "version_major": 2
            },
            "text/plain": [
              "HBox(children=(FloatProgress(value=0.0, description='Downloading', max=7568316.0, style=ProgressStyle(descript…"
            ]
          },
          "metadata": {
            "tags": []
          }
        },
        {
          "output_type": "stream",
          "text": [
            "\n"
          ],
          "name": "stdout"
        },
        {
          "output_type": "display_data",
          "data": {
            "application/vnd.jupyter.widget-view+json": {
              "model_id": "4ee21cf656f24fe99109f1c1aab0a326",
              "version_minor": 0,
              "version_major": 2
            },
            "text/plain": [
              "HBox(children=(FloatProgress(value=0.0, description='Downloading', max=770480.0, style=ProgressStyle(descripti…"
            ]
          },
          "metadata": {
            "tags": []
          }
        },
        {
          "output_type": "stream",
          "text": [
            "\n"
          ],
          "name": "stdout"
        },
        {
          "output_type": "display_data",
          "data": {
            "application/vnd.jupyter.widget-view+json": {
              "model_id": "7bdc75b5c77d4d6b8397ce80ec274881",
              "version_minor": 0,
              "version_major": 2
            },
            "text/plain": [
              "HBox(children=(FloatProgress(value=1.0, bar_style='info', max=1.0), HTML(value='')))"
            ]
          },
          "metadata": {
            "tags": []
          }
        },
        {
          "output_type": "stream",
          "text": [
            "\r"
          ],
          "name": "stdout"
        },
        {
          "output_type": "display_data",
          "data": {
            "application/vnd.jupyter.widget-view+json": {
              "model_id": "06c844bfd8a4436a9708c555ee6907a2",
              "version_minor": 0,
              "version_major": 2
            },
            "text/plain": [
              "HBox(children=(FloatProgress(value=1.0, bar_style='info', max=1.0), HTML(value='')))"
            ]
          },
          "metadata": {
            "tags": []
          }
        },
        {
          "output_type": "stream",
          "text": [
            "\rDataset squad_kor_v1 downloaded and prepared to /root/.cache/huggingface/datasets/squad_kor_v1/squad_kor_v1/1.0.0/31982418accc53b059af090befa81e68880acc667ca5405d30ce6fa7910950a7. Subsequent calls will reuse this data.\n"
          ],
          "name": "stdout"
        },
        {
          "output_type": "execute_result",
          "data": {
            "text/plain": [
              "9606"
            ]
          },
          "metadata": {
            "tags": []
          },
          "execution_count": 5
        }
      ]
    },
    {
      "cell_type": "code",
      "metadata": {
        "id": "WuP_PixqSllE",
        "colab": {
          "base_uri": "https://localhost:8080/"
        },
        "outputId": "2d5a229e-961b-4ff9-88cc-83cf23fd4da5"
      },
      "source": [
        "search_corpus = list(set([example['context'] for example in dataset['validation']]))\n",
        "len(search_corpus)"
      ],
      "execution_count": null,
      "outputs": [
        {
          "output_type": "execute_result",
          "data": {
            "text/plain": [
              "960"
            ]
          },
          "metadata": {
            "tags": []
          },
          "execution_count": 6
        }
      ]
    },
    {
      "cell_type": "markdown",
      "metadata": {
        "id": "D2y8jFLnS-N5"
      },
      "source": [
        "Passage encoder를 활용하여 passage dense embedding 생성"
      ]
    },
    {
      "cell_type": "code",
      "metadata": {
        "id": "5gc7iXXaSLtn",
        "colab": {
          "base_uri": "https://localhost:8080/",
          "height": 66,
          "referenced_widgets": [
            "3073549c3783430eb689f8530a27ecbf",
            "f8f39cab117644f2af4cb511c4f81054",
            "52cf536744d743da8a4b02011355d48b",
            "e35cb2f46671498c96adc19b9008f14b",
            "dab170a0d2bf4485962a060c5d576524",
            "74590d47dba74925a6bbc6b1c576c34b",
            "bfabaf0b87aa4182bc09632d207e0287",
            "ec0b443207c84a53b1374f204eeafe01"
          ]
        },
        "outputId": "ed8f31d4-7813-4370-ff52-a0fe28f083fb"
      },
      "source": [
        "from torch.utils.data import (DataLoader, RandomSampler, TensorDataset, SequentialSampler)\n",
        "from tqdm.auto import tqdm, trange\n",
        "\n",
        "eval_batch_size = 8\n",
        "\n",
        "# Construt dataloader\n",
        "valid_p_seqs = tokenizer(search_corpus, padding=\"max_length\", truncation=True, return_tensors='pt')\n",
        "valid_dataset = TensorDataset(valid_p_seqs['input_ids'], valid_p_seqs['attention_mask'], valid_p_seqs['token_type_ids'])\n",
        "valid_sampler = SequentialSampler(valid_dataset)\n",
        "valid_dataloader = DataLoader(valid_dataset, sampler=valid_sampler, batch_size=eval_batch_size)\n",
        "\n",
        "# Inference using the passage encoder to get dense embeddeings\n",
        "p_embs = []\n",
        "\n",
        "with torch.no_grad():\n",
        "\n",
        "  epoch_iterator = tqdm(valid_dataloader, desc=\"Iteration\", position=0, leave=True)\n",
        "  p_encoder.eval()\n",
        "\n",
        "  for _, batch in enumerate(epoch_iterator):\n",
        "    batch = tuple(t.cuda() for t in batch)\n",
        "\n",
        "    p_inputs = {'input_ids': batch[0],\n",
        "                'attention_mask': batch[1],\n",
        "                'token_type_ids': batch[2]\n",
        "                }\n",
        "        \n",
        "    outputs = p_encoder(**p_inputs).to('cpu').numpy()\n",
        "    p_embs.extend(outputs)"
      ],
      "execution_count": null,
      "outputs": [
        {
          "output_type": "display_data",
          "data": {
            "application/vnd.jupyter.widget-view+json": {
              "model_id": "3073549c3783430eb689f8530a27ecbf",
              "version_minor": 0,
              "version_major": 2
            },
            "text/plain": [
              "HBox(children=(FloatProgress(value=0.0, description='Iteration', max=120.0, style=ProgressStyle(description_wi…"
            ]
          },
          "metadata": {
            "tags": []
          }
        },
        {
          "output_type": "stream",
          "text": [
            "\n"
          ],
          "name": "stdout"
        }
      ]
    },
    {
      "cell_type": "code",
      "metadata": {
        "id": "MDwdcgL_uGfe",
        "colab": {
          "base_uri": "https://localhost:8080/"
        },
        "outputId": "2e7eb486-b931-47fe-8fa8-b1058a5c2a86"
      },
      "source": [
        "import numpy as np\n",
        "p_embs = np.array(p_embs)\n",
        "p_embs.shape  # (num_passage, emb_dim)"
      ],
      "execution_count": null,
      "outputs": [
        {
          "output_type": "execute_result",
          "data": {
            "text/plain": [
              "(960, 768)"
            ]
          },
          "metadata": {
            "tags": []
          },
          "execution_count": 8
        }
      ]
    },
    {
      "cell_type": "markdown",
      "metadata": {
        "id": "8zBkp_wzg0fi"
      },
      "source": [
        "Question encoder를 활용해여 question dense embedding 생성"
      ]
    },
    {
      "cell_type": "code",
      "metadata": {
        "id": "WmteKZRVfcAn",
        "colab": {
          "base_uri": "https://localhost:8080/"
        },
        "outputId": "7ab4bb7b-32a4-4d66-b49c-9f2a24f305c5"
      },
      "source": [
        "np.random.seed(1)\n",
        "\n",
        "sample_idx = np.random.choice(range(len(dataset['validation'])), 5)\n",
        "query = dataset['validation'][sample_idx]['question']\n",
        "ground_truth = dataset['validation'][sample_idx]['context']\n",
        "\n",
        "query"
      ],
      "execution_count": null,
      "outputs": [
        {
          "output_type": "execute_result",
          "data": {
            "text/plain": [
              "['대한민국 제14대 대통령으로 향년 89세를 일기로 서거한 김영삼 대통령의 묘소가 있는 곳은?',\n",
              " '금강산의 겨울 이름은?',\n",
              " '유관순 열사는 당시 어떤 종교를 믿고 있었는가?',\n",
              " '1997년 10월 23일, 국회 본회의 대표 연설에서 전두환, 노태우 전 대통령에 대한 사면을 촉구한 새정치 국민회의 의원은?',\n",
              " '셰르징거가 찾아왔다가 우연히 푸시캣 돌스에 영입된 곳은?']"
            ]
          },
          "metadata": {
            "tags": []
          },
          "execution_count": 9
        }
      ]
    },
    {
      "cell_type": "code",
      "metadata": {
        "id": "68khtz4ziZSF",
        "colab": {
          "base_uri": "https://localhost:8080/"
        },
        "outputId": "a2ca08e1-f588-41cd-f9c2-0723c31cfad9"
      },
      "source": [
        "valid_q_seqs = tokenizer(query, padding=\"max_length\", truncation=True, return_tensors='pt').to('cuda')\n",
        "\n",
        "with torch.no_grad():\n",
        "  q_encoder.eval()\n",
        "  q_embs = q_encoder(**valid_q_seqs).to('cpu').numpy()\n",
        "\n",
        "torch.cuda.empty_cache()\n",
        "\n",
        "q_embs.shape  # (num_query, emb_dim)"
      ],
      "execution_count": null,
      "outputs": [
        {
          "output_type": "execute_result",
          "data": {
            "text/plain": [
              "(5, 768)"
            ]
          },
          "metadata": {
            "tags": []
          },
          "execution_count": 10
        }
      ]
    },
    {
      "cell_type": "markdown",
      "metadata": {
        "id": "owo71hnTSGnN"
      },
      "source": [
        "## GPU를 활용하여 passage retrieval 수행하기"
      ]
    },
    {
      "cell_type": "markdown",
      "metadata": {
        "id": "iKrsJ3jOjDpf"
      },
      "source": [
        "GPU에서 exhaustive search 수행"
      ]
    },
    {
      "cell_type": "code",
      "metadata": {
        "id": "PUI0hmYaSBwS"
      },
      "source": [
        "if torch.cuda.is_available():\n",
        "  p_embs_cuda = torch.Tensor(p_embs).to('cuda')\n",
        "  q_embs_cuda = torch.Tensor(q_embs).to('cuda')"
      ],
      "execution_count": null,
      "outputs": []
    },
    {
      "cell_type": "code",
      "metadata": {
        "id": "_menV6jNjM40",
        "colab": {
          "base_uri": "https://localhost:8080/"
        },
        "outputId": "5ca73202-d7d2-478d-fd1e-4d618d0020b3"
      },
      "source": [
        "import time\n",
        "start_time = time.time()\n",
        "\n",
        "dot_prod_scores = torch.matmul(q_embs_cuda, torch.transpose(p_embs_cuda, 0, 1))\n",
        "\n",
        "rank = torch.argsort(dot_prod_scores, dim=1, descending=True).squeeze()\n",
        "print(rank)\n",
        "\n",
        "print(\"--- %s seconds ---\" % (time.time() - start_time))"
      ],
      "execution_count": null,
      "outputs": [
        {
          "output_type": "stream",
          "text": [
            "tensor([[212, 287, 510,  ..., 145, 809, 181],\n",
            "        [329, 113, 893,  ..., 145, 351, 181],\n",
            "        [513, 446, 462,  ..., 448, 452, 181],\n",
            "        [489, 843, 328,  ..., 785, 452, 181],\n",
            "        [377, 176, 761,  ..., 512, 216, 181]], device='cuda:0')\n",
            "--- 0.02081918716430664 seconds ---\n"
          ],
          "name": "stdout"
        }
      ]
    },
    {
      "cell_type": "code",
      "metadata": {
        "id": "fGbwk2FjoIUm",
        "colab": {
          "base_uri": "https://localhost:8080/"
        },
        "outputId": "f931b6e2-469b-4106-c648-8d5d88169b30"
      },
      "source": [
        "k = 5 \n",
        "\n",
        "for i, q in enumerate(query[:1]):\n",
        "  print(\"[Search query]\\n\", q, \"\\n\")\n",
        "  print(\"[Ground truth passage]\")\n",
        "  print(ground_truth[i], \"\\n\")\n",
        "\n",
        "  r = rank[i]\n",
        "  for j in range(k):\n",
        "    print(\"Top-%d passage with score %.4f\" % (j+1, dot_prod_scores[i][r[j]]))\n",
        "    print(search_corpus[r[j]])\n",
        "  print('\\n')"
      ],
      "execution_count": null,
      "outputs": [
        {
          "output_type": "stream",
          "text": [
            "[Search query]\n",
            " 대한민국 제14대 대통령으로 향년 89세를 일기로 서거한 김영삼 대통령의 묘소가 있는 곳은? \n",
            "\n",
            "[Ground truth passage]\n",
            "2015년 11월 10일 건강검진 차 서울대학교 병원을 찾아 17일까지 입원한 뒤 퇴원했다. 그러다, 이틀 뒤인 19일 고열과 혈액감염 의심 증세로 서울대학교 병원에 다시 입원한 후, 11월 21일 오후에 증세가 급격히 악화됨에 따라 중환자실로 옮겨졌다. 상태가 전혀 호전되지 않던 김영삼은 결국 2015년 11월 22일 오전 0시 21분 32초에 병마를 물리치지 못하고 혈액 감염 의심으로 치료를 받던 중 향년 89세의 일기로 서거하였다. 사망에 이른 직접적인 원인은 허약한 전신 상태에 패혈증과 급성 심부전이 겹쳐 일어난 것으로 판단되었다. 장례는 대한민국 최초로 5일간 국가장으로 치뤄졌다. 이는 국장과 국민장이 통합된 이후 처음 치뤄지는 국가장이다. 이어 11월 26일 국회의사당에서 영결식이 있었고 국립서울현충원에 안장되었다. 묘소의 정확한 위치는 제3장군묘역 우측능선에 위치하고 있으며 단독 묘역이다. \n",
            "\n",
            "Top-1 passage with score 190.1612\n",
            "2015년 11월 10일 건강검진 차 서울대학교 병원을 찾아 17일까지 입원한 뒤 퇴원했다. 그러다, 이틀 뒤인 19일 고열과 혈액감염 의심 증세로 서울대학교 병원에 다시 입원한 후, 11월 21일 오후에 증세가 급격히 악화됨에 따라 중환자실로 옮겨졌다. 상태가 전혀 호전되지 않던 김영삼은 결국 2015년 11월 22일 오전 0시 21분 32초에 병마를 물리치지 못하고 혈액 감염 의심으로 치료를 받던 중 향년 89세의 일기로 서거하였다. 사망에 이른 직접적인 원인은 허약한 전신 상태에 패혈증과 급성 심부전이 겹쳐 일어난 것으로 판단되었다. 장례는 대한민국 최초로 5일간 국가장으로 치뤄졌다. 이는 국장과 국민장이 통합된 이후 처음 치뤄지는 국가장이다. 이어 11월 26일 국회의사당에서 영결식이 있었고 국립서울현충원에 안장되었다. 묘소의 정확한 위치는 제3장군묘역 우측능선에 위치하고 있으며 단독 묘역이다.\n",
            "Top-2 passage with score 186.9109\n",
            "1945년 서울특별시에서 태어나 1964년에 경복고등학교와 1969년에 서울대학교 법과대학을 졸업하고 1970년 제11회 사법시험 합격하여 사법연수원 1기를 수료하고 판사에 임용되었다. 1985년에 대법원 재판연구관을 거쳐 1986년부터 사법연수원 교수를 했던 1988년을 제외하고 광주지방법원(1986년), 서울형사지방법원(!990년), 서울고등법원(1994년), 서울행정법원(1998년 수석부장판사) 등에서 부장판사에 임명되어 재판을 했다. 법원장으로 승진한 2000년 7월부터 전주지방법원, 대구지방법원(2001년), 서울가정법원(2002년), 대구고등법원(2003년), 서울고등법원(2004년)에서 법원장으로 재직하였으며 서울고등법원장에 재직할 때인 2005년 2월에는 중앙선거관리위원회 위원을 겸직하였다 2005년 11월에는 판사에서 퇴직하여 법무법인 로고스에서 상임고문 변호사를 하면서 새만금 방조제 행정구역 소송 등의 사건을 수임하였다.\n",
            "Top-3 passage with score 185.9661\n",
            "2017년 2월 13일 오전 9시경 김정남은 말레이시아 세팡에 위치한 쿠알라룸푸르 국제공항에서 무언가를 맨손에 묻힌 여성 2명이 얼굴을 문지르고 얼마 후 사망하였다. 보툴리눔으로 죽었다는 설도 나왔고, 독극물 스프레이를 맞고 사망하였다는 설도 있다. 또한 일부는 독침으로 죽었다는 가설도 있다고 한다. 김정남 암살은 김정은이 권력을 승계받은 2011년 다음해 인 2012년 초 부터 진행되었으며, 정찰총국 등 북한 정보당국의 최순위 목표였다고 국가정보원이 밝혔다. 또한 국가정보원은 2012년 4월 김정남이 김정은 위원장에게 “살려달라”는 내용의 서신을 보낸 사실도 공개하였다. 2017년 2월 19일 말레이시아 경찰은 공식 브리핑을 통해 암살을 실행한 인도네시아,베트남 출신 여성 2명을 배후에서 사주한 일당 4명이 모두 조선민주주의인민공화국 국적이라고 발표하였다.\n",
            "Top-4 passage with score 185.4646\n",
            "법무사로서 군생활을 하며 상을 3개 받고 전역한 김이수는 1982년 대전지방법원 판사로 임관하여 재직하다가 2009년에 법원장으로 승진하여 서울남부지방법원, 2010년 특허법원, 2011년 사법연수원에서 법원장을 거쳐 2012년 야당 민주통합당 추천으로 헌법재판소 헌법재판관에 임명되었다. 새누리당 헌법재판관인사청문특위 김재원 간사는 김이수 후보자에 대해 \"이 분이 헌법재판관이 되면 추천해 준 정당의 당론을 따라서 헌법 재판을 할 분이다\"라고 하면서 \"함량미달 재판관 후보자\"라고 했다. 이정미 재판관의 퇴임 후 헌법재판소장 권한 대행으로 선출되었다. 문재인 대통령에 의해 2017년 5월 19일에 헌법재판소장으로 지명되었으나 인사청문회 95일만인 2017년 9월 11일에 헌법재판소장 임명동의안이 국회에 상정됐으나 부결됐다.\n",
            "Top-5 passage with score 184.3373\n",
            "2007년 12월에는 성균관대학교 김일영 교수와의 인터뷰에서 이승만은 나라를 건국한 국부이며, 당시 가장 현실적인 지도자였다고 긍정적으로 평가한 반면 김구는 이루지 못할 일을 상상한 정치감각이 떨어지는 지도자라고 부정적으로 평가하였다. 또한 박정희를 역사의 죄인으로 혹평하고 5.16 쿠데타가 없었다면 장면 정부가 나라를 잘 이끌었을 것이며 박정희의 경제개발은 장면의 민주당 정권에서도 가능하다고 평가하였다. 2008년 5월 라디오 방송인 광주 MBC 표준FM 《시선집중 광주》 ‘이제는 말할 수 있다 - 28년의 비망록’과의 인터뷰에서 전두환을 비판하였고 5.18 당시의 비극을 회상하였으며 민주화 운동 과정에서 자신에 대한 평가가 미흡한 것은 아쉽다는 소견을 피력하였다.\n",
            "\n",
            "\n"
          ],
          "name": "stdout"
        }
      ]
    },
    {
      "cell_type": "markdown",
      "metadata": {
        "id": "XKGyIdQHkn-b"
      },
      "source": [
        "## FAISS를 활용하여 CPU에서 passage retrieval 수행하기\n",
        "\n",
        "\n"
      ]
    },
    {
      "cell_type": "markdown",
      "metadata": {
        "id": "7PZH2Bu2kx4x"
      },
      "source": [
        "FAISS SQ8, IVF 를 활용해서 cpu에서 passage retrieval 실습해보기"
      ]
    },
    {
      "cell_type": "code",
      "metadata": {
        "id": "REChmwRnkw5P"
      },
      "source": [
        "import faiss\n",
        "\n",
        "num_clusters = 16\n",
        "niter = 5\n",
        "k = 5\n",
        "\n",
        "# 1. Clustering\n",
        "emb_dim = p_embs.shape[-1]\n",
        "index_flat = faiss.IndexFlatL2(emb_dim)\n",
        "\n",
        "clus = faiss.Clustering(emb_dim, num_clusters)\n",
        "clus.verbose = True\n",
        "clus.niter = niter\n",
        "clus.train(p_embs, index_flat)\n",
        "centroids = faiss.vector_float_to_array(clus.centroids)\n",
        "centroids = centroids.reshape(num_clusters, emb_dim)\n",
        "\n",
        "quantizer = faiss.IndexFlatL2(emb_dim)\n",
        "quantizer.add(centroids)\n"
      ],
      "execution_count": null,
      "outputs": []
    },
    {
      "cell_type": "code",
      "metadata": {
        "id": "GEiiBQLWkbJv"
      },
      "source": [
        "# 2. SQ8 + IVF indexer (IndexIVFScalarQuantizer)\n",
        "indexer = faiss.IndexIVFScalarQuantizer(quantizer, quantizer.d, quantizer.ntotal, faiss.METRIC_L2)\n",
        "indexer.train(p_embs)\n",
        "indexer.add(p_embs)"
      ],
      "execution_count": null,
      "outputs": []
    },
    {
      "cell_type": "code",
      "metadata": {
        "colab": {
          "base_uri": "https://localhost:8080/"
        },
        "id": "5tHmCilLnpO7",
        "outputId": "9d2549a4-adf6-47d4-cefd-a1635bbe1caf"
      },
      "source": [
        "# 3. Search using indexer\n",
        "\n",
        "start_time = time.time()\n",
        "D, I = indexer.search(q_embs, k)\n",
        "print(\"--- %s seconds ---\" % (time.time() - start_time))"
      ],
      "execution_count": null,
      "outputs": [
        {
          "output_type": "stream",
          "text": [
            "--- 0.001992940902709961 seconds ---\n"
          ],
          "name": "stdout"
        }
      ]
    },
    {
      "cell_type": "code",
      "metadata": {
        "colab": {
          "base_uri": "https://localhost:8080/"
        },
        "id": "baaWjLQlponb",
        "outputId": "013418bb-0c26-473b-fad7-cefdb69b4d62"
      },
      "source": [
        "print('=======[Distance]=======')\n",
        "print(D)\n",
        "print('\\n')\n",
        "print('=======[Index of Top-5 Passages]=======')\n",
        "print(I)"
      ],
      "execution_count": null,
      "outputs": [
        {
          "output_type": "stream",
          "text": [
            "=======[Distance]=======\n",
            "[[ 9.375433  16.979416  18.334278  19.029072  19.30021  ]\n",
            " [20.489332  27.797113  30.972485  32.143345  35.350586 ]\n",
            " [20.731392  20.814318  21.522211  22.416315  22.774076 ]\n",
            " [ 5.8145723  6.947813   7.8851266  7.8851266  8.185651 ]\n",
            " [21.518826  21.916882  22.212915  22.484571  23.440453 ]]\n",
            "\n",
            "\n",
            "=======[Index of Top-5 Passages]=======\n",
            "[[212 956 221 952 813]\n",
            " [216  89 767 713 647]\n",
            " [252 426 565 555  14]\n",
            " [489 153 709 360 857]\n",
            " [102 396 383 288 743]]\n"
          ],
          "name": "stdout"
        }
      ]
    },
    {
      "cell_type": "code",
      "metadata": {
        "colab": {
          "base_uri": "https://localhost:8080/"
        },
        "id": "uGBAAIkWp4me",
        "outputId": "bb321f94-344f-4cb3-c15d-d4741c50cf04"
      },
      "source": [
        "for i, q in enumerate(query[:1]):\n",
        "  print(\"[Search query]\\n\", q, \"\\n\")\n",
        "  print(\"[Ground truth passage]\")\n",
        "  print(ground_truth[i], \"\\n\")\n",
        "\n",
        "  d = D[i]\n",
        "  i = I[i]\n",
        "  for j in range(k):\n",
        "    print(\"Top-%d passage with distance %.4f\" % (j+1, d[j]))\n",
        "    print(search_corpus[i[j]])\n",
        "  print('\\n')"
      ],
      "execution_count": null,
      "outputs": [
        {
          "output_type": "stream",
          "text": [
            "[Search query]\n",
            " 대한민국 제14대 대통령으로 향년 89세를 일기로 서거한 김영삼 대통령의 묘소가 있는 곳은? \n",
            "\n",
            "[Ground truth passage]\n",
            "2015년 11월 10일 건강검진 차 서울대학교 병원을 찾아 17일까지 입원한 뒤 퇴원했다. 그러다, 이틀 뒤인 19일 고열과 혈액감염 의심 증세로 서울대학교 병원에 다시 입원한 후, 11월 21일 오후에 증세가 급격히 악화됨에 따라 중환자실로 옮겨졌다. 상태가 전혀 호전되지 않던 김영삼은 결국 2015년 11월 22일 오전 0시 21분 32초에 병마를 물리치지 못하고 혈액 감염 의심으로 치료를 받던 중 향년 89세의 일기로 서거하였다. 사망에 이른 직접적인 원인은 허약한 전신 상태에 패혈증과 급성 심부전이 겹쳐 일어난 것으로 판단되었다. 장례는 대한민국 최초로 5일간 국가장으로 치뤄졌다. 이는 국장과 국민장이 통합된 이후 처음 치뤄지는 국가장이다. 이어 11월 26일 국회의사당에서 영결식이 있었고 국립서울현충원에 안장되었다. 묘소의 정확한 위치는 제3장군묘역 우측능선에 위치하고 있으며 단독 묘역이다. \n",
            "\n",
            "Top-1 passage with distance 9.3754\n",
            "2015년 11월 10일 건강검진 차 서울대학교 병원을 찾아 17일까지 입원한 뒤 퇴원했다. 그러다, 이틀 뒤인 19일 고열과 혈액감염 의심 증세로 서울대학교 병원에 다시 입원한 후, 11월 21일 오후에 증세가 급격히 악화됨에 따라 중환자실로 옮겨졌다. 상태가 전혀 호전되지 않던 김영삼은 결국 2015년 11월 22일 오전 0시 21분 32초에 병마를 물리치지 못하고 혈액 감염 의심으로 치료를 받던 중 향년 89세의 일기로 서거하였다. 사망에 이른 직접적인 원인은 허약한 전신 상태에 패혈증과 급성 심부전이 겹쳐 일어난 것으로 판단되었다. 장례는 대한민국 최초로 5일간 국가장으로 치뤄졌다. 이는 국장과 국민장이 통합된 이후 처음 치뤄지는 국가장이다. 이어 11월 26일 국회의사당에서 영결식이 있었고 국립서울현충원에 안장되었다. 묘소의 정확한 위치는 제3장군묘역 우측능선에 위치하고 있으며 단독 묘역이다.\n",
            "Top-2 passage with distance 16.9794\n",
            "대학 2학년에 재학 중 김영삼은 서울특별시 명동 시공관에서 있은 정부수립기념 웅변대회에 참가하여 2등을 차지, 외무부 장관상을 수상했다. 당시 외무부 장관은 장택상이었다. 김영삼에게는 장택상이 처음 직접 대하는 거물 정치인이었고 장택상은 곱상하고 총명한 청년을 마음에 두게 되었다. 2대 민의원 선거 무렵 장택상과 가까워지게 되었다. 제2대 민의원 선거에 출마할 결심을 한 장택상은 서울대 문리대 교정으로 지프차를 보내 김영삼에게 선거 도움을 요청해 왔다. 이에 김영삼은 서울대 학생 20여 명과 함께 경상북도 칠곡으로 내려가 이때부터 40여 일간을 장택상과 침식을 함께 하며 찬조연설을 하는 등 장택상의 당선을 위해 노력하였다. 김영삼의 서울대학교 졸업에 대해선 이견이 존재했다. 1947년 청강생 명부에 김영삼이 있어서 정식 입학생이 아니라는 소문이 돌았지만, 서울대학교에서는 당시의 청강생은 이후와 달리 입학하는 6가지 방법 중 하나였으며, 실력고사를 통과하거나 학업성적이 우수하면 정식 학생이 되어 졸업하였다. 김영삼의 생가에는 김영삼이 1947년 5월에 서울대학교에 입학하여 1951년 2월에 졸업했음을 보여주는 졸업증명서가 전시되었다.\n",
            "Top-3 passage with distance 18.3343\n",
            "3선 개헌 소식이 보도될 때 다시 경무대를 방문한 김영삼은 이승만 대통령에게 \"박사님, 개헌하시면 안 됩니다. 국부(國父)로 남으셔야 합니다\"라고 했다. 그 당시 이승만은 80세의 노인이었는데 28세였던 젊은 김영삼의 직설적인 발언을 듣고 불쾌한 나머지 손을 떨었다 한다. 그러더니 별 말없이 뒷 문으로 나가버렸다. 뒤에 이기붕이 김영삼을 찾아와 화를 내며 \"왜 쓸데없는 말을 해서 노인을 화나게 하느냐\"고 나무랐다. 그 뒤로도 김영삼은 자유당을 탈당하지 않았다. 3선 개헌안이 토요일에 부결 처리 됐는데 일요일이 지나고 월요일에 최순주 민의원 부의장이 '사사오입' 원칙을 내세워 개헌안을 다시 가결된 것으로 통과시켰다. 사사오입 개헌이 통과되자 김영삼은 '이 당은 안 되겠다' 결심하고 동지들을 모아 10명과 함께 자유당을 탈당하였다.\n",
            "Top-4 passage with distance 19.0291\n",
            "제14대 대통령 선거에서 김영삼, 김대중의 출현을 못마땅하게 여기던 반공주의 세력과 군사 정권 세력은 야당 출신 인사들이 북한과 거래한다는 투의 의혹을 제기했다. 그러자 김영삼은 1960년 자신의 어머니 박부련이 무장공비에게 살해당한 점을 들어 위기를 모면하였다. 한편 민자당내 군사정권 출신 세력은 김영삼의 지도권에 반발하였으나, 대구 경북출신의 군사정권 인사 정호용이 그에 대한 지지를 촉구하여 일시적으로 봉합시키기도 했다. 그러나 정호용의 ‘우리는 남이가, 같은 경상도이니 지지하자’ 는 만류에 의해 군사 정권 세력과 반공주의 세력은 김영삼 지지층과 김종필 지지로 나뉘었고, 그는 구 민주당계 인사와 경상남도, 부산 지역의 표심을 장악하여 대통령에 무난히 당선될 수 있었다.\n",
            "Top-5 passage with distance 19.3002\n",
            "12월 12일 12·12 사태가 발생하자 강원용의 연락을 받고 다음날 12월 13일 아침 남산에 있는 식당에서 면담하였다. 김대중, 김종필과 힘을 합쳐 계엄부터 해제시키고, 그때 김종필은 김종필대로 가게 하고, 김대중과 손을 잡도록 권고하였다. 또한 강원용은 조건을 제시, 김대중과 손을 잡는 조건으로 대통령은 김영삼이 먼저 하고 그 대신 당 총재는 김대중에게 주며, 4년 후에 가서 경선을 하자고 권유하였다. 그러나 김영삼은 \"우리는 민주주의 신봉자니까 대통령 후보든 당 총재든 전당대회에서 민주적으로 결정해야지, 우리끼리 약속을 하고 말고 하는 게 아니라\"며 강원용의 타협안을 거절하였다. 강원용은 \"당에서는 절대 다수가 김영삼 세력이었으니까 조건을 못 받아들이겠다는 것이 아니냐\"며 비난하였다.\n",
            "\n",
            "\n"
          ],
          "name": "stdout"
        }
      ]
    },
    {
      "cell_type": "markdown",
      "metadata": {
        "id": "P2Hx3KBMO8z_"
      },
      "source": [
        "## [과제 2] Wikipedia documents에 대해 FAISS retrieval 실습해보기"
      ]
    },
    {
      "cell_type": "code",
      "metadata": {
        "id": "6JGvKoDDV8rl"
      },
      "source": [
        "# 3. 미리 올려둔 wiki docs 다운로드\n",
        "!wget --load-cookies /tmp/cookies.txt \"https://docs.google.com/uc?export=download&confirm=$(wget --quiet --save-cookies /tmp/cookies.txt --keep-session-cookies --no-check-certificate 'https://docs.google.com/uc?export=download&id=1eD57pCCvhiXLrHBb1j07QX1VQQDogejF' -O- | sed -rn 's/.*confirm=([0-9A-Za-z_]+).*/\\1\\n/p')&id=1eD57pCCvhiXLrHBb1j07QX1VQQDogejF\" -O wikipedia_documents.json && rm -rf /tmp/cookies.txt"
      ],
      "execution_count": null,
      "outputs": []
    },
    {
      "cell_type": "code",
      "metadata": {
        "id": "G1SMReLpWsTr"
      },
      "source": [
        "# First load wikipedia dump\n",
        "import json\n",
        "\n",
        "# TODO: Write your own path and load json file\n",
        "dump_path = \"./wikipedia_documents.json\"\n",
        "with open(dump_path, 'r', encoding='utf-8') as f:\n",
        "    wiki = json.load(f)"
      ],
      "execution_count": null,
      "outputs": []
    },
    {
      "cell_type": "code",
      "metadata": {
        "colab": {
          "base_uri": "https://localhost:8080/"
        },
        "id": "S_rVlWPJ11jh",
        "outputId": "1696fcb0-e0c6-4d6a-ee15-115e96c587a9"
      },
      "source": [
        "corpus = [dic['text'] for dic in wiki.values()]\n",
        "len(corpus)"
      ],
      "execution_count": null,
      "outputs": [
        {
          "output_type": "execute_result",
          "data": {
            "text/plain": [
              "60613"
            ]
          },
          "metadata": {
            "tags": []
          },
          "execution_count": 26
        }
      ]
    },
    {
      "cell_type": "code",
      "metadata": {
        "colab": {
          "base_uri": "https://localhost:8080/",
          "height": 137
        },
        "id": "BngJFQ2I2Rz2",
        "outputId": "576e4693-8f10-4185-d288-c520d9cf232e"
      },
      "source": [
        "corpus[0]"
      ],
      "execution_count": null,
      "outputs": [
        {
          "output_type": "execute_result",
          "data": {
            "application/vnd.google.colaboratory.intrinsic+json": {
              "type": "string"
            },
            "text/plain": [
              "'이 문서는 나라 목록이며, 전 세계 206개 나라의 각 현황과 주권 승인 정보를 개요 형태로 나열하고 있다.\\n\\n이 목록은 명료화를 위해 두 부분으로 나뉘어 있다.\\n\\n# 첫 번째 부분은 바티칸 시국과 팔레스타인을 포함하여 유엔 등 국제 기구에 가입되어 국제적인 승인을 널리 받았다고 여기는 195개 나라를 나열하고 있다.\\n# 두 번째 부분은 일부 지역의 주권을 사실상 (데 팍토) 행사하고 있지만, 아직 국제적인 승인을 널리 받지 않았다고 여기는 11개 나라를 나열하고 있다.\\n\\n두 목록은 모두 가나다 순이다.\\n\\n일부 국가의 경우 국가로서의 자격에 논쟁의 여부가 있으며, 이 때문에 이러한 목록을 엮는 것은 매우 어렵고 논란이 생길 수 있는 과정이다. 이 목록을 구성하고 있는 국가를 선정하는 기준에 대한 정보는 \"포함 기준\" 단락을 통해 설명하였다. 나라에 대한 일반적인 정보는 \"국가\" 문서에서 설명하고 있다.'"
            ]
          },
          "metadata": {
            "tags": []
          },
          "execution_count": 27
        }
      ]
    },
    {
      "cell_type": "code",
      "metadata": {
        "colab": {
          "base_uri": "https://localhost:8080/",
          "height": 83,
          "referenced_widgets": [
            "fa4fe741146541c9b042ee5c3df5ae80",
            "6287220b668b43d49c403a1107f912e8",
            "568bd8cbcdd3455cacbc37ed48e41cbb",
            "d0c0cdf0259c4979a522a246226d5f76",
            "75dcd63a00d14ae395bec80c6a4dc4e4",
            "440c6c8176ed44aa948d6e3fb6d75a8e",
            "6c7cd8141f1f476282f1a5cd740f992a",
            "88ae882686e84a46a29bf92522bc7067"
          ]
        },
        "id": "IjnyVCH1yiMd",
        "outputId": "2f4ec4e4-0d12-45e9-9aa1-bf2e9a46f9b5"
      },
      "source": [
        "from torch.utils.data import (DataLoader, RandomSampler, TensorDataset, SequentialSampler)\n",
        "from tqdm.auto import tqdm, trange\n",
        "\n",
        "eval_batch_size = 8\n",
        "\n",
        "# Construt dataloader\n",
        "valid_p_seqs = tokenizer(corpus, padding=\"max_length\", truncation=True, return_tensors='pt')\n",
        "valid_dataset = TensorDataset(valid_p_seqs['input_ids'], valid_p_seqs['attention_mask'], valid_p_seqs['token_type_ids'])\n",
        "valid_sampler = SequentialSampler(valid_dataset)\n",
        "valid_dataloader = DataLoader(valid_dataset, sampler=valid_sampler, batch_size=eval_batch_size)\n",
        "\n",
        "# Inference using the passage encoder to get dense embeddeings\n",
        "wiki_embs = []\n",
        "\n",
        "with torch.no_grad():\n",
        "\n",
        "  epoch_iterator = tqdm(valid_dataloader, desc=\"Iteration\", position=0, leave=True)\n",
        "  p_encoder.eval()\n",
        "\n",
        "  for _, batch in enumerate(epoch_iterator):\n",
        "    batch = tuple(t.cuda() for t in batch)\n",
        "\n",
        "    p_inputs = {'input_ids': batch[0],\n",
        "                'attention_mask': batch[1],\n",
        "                'token_type_ids': batch[2]\n",
        "                }\n",
        "        \n",
        "    outputs = p_encoder(**p_inputs).to('cpu').numpy()\n",
        "    wiki_embs.extend(outputs)\n",
        "\n",
        "import numpy as np\n",
        "wiki_embs = np.array(wiki_embs)\n",
        "wiki_embs.shape  # (num_passage, emb_dim)"
      ],
      "execution_count": null,
      "outputs": [
        {
          "output_type": "display_data",
          "data": {
            "application/vnd.jupyter.widget-view+json": {
              "model_id": "fa4fe741146541c9b042ee5c3df5ae80",
              "version_minor": 0,
              "version_major": 2
            },
            "text/plain": [
              "HBox(children=(FloatProgress(value=0.0, description='Iteration', max=7577.0, style=ProgressStyle(description_w…"
            ]
          },
          "metadata": {
            "tags": []
          }
        },
        {
          "output_type": "stream",
          "text": [
            "\n"
          ],
          "name": "stdout"
        },
        {
          "output_type": "execute_result",
          "data": {
            "text/plain": [
              "(60613, 768)"
            ]
          },
          "metadata": {
            "tags": []
          },
          "execution_count": 28
        }
      ]
    },
    {
      "cell_type": "code",
      "metadata": {
        "id": "52ySj_G-wdo4"
      },
      "source": [
        "# TODO: build faiss indexer using your own parameters\n",
        "import faiss\n",
        "\n",
        "num_clusters = 16\n",
        "niter = 5\n",
        "k = 5\n",
        "\n",
        "# 1. Clustering\n",
        "emb_dim = wiki_embs.shape[-1]\n",
        "index_flat = faiss.IndexFlatL2(emb_dim)\n",
        "\n",
        "clus = faiss.Clustering(emb_dim, num_clusters)\n",
        "clus.verbose = True\n",
        "clus.niter = niter\n",
        "clus.train(wiki_embs, index_flat)\n",
        "centroids = faiss.vector_float_to_array(clus.centroids)\n",
        "centroids = centroids.reshape(num_clusters, emb_dim)\n",
        "\n",
        "quantizer = faiss.IndexFlatL2(emb_dim)\n",
        "quantizer.add(centroids)\n",
        "\n",
        "# 2. SQ8 + IVF indexer (IndexIVFScalarQuantizer)\n",
        "indexer = faiss.IndexIVFScalarQuantizer(quantizer, quantizer.d, quantizer.ntotal, faiss.METRIC_L2)\n",
        "indexer.train(wiki_embs)\n",
        "indexer.add(wiki_embs)"
      ],
      "execution_count": null,
      "outputs": []
    },
    {
      "cell_type": "code",
      "metadata": {
        "colab": {
          "base_uri": "https://localhost:8080/"
        },
        "id": "EXVKjrCXvSW0",
        "outputId": "1fe82113-eac3-4b1d-b6bc-cb0c95f25379"
      },
      "source": [
        "# TODO: transform query to dense vector\n",
        "query = '대통령을 포함한 미국의 행정부 견제권을 갖는 국가 기관은?'\n",
        "\n",
        "valid_q_seqs = tokenizer(query, padding=\"max_length\", truncation=True, return_tensors='pt').to('cuda')\n",
        "\n",
        "with torch.no_grad():\n",
        "  q_encoder.eval()\n",
        "  q_embs = q_encoder(**valid_q_seqs).to('cpu').numpy()\n",
        "\n",
        "q_embs.shape  # (num_query, emb_dim)"
      ],
      "execution_count": null,
      "outputs": [
        {
          "output_type": "execute_result",
          "data": {
            "text/plain": [
              "(1, 768)"
            ]
          },
          "metadata": {
            "tags": []
          },
          "execution_count": 30
        }
      ]
    },
    {
      "cell_type": "code",
      "metadata": {
        "colab": {
          "base_uri": "https://localhost:8080/"
        },
        "id": "JtdvW3JPw7kn",
        "outputId": "5b0ce5e8-b52d-4a9e-c2de-01fd09b4085d"
      },
      "source": [
        "# 3. Search using indexer\n",
        "\n",
        "start_time = time.time()\n",
        "D, I = indexer.search(q_embs, k)\n",
        "print(\"--- %s seconds ---\" % (time.time() - start_time))"
      ],
      "execution_count": null,
      "outputs": [
        {
          "output_type": "stream",
          "text": [
            "--- 0.008892059326171875 seconds ---\n"
          ],
          "name": "stdout"
        }
      ]
    },
    {
      "cell_type": "code",
      "metadata": {
        "colab": {
          "base_uri": "https://localhost:8080/"
        },
        "id": "l-6layOyw7ko",
        "outputId": "8f47058c-c3a2-4408-a977-b755d34d29b6"
      },
      "source": [
        "print('=======[Distance]=======')\n",
        "print(D)\n",
        "print('\\n')\n",
        "print('=======[Index of Top-5 Passages]=======')\n",
        "print(I)"
      ],
      "execution_count": null,
      "outputs": [
        {
          "output_type": "stream",
          "text": [
            "=======[Distance]=======\n",
            "[[ 7.8849955 12.298415  12.337481  12.931769  12.988866 ]]\n",
            "\n",
            "\n",
            "=======[Index of Top-5 Passages]=======\n",
            "[[36861 13769 23900 37084 18293]]\n"
          ],
          "name": "stdout"
        }
      ]
    },
    {
      "cell_type": "code",
      "metadata": {
        "colab": {
          "base_uri": "https://localhost:8080/"
        },
        "id": "HycrRnySw7ko",
        "outputId": "c4d1107c-7866-47f0-c170-2a82c3af6d7c"
      },
      "source": [
        "print(\"[Search query]\\n\", q, \"\\n\")\n",
        "# 주의: 우리는 wiki 문서 전체에서 임의의 질문을 물어보는 것이므로 ground truth 가 존재하지 않습니다\n",
        "\n",
        "d = D[0]\n",
        "i = I[0]\n",
        "for j in range(k):\n",
        "    print(\"Top-%d passage with distance %.4f\" % (j+1, d[j]))\n",
        "    print(corpus[i[j]])\n",
        "    print('\\n')"
      ],
      "execution_count": null,
      "outputs": [
        {
          "output_type": "stream",
          "text": [
            "[Search query]\n",
            " 대한민국 제14대 대통령으로 향년 89세를 일기로 서거한 김영삼 대통령의 묘소가 있는 곳은? \n",
            "\n",
            "Top-1 passage with distance 7.8850\n",
            "대통령 지시(Presidential directive)는 미국 대통령의 국가안보 관련 행정명령이다. NSC의 조언과 동의(Advice and consent)가 필요하다. 국가안보 대통령 지시가 보다 뜻이 명확하다.\n",
            "\n",
            "역대 대통령들은 다양한 용어를 사용했다. 케네디 대통령은 국가안보실행메모(NSAM, National Security Action Memorandums), 닉슨과 포드 대통령은 국가안보결정메모(NSDM, National Security Decision Memorandums), 클린턴 대통령은 대통령결정지시, 조지 부시 대통령은 국가안보대통령지시, 오바마 대통령은 대통령정책지시라고 부른다.\n",
            "\n",
            "미국의 대통령 지시는 비밀명령으로 내려지기도 하는데, 이는 수십년이 지나면 비밀해제되어 일반에 공개된다. 미국 육군 정보와 보안 사령부와 같이, 군대에 특정 부대를 창설하는 경우, 대통령 지시만으로 창설되곤 한다.\n",
            "\n",
            "\n",
            "Top-2 passage with distance 12.2984\n",
            "캐나다의 정치는 입헌군주제의 연방제로 강한 민주주의 전통을 가진 의회 정부를 포함하고 있다. 헌법에 해당하는 것은 대영 북아메리카 조약, 웨스트민스터 조례 등의 수정에 의하며, 성문화되어 있지 않다. 원수는 총독이다. 실제의 정치는 입법부에 대하여 책임을 지는 의원내각제에 의해서 행하여지며, 다수당의 당수가 수상이 된다. 연방정부는 국방, 외교, 무역, 금융 등을 통괄하며, 교육·노동 등은 주(州)정부의 권한에 속한다.캐나다의 외교는 영국 연방의 일원으로서 영국과의 관계를 유지하며, 북대서양 조약 기구(NATO)에 가맹하여 군사적, 경제적으로는 미국과 긴밀한 관계에 있다. 미주 기구(美洲機構)에는 1990년에 가맹하였으며 , 국제연합(UN)의 조정적인 활동을 통하여 주체성 유지에 노력하고 있다.\n",
            "\n",
            "영국 연방에 속한 많은 국가들의 의회 정치는 영국의 웨스트민스터 의회제도에서 비롯된 불문법 전통을 따르고 있으나, 캐나다의 의회제도의 경우, 보다 다양한 형태로 발전해 왔다. 예를 들면, 각 정당의 당내 의견을 통일하는 전통이 영국보다 강하고 의회내의 많은 득표가 곧 결의안의 통과로 여겨진다. 때문에 내각에 포함되지 않은 일반 의원들의 역할이 영국 보다 대체로 약하나, 조각시 각부 장관으로 등용되지 않은 이들 의원들을 '백벤쳐'라고 부르는데, 이들은 의회의 국방 및 예산등 각종 위원회에 소속되어 영향력 행사를 시도한다.\n",
            "\n",
            "\n",
            "Top-3 passage with distance 12.3375\n",
            "미국의 대외 관계에서는 미국과 다른 나라들 간의 관계를 다룬다. 미국의 영향력은 15조 달러를 넘는 경제 , 세계의 약 4분의 1을 차지하는 GDP, 세계의 약 43%를 점유하는 7110억 달러의 국방비에 의하여 뒷받침되고 있다. 안전보장에 관한 전략의 선택이나 국익의 정의 등 그 목표를 달성하는 외교정책에 관하여 궁극적인 권한은 대통령이 가지고 있고, 다른 나라의 외무부에 해당하는 국무부가 국가간의 외교를 담당하고 있다. 쿠바 등 소수의 국가를 제외하고는, 미국은 대다수의 나라들과 외교 관계를 맺고 있다. 미국은 국제 연합 안전보장이사회의 상임 이사국이며 영국, 캐나다, 오스트레일리아, 뉴질랜드, 대한민국, 일본, 이스라엘과 그 밖의 북대서양 조약 기구 회원국과 긴밀한 관계를 맺고 있다. 현 국무부 장관은 존 케리이다.\n",
            "\n",
            "\n",
            "Top-4 passage with distance 12.9318\n",
            "총리실의 가장 중요한 역할 중에 하나가 추밀원에 있어서의 여왕의 이름으로  정부인사를 임명하는 일이다. 이렇게 인사를 임명하는 방법은 총리의 법적 구속력이 있는 조언에 따른다. 하지만 캐나다는 입헌군주제를 표방하여 보통 총리의 조언에 따라 국정이 이루어진다. 즉 총리실은 총리를 위해서 총독, 부총독, 상원의원, 대법원 판사, 장관이사회장, 공사장 후보를 현역 총독 또는 부왕에게 제안하는 일을 한다. 또한 작가, 전략가, 통신 전문가가 총리실의 직원으로 일한다. 그들은 총리와 내각의 국정운영의 방향을 대중에 보여주고 정부와 나라 곳곳에 일어난 일을 총리에게 보고하고 정당 소속의 기구와 정부 사이의 중개인으로 일한다.\n",
            "\n",
            "\n",
            "Top-5 passage with distance 12.9889\n",
            "미국 상의원 또는 미국 상원(United States Senate)은 양원제인 미국 의회의 상원이다.\\n\\n미국 부통령이 상원의장이 된다. 각 주당 2명의 상원의원이 선출되어 100명의 상원의원으로 구성되어 있다. 임기는 6년이며, 2년마다 50개주 중 1/3씩 상원의원을 새로 선출하여 연방에 보낸다.\\n\\n미국 상원은 미국 하원과는 다르게 미국 대통령을 수반으로 하는 미국 연방 행정부에 각종 동의를 하는 기관이다. 하원이 세금과 경제에 대한 권한, 대통령을 포함한 대다수의 공무원을 파면할 권한을 갖고 있는 국민을 대표하는 기관인 반면 상원은 미국의 주를 대표한다. 즉 캘리포니아주, 일리노이주 같이 주 정부와 주 의회를 대표하는 기관이다. 그로 인하여 군대의 파병, 관료의 임명에 대한 동의, 외국 조약에 대한 승인 등 신속을 요하는 권한은 모두 상원에게만 있다. 그리고 하원에 대한 견제 역할(하원의 법안을 거부할 권한 등)을 담당한다. 2년의 임기로 인하여 급진적일 수밖에 없는 하원은 지나치게 급진적인 법안을 만들기 쉽다. 대표적인 예로 건강보험 개혁 당시 하원이 미국 연방 행정부에게 퍼블릭 옵션(공공건강보험기관)의 조항이 있는 반면 상원의 경우 하원안이 지나치게 세금이 많이 든다는 이유로 퍼블릭 옵션 조항을 제외하고 비영리건강보험기관이나 보험회사가 담당하도록 한 것이다. 이 경우처럼 상원은 하원이나 내각책임제가 빠지기 쉬운 국가들의 국회처럼 걸핏하면 발생하는 의회의 비정상적인 사태를 방지하는 기관이다. 상원은 급박한 처리사항의 경우가 아니면 법안을 먼저 내는 경우가 드물고 하원이 만든 법안을 수정하여 다시 하원에 되돌려보낸다. 이러한 방식으로 단원제가 빠지기 쉬운 함정을 미리 방지하는 것이다.날짜=2017-02-05\n",
            "\n",
            "\n"
          ],
          "name": "stdout"
        }
      ]
    },
    {
      "cell_type": "code",
      "metadata": {
        "id": "T70I9UiyvSQu"
      },
      "source": [
        ""
      ],
      "execution_count": null,
      "outputs": []
    },
    {
      "cell_type": "code",
      "metadata": {
        "id": "JFJOlUBLvSLr"
      },
      "source": [
        ""
      ],
      "execution_count": null,
      "outputs": []
    }
  ]
}