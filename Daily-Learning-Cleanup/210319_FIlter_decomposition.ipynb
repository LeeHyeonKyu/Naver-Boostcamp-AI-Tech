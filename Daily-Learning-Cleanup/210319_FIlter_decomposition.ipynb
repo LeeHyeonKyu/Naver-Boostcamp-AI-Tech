{
  "nbformat": 4,
  "nbformat_minor": 0,
  "metadata": {
    "kernelspec": {
      "display_name": "Python 3",
      "language": "python",
      "name": "python3"
    },
    "language_info": {
      "codemirror_mode": {
        "name": "ipython",
        "version": 3
      },
      "file_extension": ".py",
      "mimetype": "text/x-python",
      "name": "python",
      "nbconvert_exporter": "python",
      "pygments_lexer": "ipython3",
      "version": "3.7.0"
    },
    "toc": {
      "base_numbering": 1,
      "nav_menu": {},
      "number_sections": true,
      "sideBar": true,
      "skip_h1_title": false,
      "title_cell": "Table of Contents",
      "title_sidebar": "Contents",
      "toc_cell": false,
      "toc_position": {},
      "toc_section_display": true,
      "toc_window_display": false
    },
    "varInspector": {
      "cols": {
        "lenName": 16,
        "lenType": 16,
        "lenVar": 40
      },
      "kernels_config": {
        "python": {
          "delete_cmd_postfix": "",
          "delete_cmd_prefix": "del ",
          "library": "var_list.py",
          "varRefreshCmd": "print(var_dic_list())"
        },
        "r": {
          "delete_cmd_postfix": ") ",
          "delete_cmd_prefix": "rm(",
          "library": "var_list.r",
          "varRefreshCmd": "cat(var_dic_list()) "
        }
      },
      "types_to_exclude": [
        "module",
        "function",
        "builtin_function_or_method",
        "instance",
        "_Feature"
      ],
      "window_display": false
    },
    "colab": {
      "name": "10. FIlter decomposition",
      "provenance": [],
      "collapsed_sections": []
    }
  },
  "cells": [
    {
      "cell_type": "markdown",
      "metadata": {
        "id": "5Sm0oL4jDi4f"
      },
      "source": [
        "# The CP & TKD Decomposition with tensorly\n",
        "\n",
        "이번 토이 코드에서는 `tensorfly`를 활용하여 CP & TKD Decomposition을 학습 해보겠습니다. \n",
        "\n",
        "## Remind \n",
        "<center><img src='https://www.researchgate.net/profile/Tai_Xiang_Jiang2/publication/321902217/figure/fig1/AS:613931840180273@1523384165986/The-illustration-of-a-Tucker-decomposition-and-b-CP-factorization-of-an-n-1-n-2-n.png' width=70%></center>\n"
      ]
    },
    {
      "cell_type": "markdown",
      "metadata": {
        "id": "p8wMulff7pDy"
      },
      "source": [
        "# Iinstall package \n",
        "```python\n",
        "!pip install tensorly -y\n",
        "```"
      ]
    },
    {
      "cell_type": "code",
      "metadata": {
        "colab": {
          "base_uri": "https://localhost:8080/"
        },
        "id": "_7ryZPlTC42x",
        "outputId": "79779ed3-9dd0-45ce-d279-87290db147c4"
      },
      "source": [
        "!pip install tensorly "
      ],
      "execution_count": null,
      "outputs": [
        {
          "output_type": "stream",
          "text": [
            "Collecting tensorly\n",
            "\u001b[?25l  Downloading https://files.pythonhosted.org/packages/e0/da/2cf86192ab6ed57b3b1c836753df958d8ccd9495ed2de9828f9ff4867629/tensorly-0.5.1.tar.gz (106kB)\n",
            "\u001b[K     |████████████████████████████████| 112kB 4.3MB/s \n",
            "\u001b[?25hRequirement already satisfied: numpy in /usr/local/lib/python3.6/dist-packages (from tensorly) (1.19.5)\n",
            "Requirement already satisfied: scipy in /usr/local/lib/python3.6/dist-packages (from tensorly) (1.4.1)\n",
            "Collecting nose\n",
            "\u001b[?25l  Downloading https://files.pythonhosted.org/packages/15/d8/dd071918c040f50fa1cf80da16423af51ff8ce4a0f2399b7bf8de45ac3d9/nose-1.3.7-py3-none-any.whl (154kB)\n",
            "\u001b[K     |████████████████████████████████| 163kB 5.7MB/s \n",
            "\u001b[?25hBuilding wheels for collected packages: tensorly\n",
            "  Building wheel for tensorly (setup.py) ... \u001b[?25l\u001b[?25hdone\n",
            "  Created wheel for tensorly: filename=tensorly-0.5.1-cp36-none-any.whl size=149171 sha256=1fd3ef1f1afcc67208d26a9a603f4dfd791c2c7a83ff3e696d6e6c69e99eac9c\n",
            "  Stored in directory: /root/.cache/pip/wheels/88/1e/e7/b9677b2046cc87e17931b4b5781941786d3ee647825ca40ea6\n",
            "Successfully built tensorly\n",
            "Installing collected packages: nose, tensorly\n",
            "Successfully installed nose-1.3.7 tensorly-0.5.1\n"
          ],
          "name": "stdout"
        }
      ]
    },
    {
      "cell_type": "markdown",
      "metadata": {
        "id": "56Y5NjyHCvs1"
      },
      "source": [
        "# Import libraries"
      ]
    },
    {
      "cell_type": "code",
      "metadata": {
        "id": "ePfNcsJYCrx7"
      },
      "source": [
        "import numpy as np\n",
        "import tensorly as tl\n",
        "from tensorly.random import check_random_state\n",
        "from tensorly.tucker_tensor import tucker_to_tensor\n",
        "from tensorly.decomposition import parafac, tucker\n",
        "import torch\n",
        "import warnings\n",
        "from torch.autograd import Variable\n",
        "import matplotlib.pyplot as plt\n",
        "\n",
        "\n",
        "warnings.filterwarnings(\"ignore\")\n",
        "\n",
        "# switch to the PyTorch backend\n",
        "tl.set_backend('pytorch')\n",
        "\n",
        "# fix the random seed to make things consistent\n",
        "np.random.seed(42)"
      ],
      "execution_count": null,
      "outputs": []
    },
    {
      "cell_type": "markdown",
      "metadata": {
        "id": "jLPdDSYGC_6u"
      },
      "source": [
        "# Set hyperparameters"
      ]
    },
    {
      "cell_type": "code",
      "metadata": {
        "id": "asNl_OTkCsHR"
      },
      "source": [
        "# set value \n",
        "SEED = 42\n",
        "ITERATION = 10000\n",
        "LEARNING_RATE = 1e-4 \n",
        "RANK = 4"
      ],
      "execution_count": null,
      "outputs": []
    },
    {
      "cell_type": "markdown",
      "metadata": {
        "id": "6_XpZ0zVDJPr"
      },
      "source": [
        "# Define X"
      ]
    },
    {
      "cell_type": "code",
      "metadata": {
        "colab": {
          "base_uri": "https://localhost:8080/"
        },
        "id": "Iw_s11K9DHgm",
        "outputId": "6a2abe33-2ba8-427a-d234-00a17757d649"
      },
      "source": [
        "# Define inital tensor(X)\n",
        "tensor = np.random.randint(1,5, size=(5, 5, 5)) # shape = [5, 5, 5]\n",
        "X = Variable(tl.tensor(tensor), requires_grad=True)\n",
        "print('Generate a 5 x 5 x 5 array of ints between 1 and 4 as below:')\n",
        "print('X:',X)"
      ],
      "execution_count": null,
      "outputs": [
        {
          "output_type": "stream",
          "text": [
            "Generate a 5 x 5 x 5 array of ints between 1 and 4 as below:\n",
            "X: tensor([[[3., 4., 1., 3., 3.],\n",
            "         [4., 1., 1., 3., 2.],\n",
            "         [3., 3., 3., 3., 4.],\n",
            "         [1., 4., 4., 4., 3.],\n",
            "         [2., 1., 2., 4., 4.]],\n",
            "\n",
            "        [[2., 2., 2., 4., 4.],\n",
            "         [1., 1., 4., 2., 2.],\n",
            "         [1., 4., 1., 1., 3.],\n",
            "         [3., 3., 2., 4., 4.],\n",
            "         [4., 4., 3., 2., 2.]],\n",
            "\n",
            "        [[3., 2., 3., 4., 3.],\n",
            "         [4., 4., 1., 3., 1.],\n",
            "         [3., 3., 1., 1., 3.],\n",
            "         [2., 4., 1., 4., 2.],\n",
            "         [2., 2., 1., 2., 1.]],\n",
            "\n",
            "        [[2., 4., 4., 3., 4.],\n",
            "         [3., 4., 1., 4., 3.],\n",
            "         [3., 2., 1., 4., 2.],\n",
            "         [4., 4., 2., 2., 2.],\n",
            "         [2., 2., 4., 2., 1.]],\n",
            "\n",
            "        [[3., 2., 2., 4., 2.],\n",
            "         [2., 2., 4., 2., 3.],\n",
            "         [4., 3., 4., 2., 3.],\n",
            "         [4., 1., 2., 4., 1.],\n",
            "         [4., 1., 2., 3., 1.]]], requires_grad=True)\n"
          ],
          "name": "stdout"
        }
      ]
    },
    {
      "cell_type": "markdown",
      "metadata": {
        "id": "7vpkVtXoDpg1"
      },
      "source": [
        "# Class\n",
        "\n",
        "\n"
      ]
    },
    {
      "cell_type": "code",
      "metadata": {
        "id": "bSQyr1AODawa"
      },
      "source": [
        "# class \n",
        "class Trainer:\n",
        "    def __init__(self, X, rank, epoch, lr,method):\n",
        "        self.method = method\n",
        "        self.X = X\n",
        "        self.rank = rank\n",
        "        self.lr = lr\n",
        "        self.decompo_method = {'cpd':parafac, 'tkd':tucker}\n",
        "        self.reconst_method = {'cpd':tl.kruskal_to_tensor, 'tkd':tl.tucker_to_tensor}\n",
        "        self.decompo_recon()\n",
        "\n",
        "    def decompo_recon(self):\n",
        "        '''\n",
        "        method: cpd(cp-decomposition) & tkd(tuncker decomposition)\n",
        "        return: weights, factors\n",
        "        '''\n",
        "        weights, factors = self.decompo_method[self.method](self.X, self.rank)\n",
        "        self.weights = Variable(weights, requires_grad=True) \n",
        "        self.factors = [Variable(f,requires_grad=True) for f in factors]\n",
        "        return None\n",
        "        \n",
        "    def train(self):\n",
        "        print(\"training start!\\n\")\n",
        "        print('-'*10)\n",
        "        print(\"Method:\",self.method)\n",
        "        print(\"rank:\", self.rank)\n",
        "        print('-'*10)\n",
        "\n",
        "        optimizer = torch.optim.Adam([self.weights]+self.factors, lr=self.lr)\n",
        "        losses = []\n",
        "        for i in range(1, ITERATION):\n",
        "            # Important: do not forget to reset the gradients\n",
        "            optimizer.zero_grad()\n",
        "\n",
        "            # Reconstruct the tensor from the decomposed form\n",
        "            X_tilde = self.reconst_method[self.method]((self.weights, self.factors)) \n",
        "\n",
        "\n",
        "            loss = torch.mean((self.X - X_tilde)**2) # MSE loss\n",
        "            losses.append(loss.item())\n",
        "\n",
        "            loss.backward(retain_graph=True)\n",
        "            optimizer.step()\n",
        "\n",
        "            if i % 1000 == 0:\n",
        "                print(\"Epoch %s | Rec. error: %.9f\" % (i, loss.item()))\n",
        "        \n",
        "        print('-'*10)\n",
        "        plt.plot(losses)\n",
        "        plt.title(f'Learning Curve of {self.method.upper()}')\n",
        "        plt.ylabel('loss over time')\n",
        "        plt.xlabel('iteration times')\n",
        "        plt.show()\n",
        "        return None"
      ],
      "execution_count": null,
      "outputs": []
    },
    {
      "cell_type": "markdown",
      "metadata": {
        "id": "kA4hC-y0Dw4p"
      },
      "source": [
        "# Main"
      ]
    },
    {
      "cell_type": "code",
      "metadata": {
        "colab": {
          "base_uri": "https://localhost:8080/",
          "height": 567
        },
        "id": "NLHOB7vxDazL",
        "outputId": "0713873e-c675-4e55-f146-103bedc8eaef"
      },
      "source": [
        "# cpd \n",
        "trainer = Trainer(X,rank=RANK,lr=LEARNING_RATE,epoch=ITERATION,method='cpd')\n",
        "trainer.train()"
      ],
      "execution_count": null,
      "outputs": [
        {
          "output_type": "stream",
          "text": [
            "training start!\n",
            "\n",
            "----------\n",
            "Method: cpd\n",
            "rank: 4\n",
            "----------\n",
            "Epoch 1000 | Rec. error: 0.583448946\n",
            "Epoch 2000 | Rec. error: 0.583297849\n",
            "Epoch 3000 | Rec. error: 0.583177745\n",
            "Epoch 4000 | Rec. error: 0.583066046\n",
            "Epoch 5000 | Rec. error: 0.582953036\n",
            "Epoch 6000 | Rec. error: 0.582837284\n",
            "Epoch 7000 | Rec. error: 0.582720518\n",
            "Epoch 8000 | Rec. error: 0.582603872\n",
            "Epoch 9000 | Rec. error: 0.582487583\n",
            "----------\n"
          ],
          "name": "stdout"
        },
        {
          "output_type": "display_data",
          "data": {
            "image/png": "[encoded data removed]",
            "text/plain": [
              "<Figure size 432x288 with 1 Axes>"
            ]
          },
          "metadata": {
            "tags": [],
            "needs_background": "light"
          }
        }
      ]
    },
    {
      "cell_type": "code",
      "metadata": {
        "colab": {
          "base_uri": "https://localhost:8080/",
          "height": 567
        },
        "id": "2Y070_aPDa1h",
        "outputId": "8404b1ad-f5f0-4f12-a531-4f22f90ad0c9"
      },
      "source": [
        "# tkd\n",
        "trainer = Trainer(X,rank=RANK,lr=LEARNING_RATE,epoch=ITERATION,method='tkd')\n",
        "trainer.train()"
      ],
      "execution_count": null,
      "outputs": [
        {
          "output_type": "stream",
          "text": [
            "training start!\n",
            "\n",
            "----------\n",
            "Method: tkd\n",
            "rank: 4\n",
            "----------\n",
            "Epoch 1000 | Rec. error: 0.312308371\n",
            "Epoch 2000 | Rec. error: 0.312308341\n",
            "Epoch 3000 | Rec. error: 0.312308371\n",
            "Epoch 4000 | Rec. error: 0.312308341\n",
            "Epoch 5000 | Rec. error: 0.312308401\n",
            "Epoch 6000 | Rec. error: 0.312308371\n",
            "Epoch 7000 | Rec. error: 0.312308341\n",
            "Epoch 8000 | Rec. error: 0.312308401\n",
            "Epoch 9000 | Rec. error: 0.312308341\n",
            "----------\n"
          ],
          "name": "stdout"
        },
        {
          "output_type": "display_data",
          "data": {
            "image/png": "[encoded data removed]",
            "text/plain": [
              "<Figure size 432x288 with 1 Axes>"
            ]
          },
          "metadata": {
            "tags": [],
            "needs_background": "light"
          }
        }
      ]
    },
    {
      "cell_type": "markdown",
      "metadata": {
        "id": "dzewVNu44vqx"
      },
      "source": [
        "----\n",
        "## 밑에 코드 삭제 예정\n"
      ]
    },
    {
      "cell_type": "markdown",
      "metadata": {
        "id": "hTWXh1H54vtz"
      },
      "source": [
        ""
      ]
    },
    {
      "cell_type": "markdown",
      "metadata": {
        "id": "VqpsuPB44vxd"
      },
      "source": [
        ""
      ]
    },
    {
      "cell_type": "markdown",
      "metadata": {
        "id": "44oF8qSk7pDy"
      },
      "source": [
        "# The CP Decomposition with tensorly\n"
      ]
    },
    {
      "cell_type": "code",
      "metadata": {
        "ExecuteTime": {
          "end_time": "2020-12-06T02:49:51.418756Z",
          "start_time": "2020-12-06T02:49:51.108720Z"
        },
        "id": "s0E_rqr57pDy"
      },
      "source": [
        "import numpy as np\n",
        "import numpy as np\n",
        "import tensorly as tl\n",
        "from tensorly.decomposition import parafac\n",
        "np.random.seed(42)\n",
        "np.set_printoptions(precision=2, suppress=True)"
      ],
      "execution_count": null,
      "outputs": []
    },
    {
      "cell_type": "code",
      "metadata": {
        "ExecuteTime": {
          "end_time": "2020-12-06T02:49:51.447454Z",
          "start_time": "2020-12-06T02:49:51.444934Z"
        },
        "id": "5a6SpbAw7pDz"
      },
      "source": [
        "# set inital tensor \n",
        "tensor = np.random.random((10, 10, 10, 10))"
      ],
      "execution_count": null,
      "outputs": []
    },
    {
      "cell_type": "code",
      "metadata": {
        "ExecuteTime": {
          "end_time": "2020-12-06T02:49:51.602148Z",
          "start_time": "2020-12-06T02:49:51.531972Z"
        },
        "id": "_NRcwF2w7pDz",
        "colab": {
          "base_uri": "https://localhost:8080/",
          "height": 341
        },
        "outputId": "2a90a7f5-a7f1-4d7f-961b-0e1057bf7052"
      },
      "source": [
        "# cp-decompo.\n",
        "weights, factors = parafac(tensor, rank=2)\n",
        "[f.shape for f in factors]"
      ],
      "execution_count": null,
      "outputs": [
        {
          "output_type": "error",
          "ename": "AttributeError",
          "evalue": "ignored",
          "traceback": [
            "\u001b[0;31m---------------------------------------------------------------------------\u001b[0m",
            "\u001b[0;31mAttributeError\u001b[0m                            Traceback (most recent call last)",
            "\u001b[0;32m<ipython-input-16-3690278824f6>\u001b[0m in \u001b[0;36m<module>\u001b[0;34m()\u001b[0m\n\u001b[1;32m      1\u001b[0m \u001b[0;31m# cp-decompo.\u001b[0m\u001b[0;34m\u001b[0m\u001b[0;34m\u001b[0m\u001b[0;34m\u001b[0m\u001b[0m\n\u001b[0;32m----> 2\u001b[0;31m \u001b[0mweights\u001b[0m\u001b[0;34m,\u001b[0m \u001b[0mfactors\u001b[0m \u001b[0;34m=\u001b[0m \u001b[0mparafac\u001b[0m\u001b[0;34m(\u001b[0m\u001b[0mtensor\u001b[0m\u001b[0;34m,\u001b[0m \u001b[0mrank\u001b[0m\u001b[0;34m=\u001b[0m\u001b[0;36m2\u001b[0m\u001b[0;34m)\u001b[0m\u001b[0;34m\u001b[0m\u001b[0;34m\u001b[0m\u001b[0m\n\u001b[0m\u001b[1;32m      3\u001b[0m \u001b[0;34m[\u001b[0m\u001b[0mf\u001b[0m\u001b[0;34m.\u001b[0m\u001b[0mshape\u001b[0m \u001b[0;32mfor\u001b[0m \u001b[0mf\u001b[0m \u001b[0;32min\u001b[0m \u001b[0mfactors\u001b[0m\u001b[0;34m]\u001b[0m\u001b[0;34m\u001b[0m\u001b[0;34m\u001b[0m\u001b[0m\n",
            "\u001b[0;32m/usr/local/lib/python3.6/dist-packages/tensorly/decomposition/_cp.py\u001b[0m in \u001b[0;36mparafac\u001b[0;34m(tensor, rank, n_iter_max, init, svd, normalize_factors, orthogonalise, tol, random_state, verbose, return_errors, sparsity, l2_reg, mask, cvg_criterion, fixed_modes, svd_mask_repeats, linesearch)\u001b[0m\n\u001b[1;32m    276\u001b[0m     weights, factors = initialize_cp(tensor, rank, init=init, svd=svd,\n\u001b[1;32m    277\u001b[0m                                  \u001b[0mrandom_state\u001b[0m\u001b[0;34m=\u001b[0m\u001b[0mrandom_state\u001b[0m\u001b[0;34m,\u001b[0m\u001b[0;34m\u001b[0m\u001b[0;34m\u001b[0m\u001b[0m\n\u001b[0;32m--> 278\u001b[0;31m                                  normalize_factors=normalize_factors)\n\u001b[0m\u001b[1;32m    279\u001b[0m \u001b[0;34m\u001b[0m\u001b[0m\n\u001b[1;32m    280\u001b[0m     \u001b[0;32mif\u001b[0m \u001b[0mmask\u001b[0m \u001b[0;32mis\u001b[0m \u001b[0;32mnot\u001b[0m \u001b[0;32mNone\u001b[0m \u001b[0;32mand\u001b[0m \u001b[0minit\u001b[0m \u001b[0;34m==\u001b[0m \u001b[0;34m\"svd\"\u001b[0m\u001b[0;34m:\u001b[0m\u001b[0;34m\u001b[0m\u001b[0;34m\u001b[0m\u001b[0m\n",
            "\u001b[0;32m/usr/local/lib/python3.6/dist-packages/tensorly/decomposition/_cp.py\u001b[0m in \u001b[0;36minitialize_cp\u001b[0;34m(tensor, rank, init, svd, random_state, non_negative, normalize_factors)\u001b[0m\n\u001b[1;32m     58\u001b[0m \u001b[0;34m\u001b[0m\u001b[0m\n\u001b[1;32m     59\u001b[0m         \u001b[0mfactors\u001b[0m \u001b[0;34m=\u001b[0m \u001b[0;34m[\u001b[0m\u001b[0;34m]\u001b[0m\u001b[0;34m\u001b[0m\u001b[0;34m\u001b[0m\u001b[0m\n\u001b[0;32m---> 60\u001b[0;31m         \u001b[0;32mfor\u001b[0m \u001b[0mmode\u001b[0m \u001b[0;32min\u001b[0m \u001b[0mrange\u001b[0m\u001b[0;34m(\u001b[0m\u001b[0mtl\u001b[0m\u001b[0;34m.\u001b[0m\u001b[0mndim\u001b[0m\u001b[0;34m(\u001b[0m\u001b[0mtensor\u001b[0m\u001b[0;34m)\u001b[0m\u001b[0;34m)\u001b[0m\u001b[0;34m:\u001b[0m\u001b[0;34m\u001b[0m\u001b[0;34m\u001b[0m\u001b[0m\n\u001b[0m\u001b[1;32m     61\u001b[0m             \u001b[0mU\u001b[0m\u001b[0;34m,\u001b[0m \u001b[0mS\u001b[0m\u001b[0;34m,\u001b[0m \u001b[0m_\u001b[0m \u001b[0;34m=\u001b[0m \u001b[0msvd_fun\u001b[0m\u001b[0;34m(\u001b[0m\u001b[0munfold\u001b[0m\u001b[0;34m(\u001b[0m\u001b[0mtensor\u001b[0m\u001b[0;34m,\u001b[0m \u001b[0mmode\u001b[0m\u001b[0;34m)\u001b[0m\u001b[0;34m,\u001b[0m \u001b[0mn_eigenvecs\u001b[0m\u001b[0;34m=\u001b[0m\u001b[0mrank\u001b[0m\u001b[0;34m)\u001b[0m\u001b[0;34m\u001b[0m\u001b[0;34m\u001b[0m\u001b[0m\n\u001b[1;32m     62\u001b[0m \u001b[0;34m\u001b[0m\u001b[0m\n",
            "\u001b[0;32m/usr/local/lib/python3.6/dist-packages/tensorly/backend/__init__.py\u001b[0m in \u001b[0;36minner\u001b[0;34m(*args, **kwargs)\u001b[0m\n\u001b[1;32m    159\u001b[0m \u001b[0;34m\u001b[0m\u001b[0m\n\u001b[1;32m    160\u001b[0m     \u001b[0;32mdef\u001b[0m \u001b[0minner\u001b[0m\u001b[0;34m(\u001b[0m\u001b[0;34m*\u001b[0m\u001b[0margs\u001b[0m\u001b[0;34m,\u001b[0m \u001b[0;34m**\u001b[0m\u001b[0mkwargs\u001b[0m\u001b[0;34m)\u001b[0m\u001b[0;34m:\u001b[0m\u001b[0;34m\u001b[0m\u001b[0;34m\u001b[0m\u001b[0m\n\u001b[0;32m--> 161\u001b[0;31m         \u001b[0;32mreturn\u001b[0m \u001b[0m_get_backend_method\u001b[0m\u001b[0;34m(\u001b[0m\u001b[0mname\u001b[0m\u001b[0;34m)\u001b[0m\u001b[0;34m(\u001b[0m\u001b[0;34m*\u001b[0m\u001b[0margs\u001b[0m\u001b[0;34m,\u001b[0m \u001b[0;34m**\u001b[0m\u001b[0mkwargs\u001b[0m\u001b[0;34m)\u001b[0m\u001b[0;34m\u001b[0m\u001b[0;34m\u001b[0m\u001b[0m\n\u001b[0m\u001b[1;32m    162\u001b[0m \u001b[0;34m\u001b[0m\u001b[0m\n\u001b[1;32m    163\u001b[0m     \u001b[0;31m# We don't use `functools.wraps` here because some of the dispatched\u001b[0m\u001b[0;34m\u001b[0m\u001b[0;34m\u001b[0m\u001b[0;34m\u001b[0m\u001b[0m\n",
            "\u001b[0;32m/usr/local/lib/python3.6/dist-packages/tensorly/backend/pytorch_backend.py\u001b[0m in \u001b[0;36mndim\u001b[0;34m(tensor)\u001b[0m\n\u001b[1;32m     55\u001b[0m     \u001b[0;34m@\u001b[0m\u001b[0mstaticmethod\u001b[0m\u001b[0;34m\u001b[0m\u001b[0;34m\u001b[0m\u001b[0m\n\u001b[1;32m     56\u001b[0m     \u001b[0;32mdef\u001b[0m \u001b[0mndim\u001b[0m\u001b[0;34m(\u001b[0m\u001b[0mtensor\u001b[0m\u001b[0;34m)\u001b[0m\u001b[0;34m:\u001b[0m\u001b[0;34m\u001b[0m\u001b[0;34m\u001b[0m\u001b[0m\n\u001b[0;32m---> 57\u001b[0;31m         \u001b[0;32mreturn\u001b[0m \u001b[0mtensor\u001b[0m\u001b[0;34m.\u001b[0m\u001b[0mdim\u001b[0m\u001b[0;34m(\u001b[0m\u001b[0;34m)\u001b[0m\u001b[0;34m\u001b[0m\u001b[0;34m\u001b[0m\u001b[0m\n\u001b[0m\u001b[1;32m     58\u001b[0m \u001b[0;34m\u001b[0m\u001b[0m\n\u001b[1;32m     59\u001b[0m     \u001b[0;34m@\u001b[0m\u001b[0mstaticmethod\u001b[0m\u001b[0;34m\u001b[0m\u001b[0;34m\u001b[0m\u001b[0m\n",
            "\u001b[0;31mAttributeError\u001b[0m: 'numpy.ndarray' object has no attribute 'dim'"
          ]
        }
      ]
    },
    {
      "cell_type": "code",
      "metadata": {
        "ExecuteTime": {
          "end_time": "2020-12-06T02:49:51.736017Z",
          "start_time": "2020-12-06T02:49:51.732094Z"
        },
        "scrolled": true,
        "id": "s-DZ8YRE7pD0"
      },
      "source": [
        "print('Compression ratio:', 1-((10*2)*4) / (10**4))"
      ],
      "execution_count": null,
      "outputs": []
    },
    {
      "cell_type": "code",
      "metadata": {
        "ExecuteTime": {
          "end_time": "2020-12-06T02:49:52.199075Z",
          "start_time": "2020-12-06T02:49:52.193691Z"
        },
        "id": "dr4Bd7c07pD0",
        "colab": {
          "base_uri": "https://localhost:8080/",
          "height": 164
        },
        "outputId": "550c41f8-4963-4d7c-f670-03829291dbc2"
      },
      "source": [
        "full_tensor = tl.kruskal_to_tensor((weights, factors))"
      ],
      "execution_count": null,
      "outputs": [
        {
          "output_type": "error",
          "ename": "NameError",
          "evalue": "ignored",
          "traceback": [
            "\u001b[0;31m---------------------------------------------------------------------------\u001b[0m",
            "\u001b[0;31mNameError\u001b[0m                                 Traceback (most recent call last)",
            "\u001b[0;32m<ipython-input-17-d45855a19f89>\u001b[0m in \u001b[0;36m<module>\u001b[0;34m()\u001b[0m\n\u001b[0;32m----> 1\u001b[0;31m \u001b[0mfull_tensor\u001b[0m \u001b[0;34m=\u001b[0m \u001b[0mtl\u001b[0m\u001b[0;34m.\u001b[0m\u001b[0mkruskal_to_tensor\u001b[0m\u001b[0;34m(\u001b[0m\u001b[0;34m(\u001b[0m\u001b[0mweights\u001b[0m\u001b[0;34m,\u001b[0m \u001b[0mfactors\u001b[0m\u001b[0;34m)\u001b[0m\u001b[0;34m)\u001b[0m\u001b[0;34m\u001b[0m\u001b[0;34m\u001b[0m\u001b[0m\n\u001b[0m",
            "\u001b[0;31mNameError\u001b[0m: name 'weights' is not defined"
          ]
        }
      ]
    },
    {
      "cell_type": "code",
      "metadata": {
        "ExecuteTime": {
          "end_time": "2020-12-06T02:49:52.949585Z",
          "start_time": "2020-12-06T02:49:52.547536Z"
        },
        "id": "OIKpyaOI7pD0"
      },
      "source": [
        "from sklearn.metrics import mean_absolute_error\n",
        "print('error:', mean_absolute_error(tensor.reshape(-1),full_tensor.reshape(-1)))"
      ],
      "execution_count": null,
      "outputs": []
    },
    {
      "cell_type": "markdown",
      "metadata": {
        "id": "dGkYJYUX7pD0"
      },
      "source": [
        "# The CP Decomposition"
      ]
    },
    {
      "cell_type": "code",
      "metadata": {
        "ExecuteTime": {
          "end_time": "2020-12-06T02:49:54.362253Z",
          "start_time": "2020-12-06T02:49:53.778199Z"
        },
        "id": "ytWaprw87pD0"
      },
      "source": [
        "import numpy as np\n",
        "import torch\n",
        "from torch.autograd import Variable\n",
        "import tensorly as tl\n",
        "from tensorly.tucker_tensor import tucker_to_tensor\n",
        "from tensorly.random import check_random_state\n",
        "# Using mxnet backend."
      ],
      "execution_count": null,
      "outputs": []
    },
    {
      "cell_type": "code",
      "metadata": {
        "ExecuteTime": {
          "end_time": "2020-12-06T02:49:54.505087Z",
          "start_time": "2020-12-06T02:49:54.498812Z"
        },
        "id": "wNPy6fcA7pD0"
      },
      "source": [
        "# switch to the PyTorch backend\n",
        "tl.set_backend('pytorch')"
      ],
      "execution_count": null,
      "outputs": []
    },
    {
      "cell_type": "code",
      "metadata": {
        "ExecuteTime": {
          "end_time": "2020-12-06T02:49:54.648802Z",
          "start_time": "2020-12-06T02:49:54.646402Z"
        },
        "id": "UAh7qg1E7pD0"
      },
      "source": [
        "# set initial value \n",
        "random_state = 42\n",
        "rng = check_random_state(random_state)"
      ],
      "execution_count": null,
      "outputs": []
    },
    {
      "cell_type": "code",
      "metadata": {
        "ExecuteTime": {
          "end_time": "2020-12-06T02:49:54.818710Z",
          "start_time": "2020-12-06T02:49:54.815514Z"
        },
        "id": "gm_TBc6-7pD0"
      },
      "source": [
        "# Define a initial tensor\n",
        "shape = [5, 5, 5]\n",
        "tensor = Variable(tl.tensor(rng.random_sample(shape)), requires_grad=True)\n",
        "X = tensor"
      ],
      "execution_count": null,
      "outputs": []
    },
    {
      "cell_type": "code",
      "metadata": {
        "ExecuteTime": {
          "end_time": "2020-12-06T02:49:55.022928Z",
          "start_time": "2020-12-06T02:49:55.016866Z"
        },
        "id": "mW7yv2yU7pD0"
      },
      "source": [
        "ranks = [5, 5, 5]\n",
        "core = Variable(tl.tensor(rng.random_sample(ranks)), requires_grad=True)\n",
        "factors = [Variable(tl.tensor(rng.random_sample((tensor.shape[i], ranks[i]))),\n",
        "                    requires_grad=True) for i in range(tl.ndim(tensor))]"
      ],
      "execution_count": null,
      "outputs": []
    },
    {
      "cell_type": "code",
      "metadata": {
        "ExecuteTime": {
          "end_time": "2020-12-06T02:49:55.579655Z",
          "start_time": "2020-12-06T02:49:55.576211Z"
        },
        "scrolled": true,
        "id": "kX5bflnV7pD0"
      },
      "source": [
        "I'm# n_iter = 10\n",
        "# lr = 0.00005\n",
        "# penalty = 0.1\n",
        "\n",
        "# optimizer = torch.optim.Adam([core]+factors, lr=lr)\n",
        "\n",
        "# for i in range(1, n_iter):\n",
        "#     # Important: do not forget to reset the gradients\n",
        "#     optimizer.zero_grad()\n",
        "\n",
        "#     # Reconstruct the tensor from the decomposed form\n",
        "#     rec = tucker_to_tensor(core, factors)\n",
        "\n",
        "#     # squared l2 loss\n",
        "#     loss = (rec - tensor).pow(2).sum()\n",
        "\n",
        "#     # squared l2 penalty on the factors of the decomposition\n",
        "#     for f in factors:\n",
        "#         loss = loss + penalty * f.pow(2).sum()\n",
        "\n",
        "#     loss.backward()\n",
        "#     optimizer.step()\n",
        "\n",
        "#     if i % 1000 == 0:\n",
        "#         rec_error = tl.norm(rec.data - tensor.data, 2)/tl.norm(tensor.data, 2)\n",
        "#         print(\"Epoch %s,. Rec. error: %s\" % (i, rec_error))"
      ],
      "execution_count": null,
      "outputs": []
    },
    {
      "cell_type": "code",
      "metadata": {
        "ExecuteTime": {
          "end_time": "2020-12-06T02:49:56.237627Z",
          "start_time": "2020-12-06T02:49:56.228922Z"
        },
        "id": "_zbd6lQA7pD0"
      },
      "source": [
        "def construct(A,B,C):\n",
        "    \"\"\"\n",
        "    Given Matrices A, B, C construct 3D Tensor \n",
        "        A : i, r\n",
        "        B: j, r\n",
        "        C : k, r\n",
        "    \"\"\"\n",
        "    X_tilde = 0\n",
        "    r = A.shape[1]\n",
        "    for i in range(r):\n",
        "        X_tilde += torch.ger(A[:,i], B[:,i]).unsqueeze(2)*C[:,i].unsqueeze(0).unsqueeze(0)\n",
        "    return X_tilde\n",
        "\n",
        "def CP_decomposition(factors, max_iter=10000, lr=0.1):\n",
        "    \"\"\"\n",
        "    factors=[A,B,C]\n",
        "    Minimize Frobenius Norm |X-X_tilde|\n",
        "    Update decomposition factors\n",
        "    \"\"\"\n",
        "    opt = torch.optim.Adam(factors, lr=lr)\n",
        "    losses = []\n",
        "    for i in range(max_iter):    \n",
        "        X_tilde = construct(*factors)\n",
        "\n",
        "        opt.zero_grad()\n",
        "        loss = torch.mean((X - X_tilde)**2)\n",
        "        #print(loss)\n",
        "        losses.append(loss.item())\n",
        "\n",
        "        loss.backward(retain_graph=True)\n",
        "        opt.step()\n",
        "    return losses"
      ],
      "execution_count": null,
      "outputs": []
    },
    {
      "cell_type": "code",
      "metadata": {
        "ExecuteTime": {
          "end_time": "2020-12-06T02:50:07.741405Z",
          "start_time": "2020-12-06T02:49:57.278557Z"
        },
        "id": "m4I_Dlf17pD0"
      },
      "source": [
        "losses = CP_decomposition(factors, max_iter=10000, lr=0.1)"
      ],
      "execution_count": null,
      "outputs": []
    },
    {
      "cell_type": "code",
      "metadata": {
        "ExecuteTime": {
          "end_time": "2020-12-06T02:50:08.447208Z",
          "start_time": "2020-12-06T02:50:07.890192Z"
        },
        "id": "woMcNoaF7pD0",
        "colab": {
          "base_uri": "https://localhost:8080/",
          "height": 296
        },
        "outputId": "e74b9105-fd19-422b-948f-7b37043bc56b"
      },
      "source": [
        "import matplotlib.pyplot as plt\n",
        "print('Learning curve for rank 5 ')\n",
        "plt.plot(losses)\n",
        "plt.ylabel('loss over time')\n",
        "plt.xlabel('iteration times')\n",
        "plt.show()"
      ],
      "execution_count": null,
      "outputs": [
        {
          "output_type": "stream",
          "text": [
            "Learning curve for rank 5 \n"
          ],
          "name": "stdout"
        },
        {
          "output_type": "display_data",
          "data": {
            "image/png": "[encoded data removed]",
            "text/plain": [
              "<Figure size 432x288 with 1 Axes>"
            ]
          },
          "metadata": {
            "tags": [],
            "needs_background": "light"
          }
        }
      ]
    },
    {
      "cell_type": "code",
      "metadata": {
        "colab": {
          "base_uri": "https://localhost:8080/",
          "height": 265
        },
        "id": "EBK6SotesYtT",
        "outputId": "427d556c-faa5-435a-a80d-b5bf404d2c3c"
      },
      "source": [
        "plt.xlim([4400,4450])\n",
        "plt.plot(losses)\n",
        "plt.show()"
      ],
      "execution_count": null,
      "outputs": [
        {
          "output_type": "display_data",
          "data": {
            "image/png": "[encoded data removed]",
            "text/plain": [
              "<Figure size 432x288 with 1 Axes>"
            ]
          },
          "metadata": {
            "tags": [],
            "needs_background": "light"
          }
        }
      ]
    },
    {
      "cell_type": "code",
      "metadata": {
        "id": "6dJP4zHJtnl6",
        "colab": {
          "base_uri": "https://localhost:8080/",
          "height": 265
        },
        "outputId": "5f67851b-ca17-425b-fbc1-f1c9a9716d48"
      },
      "source": [
        "plt.xlim([4420,4430])\n",
        "plt.plot(losses)\n",
        "plt.show()"
      ],
      "execution_count": null,
      "outputs": [
        {
          "output_type": "display_data",
          "data": {
            "image/png": "[encoded data removed]",
            "text/plain": [
              "<Figure size 432x288 with 1 Axes>"
            ]
          },
          "metadata": {
            "tags": [],
            "needs_background": "light"
          }
        }
      ]
    },
    {
      "cell_type": "code",
      "metadata": {
        "id": "bUy0aVQAvqJ_"
      },
      "source": [
        ""
      ],
      "execution_count": null,
      "outputs": []
    }
  ]
}